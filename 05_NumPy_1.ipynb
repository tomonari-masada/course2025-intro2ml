{
  "nbformat": 4,
  "nbformat_minor": 0,
  "metadata": {
    "colab": {
      "provenance": [],
      "authorship_tag": "ABX9TyNSbGwfaytoL4FLc8mn8aqa",
      "include_colab_link": true
    },
    "kernelspec": {
      "name": "python3",
      "display_name": "Python 3"
    },
    "language_info": {
      "name": "python"
    }
  },
  "cells": [
    {
      "cell_type": "markdown",
      "metadata": {
        "id": "view-in-github",
        "colab_type": "text"
      },
      "source": [
        "<a href=\"https://colab.research.google.com/github/tomonari-masada/course2025-intro2ml/blob/main/05_NumPy_1.ipynb\" target=\"_parent\"><img src=\"https://colab.research.google.com/assets/colab-badge.svg\" alt=\"Open In Colab\"/></a>"
      ]
    },
    {
      "cell_type": "markdown",
      "source": [
        "# NumPy入門 (1)"
      ],
      "metadata": {
        "id": "IfOqM3Qf-n62"
      }
    },
    {
      "cell_type": "markdown",
      "source": [
        "* NumPyを説明する前に・・・"
      ],
      "metadata": {
        "id": "c6aICUxx-tNv"
      }
    },
    {
      "cell_type": "markdown",
      "metadata": {
        "id": "AHp3ueBza0PR"
      },
      "source": [
        "## モジュール、パッケージ、ライブラリ\n",
        "* 参考資料\n",
        "  * https://zenn.dev/delacroix/articles/e3f62ca001deb0\n"
      ]
    },
    {
      "cell_type": "markdown",
      "metadata": {
        "id": "iVXwFXEqeDkG"
      },
      "source": [
        "* モジュール\n",
        "  * Pythonのファイル(.pyファイル)のこと。\n",
        "  * `import`文で.pyファイルをインポートすることで、その.pyファイルの中の関数やクラスを使用することができるようになる。\n",
        "* パッケージ\n",
        "  * モジュールを複数集めたものです。\n",
        "  * つまり .pyファイルを複数置いてあるフォルダのようなもの。\n",
        "  * 言葉としては、次の「ライブラリ」と区別せずに使われることもある。\n",
        "    * Python Package Index https://pypi.org/\n",
        "* ライブラリ\n",
        "  * 複数のパッケージからなるPythonコードの集合体。\n",
        "  * 標準ライブラリと外部ライブラリがある。\n",
        "  * 標準ライブラリは、Pythonにはじめからくっついてくるライブラリ。"
      ]
    },
    {
      "cell_type": "markdown",
      "metadata": {
        "id": "Tlv9lakya36X"
      },
      "source": [
        "## mathモジュール\n",
        "* Pythonでは数学的な処理をするためのモジュールがいくつか用意されている。\n",
        "  * https://docs.python.org/ja/3.13/library/numeric.html"
      ]
    },
    {
      "cell_type": "code",
      "metadata": {
        "id": "_ctew8faYguj"
      },
      "source": [
        "import math\n",
        "\n",
        "a = 2.0"
      ],
      "execution_count": null,
      "outputs": []
    },
    {
      "cell_type": "code",
      "source": [
        "b = math.sqrt(a)\n",
        "print(a, b)"
      ],
      "metadata": {
        "id": "n02C2Q4IX3Xm"
      },
      "execution_count": null,
      "outputs": []
    },
    {
      "cell_type": "code",
      "source": [
        "c = math.exp(a)\n",
        "print(a, c)"
      ],
      "metadata": {
        "id": "UnBNAMLsXzHu"
      },
      "execution_count": null,
      "outputs": []
    },
    {
      "cell_type": "markdown",
      "metadata": {
        "id": "Hfkm3naOa97O"
      },
      "source": [
        "# NumPyライブラリ"
      ]
    },
    {
      "cell_type": "markdown",
      "metadata": {
        "id": "4-ScijSFbDga"
      },
      "source": [
        "* ベクトルや行列を扱える（他にも様々な機能がある）\n",
        " * ベクトルどうしの内積\n",
        " * 行列とベクトルの積\n",
        " * 行列と行列の積\n",
        " * 逆行列\n",
        "\n",
        "* ndarrayという独自のデータ構造を使う\n",
        " * ちゃんとコードを書けば高速（ちゃんと書かないと遅い・・・）\n"
      ]
    },
    {
      "cell_type": "markdown",
      "metadata": {
        "id": "0swi2CAGbNiJ"
      },
      "source": [
        "## NumPyの配列(ndarray)の作り方"
      ]
    },
    {
      "cell_type": "markdown",
      "metadata": {
        "id": "omiKZwz5bhMN"
      },
      "source": [
        "### Pythonのリストから作る"
      ]
    },
    {
      "cell_type": "code",
      "source": [
        "import numpy as np"
      ],
      "metadata": {
        "id": "8yF8iBVKA2kY"
      },
      "execution_count": null,
      "outputs": []
    },
    {
      "cell_type": "markdown",
      "source": [
        "* 一次元配列"
      ],
      "metadata": {
        "id": "e8Hxkq3ecBWg"
      }
    },
    {
      "cell_type": "code",
      "metadata": {
        "id": "srm7ORHZYqfp"
      },
      "source": [
        "a = np.array([-2.0, 1.0, 3.0])\n",
        "print(a)"
      ],
      "execution_count": null,
      "outputs": []
    },
    {
      "cell_type": "markdown",
      "source": [
        "* 二次元配列"
      ],
      "metadata": {
        "id": "iYqztS-EcDpW"
      }
    },
    {
      "cell_type": "code",
      "source": [
        "b = np.array([[1,2,3], [4,5,6]])\n",
        "print(b)"
      ],
      "metadata": {
        "id": "osHzji5WA1RY"
      },
      "execution_count": null,
      "outputs": []
    },
    {
      "cell_type": "markdown",
      "source": [
        "* 転置"
      ],
      "metadata": {
        "id": "ouxpzU-jb-_U"
      }
    },
    {
      "cell_type": "code",
      "source": [
        "print(a.T)"
      ],
      "metadata": {
        "id": "2bgT-1WwA0_k"
      },
      "execution_count": null,
      "outputs": []
    },
    {
      "cell_type": "code",
      "source": [
        "print(b.T)"
      ],
      "metadata": {
        "id": "TRiXpGfKA02N"
      },
      "execution_count": null,
      "outputs": []
    },
    {
      "cell_type": "markdown",
      "source": [
        "### ndarrayの演算"
      ],
      "metadata": {
        "id": "HpuwUQDVBJad"
      }
    },
    {
      "cell_type": "code",
      "metadata": {
        "id": "hlUvFI_mYyQh"
      },
      "source": [
        "a = np.array([1, 2, 3])\n",
        "print(a)"
      ],
      "execution_count": null,
      "outputs": []
    },
    {
      "cell_type": "code",
      "source": [
        "print(a * 3)"
      ],
      "metadata": {
        "id": "KMMdbQArA9nf"
      },
      "execution_count": null,
      "outputs": []
    },
    {
      "cell_type": "code",
      "source": [
        "c = a * 3\n",
        "print(c)"
      ],
      "metadata": {
        "id": "9gIQbp40cHL2"
      },
      "execution_count": null,
      "outputs": []
    },
    {
      "cell_type": "code",
      "source": [
        "b = np.array([2, 2, 0])\n",
        "print(b)"
      ],
      "metadata": {
        "id": "9_P4xMdRA_-q"
      },
      "execution_count": null,
      "outputs": []
    },
    {
      "cell_type": "code",
      "source": [
        "print(a + b)"
      ],
      "metadata": {
        "id": "IcbTQkAsBFFN"
      },
      "execution_count": null,
      "outputs": []
    },
    {
      "cell_type": "code",
      "source": [
        "print(a * b)"
      ],
      "metadata": {
        "id": "SfMwrUyUA_5R"
      },
      "execution_count": null,
      "outputs": []
    },
    {
      "cell_type": "code",
      "source": [
        "print(a / b) #エラーが出る（どんなエラー？）"
      ],
      "metadata": {
        "id": "DFuqd5h7A_8F"
      },
      "execution_count": null,
      "outputs": []
    },
    {
      "cell_type": "markdown",
      "source": [
        "* ベクトルの内積"
      ],
      "metadata": {
        "id": "2imaVvjBcPa0"
      }
    },
    {
      "cell_type": "code",
      "source": [
        "print(np.dot(a, b))"
      ],
      "metadata": {
        "id": "THwhwwpNA_2g"
      },
      "execution_count": null,
      "outputs": []
    },
    {
      "cell_type": "markdown",
      "metadata": {
        "id": "LPZn1uvTbQwL"
      },
      "source": [
        "### ndarrayの属性"
      ]
    },
    {
      "cell_type": "code",
      "metadata": {
        "id": "zqnXK4utYvRC"
      },
      "source": [
        "a = np.array([-2.0, 1.0, 3.0])\n",
        "b = np.array([[1, 2, 3], [4, 5, 6]])"
      ],
      "execution_count": null,
      "outputs": []
    },
    {
      "cell_type": "markdown",
      "source": [
        "* 配列自体のデータ型"
      ],
      "metadata": {
        "id": "YFazO4cpcfPS"
      }
    },
    {
      "cell_type": "code",
      "source": [
        "print(type(a))"
      ],
      "metadata": {
        "id": "OZ3FJCgRcUnJ"
      },
      "execution_count": null,
      "outputs": []
    },
    {
      "cell_type": "markdown",
      "source": [
        "* 配列の要素のデータ型\n",
        "  * つまり配列の中身のデータ型"
      ],
      "metadata": {
        "id": "mppNVJRNciAS"
      }
    },
    {
      "cell_type": "code",
      "source": [
        "print(a.dtype)"
      ],
      "metadata": {
        "id": "49R6-fI2cd_Z"
      },
      "execution_count": null,
      "outputs": []
    },
    {
      "cell_type": "markdown",
      "source": [
        "* 配列のサイズ"
      ],
      "metadata": {
        "id": "v7xNfP4fcqcv"
      }
    },
    {
      "cell_type": "code",
      "source": [
        "print(a.size, b.size)"
      ],
      "metadata": {
        "id": "PCTfTPHPcqF0"
      },
      "execution_count": null,
      "outputs": []
    },
    {
      "cell_type": "markdown",
      "source": [
        "* 配列の要素のサイズ"
      ],
      "metadata": {
        "id": "T0xpnHi6cs1Z"
      }
    },
    {
      "cell_type": "code",
      "source": [
        "print(a.itemsize, b.itemsize)"
      ],
      "metadata": {
        "id": "3JKul7ZXccnC"
      },
      "execution_count": null,
      "outputs": []
    },
    {
      "cell_type": "markdown",
      "source": [
        "* 次元数"
      ],
      "metadata": {
        "id": "d9BTk_xpcx_Z"
      }
    },
    {
      "cell_type": "code",
      "source": [
        "print(a.ndim, b.ndim)"
      ],
      "metadata": {
        "id": "EYkYemb2cvQ3"
      },
      "execution_count": null,
      "outputs": []
    },
    {
      "cell_type": "markdown",
      "source": [
        "* 形状"
      ],
      "metadata": {
        "id": "zTOaVtVAc2a6"
      }
    },
    {
      "cell_type": "code",
      "source": [
        "print(a.shape, b.shape)"
      ],
      "metadata": {
        "id": "ssJ02Zf8cwNR"
      },
      "execution_count": null,
      "outputs": []
    },
    {
      "cell_type": "markdown",
      "metadata": {
        "id": "Gn13GaIUbawK"
      },
      "source": [
        "### ndarrayの作り方のいろいろ"
      ]
    },
    {
      "cell_type": "code",
      "metadata": {
        "id": "3f6iGuw6Yz-q"
      },
      "source": [
        "a = np.arange(10)\n",
        "print(a)"
      ],
      "execution_count": null,
      "outputs": []
    },
    {
      "cell_type": "code",
      "source": [
        "b = np.arange(0, 10, 2)\n",
        "print(b)"
      ],
      "metadata": {
        "id": "fbpADEiRc-H7"
      },
      "execution_count": null,
      "outputs": []
    },
    {
      "cell_type": "code",
      "source": [
        "x = np.linspace(0, 10, 15) #0以上10以下を14等分\n",
        "print(x)"
      ],
      "metadata": {
        "id": "wn5_D3aYc-_t"
      },
      "execution_count": null,
      "outputs": []
    },
    {
      "cell_type": "markdown",
      "source": [
        "* 配列を乱数で埋める"
      ],
      "metadata": {
        "id": "GV9U76UCdAT4"
      }
    },
    {
      "cell_type": "code",
      "metadata": {
        "id": "cTjr9VdUY58Z"
      },
      "source": [
        "print(np.random.randn()) #正規乱数\n",
        "a = np.random.randn(2, 3)\n",
        "print(a)"
      ],
      "execution_count": null,
      "outputs": []
    },
    {
      "cell_type": "code",
      "source": [
        "b = np.random.randn(3, 4)\n",
        "print(b)\n",
        "print(np.dot(a, b))"
      ],
      "metadata": {
        "id": "ATTQQUH1dDyZ"
      },
      "execution_count": null,
      "outputs": []
    },
    {
      "cell_type": "markdown",
      "source": [
        "* 次のセルはエラーになる。\n",
        "  * なぜ？"
      ],
      "metadata": {
        "id": "WRsi9TXsdFho"
      }
    },
    {
      "cell_type": "code",
      "source": [
        "print(np.dot(b, a))"
      ],
      "metadata": {
        "id": "5Iv9xY-edE6A"
      },
      "execution_count": null,
      "outputs": []
    },
    {
      "cell_type": "markdown",
      "source": [
        "* 配列をゼロやその他の数値で埋める"
      ],
      "metadata": {
        "id": "JxFtCw--dIfQ"
      }
    },
    {
      "cell_type": "code",
      "metadata": {
        "id": "juezWtTpY7fh"
      },
      "source": [
        "a = np.zeros((3,3)) #()で囲む必要あり\n",
        "print(a)"
      ],
      "execution_count": null,
      "outputs": []
    },
    {
      "cell_type": "code",
      "source": [
        "b = np.ones((3,3))\n",
        "print(b)"
      ],
      "metadata": {
        "id": "MKfoc53rdMKI"
      },
      "execution_count": null,
      "outputs": []
    },
    {
      "cell_type": "markdown",
      "source": [
        "* 問：次のセルの出力結果がなぜそうなるか、説明してみよう。"
      ],
      "metadata": {
        "id": "xkiacvkGdZ7N"
      }
    },
    {
      "cell_type": "code",
      "source": [
        "print(np.dot(b, b))"
      ],
      "metadata": {
        "id": "KD52GGDhdObB"
      },
      "execution_count": null,
      "outputs": []
    },
    {
      "cell_type": "code",
      "source": [
        "c = np.full((2,2), 7)\n",
        "print(c)"
      ],
      "metadata": {
        "id": "C9OZ3XxMdNJo"
      },
      "execution_count": null,
      "outputs": []
    },
    {
      "cell_type": "markdown",
      "metadata": {
        "id": "YRd5MaWsbupX"
      },
      "source": [
        "## 配列の要素を指定する"
      ]
    },
    {
      "cell_type": "markdown",
      "metadata": {
        "id": "AIUg61oUb-lM"
      },
      "source": [
        "### インデックス（添え字）"
      ]
    },
    {
      "cell_type": "code",
      "metadata": {
        "id": "rzLp8AQHY9jB"
      },
      "source": [
        "a = np.arange(1, 20, 3)\n",
        "print(a)"
      ],
      "execution_count": null,
      "outputs": []
    },
    {
      "cell_type": "code",
      "source": [
        "print(a[0])\n",
        "print(a[1])"
      ],
      "metadata": {
        "id": "ELNZUONHbza3"
      },
      "execution_count": null,
      "outputs": []
    },
    {
      "cell_type": "code",
      "source": [
        "a[3] = 11\n",
        "print(a)"
      ],
      "metadata": {
        "id": "FsV0B_2ob08w"
      },
      "execution_count": null,
      "outputs": []
    },
    {
      "cell_type": "markdown",
      "source": [
        "* 2次元配列の場合"
      ],
      "metadata": {
        "id": "RF9Cn6Zrb3lv"
      }
    },
    {
      "cell_type": "code",
      "source": [
        "c = np.array([[1,2,3],[4,5,6]])\n",
        "print(c)"
      ],
      "metadata": {
        "id": "Az6ckUiyb2FJ"
      },
      "execution_count": null,
      "outputs": []
    },
    {
      "cell_type": "code",
      "source": [
        "print(c[0,0])\n",
        "print(c[0,2])\n",
        "print(c[1,2])"
      ],
      "metadata": {
        "id": "phgA9Vbfb3IG"
      },
      "execution_count": null,
      "outputs": []
    },
    {
      "cell_type": "markdown",
      "metadata": {
        "id": "VGTRdkLDZIYJ"
      },
      "source": [
        "## ndarrayを高速に扱う工夫\n",
        "* 要素を個別に取り出して計算したりしない。"
      ]
    },
    {
      "cell_type": "code",
      "metadata": {
        "id": "Jn7bUVa6ZAPx"
      },
      "source": [
        "import time\n",
        "import numpy as np\n",
        "\n",
        "x = np.ones(10000000)\n",
        "y = np.ones(10000000)\n",
        "s = np.zeros(10000000)\n",
        "for _ in range(10):\n",
        "  a = time.time()\n",
        "  for i in range(10000000):\n",
        "    s[i] = x[i] + y[i]\n",
        "  b = time.time()\n",
        "  print(b - a)"
      ],
      "execution_count": null,
      "outputs": []
    },
    {
      "cell_type": "markdown",
      "metadata": {
        "id": "rPzYF1AkZMom"
      },
      "source": [
        "* 上のセルのように書くより、こう書くほうが良い"
      ]
    },
    {
      "cell_type": "code",
      "metadata": {
        "id": "7s8cFdShZQn-"
      },
      "source": [
        "import time\n",
        "import numpy as np\n",
        "\n",
        "x = np.ones(10000000)\n",
        "y = np.ones(10000000)\n",
        "s = np.zeros(10000000)\n",
        "for _ in range(10):\n",
        "  a = time.time()\n",
        "  s = x + y\n",
        "  b = time.time()\n",
        "  print(b - a)"
      ],
      "execution_count": null,
      "outputs": []
    },
    {
      "cell_type": "markdown",
      "metadata": {
        "id": "ku21YYlpb6I_"
      },
      "source": [
        "## スライシング\n",
        "* 配列の要素をまとめて扱う。"
      ]
    },
    {
      "cell_type": "code",
      "metadata": {
        "id": "2V5VfCO4ZUrZ"
      },
      "source": [
        "a = np.arange(1, 20, 3)\n",
        "print(a)"
      ],
      "execution_count": null,
      "outputs": []
    },
    {
      "cell_type": "code",
      "source": [
        "print(a[1:5])"
      ],
      "metadata": {
        "id": "AHpsjZofblbQ"
      },
      "execution_count": null,
      "outputs": []
    },
    {
      "cell_type": "code",
      "source": [
        "print(a[0:6:2])"
      ],
      "metadata": {
        "id": "PXaWWG-IbmgK"
      },
      "execution_count": null,
      "outputs": []
    },
    {
      "cell_type": "code",
      "source": [
        "print(a[::-1])"
      ],
      "metadata": {
        "id": "TNE9ngYWboW0"
      },
      "execution_count": null,
      "outputs": []
    },
    {
      "cell_type": "code",
      "source": [
        "print(a[-2::-1])"
      ],
      "metadata": {
        "id": "SD0t3xsfboPB"
      },
      "execution_count": null,
      "outputs": []
    },
    {
      "cell_type": "code",
      "source": [
        "print(a[-2:1:-1])"
      ],
      "metadata": {
        "id": "qTsCXKj9boGo"
      },
      "execution_count": null,
      "outputs": []
    },
    {
      "cell_type": "markdown",
      "metadata": {
        "id": "mQ2JhxBJcBuS"
      },
      "source": [
        "### fancy index"
      ]
    },
    {
      "cell_type": "code",
      "metadata": {
        "id": "v9XiqHT-ZWSR"
      },
      "source": [
        "np.random.seed(1234)\n",
        "a = np.random.randint(10, size=10)\n",
        "print(a)"
      ],
      "execution_count": null,
      "outputs": []
    },
    {
      "cell_type": "code",
      "source": [
        "m = a % 3 == 0\n",
        "print(m)"
      ],
      "metadata": {
        "id": "o0qN4PZnbfYR"
      },
      "execution_count": null,
      "outputs": []
    },
    {
      "cell_type": "code",
      "source": [
        "print(type(m))\n",
        "print(m.dtype)"
      ],
      "metadata": {
        "id": "-zOZM3trbh5F"
      },
      "execution_count": null,
      "outputs": []
    },
    {
      "cell_type": "code",
      "source": [
        "b = a[m]\n",
        "print(b)"
      ],
      "metadata": {
        "id": "j0Wt60R9bgv-"
      },
      "execution_count": null,
      "outputs": []
    },
    {
      "cell_type": "markdown",
      "metadata": {
        "id": "8sAWN6YIcFMp"
      },
      "source": [
        "### where関数"
      ]
    },
    {
      "cell_type": "code",
      "metadata": {
        "id": "vdQeMI1mZXvR"
      },
      "source": [
        "np.random.seed(1234)\n",
        "a = np.random.randint(10,size=10)\n",
        "print(a)"
      ],
      "execution_count": null,
      "outputs": []
    },
    {
      "cell_type": "code",
      "source": [
        "m = np.where(a % 2 == 0) #インデックスのtupleを返す\n",
        "print(m)\n",
        "print(type(m))"
      ],
      "metadata": {
        "id": "7UwvntZ_bA0U"
      },
      "execution_count": null,
      "outputs": []
    },
    {
      "cell_type": "code",
      "source": [
        "b = a[m]\n",
        "print(b)"
      ],
      "metadata": {
        "id": "-Cqg2GI7bFJb"
      },
      "execution_count": null,
      "outputs": []
    },
    {
      "cell_type": "code",
      "metadata": {
        "id": "lDGpLYtDZaG5"
      },
      "source": [
        "np.random.seed(1234)\n",
        "a = np.random.randint(10,size=10)\n",
        "print(a)"
      ],
      "execution_count": null,
      "outputs": []
    },
    {
      "cell_type": "code",
      "source": [
        "m = np.where(a % 2 == 0, 'even', 'odd')\n",
        "print(m)"
      ],
      "metadata": {
        "id": "gOeF3hkzbG8r"
      },
      "execution_count": null,
      "outputs": []
    },
    {
      "cell_type": "code",
      "source": [
        "print(a[m == 'even'])"
      ],
      "metadata": {
        "id": "e0V4e91-bHym"
      },
      "execution_count": null,
      "outputs": []
    },
    {
      "cell_type": "markdown",
      "metadata": {
        "id": "M5ZVnM-4cIjb"
      },
      "source": [
        "## 配列のコピー"
      ]
    },
    {
      "cell_type": "markdown",
      "metadata": {
        "id": "FzalREx9cVCr"
      },
      "source": [
        "### 配列のビュー\n",
        "* 中身をコピーするわけではない。"
      ]
    },
    {
      "cell_type": "code",
      "metadata": {
        "id": "Bajlb7q3cXGK"
      },
      "source": [
        "a = np.array([1, 2, 3])\n",
        "b = a #ビューを作っている"
      ],
      "execution_count": null,
      "outputs": []
    },
    {
      "cell_type": "markdown",
      "metadata": {
        "id": "QBaj4afYZf9M"
      },
      "source": [
        "### リストのコピー"
      ]
    },
    {
      "cell_type": "code",
      "metadata": {
        "id": "9s7sI0f6Zb9Q"
      },
      "source": [
        "a = [1, 2, 3]\n",
        "b = a\n",
        "b[1] = 22\n",
        "print(a)\n",
        "print(b)"
      ],
      "execution_count": null,
      "outputs": []
    },
    {
      "cell_type": "code",
      "source": [
        "c = a[:] #リストがコピーされる\n",
        "c[2] = 234\n",
        "print(a)\n",
        "print(c)"
      ],
      "metadata": {
        "id": "GCU0ys73AlRK"
      },
      "execution_count": null,
      "outputs": []
    },
    {
      "cell_type": "markdown",
      "metadata": {
        "id": "oBRFhX3NZvrC"
      },
      "source": [
        "### ndarrayの場合の`a[:]`\n",
        "* コピーされるかどうか？"
      ]
    },
    {
      "cell_type": "code",
      "metadata": {
        "id": "CTOUB97jZgr5"
      },
      "source": [
        "a = np.array([1, 2, 3])\n",
        "c = a[:]"
      ],
      "execution_count": null,
      "outputs": []
    },
    {
      "cell_type": "code",
      "source": [
        "print(id(a) == id(c))"
      ],
      "metadata": {
        "id": "zBCI4LiObVh1"
      },
      "execution_count": null,
      "outputs": []
    },
    {
      "cell_type": "code",
      "source": [
        "c[1] = 22\n",
        "print(a) #変化している"
      ],
      "metadata": {
        "id": "cs5TByc7bUlz"
      },
      "execution_count": null,
      "outputs": []
    },
    {
      "cell_type": "markdown",
      "metadata": {
        "id": "EaVzJy8XccaI"
      },
      "source": [
        "### `copy`メソッド"
      ]
    },
    {
      "cell_type": "code",
      "metadata": {
        "id": "HpvXCyFhZim5"
      },
      "source": [
        "a = np.array([1, 2, 3])\n",
        "d = a.copy() #コピーを作る\n",
        "print(id(a) == id(d))"
      ],
      "execution_count": null,
      "outputs": []
    },
    {
      "cell_type": "code",
      "source": [
        "d[2] = 234\n",
        "print(a) #変化していない"
      ],
      "metadata": {
        "id": "rc7m9aGbbX5m"
      },
      "execution_count": null,
      "outputs": []
    },
    {
      "cell_type": "markdown",
      "metadata": {
        "id": "w9XBDkJRc19M"
      },
      "source": [
        "## 配列の形の変更"
      ]
    },
    {
      "cell_type": "code",
      "metadata": {
        "id": "galRR6uCaVAK"
      },
      "source": [
        "a = np.arange(12)\n",
        "print(a)"
      ],
      "execution_count": null,
      "outputs": []
    },
    {
      "cell_type": "markdown",
      "source": [
        "* NumPyのreshape関数"
      ],
      "metadata": {
        "id": "IA24-OotarBg"
      }
    },
    {
      "cell_type": "code",
      "source": [
        "b = np.reshape(a, (3, 4)) #\n",
        "print(b)"
      ],
      "metadata": {
        "id": "3BiEoiePabKU"
      },
      "execution_count": null,
      "outputs": []
    },
    {
      "cell_type": "markdown",
      "source": [
        "* 元の配列の中身を変更してみる。"
      ],
      "metadata": {
        "id": "zM8oJW9nas2b"
      }
    },
    {
      "cell_type": "code",
      "source": [
        "a[3] = - a[3]\n",
        "print(a)"
      ],
      "metadata": {
        "id": "yd7yiIRIacpv"
      },
      "execution_count": null,
      "outputs": []
    },
    {
      "cell_type": "markdown",
      "source": [
        "* 注意: reshape関数は配列の中身をコピーしない。"
      ],
      "metadata": {
        "id": "1qaF_cYBalVl"
      }
    },
    {
      "cell_type": "code",
      "source": [
        "print(b) #中身が変化している!"
      ],
      "metadata": {
        "id": "6Scer4Sjad3O"
      },
      "execution_count": null,
      "outputs": []
    },
    {
      "cell_type": "markdown",
      "source": [
        "* ndarrayのreshapeメソッド"
      ],
      "metadata": {
        "id": "t1Pxfiq8ahtp"
      }
    },
    {
      "cell_type": "code",
      "source": [
        "c = a.reshape((2,6))\n",
        "print(c)"
      ],
      "metadata": {
        "id": "OlfHgFZQaetB"
      },
      "execution_count": null,
      "outputs": []
    },
    {
      "cell_type": "markdown",
      "source": [
        "# 課題\n",
        "* 1から1000までの範囲のすべての偶数の和を求める計算を、NumPyの機能を使って書いてみよう。\n",
        "  * NumPyの配列を使う、NumPyのarangeを使う、などなど。とにかく、何か一つでもNumPyの機能を使ってください。"
      ],
      "metadata": {
        "id": "dmX2akQTaIZy"
      }
    },
    {
      "cell_type": "code",
      "source": [],
      "metadata": {
        "id": "-B-xkIrqaRzP"
      },
      "execution_count": null,
      "outputs": []
    }
  ]
}