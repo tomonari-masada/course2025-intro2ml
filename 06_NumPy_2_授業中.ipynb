{
  "nbformat": 4,
  "nbformat_minor": 0,
  "metadata": {
    "colab": {
      "provenance": [],
      "authorship_tag": "ABX9TyPSV4tFawgM/Skj0R4/vppw",
      "include_colab_link": true
    },
    "kernelspec": {
      "name": "python3",
      "display_name": "Python 3"
    },
    "language_info": {
      "name": "python"
    }
  },
  "cells": [
    {
      "cell_type": "markdown",
      "metadata": {
        "id": "view-in-github",
        "colab_type": "text"
      },
      "source": [
        "<a href=\"https://colab.research.google.com/github/tomonari-masada/course2025-intro2ml/blob/main/06_NumPy_2_%E6%8E%88%E6%A5%AD%E4%B8%AD.ipynb\" target=\"_parent\"><img src=\"https://colab.research.google.com/assets/colab-badge.svg\" alt=\"Open In Colab\"/></a>"
      ]
    },
    {
      "cell_type": "markdown",
      "metadata": {
        "id": "-JELfuI1U6jb"
      },
      "source": [
        "# NumPy入門 (2)\n",
        "* ブロードキャスト\n",
        "* 数学的なデータ処理\n",
        "* 記述統計"
      ]
    },
    {
      "cell_type": "code",
      "metadata": {
        "id": "zDr4hOIxTQ5K"
      },
      "source": [
        "import numpy as np"
      ],
      "execution_count": 1,
      "outputs": []
    },
    {
      "cell_type": "markdown",
      "metadata": {
        "id": "GvBF8AdGU-y0"
      },
      "source": [
        "## ブロードキャスト"
      ]
    },
    {
      "cell_type": "markdown",
      "source": [
        "* 例1"
      ],
      "metadata": {
        "id": "5uPeOoDs_313"
      }
    },
    {
      "cell_type": "code",
      "source": [
        "aaa = np.array([1,2])\n",
        "print(aaa)"
      ],
      "metadata": {
        "colab": {
          "base_uri": "https://localhost:8080/"
        },
        "id": "xtwnmKdtuvig",
        "outputId": "a5250e20-a248-48cf-fcc7-86200b821af9"
      },
      "execution_count": 6,
      "outputs": [
        {
          "output_type": "stream",
          "name": "stdout",
          "text": [
            "[1 2]\n"
          ]
        }
      ]
    },
    {
      "cell_type": "code",
      "source": [
        "aaa.shape"
      ],
      "metadata": {
        "colab": {
          "base_uri": "https://localhost:8080/"
        },
        "id": "SROVOr20uzop",
        "outputId": "630ced58-57ba-446c-8b1d-9054eb682631"
      },
      "execution_count": 7,
      "outputs": [
        {
          "output_type": "execute_result",
          "data": {
            "text/plain": [
              "(2,)"
            ]
          },
          "metadata": {},
          "execution_count": 7
        }
      ]
    },
    {
      "cell_type": "code",
      "metadata": {
        "id": "H1A_8Z14Tm7T",
        "colab": {
          "base_uri": "https://localhost:8080/"
        },
        "outputId": "0c05b3da-923d-4276-9b10-e49984647ef4"
      },
      "source": [
        "a = np.array([[1, 2]])\n",
        "print(a)"
      ],
      "execution_count": 2,
      "outputs": [
        {
          "output_type": "stream",
          "name": "stdout",
          "text": [
            "[[1 2]]\n"
          ]
        }
      ]
    },
    {
      "cell_type": "code",
      "source": [
        "print(a.shape)"
      ],
      "metadata": {
        "id": "2kXlnzMR_eja",
        "colab": {
          "base_uri": "https://localhost:8080/"
        },
        "outputId": "4ae29b98-5632-418f-a209-ab0606c6c76e"
      },
      "execution_count": 3,
      "outputs": [
        {
          "output_type": "stream",
          "name": "stdout",
          "text": [
            "(1, 2)\n"
          ]
        }
      ]
    },
    {
      "cell_type": "code",
      "source": [
        "b = np.array([3, 4])\n",
        "print(b)"
      ],
      "metadata": {
        "id": "Z4nawBIr_bHA",
        "colab": {
          "base_uri": "https://localhost:8080/"
        },
        "outputId": "ad9c0c7a-df0a-478c-88b5-e995885176a2"
      },
      "execution_count": 8,
      "outputs": [
        {
          "output_type": "stream",
          "name": "stdout",
          "text": [
            "[3 4]\n"
          ]
        }
      ]
    },
    {
      "cell_type": "code",
      "source": [
        "print(b.shape)"
      ],
      "metadata": {
        "id": "xp04nCsA_fr6",
        "colab": {
          "base_uri": "https://localhost:8080/"
        },
        "outputId": "33174260-f9c6-4069-a08a-cfe3e094b2b7"
      },
      "execution_count": 9,
      "outputs": [
        {
          "output_type": "stream",
          "name": "stdout",
          "text": [
            "(2,)\n"
          ]
        }
      ]
    },
    {
      "cell_type": "code",
      "source": [
        "c = a + b\n",
        "print(c)"
      ],
      "metadata": {
        "id": "809F2UQC_bgF",
        "colab": {
          "base_uri": "https://localhost:8080/"
        },
        "outputId": "a6386ca2-d632-45d7-a939-40d08d540697"
      },
      "execution_count": 10,
      "outputs": [
        {
          "output_type": "stream",
          "name": "stdout",
          "text": [
            "[[4 6]]\n"
          ]
        }
      ]
    },
    {
      "cell_type": "code",
      "source": [
        "print(c.shape)"
      ],
      "metadata": {
        "id": "J2PsLOIX_hTv",
        "colab": {
          "base_uri": "https://localhost:8080/"
        },
        "outputId": "f7c588a4-edaa-477b-c837-7c75887354b0"
      },
      "execution_count": 11,
      "outputs": [
        {
          "output_type": "stream",
          "name": "stdout",
          "text": [
            "(1, 2)\n"
          ]
        }
      ]
    },
    {
      "cell_type": "markdown",
      "source": [
        "* 例2"
      ],
      "metadata": {
        "id": "OsgzsJ7f_6Wd"
      }
    },
    {
      "cell_type": "code",
      "metadata": {
        "id": "0uN85mQ4TpDb",
        "colab": {
          "base_uri": "https://localhost:8080/"
        },
        "outputId": "1b017813-d3b2-4864-d39d-6cc7623b0793"
      },
      "source": [
        "a = np.array([1,2])\n",
        "print(a)"
      ],
      "execution_count": 12,
      "outputs": [
        {
          "output_type": "stream",
          "name": "stdout",
          "text": [
            "[1 2]\n"
          ]
        }
      ]
    },
    {
      "cell_type": "code",
      "source": [
        "print(a.shape)"
      ],
      "metadata": {
        "id": "TJORF6me_xHn",
        "colab": {
          "base_uri": "https://localhost:8080/"
        },
        "outputId": "06366ad5-8ed4-485f-c8b9-6733153d9fed"
      },
      "execution_count": 13,
      "outputs": [
        {
          "output_type": "stream",
          "name": "stdout",
          "text": [
            "(2,)\n"
          ]
        }
      ]
    },
    {
      "cell_type": "code",
      "source": [
        "b = np.array([[3,4],[2,3]])\n",
        "print(b)"
      ],
      "metadata": {
        "id": "Ka-b6-8D_vGr",
        "colab": {
          "base_uri": "https://localhost:8080/"
        },
        "outputId": "ead31c8c-ecdb-4e6a-fb53-6b84d83be025"
      },
      "execution_count": 14,
      "outputs": [
        {
          "output_type": "stream",
          "name": "stdout",
          "text": [
            "[[3 4]\n",
            " [2 3]]\n"
          ]
        }
      ]
    },
    {
      "cell_type": "code",
      "source": [
        "print(b.shape)"
      ],
      "metadata": {
        "id": "gNkkyS5i_zx-",
        "colab": {
          "base_uri": "https://localhost:8080/"
        },
        "outputId": "11d84d0e-afdf-4f62-eec5-e33f6e40daa1"
      },
      "execution_count": 15,
      "outputs": [
        {
          "output_type": "stream",
          "name": "stdout",
          "text": [
            "(2, 2)\n"
          ]
        }
      ]
    },
    {
      "cell_type": "code",
      "source": [
        "c = a + b\n",
        "print(c)"
      ],
      "metadata": {
        "id": "hSYTRL0G_wCQ",
        "colab": {
          "base_uri": "https://localhost:8080/"
        },
        "outputId": "b92bcd47-e9dc-471a-cbd6-b68837a51ddd"
      },
      "execution_count": 16,
      "outputs": [
        {
          "output_type": "stream",
          "name": "stdout",
          "text": [
            "[[4 6]\n",
            " [3 5]]\n"
          ]
        }
      ]
    },
    {
      "cell_type": "code",
      "source": [
        "print(c.shape)"
      ],
      "metadata": {
        "id": "JBAAlmP6_1qe"
      },
      "execution_count": null,
      "outputs": []
    },
    {
      "cell_type": "markdown",
      "source": [
        "* 例3"
      ],
      "metadata": {
        "id": "3xH0M2NP_8Hm"
      }
    },
    {
      "cell_type": "code",
      "metadata": {
        "id": "dswVrLNITrUa",
        "colab": {
          "base_uri": "https://localhost:8080/"
        },
        "outputId": "22994fba-8ab9-45f8-f90e-1bcaa0913356"
      },
      "source": [
        "a = np.array([[1],[2],[3]])\n",
        "print(a)"
      ],
      "execution_count": 17,
      "outputs": [
        {
          "output_type": "stream",
          "name": "stdout",
          "text": [
            "[[1]\n",
            " [2]\n",
            " [3]]\n"
          ]
        }
      ]
    },
    {
      "cell_type": "code",
      "source": [
        "print(a.shape)"
      ],
      "metadata": {
        "id": "wNgs2nr0AFwy",
        "colab": {
          "base_uri": "https://localhost:8080/"
        },
        "outputId": "9dcbcae1-499d-4bf8-bc80-176eeb4455d5"
      },
      "execution_count": 18,
      "outputs": [
        {
          "output_type": "stream",
          "name": "stdout",
          "text": [
            "(3, 1)\n"
          ]
        }
      ]
    },
    {
      "cell_type": "code",
      "source": [
        "b = np.array([[4,8],[5,10],[6,12]])\n",
        "print(b)"
      ],
      "metadata": {
        "id": "ifBPSZ5zAA9e",
        "colab": {
          "base_uri": "https://localhost:8080/"
        },
        "outputId": "c3b90afa-e6c3-4236-99bc-7e8131760090"
      },
      "execution_count": 19,
      "outputs": [
        {
          "output_type": "stream",
          "name": "stdout",
          "text": [
            "[[ 4  8]\n",
            " [ 5 10]\n",
            " [ 6 12]]\n"
          ]
        }
      ]
    },
    {
      "cell_type": "code",
      "source": [
        "print(b.shape)"
      ],
      "metadata": {
        "id": "2GqzD9jAAG4W",
        "colab": {
          "base_uri": "https://localhost:8080/"
        },
        "outputId": "7d5936e5-dc20-4c4b-c0ad-b898c9ad9e4d"
      },
      "execution_count": 20,
      "outputs": [
        {
          "output_type": "stream",
          "name": "stdout",
          "text": [
            "(3, 2)\n"
          ]
        }
      ]
    },
    {
      "cell_type": "code",
      "source": [
        "c = a * b\n",
        "print(c)"
      ],
      "metadata": {
        "id": "D6Kv8L21AA0W",
        "colab": {
          "base_uri": "https://localhost:8080/"
        },
        "outputId": "e2533d05-259b-4baf-dead-c2e11a381357"
      },
      "execution_count": 22,
      "outputs": [
        {
          "output_type": "stream",
          "name": "stdout",
          "text": [
            "[[ 4  8]\n",
            " [10 20]\n",
            " [18 36]]\n"
          ]
        }
      ]
    },
    {
      "cell_type": "markdown",
      "source": [
        "* 例4"
      ],
      "metadata": {
        "id": "Qskmh9UTAIpt"
      }
    },
    {
      "cell_type": "code",
      "metadata": {
        "id": "hgDxjE0zTtGy",
        "colab": {
          "base_uri": "https://localhost:8080/"
        },
        "outputId": "2319bf1f-cfc5-4d1e-ffda-bde770841201"
      },
      "source": [
        "a = np.array([1,2])\n",
        "print(a)"
      ],
      "execution_count": 23,
      "outputs": [
        {
          "output_type": "stream",
          "name": "stdout",
          "text": [
            "[1 2]\n"
          ]
        }
      ]
    },
    {
      "cell_type": "code",
      "source": [
        "print(a.shape)"
      ],
      "metadata": {
        "id": "ZKDnFcvZALtO",
        "colab": {
          "base_uri": "https://localhost:8080/"
        },
        "outputId": "95289894-2da7-4232-f906-a02833f445a3"
      },
      "execution_count": 24,
      "outputs": [
        {
          "output_type": "stream",
          "name": "stdout",
          "text": [
            "(2,)\n"
          ]
        }
      ]
    },
    {
      "cell_type": "code",
      "source": [
        "b = np.array([[3],[4]])\n",
        "print(b)"
      ],
      "metadata": {
        "id": "fVncthBqALnH",
        "colab": {
          "base_uri": "https://localhost:8080/"
        },
        "outputId": "3ece95b5-ba9e-4b2f-8e7f-db13a4f325e1"
      },
      "execution_count": 25,
      "outputs": [
        {
          "output_type": "stream",
          "name": "stdout",
          "text": [
            "[[3]\n",
            " [4]]\n"
          ]
        }
      ]
    },
    {
      "cell_type": "code",
      "source": [
        "print(b.shape)"
      ],
      "metadata": {
        "id": "US3SJdFgALfX",
        "colab": {
          "base_uri": "https://localhost:8080/"
        },
        "outputId": "e0a6379c-a5d0-4177-b4a2-c6cce3f4df48"
      },
      "execution_count": 26,
      "outputs": [
        {
          "output_type": "stream",
          "name": "stdout",
          "text": [
            "(2, 1)\n"
          ]
        }
      ]
    },
    {
      "cell_type": "code",
      "source": [
        "c = a + b\n",
        "print(c) # 出力がなぜそうなるか説明してみよう"
      ],
      "metadata": {
        "id": "s940uCrdALX0",
        "colab": {
          "base_uri": "https://localhost:8080/"
        },
        "outputId": "6a838b92-8183-4fb3-aab1-51afecde6354"
      },
      "execution_count": 29,
      "outputs": [
        {
          "output_type": "stream",
          "name": "stdout",
          "text": [
            "[[4 5]\n",
            " [5 6]]\n"
          ]
        }
      ]
    },
    {
      "cell_type": "code",
      "source": [
        "print(c.shape)"
      ],
      "metadata": {
        "id": "F04ybrInAQ_t"
      },
      "execution_count": null,
      "outputs": []
    },
    {
      "cell_type": "markdown",
      "metadata": {
        "id": "ayhSwjLLVCdT"
      },
      "source": [
        "## 数学的なデータ処理"
      ]
    },
    {
      "cell_type": "markdown",
      "metadata": {
        "id": "Dcp_87QpUxhz"
      },
      "source": [
        "* 様々な関数"
      ]
    },
    {
      "cell_type": "code",
      "metadata": {
        "id": "UIMuD4F4TvUK",
        "colab": {
          "base_uri": "https://localhost:8080/"
        },
        "outputId": "280333f5-14cb-483b-c29d-d23351de293e"
      },
      "source": [
        "print(np.power(2, 3))\n",
        "print(np.power(2.1, 2.8))"
      ],
      "execution_count": 30,
      "outputs": [
        {
          "output_type": "stream",
          "name": "stdout",
          "text": [
            "8\n",
            "7.983880450340076\n"
          ]
        }
      ]
    },
    {
      "cell_type": "code",
      "metadata": {
        "id": "QGFt8miXTxTq",
        "colab": {
          "base_uri": "https://localhost:8080/"
        },
        "outputId": "35934e5a-18ba-4f80-a371-5196ee122ac5"
      },
      "source": [
        "a = np.arange(1, 11)\n",
        "print(np.sqrt(a))\n",
        "print(np.arctan(a))"
      ],
      "execution_count": 31,
      "outputs": [
        {
          "output_type": "stream",
          "name": "stdout",
          "text": [
            "[1.         1.41421356 1.73205081 2.         2.23606798 2.44948974\n",
            " 2.64575131 2.82842712 3.         3.16227766]\n",
            "[0.78539816 1.10714872 1.24904577 1.32581766 1.37340077 1.40564765\n",
            " 1.42889927 1.44644133 1.46013911 1.47112767]\n"
          ]
        }
      ]
    },
    {
      "cell_type": "code",
      "metadata": {
        "id": "TdsUiqKhTzz6",
        "colab": {
          "base_uri": "https://localhost:8080/"
        },
        "outputId": "6aecaad5-ee6d-4bc7-a135-4e69bf768672"
      },
      "source": [
        "x = np.linspace(-1, 1, 11)\n",
        "print(x)\n",
        "print(np.exp(x))"
      ],
      "execution_count": 32,
      "outputs": [
        {
          "output_type": "stream",
          "name": "stdout",
          "text": [
            "[-1.  -0.8 -0.6 -0.4 -0.2  0.   0.2  0.4  0.6  0.8  1. ]\n",
            "[0.36787944 0.44932896 0.54881164 0.67032005 0.81873075 1.\n",
            " 1.22140276 1.4918247  1.8221188  2.22554093 2.71828183]\n"
          ]
        }
      ]
    },
    {
      "cell_type": "markdown",
      "metadata": {
        "id": "q1YDlhq5U0ni"
      },
      "source": [
        "## 記述統計\n",
        "* グラフの描き方は別のnotebookで。\n",
        "  * matplotlibという可視化ライブラリを使う。"
      ]
    },
    {
      "cell_type": "code",
      "source": [
        "x = np.random.randn(3, 10)\n",
        "x = x * 3 + 5\n",
        "print(x)"
      ],
      "metadata": {
        "colab": {
          "base_uri": "https://localhost:8080/"
        },
        "id": "ExyS9wZgymhH",
        "outputId": "4f191b72-9bd9-45b4-bbaf-648d08b6a9cd"
      },
      "execution_count": 33,
      "outputs": [
        {
          "output_type": "stream",
          "name": "stdout",
          "text": [
            "[[ 3.62753984 -1.73730132  4.17999213  1.62565267  2.13662337  4.72921067\n",
            "   0.29659401  5.04730075  1.23675307  2.41464587]\n",
            " [ 5.65804852  2.26436872  2.918113    4.90647198  1.86087287  7.69648924\n",
            "   9.70987266  1.40010123  4.15355597  8.76858206]\n",
            " [ 6.84986837 10.19393842  8.37999144  5.21590976  9.10926253  1.88327044\n",
            "   1.76213489  6.27859638 10.346847    6.75686533]]\n"
          ]
        }
      ]
    },
    {
      "cell_type": "code",
      "source": [
        "print(np.mean(x))"
      ],
      "metadata": {
        "colab": {
          "base_uri": "https://localhost:8080/"
        },
        "id": "z5WoeXuJyy4x",
        "outputId": "62f67b7e-6faf-4b30-ac37-6e22bb63ce3e"
      },
      "execution_count": 34,
      "outputs": [
        {
          "output_type": "stream",
          "name": "stdout",
          "text": [
            "4.655672394746865\n"
          ]
        }
      ]
    },
    {
      "cell_type": "code",
      "source": [
        "print(np.mean(x, axis=0))"
      ],
      "metadata": {
        "colab": {
          "base_uri": "https://localhost:8080/"
        },
        "id": "eBRLtr3Cy4Tp",
        "outputId": "07a0e6a4-99c1-4aa3-a48f-3eaed6600ba8"
      },
      "execution_count": 35,
      "outputs": [
        {
          "output_type": "stream",
          "name": "stdout",
          "text": [
            "[5.37848558 3.5736686  5.15936552 3.91601147 4.36891959 4.76965678\n",
            " 3.92286718 4.24199945 5.24571868 5.98003108]\n"
          ]
        }
      ]
    },
    {
      "cell_type": "code",
      "source": [
        "print(np.mean(x, axis=1))"
      ],
      "metadata": {
        "colab": {
          "base_uri": "https://localhost:8080/"
        },
        "id": "heqIMwQ_zJg4",
        "outputId": "2cf637b1-fe61-4fd8-b4a9-ab2fdcfec858"
      },
      "execution_count": 36,
      "outputs": [
        {
          "output_type": "stream",
          "name": "stdout",
          "text": [
            "[2.35570111 4.93364762 6.67766846]\n"
          ]
        }
      ]
    },
    {
      "cell_type": "code",
      "metadata": {
        "id": "51XITKPPT1g6",
        "colab": {
          "base_uri": "https://localhost:8080/"
        },
        "outputId": "ff59a9f5-2e6b-478b-8945-2cd1510ccb43"
      },
      "source": [
        "print(np.median(x), np.var(x), np.std(x))"
      ],
      "execution_count": 37,
      "outputs": [
        {
          "output_type": "stream",
          "name": "stdout",
          "text": [
            "4.454601401696513 9.957631116494662 3.1555714405626536\n"
          ]
        }
      ]
    },
    {
      "cell_type": "code",
      "metadata": {
        "id": "NdATV-KJT4pi",
        "colab": {
          "base_uri": "https://localhost:8080/"
        },
        "outputId": "fc05a41f-bdd3-40d5-9384-23dc23ba0539"
      },
      "source": [
        "x = np.random.randn(2, 100)\n",
        "print(x)\n",
        "print(np.cov(x[0], x[1]))\n",
        "print(np.corrcoef(x[0], x[1]))"
      ],
      "execution_count": 38,
      "outputs": [
        {
          "output_type": "stream",
          "name": "stdout",
          "text": [
            "[[-1.35686978e+00 -2.55762582e-01 -3.69545463e-02  1.75131186e+00\n",
            "   7.99400754e-01  2.15217406e+00  2.11543827e-01  8.74063239e-01\n",
            "   1.31761424e+00  2.21032986e-02  7.32023913e-01  7.21802055e-01\n",
            "   6.49883996e-02 -2.69899888e-01 -7.60642740e-01 -7.34107876e-01\n",
            "  -1.15029449e+00 -6.05347702e-01  7.50109946e-02  1.14711323e+00\n",
            "  -9.41322972e-02  4.36736219e-01  1.70675124e+00 -6.69416649e-01\n",
            "  -7.18934365e-01  8.92764953e-01  5.49684628e-01  4.53903863e-01\n",
            "   2.12237667e+00  1.48903315e+00 -1.19848117e+00  5.07342253e-01\n",
            "   1.06721652e+00 -3.03949881e-02  1.92658694e+00 -2.63812645e-01\n",
            "  -2.00382442e+00  6.18944857e-01  3.79070484e-01  9.11676634e-01\n",
            "  -1.57499297e-01 -8.96765804e-02  2.65712504e-01  5.59055853e-01\n",
            "   4.67367275e-01  6.27010699e-02 -1.01140376e+00  1.14787104e+00\n",
            "   7.67291692e-01  1.57112262e-01 -2.59500980e-02 -9.34701318e-02\n",
            "   1.02754487e+00  3.18453176e-01 -1.66426249e+00 -1.22573324e+00\n",
            "   2.64942024e+00 -3.28463793e-01 -5.39287487e-01  1.11132371e-01\n",
            "   4.81602154e-02 -9.36085711e-01 -1.33484021e+00 -4.90613619e-02\n",
            "  -1.10772306e+00 -1.04943106e+00 -5.46402967e-01  3.98626327e-01\n",
            "   9.34945075e-01 -2.41076044e-01  6.09471868e-01  5.25427881e-01\n",
            "   5.23960485e-01  5.19149036e-01  1.08979709e+00  2.69419391e-01\n",
            "  -3.89625056e-01  5.44376914e-01 -5.68232553e-01 -1.36047735e+00\n",
            "  -4.57298205e-01 -9.58275553e-01  3.32668789e-01  1.50243631e+00\n",
            "   1.05343910e+00  9.49582841e-02  5.43151538e-01 -6.12502237e-01\n",
            "   2.08184854e+00 -6.97008465e-01  4.08055898e-02 -1.52037353e+00\n",
            "  -1.30123473e-01  9.86364156e-01 -1.52241978e-01 -2.33761380e+00\n",
            "   1.86989884e+00  2.75148393e-01 -1.32318161e+00  5.35980307e-01]\n",
            " [ 9.15530719e-01  9.38401949e-01  4.19278164e-01 -1.36983457e+00\n",
            "   1.65480620e+00 -1.19377560e+00 -6.12404850e-01  1.74159163e+00\n",
            "   6.36837796e-01  1.27935298e+00  4.74126277e-02  2.03312092e-01\n",
            "   1.87952870e-01 -1.33256846e-01  1.23819119e+00  3.42328315e-01\n",
            "   1.88057206e+00 -1.09681021e-01  1.11392265e+00  1.39769608e+00\n",
            "  -1.56156760e+00  2.29088082e+00  1.68576299e-01 -1.34240897e+00\n",
            "  -1.28761053e+00  1.23566723e-01  9.05735646e-01  6.00019685e-01\n",
            "   1.14459397e+00  4.90633345e-01  1.77566878e-01  1.22644004e+00\n",
            "   1.03771456e+00  1.39143794e+00  2.47757893e-01 -8.06698925e-02\n",
            "   7.09236123e-02  1.38794039e+00  2.27610337e-01  7.46970152e-01\n",
            "   2.98240789e-01  3.30726650e-01 -1.92445710e+00 -2.46353606e-01\n",
            "   9.54883451e-01 -1.91530018e+00 -1.67943192e+00 -8.12010702e-01\n",
            "  -6.85408166e-01  1.85496444e-01  3.33390640e-01  4.94291334e-01\n",
            "   2.28900297e+00 -1.31617655e-01 -8.42536360e-01 -1.03743173e+00\n",
            "  -2.45866410e-01 -1.44827503e+00 -8.29077198e-02 -1.04417994e+00\n",
            "  -2.11061772e+00  2.27409347e-01  1.61596060e+00 -4.22525179e-02\n",
            "  -4.38344639e-01 -1.54475118e+00  5.25107780e-01  7.53492881e-01\n",
            "   6.62370395e-01  6.87372962e-01  1.05954115e+00  7.80371853e-01\n",
            "  -2.15602592e-01 -2.47272064e-01  2.45086898e-01  5.69229768e-01\n",
            "   1.00082120e+00 -7.33275075e-01  1.44209823e-02 -6.25072949e-01\n",
            "   4.48836604e-01 -8.53414991e-01 -5.32965344e-01 -6.94997534e-01\n",
            "  -5.54589329e-01 -1.62866206e+00  4.10356614e-04  1.82563976e-01\n",
            "   3.38259627e-02  1.05088721e+00  2.99094118e+00  1.47536518e-01\n",
            "  -1.63202321e-01  3.80752908e-01  8.06370654e-01 -2.04369574e-01\n",
            "  -1.05341712e+00  2.56288161e-01  3.01563121e+00 -6.26189015e-01]]\n",
            "[[0.93489639 0.02428446]\n",
            " [0.02428446 1.06363434]]\n",
            "[[1.         0.02435289]\n",
            " [0.02435289 1.        ]]\n"
          ]
        }
      ]
    },
    {
      "cell_type": "markdown",
      "metadata": {
        "id": "gjcGEi33U3Sx"
      },
      "source": [
        "## NumPyの練習\n",
        "* NumPyに実装されたさまざまな機能について、全てを授業で説明することはできません・・・。"
      ]
    },
    {
      "cell_type": "code",
      "metadata": {
        "id": "6h8n7denT60B"
      },
      "source": [
        "x = np.zeros(10)\n",
        "print(x)"
      ],
      "execution_count": null,
      "outputs": []
    },
    {
      "cell_type": "code",
      "metadata": {
        "id": "JP7KvfXgT805"
      },
      "source": [
        "x = np.arange(10, 50)\n",
        "print(x)"
      ],
      "execution_count": null,
      "outputs": []
    },
    {
      "cell_type": "code",
      "metadata": {
        "id": "CWkOpJN3T-oh"
      },
      "source": [
        "x = np.arange(50)\n",
        "x = x[::-1]\n",
        "print(x)"
      ],
      "execution_count": null,
      "outputs": []
    },
    {
      "cell_type": "code",
      "metadata": {
        "id": "XW_itKDoUAaR"
      },
      "source": [
        "Z = np.arange(9).reshape(3, 3)\n",
        "print(Z)"
      ],
      "execution_count": null,
      "outputs": []
    },
    {
      "cell_type": "code",
      "metadata": {
        "id": "gz_x2lhMUCXR"
      },
      "source": [
        "x = np.array([1, 2, 0, 0, 4, 0])\n",
        "nz = np.nonzero(x)\n",
        "print(nz)\n",
        "print(x[nz])"
      ],
      "execution_count": null,
      "outputs": []
    },
    {
      "cell_type": "code",
      "metadata": {
        "id": "9QjHhH6CUEcB"
      },
      "source": [
        "Z = np.eye(3)\n",
        "print(Z)"
      ],
      "execution_count": null,
      "outputs": []
    },
    {
      "cell_type": "code",
      "metadata": {
        "id": "WaNajFLrUJ-4"
      },
      "source": [
        "Z = np.eye(3)\n",
        "nz = np.nonzero(Z)\n",
        "print(nz)\n",
        "print(Z[nz])"
      ],
      "execution_count": null,
      "outputs": []
    },
    {
      "cell_type": "code",
      "metadata": {
        "id": "u5aXS9dqUL2w"
      },
      "source": [
        "Z = np.random.random((10, 10))\n",
        "Zmin, Zmax = Z.min(), Z.max()\n",
        "print(Zmin, Zmax)"
      ],
      "execution_count": null,
      "outputs": []
    },
    {
      "cell_type": "code",
      "metadata": {
        "id": "yZQ6HZN2UOAI"
      },
      "source": [
        "x = np.random.random(30)\n",
        "m = x.mean()\n",
        "print(m)"
      ],
      "execution_count": null,
      "outputs": []
    },
    {
      "cell_type": "code",
      "metadata": {
        "id": "c-RTOPJVWTGT"
      },
      "source": [
        "Z = np.arange(10)\n",
        "np.sum(Z)"
      ],
      "execution_count": null,
      "outputs": []
    },
    {
      "cell_type": "markdown",
      "metadata": {
        "id": "xSwg800XVdFn"
      },
      "source": [
        "## NaN\n",
        "* NaNとはnot a numberで、非数のこと。"
      ]
    },
    {
      "cell_type": "code",
      "metadata": {
        "id": "zWajtWIbWInq",
        "colab": {
          "base_uri": "https://localhost:8080/"
        },
        "outputId": "4fad873c-0984-449b-c79f-d7113841d33d"
      },
      "source": [
        "print(0.0 / np.ones(5))"
      ],
      "execution_count": 39,
      "outputs": [
        {
          "output_type": "stream",
          "name": "stdout",
          "text": [
            "[0. 0. 0. 0. 0.]\n"
          ]
        }
      ]
    },
    {
      "cell_type": "code",
      "metadata": {
        "id": "Guzy2lDWWD8p",
        "colab": {
          "base_uri": "https://localhost:8080/"
        },
        "outputId": "bb72f8a6-94cd-43e5-e95c-0619a2d89e97"
      },
      "source": [
        "print(0.0 / np.zeros(5))"
      ],
      "execution_count": 40,
      "outputs": [
        {
          "output_type": "stream",
          "name": "stdout",
          "text": [
            "[nan nan nan nan nan]\n"
          ]
        },
        {
          "output_type": "stream",
          "name": "stderr",
          "text": [
            "<ipython-input-40-5c465b4f478f>:1: RuntimeWarning: invalid value encountered in divide\n",
            "  print(0.0 / np.zeros(5))\n"
          ]
        }
      ]
    },
    {
      "cell_type": "code",
      "metadata": {
        "id": "QYSZ4b9gUPhI"
      },
      "source": [
        "print(0 * np.nan)"
      ],
      "execution_count": null,
      "outputs": []
    },
    {
      "cell_type": "code",
      "source": [
        "print(np.nan - np.nan)"
      ],
      "metadata": {
        "id": "v_zBylBafIkL"
      },
      "execution_count": null,
      "outputs": []
    },
    {
      "cell_type": "markdown",
      "source": [
        "* nanと比較する場合、相手がどんな値でも\n",
        "  * <, >, ==, <=, >=は常にFalse\n",
        "  * !=は常にTrue"
      ],
      "metadata": {
        "id": "e5flDi2Jfd1e"
      }
    },
    {
      "cell_type": "code",
      "source": [
        "print(np.nan == np.nan)"
      ],
      "metadata": {
        "id": "meVxNDnqfHHv"
      },
      "execution_count": null,
      "outputs": []
    },
    {
      "cell_type": "code",
      "source": [
        "print(np.nan != np.nan)"
      ],
      "metadata": {
        "id": "ntOyxJutf2zV"
      },
      "execution_count": null,
      "outputs": []
    },
    {
      "cell_type": "markdown",
      "source": [
        "## inf\n",
        "* 無限大のこと。"
      ],
      "metadata": {
        "id": "K1f_9eRpfXXF"
      }
    },
    {
      "cell_type": "code",
      "source": [
        "print(np.inf)"
      ],
      "metadata": {
        "id": "-YRBFrFxfOeB",
        "colab": {
          "base_uri": "https://localhost:8080/"
        },
        "outputId": "857efab3-6ae3-4d48-9b5c-08d1592f6903"
      },
      "execution_count": 41,
      "outputs": [
        {
          "output_type": "stream",
          "name": "stdout",
          "text": [
            "inf\n"
          ]
        }
      ]
    },
    {
      "cell_type": "code",
      "source": [
        "print(1e-3)"
      ],
      "metadata": {
        "colab": {
          "base_uri": "https://localhost:8080/"
        },
        "id": "Tqb4ZWmmz-zf",
        "outputId": "001953b5-d266-42a9-d132-f0cb7af28846"
      },
      "execution_count": 44,
      "outputs": [
        {
          "output_type": "stream",
          "name": "stdout",
          "text": [
            "0.001\n"
          ]
        }
      ]
    },
    {
      "cell_type": "code",
      "source": [
        "print(1e15)"
      ],
      "metadata": {
        "id": "V2hNyQO3fU1W",
        "colab": {
          "base_uri": "https://localhost:8080/"
        },
        "outputId": "3a1e6f82-6f62-4459-f711-08f2f9fc4cc8"
      },
      "execution_count": 42,
      "outputs": [
        {
          "output_type": "stream",
          "name": "stdout",
          "text": [
            "1000000000000000.0\n"
          ]
        }
      ]
    },
    {
      "cell_type": "code",
      "source": [
        "print(np.inf > 1e15)"
      ],
      "metadata": {
        "id": "qzvFLvCGfQw5",
        "colab": {
          "base_uri": "https://localhost:8080/"
        },
        "outputId": "b0063803-2656-4194-8238-ce4356cb3318"
      },
      "execution_count": 43,
      "outputs": [
        {
          "output_type": "stream",
          "name": "stdout",
          "text": [
            "True\n"
          ]
        }
      ]
    },
    {
      "cell_type": "code",
      "source": [
        "print(np.inf > np.nan)"
      ],
      "metadata": {
        "id": "F5QAKlTSfJVo",
        "colab": {
          "base_uri": "https://localhost:8080/"
        },
        "outputId": "7c54ce52-d949-4b98-b91e-df48976b2eb3"
      },
      "execution_count": 45,
      "outputs": [
        {
          "output_type": "stream",
          "name": "stdout",
          "text": [
            "False\n"
          ]
        }
      ]
    },
    {
      "cell_type": "markdown",
      "source": [
        "* NumPyを使ったコードを動かしていて、途中の計算結果がNaNやinfになったら、何か変なことが起きている、ということ。"
      ],
      "metadata": {
        "id": "YGKWWtTFgA_2"
      }
    },
    {
      "cell_type": "markdown",
      "metadata": {
        "id": "Aj2qI38BUZbM"
      },
      "source": [
        "## 注意: 浮動小数点数の特徴\n",
        "* これはPython全体での話です。\n",
        "  * NumPyに限った話ではありません。\n",
        "  * Pythonで数値計算をする場合の一般的な注意事項です。\n",
        "* 一言で言えば、計算機は実数を完全に厳密には表現できないです。"
      ]
    },
    {
      "cell_type": "code",
      "metadata": {
        "id": "1N382EPlURSI",
        "colab": {
          "base_uri": "https://localhost:8080/"
        },
        "outputId": "4e0370ef-6861-4540-a46c-da0d51217f5f"
      },
      "source": [
        "print(0.3 == 3 * 0.1)\n",
        "print(0.3 == 2 * 0.15)"
      ],
      "execution_count": 46,
      "outputs": [
        {
          "output_type": "stream",
          "name": "stdout",
          "text": [
            "False\n",
            "True\n"
          ]
        }
      ]
    },
    {
      "cell_type": "code",
      "source": [
        "print(3 * 0.1)"
      ],
      "metadata": {
        "colab": {
          "base_uri": "https://localhost:8080/"
        },
        "id": "9W06syX40zy9",
        "outputId": "55fad77d-82b7-4628-a189-81ac308a0732"
      },
      "execution_count": 47,
      "outputs": [
        {
          "output_type": "stream",
          "name": "stdout",
          "text": [
            "0.30000000000000004\n"
          ]
        }
      ]
    },
    {
      "cell_type": "code",
      "metadata": {
        "id": "hLyr3sDnUTBg"
      },
      "source": [
        "import numpy as np\n",
        "a = np.array([0.3])"
      ],
      "execution_count": 48,
      "outputs": []
    },
    {
      "cell_type": "code",
      "source": [
        "print(a)"
      ],
      "metadata": {
        "colab": {
          "base_uri": "https://localhost:8080/"
        },
        "id": "pEVpwv_k1CDV",
        "outputId": "43add0d4-6792-43fb-abee-556a997ebb06"
      },
      "execution_count": 49,
      "outputs": [
        {
          "output_type": "stream",
          "name": "stdout",
          "text": [
            "[0.3]\n"
          ]
        }
      ]
    },
    {
      "cell_type": "code",
      "source": [
        "b = np.array([3 * 0.1])\n",
        "print(b)"
      ],
      "metadata": {
        "colab": {
          "base_uri": "https://localhost:8080/"
        },
        "id": "7DWigSuy1De6",
        "outputId": "431c09f9-76dd-4d6c-e619-1beace56f72d"
      },
      "execution_count": 50,
      "outputs": [
        {
          "output_type": "stream",
          "name": "stdout",
          "text": [
            "[0.3]\n"
          ]
        }
      ]
    },
    {
      "cell_type": "code",
      "source": [
        "print(a - b)"
      ],
      "metadata": {
        "id": "CSxdqQ_AeaaJ",
        "colab": {
          "base_uri": "https://localhost:8080/"
        },
        "outputId": "255f4b75-736b-4f98-cd04-f71e0958bdb3"
      },
      "execution_count": 51,
      "outputs": [
        {
          "output_type": "stream",
          "name": "stdout",
          "text": [
            "[-5.55111512e-17]\n"
          ]
        }
      ]
    },
    {
      "cell_type": "code",
      "source": [
        "b = np.array([2 * 0.15])\n",
        "print(a - b)"
      ],
      "metadata": {
        "id": "7Q9Zs8u4eb2Q"
      },
      "execution_count": null,
      "outputs": []
    }
  ]
}