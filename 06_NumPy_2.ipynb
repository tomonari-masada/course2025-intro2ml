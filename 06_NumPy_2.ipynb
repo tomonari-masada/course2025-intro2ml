{
  "nbformat": 4,
  "nbformat_minor": 0,
  "metadata": {
    "colab": {
      "provenance": [],
      "authorship_tag": "ABX9TyN9rdAv99gsZBZ8L9xwv2x+",
      "include_colab_link": true
    },
    "kernelspec": {
      "name": "python3",
      "display_name": "Python 3"
    },
    "language_info": {
      "name": "python"
    }
  },
  "cells": [
    {
      "cell_type": "markdown",
      "metadata": {
        "id": "view-in-github",
        "colab_type": "text"
      },
      "source": [
        "<a href=\"https://colab.research.google.com/github/tomonari-masada/course2025-intro2ml/blob/main/06_NumPy_2.ipynb\" target=\"_parent\"><img src=\"https://colab.research.google.com/assets/colab-badge.svg\" alt=\"Open In Colab\"/></a>"
      ]
    },
    {
      "cell_type": "markdown",
      "metadata": {
        "id": "-JELfuI1U6jb"
      },
      "source": [
        "# NumPy入門 (2)\n",
        "* ブロードキャスト\n",
        "* 数学的なデータ処理\n",
        "* 記述統計"
      ]
    },
    {
      "cell_type": "code",
      "metadata": {
        "id": "zDr4hOIxTQ5K"
      },
      "source": [
        "import numpy as np"
      ],
      "execution_count": null,
      "outputs": []
    },
    {
      "cell_type": "markdown",
      "metadata": {
        "id": "GvBF8AdGU-y0"
      },
      "source": [
        "## ブロードキャスト"
      ]
    },
    {
      "cell_type": "markdown",
      "source": [
        "* 例1"
      ],
      "metadata": {
        "id": "5uPeOoDs_313"
      }
    },
    {
      "cell_type": "code",
      "metadata": {
        "id": "H1A_8Z14Tm7T"
      },
      "source": [
        "a = np.array([[1, 2]])\n",
        "print(a)"
      ],
      "execution_count": null,
      "outputs": []
    },
    {
      "cell_type": "code",
      "source": [
        "print(a.shape)"
      ],
      "metadata": {
        "id": "2kXlnzMR_eja"
      },
      "execution_count": null,
      "outputs": []
    },
    {
      "cell_type": "code",
      "source": [
        "b = np.array([3, 4])\n",
        "print(b)"
      ],
      "metadata": {
        "id": "Z4nawBIr_bHA"
      },
      "execution_count": null,
      "outputs": []
    },
    {
      "cell_type": "code",
      "source": [
        "print(b.shape)"
      ],
      "metadata": {
        "id": "xp04nCsA_fr6"
      },
      "execution_count": null,
      "outputs": []
    },
    {
      "cell_type": "code",
      "source": [
        "c = a + b\n",
        "print(c)"
      ],
      "metadata": {
        "id": "809F2UQC_bgF"
      },
      "execution_count": null,
      "outputs": []
    },
    {
      "cell_type": "code",
      "source": [
        "print(c.shape)"
      ],
      "metadata": {
        "id": "J2PsLOIX_hTv"
      },
      "execution_count": null,
      "outputs": []
    },
    {
      "cell_type": "markdown",
      "source": [
        "* 例2"
      ],
      "metadata": {
        "id": "OsgzsJ7f_6Wd"
      }
    },
    {
      "cell_type": "code",
      "metadata": {
        "id": "0uN85mQ4TpDb"
      },
      "source": [
        "a = np.array([1,2])\n",
        "print(a)"
      ],
      "execution_count": null,
      "outputs": []
    },
    {
      "cell_type": "code",
      "source": [
        "print(a.shape)"
      ],
      "metadata": {
        "id": "TJORF6me_xHn"
      },
      "execution_count": null,
      "outputs": []
    },
    {
      "cell_type": "code",
      "source": [
        "b = np.array([[3,4],[2,3]])\n",
        "print(b)"
      ],
      "metadata": {
        "id": "Ka-b6-8D_vGr"
      },
      "execution_count": null,
      "outputs": []
    },
    {
      "cell_type": "code",
      "source": [
        "print(b.shape)"
      ],
      "metadata": {
        "id": "gNkkyS5i_zx-"
      },
      "execution_count": null,
      "outputs": []
    },
    {
      "cell_type": "code",
      "source": [
        "c = a + b\n",
        "print(c)"
      ],
      "metadata": {
        "id": "hSYTRL0G_wCQ"
      },
      "execution_count": null,
      "outputs": []
    },
    {
      "cell_type": "code",
      "source": [
        "print(c.shape)"
      ],
      "metadata": {
        "id": "JBAAlmP6_1qe"
      },
      "execution_count": null,
      "outputs": []
    },
    {
      "cell_type": "markdown",
      "source": [
        "* 例3"
      ],
      "metadata": {
        "id": "3xH0M2NP_8Hm"
      }
    },
    {
      "cell_type": "code",
      "metadata": {
        "id": "dswVrLNITrUa"
      },
      "source": [
        "a = np.array([[1],[2],[3]])\n",
        "print(a)"
      ],
      "execution_count": null,
      "outputs": []
    },
    {
      "cell_type": "code",
      "source": [
        "print(a.shape)"
      ],
      "metadata": {
        "id": "wNgs2nr0AFwy"
      },
      "execution_count": null,
      "outputs": []
    },
    {
      "cell_type": "code",
      "source": [
        "b = np.array([[4,8],[5,10],[6,12]])\n",
        "print(b)"
      ],
      "metadata": {
        "id": "ifBPSZ5zAA9e"
      },
      "execution_count": null,
      "outputs": []
    },
    {
      "cell_type": "code",
      "source": [
        "print(b.shape)"
      ],
      "metadata": {
        "id": "2GqzD9jAAG4W"
      },
      "execution_count": null,
      "outputs": []
    },
    {
      "cell_type": "code",
      "source": [
        "c = a + b\n",
        "print(c)"
      ],
      "metadata": {
        "id": "D6Kv8L21AA0W"
      },
      "execution_count": null,
      "outputs": []
    },
    {
      "cell_type": "markdown",
      "source": [
        "* 例4"
      ],
      "metadata": {
        "id": "Qskmh9UTAIpt"
      }
    },
    {
      "cell_type": "code",
      "metadata": {
        "id": "hgDxjE0zTtGy"
      },
      "source": [
        "a = np.array([1,2])\n",
        "print(a)"
      ],
      "execution_count": null,
      "outputs": []
    },
    {
      "cell_type": "code",
      "source": [
        "print(a.shape)"
      ],
      "metadata": {
        "id": "ZKDnFcvZALtO"
      },
      "execution_count": null,
      "outputs": []
    },
    {
      "cell_type": "code",
      "source": [
        "b = np.array([[3],[4]])\n",
        "print(b)"
      ],
      "metadata": {
        "id": "fVncthBqALnH"
      },
      "execution_count": null,
      "outputs": []
    },
    {
      "cell_type": "code",
      "source": [
        "print(b.shape)"
      ],
      "metadata": {
        "id": "US3SJdFgALfX"
      },
      "execution_count": null,
      "outputs": []
    },
    {
      "cell_type": "code",
      "source": [
        "c = a * b\n",
        "print(c) # 出力がなぜそうなるか説明してみよう"
      ],
      "metadata": {
        "id": "s940uCrdALX0"
      },
      "execution_count": null,
      "outputs": []
    },
    {
      "cell_type": "code",
      "source": [
        "print(c.shape)"
      ],
      "metadata": {
        "id": "F04ybrInAQ_t"
      },
      "execution_count": null,
      "outputs": []
    },
    {
      "cell_type": "markdown",
      "metadata": {
        "id": "ayhSwjLLVCdT"
      },
      "source": [
        "## 数学的なデータ処理"
      ]
    },
    {
      "cell_type": "markdown",
      "metadata": {
        "id": "Dcp_87QpUxhz"
      },
      "source": [
        "* 様々な関数"
      ]
    },
    {
      "cell_type": "code",
      "metadata": {
        "id": "UIMuD4F4TvUK"
      },
      "source": [
        "print(np.power(2, 3))\n",
        "print(np.power(2.1, 2.8))"
      ],
      "execution_count": null,
      "outputs": []
    },
    {
      "cell_type": "code",
      "metadata": {
        "id": "QGFt8miXTxTq"
      },
      "source": [
        "a = np.arange(1, 11)\n",
        "print(np.sqrt(a))\n",
        "print(np.arctan(a))"
      ],
      "execution_count": null,
      "outputs": []
    },
    {
      "cell_type": "code",
      "metadata": {
        "id": "TdsUiqKhTzz6"
      },
      "source": [
        "x = np.linspace(-1, 1, 11)\n",
        "print(np.exp(x))"
      ],
      "execution_count": null,
      "outputs": []
    },
    {
      "cell_type": "markdown",
      "metadata": {
        "id": "q1YDlhq5U0ni"
      },
      "source": [
        "## 記述統計\n",
        "* グラフの描き方は別のnotebookで。\n",
        "  * matplotlibという可視化ライブラリを使う。"
      ]
    },
    {
      "cell_type": "code",
      "metadata": {
        "id": "51XITKPPT1g6"
      },
      "source": [
        "x = np.random.randn(3, 10)\n",
        "print(x)\n",
        "x = x * 3 + 5\n",
        "print(np.mean(x))\n",
        "print(np.mean(x, axis=0))\n",
        "print(np.mean(x, axis=1))\n",
        "print(np.median(x), np.var(x), np.std(x))"
      ],
      "execution_count": null,
      "outputs": []
    },
    {
      "cell_type": "code",
      "metadata": {
        "id": "NdATV-KJT4pi"
      },
      "source": [
        "x = np.random.randn(2, 100)\n",
        "print(x)\n",
        "print(np.cov(x[0], x[1]))\n",
        "print(np.corrcoef(x[0], x[1]))"
      ],
      "execution_count": null,
      "outputs": []
    },
    {
      "cell_type": "markdown",
      "metadata": {
        "id": "gjcGEi33U3Sx"
      },
      "source": [
        "## 練習\n",
        "* 以下のセルを実行して、なぜ出力がそのようになるのか、説明してみよう。"
      ]
    },
    {
      "cell_type": "markdown",
      "metadata": {
        "id": "1x2hf975VVSO"
      },
      "source": [
        "### 行列やベクトルの様々な作り方"
      ]
    },
    {
      "cell_type": "code",
      "metadata": {
        "id": "6h8n7denT60B"
      },
      "source": [
        "x = np.zeros(10)\n",
        "print(x)"
      ],
      "execution_count": null,
      "outputs": []
    },
    {
      "cell_type": "code",
      "metadata": {
        "id": "JP7KvfXgT805"
      },
      "source": [
        "x = np.arange(10,50)\n",
        "print(x)"
      ],
      "execution_count": null,
      "outputs": []
    },
    {
      "cell_type": "code",
      "metadata": {
        "id": "CWkOpJN3T-oh"
      },
      "source": [
        "x = np.arange(50)\n",
        "x = x[::-1]\n",
        "print(x)"
      ],
      "execution_count": null,
      "outputs": []
    },
    {
      "cell_type": "code",
      "metadata": {
        "id": "XW_itKDoUAaR"
      },
      "source": [
        "Z = np.arange(9).reshape(3,3)\n",
        "print(Z)"
      ],
      "execution_count": null,
      "outputs": []
    },
    {
      "cell_type": "code",
      "metadata": {
        "id": "gz_x2lhMUCXR"
      },
      "source": [
        "x = np.array([1,2,0,0,4,0])\n",
        "nz = np.nonzero(x)\n",
        "print(nz)\n",
        "print(x[nz])"
      ],
      "execution_count": null,
      "outputs": []
    },
    {
      "cell_type": "code",
      "metadata": {
        "id": "9QjHhH6CUEcB"
      },
      "source": [
        "Z = np.eye(3)\n",
        "print(Z)"
      ],
      "execution_count": null,
      "outputs": []
    },
    {
      "cell_type": "code",
      "metadata": {
        "id": "WaNajFLrUJ-4"
      },
      "source": [
        "Z = np.eye(3)\n",
        "nz = np.nonzero(Z)\n",
        "print(nz)\n",
        "print(Z[nz])"
      ],
      "execution_count": null,
      "outputs": []
    },
    {
      "cell_type": "code",
      "metadata": {
        "id": "u5aXS9dqUL2w"
      },
      "source": [
        "Z = np.random.random((10,10))\n",
        "Zmin, Zmax = Z.min(), Z.max()\n",
        "print(Zmin, Zmax)"
      ],
      "execution_count": null,
      "outputs": []
    },
    {
      "cell_type": "code",
      "metadata": {
        "id": "yZQ6HZN2UOAI"
      },
      "source": [
        "x = np.random.random(30)\n",
        "m = x.mean()\n",
        "print(m)"
      ],
      "execution_count": null,
      "outputs": []
    },
    {
      "cell_type": "markdown",
      "metadata": {
        "id": "crBrbUxkWXaY"
      },
      "source": [
        "### 総和"
      ]
    },
    {
      "cell_type": "code",
      "metadata": {
        "id": "c-RTOPJVWTGT"
      },
      "source": [
        "Z = np.arange(10)\n",
        "np.sum(Z)"
      ],
      "execution_count": null,
      "outputs": []
    },
    {
      "cell_type": "markdown",
      "metadata": {
        "id": "xSwg800XVdFn"
      },
      "source": [
        "## NaN\n",
        "* NaNとはnot a numberで、非数のこと。"
      ]
    },
    {
      "cell_type": "code",
      "metadata": {
        "id": "zWajtWIbWInq"
      },
      "source": [
        "print(0.0 / np.ones(5))"
      ],
      "execution_count": null,
      "outputs": []
    },
    {
      "cell_type": "code",
      "metadata": {
        "id": "Guzy2lDWWD8p"
      },
      "source": [
        "print(0.0 / np.zeros(5))"
      ],
      "execution_count": null,
      "outputs": []
    },
    {
      "cell_type": "code",
      "metadata": {
        "id": "QYSZ4b9gUPhI"
      },
      "source": [
        "print(0 * np.nan)"
      ],
      "execution_count": null,
      "outputs": []
    },
    {
      "cell_type": "code",
      "source": [
        "print(np.nan - np.nan)"
      ],
      "metadata": {
        "id": "v_zBylBafIkL"
      },
      "execution_count": null,
      "outputs": []
    },
    {
      "cell_type": "markdown",
      "source": [
        "* nanと比較する場合、相手がどんな値でも\n",
        "  * <, >, ==, <=, >=は常にFalse\n",
        "  * !=は常にTrue"
      ],
      "metadata": {
        "id": "e5flDi2Jfd1e"
      }
    },
    {
      "cell_type": "code",
      "source": [
        "print(np.nan == np.nan)"
      ],
      "metadata": {
        "id": "meVxNDnqfHHv"
      },
      "execution_count": null,
      "outputs": []
    },
    {
      "cell_type": "code",
      "source": [
        "print(np.nan != np.nan)"
      ],
      "metadata": {
        "id": "ntOyxJutf2zV"
      },
      "execution_count": null,
      "outputs": []
    },
    {
      "cell_type": "markdown",
      "source": [
        "## inf\n",
        "* 無限大のこと。"
      ],
      "metadata": {
        "id": "K1f_9eRpfXXF"
      }
    },
    {
      "cell_type": "code",
      "source": [
        "print(np.inf)"
      ],
      "metadata": {
        "id": "-YRBFrFxfOeB"
      },
      "execution_count": null,
      "outputs": []
    },
    {
      "cell_type": "code",
      "source": [
        "print(1e15)"
      ],
      "metadata": {
        "id": "V2hNyQO3fU1W"
      },
      "execution_count": null,
      "outputs": []
    },
    {
      "cell_type": "code",
      "source": [
        "print(np.inf > 1e15)"
      ],
      "metadata": {
        "id": "qzvFLvCGfQw5"
      },
      "execution_count": null,
      "outputs": []
    },
    {
      "cell_type": "code",
      "source": [
        "print(np.inf > np.nan)"
      ],
      "metadata": {
        "id": "F5QAKlTSfJVo"
      },
      "execution_count": null,
      "outputs": []
    },
    {
      "cell_type": "markdown",
      "source": [
        "* NumPyを使ったコードを動かしていて、途中の計算結果がNaNやinfになったら、何か変なことが起きている、ということ。"
      ],
      "metadata": {
        "id": "YGKWWtTFgA_2"
      }
    },
    {
      "cell_type": "markdown",
      "metadata": {
        "id": "Aj2qI38BUZbM"
      },
      "source": [
        "## 注意: 浮動小数点数の特徴\n",
        "* これはPython全体での話です。\n",
        "  * NumPyに限った話ではありません。\n",
        "  * Pythonで数値計算をする場合の一般的な注意事項です。\n",
        "* 一言で言えば、計算機は実数を完全に厳密には表現できないです。"
      ]
    },
    {
      "cell_type": "code",
      "metadata": {
        "id": "1N382EPlURSI"
      },
      "source": [
        "print(0.3 == 3 * 0.1)\n",
        "print(0.3 == 2 * 0.15)"
      ],
      "execution_count": null,
      "outputs": []
    },
    {
      "cell_type": "code",
      "metadata": {
        "id": "hLyr3sDnUTBg"
      },
      "source": [
        "import numpy as np\n",
        "a = np.array([0.3])"
      ],
      "execution_count": null,
      "outputs": []
    },
    {
      "cell_type": "code",
      "source": [
        "b = np.array([3 * 0.1])\n",
        "print(a - b)"
      ],
      "metadata": {
        "id": "CSxdqQ_AeaaJ"
      },
      "execution_count": null,
      "outputs": []
    },
    {
      "cell_type": "code",
      "source": [
        "b = np.array([2 * 0.15])\n",
        "print(a - b)"
      ],
      "metadata": {
        "id": "7Q9Zs8u4eb2Q"
      },
      "execution_count": null,
      "outputs": []
    }
  ]
}