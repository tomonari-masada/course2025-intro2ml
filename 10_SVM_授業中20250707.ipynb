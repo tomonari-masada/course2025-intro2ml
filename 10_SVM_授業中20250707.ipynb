{
  "nbformat": 4,
  "nbformat_minor": 0,
  "metadata": {
    "colab": {
      "provenance": [],
      "authorship_tag": "ABX9TyMLMTFpUGe7As/gq8CFjj6B",
      "include_colab_link": true
    },
    "kernelspec": {
      "name": "python3",
      "display_name": "Python 3"
    },
    "language_info": {
      "name": "python"
    }
  },
  "cells": [
    {
      "cell_type": "markdown",
      "metadata": {
        "id": "view-in-github",
        "colab_type": "text"
      },
      "source": [
        "<a href=\"https://colab.research.google.com/github/tomonari-masada/course2025-intro2ml/blob/main/10_SVM_%E6%8E%88%E6%A5%AD%E4%B8%AD20250707.ipynb\" target=\"_parent\"><img src=\"https://colab.research.google.com/assets/colab-badge.svg\" alt=\"Open In Colab\"/></a>"
      ]
    },
    {
      "cell_type": "markdown",
      "metadata": {
        "id": "Gan0WLEv-ZGC"
      },
      "source": [
        "# パーセプトロンとSVM"
      ]
    },
    {
      "cell_type": "code",
      "metadata": {
        "id": "JIcOWnYu-YMX"
      },
      "source": [
        "import numpy as np\n",
        "import matplotlib.pyplot as plt\n",
        "from sklearn.model_selection import train_test_split\n",
        "from sklearn.datasets import fetch_openml\n",
        "from sklearn.linear_model import Perceptron\n",
        "from sklearn.svm import LinearSVC\n",
        "from sklearn.linear_model import SGDClassifier\n",
        "\n",
        "%config InlineBackend.figure_format = 'retina'"
      ],
      "execution_count": 1,
      "outputs": []
    },
    {
      "cell_type": "markdown",
      "metadata": {
        "id": "jW09_g8mBZAc"
      },
      "source": [
        "## MNISTデータを使う"
      ]
    },
    {
      "cell_type": "markdown",
      "metadata": {
        "id": "qalamp07dMpR"
      },
      "source": [
        "* 関数`sklearn.datasets.fetch_openml`を利用してMNISTデータをダウンロードする。"
      ]
    },
    {
      "cell_type": "code",
      "metadata": {
        "id": "k5T4xL1tBWoV"
      },
      "source": [
        "mnist = fetch_openml('mnist_784')"
      ],
      "execution_count": 2,
      "outputs": []
    },
    {
      "cell_type": "code",
      "source": [
        "X, y = mnist.data, mnist.target"
      ],
      "metadata": {
        "id": "wmEzfk5GPbvB"
      },
      "execution_count": 3,
      "outputs": []
    },
    {
      "cell_type": "code",
      "source": [
        "print(X.shape, y.shape)"
      ],
      "metadata": {
        "id": "vvtYvJR6Pck5",
        "colab": {
          "base_uri": "https://localhost:8080/"
        },
        "outputId": "3e4fe21a-ad9f-45b3-8c77-7c312944e9fc"
      },
      "execution_count": 4,
      "outputs": [
        {
          "output_type": "stream",
          "name": "stdout",
          "text": [
            "(70000, 784) (70000,)\n"
          ]
        }
      ]
    },
    {
      "cell_type": "markdown",
      "metadata": {
        "id": "7ActyQkLdS4d"
      },
      "source": [
        "* 通常、MNISTデータは最後の10000件をテストデータとして使う。"
      ]
    },
    {
      "cell_type": "code",
      "metadata": {
        "id": "xAcCKb0_Bgud"
      },
      "source": [
        "X_train, X_test = X[:60000], X[60000:]\n",
        "y_train, y_test = y[:60000], y[60000:]"
      ],
      "execution_count": 5,
      "outputs": []
    },
    {
      "cell_type": "markdown",
      "source": [
        "* テストデータ以外の60000件を、訓練データ50000件と検証データ10000件へ分割しておく。"
      ],
      "metadata": {
        "id": "8Hr6JrAI1Tf2"
      }
    },
    {
      "cell_type": "code",
      "source": [
        "X_train, X_val, y_train, y_val = train_test_split(\n",
        "    X_train, y_train,\n",
        "    test_size=10000,\n",
        "    random_state=42,\n",
        ")"
      ],
      "metadata": {
        "id": "_47X4gyI1SgT"
      },
      "execution_count": 6,
      "outputs": []
    },
    {
      "cell_type": "code",
      "source": [
        "print(X_train.shape, X_val.shape, X_test.shape)"
      ],
      "metadata": {
        "id": "zGtWqqtT1Yyf",
        "colab": {
          "base_uri": "https://localhost:8080/"
        },
        "outputId": "7303daa8-3341-4882-892f-d4c4d8fee43a"
      },
      "execution_count": 7,
      "outputs": [
        {
          "output_type": "stream",
          "name": "stdout",
          "text": [
            "(50000, 784) (10000, 784) (10000, 784)\n"
          ]
        }
      ]
    },
    {
      "cell_type": "markdown",
      "metadata": {
        "id": "QecEjxyMdXQe"
      },
      "source": [
        "* 訓練データの最初の100個を可視化してみる。"
      ]
    },
    {
      "cell_type": "code",
      "metadata": {
        "id": "zacmZ9O3BjVW",
        "colab": {
          "base_uri": "https://localhost:8080/",
          "height": 406
        },
        "outputId": "a0e3ae0f-c059-47b8-db21-e1a8344bbe1c"
      },
      "source": [
        "fig, axes = plt.subplots(10, 10)\n",
        "for x, ax in zip(X_train.values, axes.ravel()):\n",
        "  ax.axis('off') # 軸を消す\n",
        "  ax.matshow(x.reshape(28, 28), cmap=plt.cm.gray)\n",
        "plt.show()"
      ],
      "execution_count": 8,
      "outputs": [
        {
          "output_type": "display_data",
          "data": {
            "text/plain": [
              "<Figure size 640x480 with 100 Axes>"
            ],
            "image/png": "[encoded data removed]"
          },
          "metadata": {
            "image/png": {
              "width": 505,
              "height": 389
            }
          }
        }
      ]
    },
    {
      "cell_type": "markdown",
      "metadata": {
        "id": "F3sU13WRB6F3"
      },
      "source": [
        "* 問題を2値分類問題に変える。\n",
        "  * 0とそれ以外の2値分類問題にしてしまう。"
      ]
    },
    {
      "cell_type": "markdown",
      "source": [
        "* その前に、元の正解ラベルをコピーしておく。"
      ],
      "metadata": {
        "id": "dWh3LoPqnHHt"
      }
    },
    {
      "cell_type": "code",
      "source": [
        "y_train_original = y_train.copy()\n",
        "y_val_original = y_val.copy()\n",
        "y_test_original = y_test.copy()"
      ],
      "metadata": {
        "id": "Ji4dr2jenDsI"
      },
      "execution_count": 9,
      "outputs": []
    },
    {
      "cell_type": "code",
      "metadata": {
        "id": "Znn2YGyvBw4W"
      },
      "source": [
        "y_train = (y_train != '0') * 1\n",
        "y_val = (y_val != '0') * 1\n",
        "y_test = (y_test != '0') * 1"
      ],
      "execution_count": 10,
      "outputs": []
    },
    {
      "cell_type": "code",
      "metadata": {
        "id": "onJS3wEufkyr",
        "colab": {
          "base_uri": "https://localhost:8080/"
        },
        "outputId": "4e2ae1d2-ec03-47fc-cba3-f8655979dce6"
      },
      "source": [
        "print(f'{(y_train == 0).sum()} zero digits and {(y_train == 1).sum()} non-zero digits in training set')"
      ],
      "execution_count": 11,
      "outputs": [
        {
          "output_type": "stream",
          "name": "stdout",
          "text": [
            "4939 zero digits and 45061 non-zero digits in training set\n"
          ]
        }
      ]
    },
    {
      "cell_type": "markdown",
      "metadata": {
        "id": "XOQeYKAdn85i"
      },
      "source": [
        "## パーセプトロンによる分類の実行\n",
        "* `sklearn.linear_model.Perceptron`クラスを使う。"
      ]
    },
    {
      "cell_type": "markdown",
      "metadata": {
        "id": "v5xixjXvoMdK"
      },
      "source": [
        "## パーセプトロンでの正則化\n",
        "* scikit-learnのパーセプトロンでは、`alpha`というパラメータを調整する。\n",
        "  * リッジ回帰やLassoの`alpha`と同じ。大きいほど正則化が強く効く。\n",
        "* 正則化の種類は`penalty`を`'l2'`か`'l1'`に設定することでおこなう。\n",
        "  * `l2`だと、係数の二乗の和を最小化する。\n",
        "  * `l1`だと、係数の絶対値の和を最小化する。"
      ]
    },
    {
      "cell_type": "code",
      "metadata": {
        "id": "Zk_p8Cp-oDzA",
        "colab": {
          "base_uri": "https://localhost:8080/",
          "height": 80
        },
        "outputId": "caefa83d-33d5-48bf-e2e3-a9a1a01c88cc"
      },
      "source": [
        "clf = Perceptron()\n",
        "clf.fit(X_train, y_train)"
      ],
      "execution_count": 12,
      "outputs": [
        {
          "output_type": "execute_result",
          "data": {
            "text/plain": [
              "Perceptron()"
            ],
            "text/html": [
              "<style>#sk-container-id-1 {\n",
              "  /* Definition of color scheme common for light and dark mode */\n",
              "  --sklearn-color-text: #000;\n",
              "  --sklearn-color-text-muted: #666;\n",
              "  --sklearn-color-line: gray;\n",
              "  /* Definition of color scheme for unfitted estimators */\n",
              "  --sklearn-color-unfitted-level-0: #fff5e6;\n",
              "  --sklearn-color-unfitted-level-1: #f6e4d2;\n",
              "  --sklearn-color-unfitted-level-2: #ffe0b3;\n",
              "  --sklearn-color-unfitted-level-3: chocolate;\n",
              "  /* Definition of color scheme for fitted estimators */\n",
              "  --sklearn-color-fitted-level-0: #f0f8ff;\n",
              "  --sklearn-color-fitted-level-1: #d4ebff;\n",
              "  --sklearn-color-fitted-level-2: #b3dbfd;\n",
              "  --sklearn-color-fitted-level-3: cornflowerblue;\n",
              "\n",
              "  /* Specific color for light theme */\n",
              "  --sklearn-color-text-on-default-background: var(--sg-text-color, var(--theme-code-foreground, var(--jp-content-font-color1, black)));\n",
              "  --sklearn-color-background: var(--sg-background-color, var(--theme-background, var(--jp-layout-color0, white)));\n",
              "  --sklearn-color-border-box: var(--sg-text-color, var(--theme-code-foreground, var(--jp-content-font-color1, black)));\n",
              "  --sklearn-color-icon: #696969;\n",
              "\n",
              "  @media (prefers-color-scheme: dark) {\n",
              "    /* Redefinition of color scheme for dark theme */\n",
              "    --sklearn-color-text-on-default-background: var(--sg-text-color, var(--theme-code-foreground, var(--jp-content-font-color1, white)));\n",
              "    --sklearn-color-background: var(--sg-background-color, var(--theme-background, var(--jp-layout-color0, #111)));\n",
              "    --sklearn-color-border-box: var(--sg-text-color, var(--theme-code-foreground, var(--jp-content-font-color1, white)));\n",
              "    --sklearn-color-icon: #878787;\n",
              "  }\n",
              "}\n",
              "\n",
              "#sk-container-id-1 {\n",
              "  color: var(--sklearn-color-text);\n",
              "}\n",
              "\n",
              "#sk-container-id-1 pre {\n",
              "  padding: 0;\n",
              "}\n",
              "\n",
              "#sk-container-id-1 input.sk-hidden--visually {\n",
              "  border: 0;\n",
              "  clip: rect(1px 1px 1px 1px);\n",
              "  clip: rect(1px, 1px, 1px, 1px);\n",
              "  height: 1px;\n",
              "  margin: -1px;\n",
              "  overflow: hidden;\n",
              "  padding: 0;\n",
              "  position: absolute;\n",
              "  width: 1px;\n",
              "}\n",
              "\n",
              "#sk-container-id-1 div.sk-dashed-wrapped {\n",
              "  border: 1px dashed var(--sklearn-color-line);\n",
              "  margin: 0 0.4em 0.5em 0.4em;\n",
              "  box-sizing: border-box;\n",
              "  padding-bottom: 0.4em;\n",
              "  background-color: var(--sklearn-color-background);\n",
              "}\n",
              "\n",
              "#sk-container-id-1 div.sk-container {\n",
              "  /* jupyter's `normalize.less` sets `[hidden] { display: none; }`\n",
              "     but bootstrap.min.css set `[hidden] { display: none !important; }`\n",
              "     so we also need the `!important` here to be able to override the\n",
              "     default hidden behavior on the sphinx rendered scikit-learn.org.\n",
              "     See: https://github.com/scikit-learn/scikit-learn/issues/21755 */\n",
              "  display: inline-block !important;\n",
              "  position: relative;\n",
              "}\n",
              "\n",
              "#sk-container-id-1 div.sk-text-repr-fallback {\n",
              "  display: none;\n",
              "}\n",
              "\n",
              "div.sk-parallel-item,\n",
              "div.sk-serial,\n",
              "div.sk-item {\n",
              "  /* draw centered vertical line to link estimators */\n",
              "  background-image: linear-gradient(var(--sklearn-color-text-on-default-background), var(--sklearn-color-text-on-default-background));\n",
              "  background-size: 2px 100%;\n",
              "  background-repeat: no-repeat;\n",
              "  background-position: center center;\n",
              "}\n",
              "\n",
              "/* Parallel-specific style estimator block */\n",
              "\n",
              "#sk-container-id-1 div.sk-parallel-item::after {\n",
              "  content: \"\";\n",
              "  width: 100%;\n",
              "  border-bottom: 2px solid var(--sklearn-color-text-on-default-background);\n",
              "  flex-grow: 1;\n",
              "}\n",
              "\n",
              "#sk-container-id-1 div.sk-parallel {\n",
              "  display: flex;\n",
              "  align-items: stretch;\n",
              "  justify-content: center;\n",
              "  background-color: var(--sklearn-color-background);\n",
              "  position: relative;\n",
              "}\n",
              "\n",
              "#sk-container-id-1 div.sk-parallel-item {\n",
              "  display: flex;\n",
              "  flex-direction: column;\n",
              "}\n",
              "\n",
              "#sk-container-id-1 div.sk-parallel-item:first-child::after {\n",
              "  align-self: flex-end;\n",
              "  width: 50%;\n",
              "}\n",
              "\n",
              "#sk-container-id-1 div.sk-parallel-item:last-child::after {\n",
              "  align-self: flex-start;\n",
              "  width: 50%;\n",
              "}\n",
              "\n",
              "#sk-container-id-1 div.sk-parallel-item:only-child::after {\n",
              "  width: 0;\n",
              "}\n",
              "\n",
              "/* Serial-specific style estimator block */\n",
              "\n",
              "#sk-container-id-1 div.sk-serial {\n",
              "  display: flex;\n",
              "  flex-direction: column;\n",
              "  align-items: center;\n",
              "  background-color: var(--sklearn-color-background);\n",
              "  padding-right: 1em;\n",
              "  padding-left: 1em;\n",
              "}\n",
              "\n",
              "\n",
              "/* Toggleable style: style used for estimator/Pipeline/ColumnTransformer box that is\n",
              "clickable and can be expanded/collapsed.\n",
              "- Pipeline and ColumnTransformer use this feature and define the default style\n",
              "- Estimators will overwrite some part of the style using the `sk-estimator` class\n",
              "*/\n",
              "\n",
              "/* Pipeline and ColumnTransformer style (default) */\n",
              "\n",
              "#sk-container-id-1 div.sk-toggleable {\n",
              "  /* Default theme specific background. It is overwritten whether we have a\n",
              "  specific estimator or a Pipeline/ColumnTransformer */\n",
              "  background-color: var(--sklearn-color-background);\n",
              "}\n",
              "\n",
              "/* Toggleable label */\n",
              "#sk-container-id-1 label.sk-toggleable__label {\n",
              "  cursor: pointer;\n",
              "  display: flex;\n",
              "  width: 100%;\n",
              "  margin-bottom: 0;\n",
              "  padding: 0.5em;\n",
              "  box-sizing: border-box;\n",
              "  text-align: center;\n",
              "  align-items: start;\n",
              "  justify-content: space-between;\n",
              "  gap: 0.5em;\n",
              "}\n",
              "\n",
              "#sk-container-id-1 label.sk-toggleable__label .caption {\n",
              "  font-size: 0.6rem;\n",
              "  font-weight: lighter;\n",
              "  color: var(--sklearn-color-text-muted);\n",
              "}\n",
              "\n",
              "#sk-container-id-1 label.sk-toggleable__label-arrow:before {\n",
              "  /* Arrow on the left of the label */\n",
              "  content: \"▸\";\n",
              "  float: left;\n",
              "  margin-right: 0.25em;\n",
              "  color: var(--sklearn-color-icon);\n",
              "}\n",
              "\n",
              "#sk-container-id-1 label.sk-toggleable__label-arrow:hover:before {\n",
              "  color: var(--sklearn-color-text);\n",
              "}\n",
              "\n",
              "/* Toggleable content - dropdown */\n",
              "\n",
              "#sk-container-id-1 div.sk-toggleable__content {\n",
              "  max-height: 0;\n",
              "  max-width: 0;\n",
              "  overflow: hidden;\n",
              "  text-align: left;\n",
              "  /* unfitted */\n",
              "  background-color: var(--sklearn-color-unfitted-level-0);\n",
              "}\n",
              "\n",
              "#sk-container-id-1 div.sk-toggleable__content.fitted {\n",
              "  /* fitted */\n",
              "  background-color: var(--sklearn-color-fitted-level-0);\n",
              "}\n",
              "\n",
              "#sk-container-id-1 div.sk-toggleable__content pre {\n",
              "  margin: 0.2em;\n",
              "  border-radius: 0.25em;\n",
              "  color: var(--sklearn-color-text);\n",
              "  /* unfitted */\n",
              "  background-color: var(--sklearn-color-unfitted-level-0);\n",
              "}\n",
              "\n",
              "#sk-container-id-1 div.sk-toggleable__content.fitted pre {\n",
              "  /* unfitted */\n",
              "  background-color: var(--sklearn-color-fitted-level-0);\n",
              "}\n",
              "\n",
              "#sk-container-id-1 input.sk-toggleable__control:checked~div.sk-toggleable__content {\n",
              "  /* Expand drop-down */\n",
              "  max-height: 200px;\n",
              "  max-width: 100%;\n",
              "  overflow: auto;\n",
              "}\n",
              "\n",
              "#sk-container-id-1 input.sk-toggleable__control:checked~label.sk-toggleable__label-arrow:before {\n",
              "  content: \"▾\";\n",
              "}\n",
              "\n",
              "/* Pipeline/ColumnTransformer-specific style */\n",
              "\n",
              "#sk-container-id-1 div.sk-label input.sk-toggleable__control:checked~label.sk-toggleable__label {\n",
              "  color: var(--sklearn-color-text);\n",
              "  background-color: var(--sklearn-color-unfitted-level-2);\n",
              "}\n",
              "\n",
              "#sk-container-id-1 div.sk-label.fitted input.sk-toggleable__control:checked~label.sk-toggleable__label {\n",
              "  background-color: var(--sklearn-color-fitted-level-2);\n",
              "}\n",
              "\n",
              "/* Estimator-specific style */\n",
              "\n",
              "/* Colorize estimator box */\n",
              "#sk-container-id-1 div.sk-estimator input.sk-toggleable__control:checked~label.sk-toggleable__label {\n",
              "  /* unfitted */\n",
              "  background-color: var(--sklearn-color-unfitted-level-2);\n",
              "}\n",
              "\n",
              "#sk-container-id-1 div.sk-estimator.fitted input.sk-toggleable__control:checked~label.sk-toggleable__label {\n",
              "  /* fitted */\n",
              "  background-color: var(--sklearn-color-fitted-level-2);\n",
              "}\n",
              "\n",
              "#sk-container-id-1 div.sk-label label.sk-toggleable__label,\n",
              "#sk-container-id-1 div.sk-label label {\n",
              "  /* The background is the default theme color */\n",
              "  color: var(--sklearn-color-text-on-default-background);\n",
              "}\n",
              "\n",
              "/* On hover, darken the color of the background */\n",
              "#sk-container-id-1 div.sk-label:hover label.sk-toggleable__label {\n",
              "  color: var(--sklearn-color-text);\n",
              "  background-color: var(--sklearn-color-unfitted-level-2);\n",
              "}\n",
              "\n",
              "/* Label box, darken color on hover, fitted */\n",
              "#sk-container-id-1 div.sk-label.fitted:hover label.sk-toggleable__label.fitted {\n",
              "  color: var(--sklearn-color-text);\n",
              "  background-color: var(--sklearn-color-fitted-level-2);\n",
              "}\n",
              "\n",
              "/* Estimator label */\n",
              "\n",
              "#sk-container-id-1 div.sk-label label {\n",
              "  font-family: monospace;\n",
              "  font-weight: bold;\n",
              "  display: inline-block;\n",
              "  line-height: 1.2em;\n",
              "}\n",
              "\n",
              "#sk-container-id-1 div.sk-label-container {\n",
              "  text-align: center;\n",
              "}\n",
              "\n",
              "/* Estimator-specific */\n",
              "#sk-container-id-1 div.sk-estimator {\n",
              "  font-family: monospace;\n",
              "  border: 1px dotted var(--sklearn-color-border-box);\n",
              "  border-radius: 0.25em;\n",
              "  box-sizing: border-box;\n",
              "  margin-bottom: 0.5em;\n",
              "  /* unfitted */\n",
              "  background-color: var(--sklearn-color-unfitted-level-0);\n",
              "}\n",
              "\n",
              "#sk-container-id-1 div.sk-estimator.fitted {\n",
              "  /* fitted */\n",
              "  background-color: var(--sklearn-color-fitted-level-0);\n",
              "}\n",
              "\n",
              "/* on hover */\n",
              "#sk-container-id-1 div.sk-estimator:hover {\n",
              "  /* unfitted */\n",
              "  background-color: var(--sklearn-color-unfitted-level-2);\n",
              "}\n",
              "\n",
              "#sk-container-id-1 div.sk-estimator.fitted:hover {\n",
              "  /* fitted */\n",
              "  background-color: var(--sklearn-color-fitted-level-2);\n",
              "}\n",
              "\n",
              "/* Specification for estimator info (e.g. \"i\" and \"?\") */\n",
              "\n",
              "/* Common style for \"i\" and \"?\" */\n",
              "\n",
              ".sk-estimator-doc-link,\n",
              "a:link.sk-estimator-doc-link,\n",
              "a:visited.sk-estimator-doc-link {\n",
              "  float: right;\n",
              "  font-size: smaller;\n",
              "  line-height: 1em;\n",
              "  font-family: monospace;\n",
              "  background-color: var(--sklearn-color-background);\n",
              "  border-radius: 1em;\n",
              "  height: 1em;\n",
              "  width: 1em;\n",
              "  text-decoration: none !important;\n",
              "  margin-left: 0.5em;\n",
              "  text-align: center;\n",
              "  /* unfitted */\n",
              "  border: var(--sklearn-color-unfitted-level-1) 1pt solid;\n",
              "  color: var(--sklearn-color-unfitted-level-1);\n",
              "}\n",
              "\n",
              ".sk-estimator-doc-link.fitted,\n",
              "a:link.sk-estimator-doc-link.fitted,\n",
              "a:visited.sk-estimator-doc-link.fitted {\n",
              "  /* fitted */\n",
              "  border: var(--sklearn-color-fitted-level-1) 1pt solid;\n",
              "  color: var(--sklearn-color-fitted-level-1);\n",
              "}\n",
              "\n",
              "/* On hover */\n",
              "div.sk-estimator:hover .sk-estimator-doc-link:hover,\n",
              ".sk-estimator-doc-link:hover,\n",
              "div.sk-label-container:hover .sk-estimator-doc-link:hover,\n",
              ".sk-estimator-doc-link:hover {\n",
              "  /* unfitted */\n",
              "  background-color: var(--sklearn-color-unfitted-level-3);\n",
              "  color: var(--sklearn-color-background);\n",
              "  text-decoration: none;\n",
              "}\n",
              "\n",
              "div.sk-estimator.fitted:hover .sk-estimator-doc-link.fitted:hover,\n",
              ".sk-estimator-doc-link.fitted:hover,\n",
              "div.sk-label-container:hover .sk-estimator-doc-link.fitted:hover,\n",
              ".sk-estimator-doc-link.fitted:hover {\n",
              "  /* fitted */\n",
              "  background-color: var(--sklearn-color-fitted-level-3);\n",
              "  color: var(--sklearn-color-background);\n",
              "  text-decoration: none;\n",
              "}\n",
              "\n",
              "/* Span, style for the box shown on hovering the info icon */\n",
              ".sk-estimator-doc-link span {\n",
              "  display: none;\n",
              "  z-index: 9999;\n",
              "  position: relative;\n",
              "  font-weight: normal;\n",
              "  right: .2ex;\n",
              "  padding: .5ex;\n",
              "  margin: .5ex;\n",
              "  width: min-content;\n",
              "  min-width: 20ex;\n",
              "  max-width: 50ex;\n",
              "  color: var(--sklearn-color-text);\n",
              "  box-shadow: 2pt 2pt 4pt #999;\n",
              "  /* unfitted */\n",
              "  background: var(--sklearn-color-unfitted-level-0);\n",
              "  border: .5pt solid var(--sklearn-color-unfitted-level-3);\n",
              "}\n",
              "\n",
              ".sk-estimator-doc-link.fitted span {\n",
              "  /* fitted */\n",
              "  background: var(--sklearn-color-fitted-level-0);\n",
              "  border: var(--sklearn-color-fitted-level-3);\n",
              "}\n",
              "\n",
              ".sk-estimator-doc-link:hover span {\n",
              "  display: block;\n",
              "}\n",
              "\n",
              "/* \"?\"-specific style due to the `<a>` HTML tag */\n",
              "\n",
              "#sk-container-id-1 a.estimator_doc_link {\n",
              "  float: right;\n",
              "  font-size: 1rem;\n",
              "  line-height: 1em;\n",
              "  font-family: monospace;\n",
              "  background-color: var(--sklearn-color-background);\n",
              "  border-radius: 1rem;\n",
              "  height: 1rem;\n",
              "  width: 1rem;\n",
              "  text-decoration: none;\n",
              "  /* unfitted */\n",
              "  color: var(--sklearn-color-unfitted-level-1);\n",
              "  border: var(--sklearn-color-unfitted-level-1) 1pt solid;\n",
              "}\n",
              "\n",
              "#sk-container-id-1 a.estimator_doc_link.fitted {\n",
              "  /* fitted */\n",
              "  border: var(--sklearn-color-fitted-level-1) 1pt solid;\n",
              "  color: var(--sklearn-color-fitted-level-1);\n",
              "}\n",
              "\n",
              "/* On hover */\n",
              "#sk-container-id-1 a.estimator_doc_link:hover {\n",
              "  /* unfitted */\n",
              "  background-color: var(--sklearn-color-unfitted-level-3);\n",
              "  color: var(--sklearn-color-background);\n",
              "  text-decoration: none;\n",
              "}\n",
              "\n",
              "#sk-container-id-1 a.estimator_doc_link.fitted:hover {\n",
              "  /* fitted */\n",
              "  background-color: var(--sklearn-color-fitted-level-3);\n",
              "}\n",
              "</style><div id=\"sk-container-id-1\" class=\"sk-top-container\"><div class=\"sk-text-repr-fallback\"><pre>Perceptron()</pre><b>In a Jupyter environment, please rerun this cell to show the HTML representation or trust the notebook. <br />On GitHub, the HTML representation is unable to render, please try loading this page with nbviewer.org.</b></div><div class=\"sk-container\" hidden><div class=\"sk-item\"><div class=\"sk-estimator fitted sk-toggleable\"><input class=\"sk-toggleable__control sk-hidden--visually\" id=\"sk-estimator-id-1\" type=\"checkbox\" checked><label for=\"sk-estimator-id-1\" class=\"sk-toggleable__label fitted sk-toggleable__label-arrow\"><div><div>Perceptron</div></div><div><a class=\"sk-estimator-doc-link fitted\" rel=\"noreferrer\" target=\"_blank\" href=\"https://scikit-learn.org/1.6/modules/generated/sklearn.linear_model.Perceptron.html\">?<span>Documentation for Perceptron</span></a><span class=\"sk-estimator-doc-link fitted\">i<span>Fitted</span></span></div></label><div class=\"sk-toggleable__content fitted\"><pre>Perceptron()</pre></div> </div></div></div></div>"
            ]
          },
          "metadata": {},
          "execution_count": 12
        }
      ]
    },
    {
      "cell_type": "code",
      "source": [
        "clf.coef_"
      ],
      "metadata": {
        "colab": {
          "base_uri": "https://localhost:8080/"
        },
        "id": "4-Srg2ChOVA0",
        "outputId": "d6af5416-5b05-41d2-c5a8-36eefd1273c0"
      },
      "execution_count": 13,
      "outputs": [
        {
          "output_type": "execute_result",
          "data": {
            "text/plain": [
              "array([[ 0.0000e+00,  0.0000e+00,  0.0000e+00,  0.0000e+00,  0.0000e+00,\n",
              "         0.0000e+00,  0.0000e+00,  0.0000e+00,  0.0000e+00,  0.0000e+00,\n",
              "         0.0000e+00,  0.0000e+00,  0.0000e+00,  0.0000e+00,  0.0000e+00,\n",
              "         0.0000e+00,  0.0000e+00,  0.0000e+00,  0.0000e+00,  0.0000e+00,\n",
              "         0.0000e+00,  0.0000e+00,  0.0000e+00,  0.0000e+00,  0.0000e+00,\n",
              "         0.0000e+00,  0.0000e+00,  0.0000e+00,  0.0000e+00,  0.0000e+00,\n",
              "         0.0000e+00,  0.0000e+00,  0.0000e+00,  0.0000e+00,  0.0000e+00,\n",
              "         0.0000e+00,  0.0000e+00,  1.3000e+01,  3.0700e+02, -3.5000e+02,\n",
              "        -1.8510e+03, -8.8300e+02,  2.2600e+02,  4.7000e+01,  2.1600e+02,\n",
              "         1.0500e+02,  0.0000e+00,  0.0000e+00,  0.0000e+00,  0.0000e+00,\n",
              "         0.0000e+00,  0.0000e+00,  0.0000e+00,  0.0000e+00,  0.0000e+00,\n",
              "         0.0000e+00,  0.0000e+00,  0.0000e+00,  0.0000e+00,  2.3000e+01,\n",
              "        -1.0000e+01,  1.7900e+02,  1.1380e+03,  1.2620e+03,  1.2610e+03,\n",
              "         3.5120e+03,  4.2010e+03,  3.9190e+03,  3.2070e+03,  3.7870e+03,\n",
              "         5.4710e+03,  7.6740e+03,  9.1510e+03,  7.7280e+03,  5.2630e+03,\n",
              "         4.3430e+03,  4.5440e+03,  2.7020e+03,  9.1300e+02,  1.6000e+02,\n",
              "         0.0000e+00,  0.0000e+00,  0.0000e+00,  0.0000e+00,  0.0000e+00,\n",
              "         0.0000e+00,  0.0000e+00,  3.2000e+02,  3.2400e+02,  1.0740e+03,\n",
              "         2.3560e+03,  3.5320e+03,  5.4210e+03,  7.7150e+03,  1.1784e+04,\n",
              "         6.5410e+03,  3.9560e+03,  8.6500e+02,  4.0700e+03,  3.0150e+03,\n",
              "         2.9660e+03,  3.5190e+03,  7.2770e+03,  1.8570e+03,  3.1930e+03,\n",
              "         9.6060e+03,  7.6700e+03,  3.0080e+03,  7.8000e+02,  1.2890e+03,\n",
              "         3.2900e+02,  0.0000e+00,  0.0000e+00,  0.0000e+00,  0.0000e+00,\n",
              "         5.3000e+01,  1.4400e+02,  2.3100e+03,  3.3370e+03,  4.3700e+03,\n",
              "         1.3960e+03, -1.7740e+03,  3.3420e+03, -1.4880e+03,  2.1660e+03,\n",
              "        -1.2090e+03,  1.6500e+03, -8.8600e+02,  2.3050e+03, -1.7500e+03,\n",
              "        -4.7600e+02,  2.3030e+03, -3.2690e+03,  4.8200e+02, -6.0300e+02,\n",
              "         1.9390e+03,  5.4520e+03,  2.5660e+03,  3.0000e+02,  0.0000e+00,\n",
              "         0.0000e+00,  0.0000e+00,  0.0000e+00,  9.0000e+00,  7.3200e+02,\n",
              "         4.4300e+03, -2.2880e+03, -5.2000e+01,  3.1500e+02, -1.7820e+03,\n",
              "        -8.8600e+02, -7.8600e+02,  1.0410e+03, -1.6400e+03,  4.3700e+02,\n",
              "        -3.2780e+03,  2.0000e+02,  1.0180e+03, -3.4200e+03,  2.9610e+03,\n",
              "         1.8190e+03,  2.8890e+03,  1.3970e+03,  3.9020e+03,  6.1770e+03,\n",
              "         4.4020e+03,  1.5880e+03,  9.8400e+02,  0.0000e+00,  0.0000e+00,\n",
              "         2.2300e+02,  2.2100e+02,  1.7050e+03,  2.8290e+03,  3.6700e+02,\n",
              "         1.6980e+03,  1.1500e+03,  7.2270e+03, -1.8510e+03,  3.0810e+03,\n",
              "         6.5100e+02, -4.2600e+03,  2.5890e+03,  1.4200e+02,  3.1800e+02,\n",
              "        -5.0100e+02,  1.9730e+03, -4.0000e+00, -9.0000e+01, -8.4000e+01,\n",
              "        -2.9290e+03,  5.7500e+02,  7.4390e+03,  9.2230e+03,  6.2390e+03,\n",
              "         2.3220e+03,  0.0000e+00,  3.0000e+00,  4.2900e+02,  7.5500e+02,\n",
              "         1.8950e+03,  1.3650e+03, -4.8800e+02, -7.9200e+02,  6.2620e+03,\n",
              "         3.0900e+02,  3.0800e+02, -4.0220e+03,  5.9380e+03, -2.4110e+03,\n",
              "        -9.7600e+02, -1.6700e+02,  6.5800e+02, -4.5320e+03, -1.4240e+03,\n",
              "        -1.5450e+03,  2.4230e+03,  2.0290e+03,  1.7000e+02, -2.0090e+03,\n",
              "         7.2160e+03,  1.3519e+04,  6.0430e+03,  3.8400e+02, -6.3600e+02,\n",
              "         1.9000e+01,  2.5900e+02,  3.1800e+02,  4.5340e+03,  3.5680e+03,\n",
              "        -3.7170e+03,  1.9700e+02, -4.9400e+02, -1.5480e+03,  1.0610e+03,\n",
              "        -2.1600e+02, -3.2990e+03,  2.3950e+03, -1.2440e+03,  6.6700e+02,\n",
              "        -5.3800e+03, -2.4600e+03,  1.2300e+02,  1.8460e+03, -2.7590e+03,\n",
              "         4.7800e+02,  1.1060e+03, -2.0460e+03,  4.8820e+03,  1.3733e+04,\n",
              "         3.9420e+03,  1.6000e+02,  0.0000e+00,  0.0000e+00, -1.5600e+02,\n",
              "         5.6100e+02,  6.2660e+03,  9.3000e+01,  9.8000e+01,  4.0530e+03,\n",
              "         2.9660e+03,  3.6090e+03, -4.9080e+03,  8.0800e+02,  3.3780e+03,\n",
              "        -6.3530e+03, -1.0540e+03,  8.9400e+02, -2.8410e+03, -1.5820e+03,\n",
              "        -2.7840e+03, -3.1380e+03, -1.0330e+03,  2.8700e+02,  2.0860e+03,\n",
              "        -2.0980e+03,  7.4070e+03,  1.2267e+04,  5.1810e+03,  0.0000e+00,\n",
              "         0.0000e+00,  0.0000e+00, -1.0040e+03,  2.1080e+03,  4.4260e+03,\n",
              "        -4.2140e+03,  1.8780e+03, -2.1530e+03, -1.5360e+03, -3.1500e+02,\n",
              "         2.9420e+03, -4.0800e+02,  2.1530e+03,  3.0600e+03,  1.5700e+02,\n",
              "        -1.3860e+03, -1.4300e+03, -3.6040e+03, -4.1460e+03,  2.2500e+03,\n",
              "        -1.7160e+03,  6.0400e+02, -6.2290e+03, -6.9410e+03,  6.4240e+03,\n",
              "         1.1796e+04,  5.1060e+03,  0.0000e+00,  0.0000e+00,  0.0000e+00,\n",
              "         8.1700e+02,  1.2150e+03,  4.4140e+03,  2.1780e+03, -1.4930e+03,\n",
              "        -1.0220e+03, -6.6500e+02,  1.1640e+03,  2.1990e+03, -3.5660e+03,\n",
              "         3.3370e+03, -1.4100e+03,  5.1790e+03,  6.3280e+03,  3.2010e+03,\n",
              "        -9.9100e+02,  2.4890e+03, -3.3160e+03, -3.2690e+03, -2.6300e+02,\n",
              "         2.5060e+03, -1.5340e+03,  1.5620e+03,  1.0280e+04,  3.3760e+03,\n",
              "         0.0000e+00,  0.0000e+00,  0.0000e+00,  3.2300e+02,  1.1400e+02,\n",
              "         6.4640e+03, -2.0300e+03, -1.6880e+03,  1.1830e+03,  2.7310e+03,\n",
              "        -1.0100e+02,  1.5890e+03, -1.2720e+03, -2.2910e+03, -1.6790e+03,\n",
              "         2.9380e+03,  8.5470e+03,  3.4560e+03, -5.5900e+02,  8.0700e+02,\n",
              "        -1.7210e+03, -2.4690e+03, -2.6090e+03, -2.8430e+03, -7.9000e+01,\n",
              "        -5.7630e+03,  3.7850e+03,  1.7680e+03,  0.0000e+00,  0.0000e+00,\n",
              "         0.0000e+00,  2.7700e+02,  1.6280e+03, -8.4000e+01, -1.8800e+02,\n",
              "        -5.7050e+03, -5.1700e+02, -4.3530e+03,  8.3600e+02, -1.8190e+03,\n",
              "         1.3490e+03,  6.1200e+02,  6.7450e+03,  5.9100e+02,  9.0850e+03,\n",
              "         4.9910e+03,  2.8430e+03,  8.7400e+02,  3.1590e+03,  5.7110e+03,\n",
              "         1.7190e+03, -6.1060e+03, -1.3220e+03,  7.3400e+02, -7.4000e+02,\n",
              "         7.9800e+02,  0.0000e+00,  0.0000e+00,  0.0000e+00,  1.1140e+03,\n",
              "         6.2130e+03,  4.1520e+03, -1.2230e+03, -7.1300e+02, -3.0030e+03,\n",
              "        -1.4200e+03, -1.3860e+03,  1.9970e+03, -1.2960e+03, -3.3560e+03,\n",
              "        -1.2860e+03,  1.0669e+04,  4.0690e+03,  4.9380e+03, -2.5070e+03,\n",
              "         3.4690e+03,  1.1730e+03, -3.2030e+03, -2.6080e+03, -2.7500e+02,\n",
              "        -1.7500e+03, -8.9200e+02, -7.3000e+02,  6.5000e+02,  0.0000e+00,\n",
              "         0.0000e+00,  0.0000e+00,  1.0970e+03,  6.8690e+03,  1.3220e+03,\n",
              "        -4.8840e+03,  2.7440e+03, -5.2570e+03, -3.9030e+03, -2.0390e+03,\n",
              "        -4.4930e+03,  4.1550e+03, -2.8140e+03,  4.6610e+03,  6.3760e+03,\n",
              "         3.0000e+03,  3.9700e+03,  4.4030e+03, -1.0630e+03,  2.4500e+03,\n",
              "        -1.5620e+03, -1.6550e+03,  9.8000e+01, -3.5370e+03, -1.0910e+03,\n",
              "         2.9200e+03,  1.5320e+03,  5.3000e+01,  0.0000e+00,  0.0000e+00,\n",
              "         3.2200e+02,  5.8740e+03, -4.2600e+02, -2.8880e+03, -5.2900e+02,\n",
              "        -1.2680e+03, -2.1700e+03, -5.1800e+02,  2.4700e+02, -5.8270e+03,\n",
              "         2.6090e+03,  9.5120e+03,  7.5970e+03,  3.1250e+03,  3.2280e+03,\n",
              "        -1.1020e+03,  1.4890e+03, -5.1500e+02, -1.3750e+03, -7.7300e+02,\n",
              "         3.2750e+03,  5.2700e+02,  2.6490e+03,  6.5910e+03,  3.5540e+03,\n",
              "        -1.4000e+01,  0.0000e+00,  0.0000e+00,  6.5100e+02,  5.1950e+03,\n",
              "        -8.4800e+02, -1.1040e+03, -6.1000e+03, -1.9670e+03,  1.4170e+03,\n",
              "        -5.3800e+02, -3.3540e+03,  2.4900e+03, -2.3390e+03,  5.4850e+03,\n",
              "         4.8640e+03,  1.9250e+03,  1.5830e+03, -1.4590e+03,  4.6800e+02,\n",
              "         4.8300e+02, -2.4050e+03,  3.0600e+02, -6.7750e+03,  1.4430e+03,\n",
              "        -1.5840e+03,  4.1380e+03,  1.3730e+03, -8.7600e+02,  0.0000e+00,\n",
              "         0.0000e+00,  9.1600e+02,  7.4950e+03, -1.3000e+01,  1.0210e+03,\n",
              "         4.3800e+02,  1.0730e+03, -6.4900e+02, -3.9140e+03, -3.0770e+03,\n",
              "        -2.2880e+03,  6.8300e+02,  7.4760e+03,  3.3930e+03,  4.0610e+03,\n",
              "         5.0100e+03,  1.4050e+03,  3.3290e+03,  1.0190e+03,  3.1190e+03,\n",
              "        -1.2120e+03,  4.1500e+02,  3.3410e+03,  1.7970e+03,  3.5750e+03,\n",
              "         1.7780e+03,  1.0570e+03,  0.0000e+00, -2.6000e+02,  5.9900e+02,\n",
              "         6.1530e+03,  3.3950e+03, -1.7500e+02,  4.0000e+01,  9.5900e+02,\n",
              "        -3.0890e+03,  2.0010e+03, -1.5010e+03, -8.0900e+02, -3.5910e+03,\n",
              "         2.9600e+03,  5.0000e+02,  2.1540e+03, -1.6480e+03, -1.8290e+03,\n",
              "        -9.1900e+02,  3.2010e+03, -1.3250e+03, -1.7380e+03, -4.3840e+03,\n",
              "         2.9140e+03,  2.6770e+03,  3.3920e+03,  8.8900e+02,  0.0000e+00,\n",
              "         0.0000e+00, -6.5500e+02,  9.5100e+02,  3.7460e+03, -1.3470e+03,\n",
              "        -1.3510e+03,  3.0080e+03, -1.1280e+03, -1.4610e+03,  1.9540e+03,\n",
              "        -8.1300e+02, -1.5930e+03, -5.1220e+03, -8.8500e+02,  3.0260e+03,\n",
              "        -1.3170e+03,  4.4050e+03,  7.7000e+01, -1.4360e+03,  1.3680e+03,\n",
              "         4.0600e+02, -1.0020e+03,  1.7400e+02,  4.5230e+03,  3.5530e+03,\n",
              "         2.7470e+03,  2.1100e+02,  0.0000e+00,  0.0000e+00,  0.0000e+00,\n",
              "         2.7250e+03,  2.7950e+03,  1.4650e+03, -1.3870e+03, -5.6500e+02,\n",
              "        -3.0700e+02,  2.5220e+03, -3.7180e+03, -2.4730e+03, -2.6010e+03,\n",
              "        -5.1000e+02,  3.6530e+03,  4.4900e+02, -4.7500e+02, -3.6620e+03,\n",
              "         7.0870e+03, -1.3150e+03,  3.5870e+03,  2.5790e+03,  1.1290e+03,\n",
              "        -2.3470e+03,  1.7690e+03,  2.6870e+03,  1.3110e+03, -1.4410e+03,\n",
              "         0.0000e+00,  0.0000e+00,  0.0000e+00,  9.5800e+02,  2.9810e+03,\n",
              "         7.2550e+03,  7.6000e+01, -1.1320e+03,  1.1850e+03, -1.2280e+03,\n",
              "        -3.0420e+03,  8.4100e+02, -1.3550e+03,  9.7500e+02, -6.4480e+03,\n",
              "         1.8260e+03,  1.3800e+03,  3.0140e+03, -1.7790e+03,  6.5730e+03,\n",
              "        -3.2250e+03, -4.5800e+02,  1.5390e+03,  9.7600e+02,  1.2500e+03,\n",
              "         3.3360e+03,  8.9200e+02, -3.9400e+02,  0.0000e+00,  0.0000e+00,\n",
              "         0.0000e+00,  0.0000e+00,  1.0040e+03,  7.0730e+03,  3.0490e+03,\n",
              "        -1.5620e+03, -4.2900e+02,  2.6960e+03, -1.3760e+03,  3.5600e+02,\n",
              "        -3.0700e+02, -1.2790e+03, -3.0000e+02, -2.0400e+03,  2.0890e+03,\n",
              "         1.7130e+03, -2.6870e+03,  3.3050e+03,  3.0100e+03,  4.9580e+03,\n",
              "         3.1410e+03,  9.8100e+02,  2.3630e+03,  3.1670e+03,  6.8000e+02,\n",
              "         0.0000e+00,  0.0000e+00,  0.0000e+00,  0.0000e+00,  0.0000e+00,\n",
              "         6.0000e+00,  2.6500e+03,  3.2480e+03,  3.5080e+03, -8.6000e+01,\n",
              "        -6.0200e+02, -1.7940e+03,  2.7930e+03,  4.4800e+03, -1.8040e+03,\n",
              "        -1.0690e+03,  7.2900e+02,  4.8000e+02,  6.8300e+03,  3.1270e+03,\n",
              "         1.6040e+03,  3.2940e+03,  5.9150e+03,  6.8390e+03,  3.4360e+03,\n",
              "         2.7730e+03,  6.5400e+02,  0.0000e+00,  0.0000e+00,  0.0000e+00,\n",
              "         0.0000e+00,  0.0000e+00,  0.0000e+00,  0.0000e+00,  7.4200e+02,\n",
              "         3.6980e+03,  7.4870e+03,  8.0600e+03,  9.4110e+03,  7.3260e+03,\n",
              "         1.0985e+04,  7.5570e+03,  1.2787e+04,  1.1173e+04,  1.1487e+04,\n",
              "         1.3220e+04,  1.1562e+04,  1.3043e+04,  1.1331e+04,  5.4700e+03,\n",
              "         4.8580e+03,  5.1880e+03,  3.3150e+03,  1.4290e+03,  3.4800e+02,\n",
              "         0.0000e+00,  0.0000e+00,  0.0000e+00,  0.0000e+00,  0.0000e+00,\n",
              "         0.0000e+00,  0.0000e+00,  0.0000e+00,  1.2390e+03,  2.6650e+03,\n",
              "         3.3810e+03,  4.4050e+03,  6.5220e+03,  5.8710e+03,  5.9560e+03,\n",
              "         4.6960e+03,  5.6400e+03,  5.7710e+03,  7.3150e+03,  7.2100e+03,\n",
              "         6.3220e+03,  4.0600e+03,  9.2500e+02,  2.2670e+03,  3.9230e+03,\n",
              "         2.4900e+03,  2.3300e+02,  2.8000e+01,  0.0000e+00,  0.0000e+00,\n",
              "         0.0000e+00,  0.0000e+00,  0.0000e+00,  0.0000e+00,  0.0000e+00,\n",
              "         0.0000e+00,  1.7100e+02,  7.3500e+02,  4.7400e+02,  2.4000e+02,\n",
              "         4.4800e+02,  2.6400e+02,  1.5700e+02,  3.8700e+02,  8.0100e+02,\n",
              "         1.3760e+03,  2.0330e+03,  1.6830e+03,  4.1900e+02,  4.9600e+02,\n",
              "         3.3300e+02,  2.6800e+02,  8.6100e+02,  2.7740e+03,  6.4600e+02,\n",
              "         0.0000e+00,  0.0000e+00,  0.0000e+00,  0.0000e+00]])"
            ]
          },
          "metadata": {},
          "execution_count": 13
        }
      ]
    },
    {
      "cell_type": "code",
      "source": [
        "clf.intercept_"
      ],
      "metadata": {
        "colab": {
          "base_uri": "https://localhost:8080/"
        },
        "id": "bUhXE_0sOYsn",
        "outputId": "eee9fec1-b6a6-43e6-d901-6d00ceaa6e21"
      },
      "execution_count": 14,
      "outputs": [
        {
          "output_type": "execute_result",
          "data": {
            "text/plain": [
              "array([1230.])"
            ]
          },
          "metadata": {},
          "execution_count": 14
        }
      ]
    },
    {
      "cell_type": "code",
      "metadata": {
        "id": "5OvA1L_gpw3g",
        "colab": {
          "base_uri": "https://localhost:8080/"
        },
        "outputId": "169124a0-e4c8-465a-f874-b4d17e08d5fc"
      },
      "source": [
        "print(f'Accuracy: {clf.score(X_val, y_val):.4f}')"
      ],
      "execution_count": 15,
      "outputs": [
        {
          "output_type": "stream",
          "name": "stdout",
          "text": [
            "Accuracy: 0.9842\n"
          ]
        }
      ]
    },
    {
      "cell_type": "code",
      "source": [
        "clf = Perceptron(penalty=\"l2\", alpha=0.01)\n",
        "clf.fit(X_train, y_train)"
      ],
      "metadata": {
        "colab": {
          "base_uri": "https://localhost:8080/",
          "height": 80
        },
        "id": "bnKfCUIVPCeh",
        "outputId": "926f3adf-036f-4e2e-8542-6ad2ecfe63b7"
      },
      "execution_count": 16,
      "outputs": [
        {
          "output_type": "execute_result",
          "data": {
            "text/plain": [
              "Perceptron(alpha=0.01, penalty='l2')"
            ],
            "text/html": [
              "<style>#sk-container-id-2 {\n",
              "  /* Definition of color scheme common for light and dark mode */\n",
              "  --sklearn-color-text: #000;\n",
              "  --sklearn-color-text-muted: #666;\n",
              "  --sklearn-color-line: gray;\n",
              "  /* Definition of color scheme for unfitted estimators */\n",
              "  --sklearn-color-unfitted-level-0: #fff5e6;\n",
              "  --sklearn-color-unfitted-level-1: #f6e4d2;\n",
              "  --sklearn-color-unfitted-level-2: #ffe0b3;\n",
              "  --sklearn-color-unfitted-level-3: chocolate;\n",
              "  /* Definition of color scheme for fitted estimators */\n",
              "  --sklearn-color-fitted-level-0: #f0f8ff;\n",
              "  --sklearn-color-fitted-level-1: #d4ebff;\n",
              "  --sklearn-color-fitted-level-2: #b3dbfd;\n",
              "  --sklearn-color-fitted-level-3: cornflowerblue;\n",
              "\n",
              "  /* Specific color for light theme */\n",
              "  --sklearn-color-text-on-default-background: var(--sg-text-color, var(--theme-code-foreground, var(--jp-content-font-color1, black)));\n",
              "  --sklearn-color-background: var(--sg-background-color, var(--theme-background, var(--jp-layout-color0, white)));\n",
              "  --sklearn-color-border-box: var(--sg-text-color, var(--theme-code-foreground, var(--jp-content-font-color1, black)));\n",
              "  --sklearn-color-icon: #696969;\n",
              "\n",
              "  @media (prefers-color-scheme: dark) {\n",
              "    /* Redefinition of color scheme for dark theme */\n",
              "    --sklearn-color-text-on-default-background: var(--sg-text-color, var(--theme-code-foreground, var(--jp-content-font-color1, white)));\n",
              "    --sklearn-color-background: var(--sg-background-color, var(--theme-background, var(--jp-layout-color0, #111)));\n",
              "    --sklearn-color-border-box: var(--sg-text-color, var(--theme-code-foreground, var(--jp-content-font-color1, white)));\n",
              "    --sklearn-color-icon: #878787;\n",
              "  }\n",
              "}\n",
              "\n",
              "#sk-container-id-2 {\n",
              "  color: var(--sklearn-color-text);\n",
              "}\n",
              "\n",
              "#sk-container-id-2 pre {\n",
              "  padding: 0;\n",
              "}\n",
              "\n",
              "#sk-container-id-2 input.sk-hidden--visually {\n",
              "  border: 0;\n",
              "  clip: rect(1px 1px 1px 1px);\n",
              "  clip: rect(1px, 1px, 1px, 1px);\n",
              "  height: 1px;\n",
              "  margin: -1px;\n",
              "  overflow: hidden;\n",
              "  padding: 0;\n",
              "  position: absolute;\n",
              "  width: 1px;\n",
              "}\n",
              "\n",
              "#sk-container-id-2 div.sk-dashed-wrapped {\n",
              "  border: 1px dashed var(--sklearn-color-line);\n",
              "  margin: 0 0.4em 0.5em 0.4em;\n",
              "  box-sizing: border-box;\n",
              "  padding-bottom: 0.4em;\n",
              "  background-color: var(--sklearn-color-background);\n",
              "}\n",
              "\n",
              "#sk-container-id-2 div.sk-container {\n",
              "  /* jupyter's `normalize.less` sets `[hidden] { display: none; }`\n",
              "     but bootstrap.min.css set `[hidden] { display: none !important; }`\n",
              "     so we also need the `!important` here to be able to override the\n",
              "     default hidden behavior on the sphinx rendered scikit-learn.org.\n",
              "     See: https://github.com/scikit-learn/scikit-learn/issues/21755 */\n",
              "  display: inline-block !important;\n",
              "  position: relative;\n",
              "}\n",
              "\n",
              "#sk-container-id-2 div.sk-text-repr-fallback {\n",
              "  display: none;\n",
              "}\n",
              "\n",
              "div.sk-parallel-item,\n",
              "div.sk-serial,\n",
              "div.sk-item {\n",
              "  /* draw centered vertical line to link estimators */\n",
              "  background-image: linear-gradient(var(--sklearn-color-text-on-default-background), var(--sklearn-color-text-on-default-background));\n",
              "  background-size: 2px 100%;\n",
              "  background-repeat: no-repeat;\n",
              "  background-position: center center;\n",
              "}\n",
              "\n",
              "/* Parallel-specific style estimator block */\n",
              "\n",
              "#sk-container-id-2 div.sk-parallel-item::after {\n",
              "  content: \"\";\n",
              "  width: 100%;\n",
              "  border-bottom: 2px solid var(--sklearn-color-text-on-default-background);\n",
              "  flex-grow: 1;\n",
              "}\n",
              "\n",
              "#sk-container-id-2 div.sk-parallel {\n",
              "  display: flex;\n",
              "  align-items: stretch;\n",
              "  justify-content: center;\n",
              "  background-color: var(--sklearn-color-background);\n",
              "  position: relative;\n",
              "}\n",
              "\n",
              "#sk-container-id-2 div.sk-parallel-item {\n",
              "  display: flex;\n",
              "  flex-direction: column;\n",
              "}\n",
              "\n",
              "#sk-container-id-2 div.sk-parallel-item:first-child::after {\n",
              "  align-self: flex-end;\n",
              "  width: 50%;\n",
              "}\n",
              "\n",
              "#sk-container-id-2 div.sk-parallel-item:last-child::after {\n",
              "  align-self: flex-start;\n",
              "  width: 50%;\n",
              "}\n",
              "\n",
              "#sk-container-id-2 div.sk-parallel-item:only-child::after {\n",
              "  width: 0;\n",
              "}\n",
              "\n",
              "/* Serial-specific style estimator block */\n",
              "\n",
              "#sk-container-id-2 div.sk-serial {\n",
              "  display: flex;\n",
              "  flex-direction: column;\n",
              "  align-items: center;\n",
              "  background-color: var(--sklearn-color-background);\n",
              "  padding-right: 1em;\n",
              "  padding-left: 1em;\n",
              "}\n",
              "\n",
              "\n",
              "/* Toggleable style: style used for estimator/Pipeline/ColumnTransformer box that is\n",
              "clickable and can be expanded/collapsed.\n",
              "- Pipeline and ColumnTransformer use this feature and define the default style\n",
              "- Estimators will overwrite some part of the style using the `sk-estimator` class\n",
              "*/\n",
              "\n",
              "/* Pipeline and ColumnTransformer style (default) */\n",
              "\n",
              "#sk-container-id-2 div.sk-toggleable {\n",
              "  /* Default theme specific background. It is overwritten whether we have a\n",
              "  specific estimator or a Pipeline/ColumnTransformer */\n",
              "  background-color: var(--sklearn-color-background);\n",
              "}\n",
              "\n",
              "/* Toggleable label */\n",
              "#sk-container-id-2 label.sk-toggleable__label {\n",
              "  cursor: pointer;\n",
              "  display: flex;\n",
              "  width: 100%;\n",
              "  margin-bottom: 0;\n",
              "  padding: 0.5em;\n",
              "  box-sizing: border-box;\n",
              "  text-align: center;\n",
              "  align-items: start;\n",
              "  justify-content: space-between;\n",
              "  gap: 0.5em;\n",
              "}\n",
              "\n",
              "#sk-container-id-2 label.sk-toggleable__label .caption {\n",
              "  font-size: 0.6rem;\n",
              "  font-weight: lighter;\n",
              "  color: var(--sklearn-color-text-muted);\n",
              "}\n",
              "\n",
              "#sk-container-id-2 label.sk-toggleable__label-arrow:before {\n",
              "  /* Arrow on the left of the label */\n",
              "  content: \"▸\";\n",
              "  float: left;\n",
              "  margin-right: 0.25em;\n",
              "  color: var(--sklearn-color-icon);\n",
              "}\n",
              "\n",
              "#sk-container-id-2 label.sk-toggleable__label-arrow:hover:before {\n",
              "  color: var(--sklearn-color-text);\n",
              "}\n",
              "\n",
              "/* Toggleable content - dropdown */\n",
              "\n",
              "#sk-container-id-2 div.sk-toggleable__content {\n",
              "  max-height: 0;\n",
              "  max-width: 0;\n",
              "  overflow: hidden;\n",
              "  text-align: left;\n",
              "  /* unfitted */\n",
              "  background-color: var(--sklearn-color-unfitted-level-0);\n",
              "}\n",
              "\n",
              "#sk-container-id-2 div.sk-toggleable__content.fitted {\n",
              "  /* fitted */\n",
              "  background-color: var(--sklearn-color-fitted-level-0);\n",
              "}\n",
              "\n",
              "#sk-container-id-2 div.sk-toggleable__content pre {\n",
              "  margin: 0.2em;\n",
              "  border-radius: 0.25em;\n",
              "  color: var(--sklearn-color-text);\n",
              "  /* unfitted */\n",
              "  background-color: var(--sklearn-color-unfitted-level-0);\n",
              "}\n",
              "\n",
              "#sk-container-id-2 div.sk-toggleable__content.fitted pre {\n",
              "  /* unfitted */\n",
              "  background-color: var(--sklearn-color-fitted-level-0);\n",
              "}\n",
              "\n",
              "#sk-container-id-2 input.sk-toggleable__control:checked~div.sk-toggleable__content {\n",
              "  /* Expand drop-down */\n",
              "  max-height: 200px;\n",
              "  max-width: 100%;\n",
              "  overflow: auto;\n",
              "}\n",
              "\n",
              "#sk-container-id-2 input.sk-toggleable__control:checked~label.sk-toggleable__label-arrow:before {\n",
              "  content: \"▾\";\n",
              "}\n",
              "\n",
              "/* Pipeline/ColumnTransformer-specific style */\n",
              "\n",
              "#sk-container-id-2 div.sk-label input.sk-toggleable__control:checked~label.sk-toggleable__label {\n",
              "  color: var(--sklearn-color-text);\n",
              "  background-color: var(--sklearn-color-unfitted-level-2);\n",
              "}\n",
              "\n",
              "#sk-container-id-2 div.sk-label.fitted input.sk-toggleable__control:checked~label.sk-toggleable__label {\n",
              "  background-color: var(--sklearn-color-fitted-level-2);\n",
              "}\n",
              "\n",
              "/* Estimator-specific style */\n",
              "\n",
              "/* Colorize estimator box */\n",
              "#sk-container-id-2 div.sk-estimator input.sk-toggleable__control:checked~label.sk-toggleable__label {\n",
              "  /* unfitted */\n",
              "  background-color: var(--sklearn-color-unfitted-level-2);\n",
              "}\n",
              "\n",
              "#sk-container-id-2 div.sk-estimator.fitted input.sk-toggleable__control:checked~label.sk-toggleable__label {\n",
              "  /* fitted */\n",
              "  background-color: var(--sklearn-color-fitted-level-2);\n",
              "}\n",
              "\n",
              "#sk-container-id-2 div.sk-label label.sk-toggleable__label,\n",
              "#sk-container-id-2 div.sk-label label {\n",
              "  /* The background is the default theme color */\n",
              "  color: var(--sklearn-color-text-on-default-background);\n",
              "}\n",
              "\n",
              "/* On hover, darken the color of the background */\n",
              "#sk-container-id-2 div.sk-label:hover label.sk-toggleable__label {\n",
              "  color: var(--sklearn-color-text);\n",
              "  background-color: var(--sklearn-color-unfitted-level-2);\n",
              "}\n",
              "\n",
              "/* Label box, darken color on hover, fitted */\n",
              "#sk-container-id-2 div.sk-label.fitted:hover label.sk-toggleable__label.fitted {\n",
              "  color: var(--sklearn-color-text);\n",
              "  background-color: var(--sklearn-color-fitted-level-2);\n",
              "}\n",
              "\n",
              "/* Estimator label */\n",
              "\n",
              "#sk-container-id-2 div.sk-label label {\n",
              "  font-family: monospace;\n",
              "  font-weight: bold;\n",
              "  display: inline-block;\n",
              "  line-height: 1.2em;\n",
              "}\n",
              "\n",
              "#sk-container-id-2 div.sk-label-container {\n",
              "  text-align: center;\n",
              "}\n",
              "\n",
              "/* Estimator-specific */\n",
              "#sk-container-id-2 div.sk-estimator {\n",
              "  font-family: monospace;\n",
              "  border: 1px dotted var(--sklearn-color-border-box);\n",
              "  border-radius: 0.25em;\n",
              "  box-sizing: border-box;\n",
              "  margin-bottom: 0.5em;\n",
              "  /* unfitted */\n",
              "  background-color: var(--sklearn-color-unfitted-level-0);\n",
              "}\n",
              "\n",
              "#sk-container-id-2 div.sk-estimator.fitted {\n",
              "  /* fitted */\n",
              "  background-color: var(--sklearn-color-fitted-level-0);\n",
              "}\n",
              "\n",
              "/* on hover */\n",
              "#sk-container-id-2 div.sk-estimator:hover {\n",
              "  /* unfitted */\n",
              "  background-color: var(--sklearn-color-unfitted-level-2);\n",
              "}\n",
              "\n",
              "#sk-container-id-2 div.sk-estimator.fitted:hover {\n",
              "  /* fitted */\n",
              "  background-color: var(--sklearn-color-fitted-level-2);\n",
              "}\n",
              "\n",
              "/* Specification for estimator info (e.g. \"i\" and \"?\") */\n",
              "\n",
              "/* Common style for \"i\" and \"?\" */\n",
              "\n",
              ".sk-estimator-doc-link,\n",
              "a:link.sk-estimator-doc-link,\n",
              "a:visited.sk-estimator-doc-link {\n",
              "  float: right;\n",
              "  font-size: smaller;\n",
              "  line-height: 1em;\n",
              "  font-family: monospace;\n",
              "  background-color: var(--sklearn-color-background);\n",
              "  border-radius: 1em;\n",
              "  height: 1em;\n",
              "  width: 1em;\n",
              "  text-decoration: none !important;\n",
              "  margin-left: 0.5em;\n",
              "  text-align: center;\n",
              "  /* unfitted */\n",
              "  border: var(--sklearn-color-unfitted-level-1) 1pt solid;\n",
              "  color: var(--sklearn-color-unfitted-level-1);\n",
              "}\n",
              "\n",
              ".sk-estimator-doc-link.fitted,\n",
              "a:link.sk-estimator-doc-link.fitted,\n",
              "a:visited.sk-estimator-doc-link.fitted {\n",
              "  /* fitted */\n",
              "  border: var(--sklearn-color-fitted-level-1) 1pt solid;\n",
              "  color: var(--sklearn-color-fitted-level-1);\n",
              "}\n",
              "\n",
              "/* On hover */\n",
              "div.sk-estimator:hover .sk-estimator-doc-link:hover,\n",
              ".sk-estimator-doc-link:hover,\n",
              "div.sk-label-container:hover .sk-estimator-doc-link:hover,\n",
              ".sk-estimator-doc-link:hover {\n",
              "  /* unfitted */\n",
              "  background-color: var(--sklearn-color-unfitted-level-3);\n",
              "  color: var(--sklearn-color-background);\n",
              "  text-decoration: none;\n",
              "}\n",
              "\n",
              "div.sk-estimator.fitted:hover .sk-estimator-doc-link.fitted:hover,\n",
              ".sk-estimator-doc-link.fitted:hover,\n",
              "div.sk-label-container:hover .sk-estimator-doc-link.fitted:hover,\n",
              ".sk-estimator-doc-link.fitted:hover {\n",
              "  /* fitted */\n",
              "  background-color: var(--sklearn-color-fitted-level-3);\n",
              "  color: var(--sklearn-color-background);\n",
              "  text-decoration: none;\n",
              "}\n",
              "\n",
              "/* Span, style for the box shown on hovering the info icon */\n",
              ".sk-estimator-doc-link span {\n",
              "  display: none;\n",
              "  z-index: 9999;\n",
              "  position: relative;\n",
              "  font-weight: normal;\n",
              "  right: .2ex;\n",
              "  padding: .5ex;\n",
              "  margin: .5ex;\n",
              "  width: min-content;\n",
              "  min-width: 20ex;\n",
              "  max-width: 50ex;\n",
              "  color: var(--sklearn-color-text);\n",
              "  box-shadow: 2pt 2pt 4pt #999;\n",
              "  /* unfitted */\n",
              "  background: var(--sklearn-color-unfitted-level-0);\n",
              "  border: .5pt solid var(--sklearn-color-unfitted-level-3);\n",
              "}\n",
              "\n",
              ".sk-estimator-doc-link.fitted span {\n",
              "  /* fitted */\n",
              "  background: var(--sklearn-color-fitted-level-0);\n",
              "  border: var(--sklearn-color-fitted-level-3);\n",
              "}\n",
              "\n",
              ".sk-estimator-doc-link:hover span {\n",
              "  display: block;\n",
              "}\n",
              "\n",
              "/* \"?\"-specific style due to the `<a>` HTML tag */\n",
              "\n",
              "#sk-container-id-2 a.estimator_doc_link {\n",
              "  float: right;\n",
              "  font-size: 1rem;\n",
              "  line-height: 1em;\n",
              "  font-family: monospace;\n",
              "  background-color: var(--sklearn-color-background);\n",
              "  border-radius: 1rem;\n",
              "  height: 1rem;\n",
              "  width: 1rem;\n",
              "  text-decoration: none;\n",
              "  /* unfitted */\n",
              "  color: var(--sklearn-color-unfitted-level-1);\n",
              "  border: var(--sklearn-color-unfitted-level-1) 1pt solid;\n",
              "}\n",
              "\n",
              "#sk-container-id-2 a.estimator_doc_link.fitted {\n",
              "  /* fitted */\n",
              "  border: var(--sklearn-color-fitted-level-1) 1pt solid;\n",
              "  color: var(--sklearn-color-fitted-level-1);\n",
              "}\n",
              "\n",
              "/* On hover */\n",
              "#sk-container-id-2 a.estimator_doc_link:hover {\n",
              "  /* unfitted */\n",
              "  background-color: var(--sklearn-color-unfitted-level-3);\n",
              "  color: var(--sklearn-color-background);\n",
              "  text-decoration: none;\n",
              "}\n",
              "\n",
              "#sk-container-id-2 a.estimator_doc_link.fitted:hover {\n",
              "  /* fitted */\n",
              "  background-color: var(--sklearn-color-fitted-level-3);\n",
              "}\n",
              "</style><div id=\"sk-container-id-2\" class=\"sk-top-container\"><div class=\"sk-text-repr-fallback\"><pre>Perceptron(alpha=0.01, penalty=&#x27;l2&#x27;)</pre><b>In a Jupyter environment, please rerun this cell to show the HTML representation or trust the notebook. <br />On GitHub, the HTML representation is unable to render, please try loading this page with nbviewer.org.</b></div><div class=\"sk-container\" hidden><div class=\"sk-item\"><div class=\"sk-estimator fitted sk-toggleable\"><input class=\"sk-toggleable__control sk-hidden--visually\" id=\"sk-estimator-id-2\" type=\"checkbox\" checked><label for=\"sk-estimator-id-2\" class=\"sk-toggleable__label fitted sk-toggleable__label-arrow\"><div><div>Perceptron</div></div><div><a class=\"sk-estimator-doc-link fitted\" rel=\"noreferrer\" target=\"_blank\" href=\"https://scikit-learn.org/1.6/modules/generated/sklearn.linear_model.Perceptron.html\">?<span>Documentation for Perceptron</span></a><span class=\"sk-estimator-doc-link fitted\">i<span>Fitted</span></span></div></label><div class=\"sk-toggleable__content fitted\"><pre>Perceptron(alpha=0.01, penalty=&#x27;l2&#x27;)</pre></div> </div></div></div></div>"
            ]
          },
          "metadata": {},
          "execution_count": 16
        }
      ]
    },
    {
      "cell_type": "code",
      "source": [
        "print(f'Accuracy: {clf.score(X_val, y_val):.4f}')"
      ],
      "metadata": {
        "colab": {
          "base_uri": "https://localhost:8080/"
        },
        "id": "eCN3W9oGPImg",
        "outputId": "ae83ef56-9a60-452d-ac98-b1ea3a5b371d"
      },
      "execution_count": 17,
      "outputs": [
        {
          "output_type": "stream",
          "name": "stdout",
          "text": [
            "Accuracy: 0.9341\n"
          ]
        }
      ]
    },
    {
      "cell_type": "markdown",
      "metadata": {
        "id": "BwClOs7ZduMt"
      },
      "source": [
        "## SVMによる分類の実行\n",
        "* ここでは、`LinearSVC`クラスを使う。\n",
        "  * `SVC`クラスを使ってもよい。\n",
        "  * `SVC`クラスを使うと、カーネルを指定できる。\n",
        "* 分類器を準備し、訓練データを渡して係数と切片を推定させる。\n",
        "  * 訓練データの個数が多いので、少し時間がかかる。\n",
        "  * 推定計算が収束しない場合は、`max_iter`を増やしてみる。"
      ]
    },
    {
      "cell_type": "markdown",
      "metadata": {
        "id": "n8X4NBHhb8Zq"
      },
      "source": [
        "## SVMでの正則化\n",
        "* scikit-learnの`LinearSVC`では、`C`というパラメータを調整する。\n",
        "  * https://scikit-learn.org/stable/modules/generated/sklearn.svm.LinearSVC.html\n",
        "* `C`は、小さいほど、正則化が強く効く＝係数をより強くゼロに近づける。\n",
        "  * デフォルトの設定は`C=1.0`。\n",
        "  * リッジ回帰やLassoの`alpha`とは、向きが逆であることに、注意。"
      ]
    },
    {
      "cell_type": "code",
      "metadata": {
        "id": "eANdkjTaB5gF"
      },
      "source": [
        "clf = LinearSVC()\n",
        "clf.fit(X_train, y_train) # Google Colabでも1分以内には終わる。"
      ],
      "execution_count": null,
      "outputs": []
    },
    {
      "cell_type": "code",
      "metadata": {
        "id": "qywf9D3xCAgM"
      },
      "source": [
        "print(f'Accuracy: {clf.score(X_val, y_val):.4f}')"
      ],
      "execution_count": null,
      "outputs": []
    },
    {
      "cell_type": "markdown",
      "metadata": {
        "id": "kITRwRt2kX7f"
      },
      "source": [
        "* 推定された係数を可視化してみる。\n",
        " * 0とそれ以外を分類するとき、どのピクセルが有効かが見えるかも。"
      ]
    },
    {
      "cell_type": "code",
      "metadata": {
        "id": "yEvBK8yUkXLO"
      },
      "source": [
        "plt.imshow(clf.coef_.reshape(28,28), cmap=plt.cm.gray);"
      ],
      "execution_count": null,
      "outputs": []
    },
    {
      "cell_type": "markdown",
      "source": [
        "* パラメータ`C`の値を変えつつ試行錯誤する。"
      ],
      "metadata": {
        "id": "b-KTC_oGoEcu"
      }
    },
    {
      "cell_type": "code",
      "source": [
        "clf = LinearSVC(C=0.1)\n",
        "clf.fit(X_train, y_train)\n",
        "print(f'Accuracy: {clf.score(X_val, y_val):.4f}')"
      ],
      "metadata": {
        "id": "_5ioXTjKoC24"
      },
      "execution_count": null,
      "outputs": []
    },
    {
      "cell_type": "markdown",
      "metadata": {
        "id": "Wa2ury-amZ7U"
      },
      "source": [
        "## 見つけ出した最善の設定を使ってテストデータ上で評価\n"
      ]
    },
    {
      "cell_type": "code",
      "source": [
        "X_train_val = np.concat((X_train, X_val))\n",
        "y_train_val = np.concat((y_train, y_val))"
      ],
      "metadata": {
        "id": "HubJT3UO-M5y"
      },
      "execution_count": null,
      "outputs": []
    },
    {
      "cell_type": "code",
      "metadata": {
        "id": "xKJT7Fe0kZy3"
      },
      "source": [
        "clf = LinearSVC()\n",
        "clf.fit(X_train_val, y_train_val)\n",
        "print(f'Accuracy: {clf.score(X_test, y_test):.4f}')"
      ],
      "execution_count": null,
      "outputs": []
    },
    {
      "cell_type": "markdown",
      "source": [
        "## Stochastic Gradient Descent (SGD) を使う方法"
      ],
      "metadata": {
        "id": "_xXGySQjcTwG"
      }
    },
    {
      "cell_type": "markdown",
      "source": [
        "* 実は、ロジスティック回帰モデルやSVMの学習を、より効率よく行う方法がある。\n",
        "* それは、sklearn.linear_model.SGDClassifierを使う方法である。"
      ],
      "metadata": {
        "id": "9iHO31YIcc1I"
      }
    },
    {
      "cell_type": "markdown",
      "source": [
        "### ロジスティック回帰の学習と同等の学習\n",
        "* `SGDClassifier`を`loss=\"log_loss\"`という設定で使う。"
      ],
      "metadata": {
        "id": "vV6aJ3NncoQr"
      }
    },
    {
      "cell_type": "code",
      "source": [
        "clf = SGDClassifier(loss=\"log_loss\")\n",
        "clf.fit(X_train, y_train)\n",
        "print(f'Accuracy: {clf.score(X_val, y_val):.4f}')"
      ],
      "metadata": {
        "id": "wLrZKjwactjz"
      },
      "execution_count": null,
      "outputs": []
    },
    {
      "cell_type": "markdown",
      "source": [
        "* 正則化の併用\n",
        "  * `penalty`は`\"l1\"`に設定しても`\"l2\"`に設定しても、どちらでも良い。"
      ],
      "metadata": {
        "id": "b7402jVrdGzd"
      }
    },
    {
      "cell_type": "code",
      "source": [
        "clf = SGDClassifier(loss=\"log_loss\", penalty=\"l2\", alpha=0.01)\n",
        "clf.fit(X_train, y_train)\n",
        "print(f'Accuracy: {clf.score(X_val, y_val):.4f}')"
      ],
      "metadata": {
        "id": "zBgx2r3rdQwh"
      },
      "execution_count": null,
      "outputs": []
    },
    {
      "cell_type": "markdown",
      "source": [
        "### SVMの学習と同等の学習\n",
        "* `SGDClassifier`を`loss=\"hinge\"`かつ`penalty=\"l2\"`という設定で使う。\n",
        "  * `penalty=\"l2\"`以外の設定だと、SVMと同等にならない。"
      ],
      "metadata": {
        "id": "IdoSWY_wd0p-"
      }
    },
    {
      "cell_type": "code",
      "source": [
        "clf = SGDClassifier(loss=\"hinge\", penalty=\"l2\")\n",
        "clf.fit(X_train, y_train)\n",
        "print(f'Accuracy: {clf.score(X_val, y_val):.4f}')"
      ],
      "metadata": {
        "id": "Iob1TkeZd5lc"
      },
      "execution_count": null,
      "outputs": []
    },
    {
      "cell_type": "markdown",
      "source": [
        "* 正則化の併用"
      ],
      "metadata": {
        "id": "fEdo_4Ewe46h"
      }
    },
    {
      "cell_type": "code",
      "source": [
        "clf = SGDClassifier(loss=\"hinge\", penalty=\"l2\", alpha=0.01)\n",
        "clf.fit(X_train, y_train)\n",
        "print(f'Accuracy: {clf.score(X_val, y_val):.4f}')"
      ],
      "metadata": {
        "id": "Fz7FPV--e6Wp"
      },
      "execution_count": null,
      "outputs": []
    },
    {
      "cell_type": "markdown",
      "source": [
        "# 課題20250714\n",
        "* 分類モデルとして`LinearSVC`を使ったとき・・・\n",
        "* 検証データでの正解率が良くなるように、パラメータ`C`の値をチューニングしよう。\n",
        "* その`C`の値を使って、テストデータでの正解率を求めよう。"
      ],
      "metadata": {
        "id": "BioiQ-NJyfnr"
      }
    },
    {
      "cell_type": "code",
      "metadata": {
        "id": "mdC8f7BupXdS"
      },
      "source": [],
      "execution_count": null,
      "outputs": []
    },
    {
      "cell_type": "markdown",
      "source": [
        "\n",
        "\n",
        "---\n",
        "\n"
      ],
      "metadata": {
        "id": "fIbJu7TQtcVG"
      }
    },
    {
      "cell_type": "markdown",
      "source": [
        "# SVMによる多値分類\n",
        "* 元の10値分類、つまり「0」〜「9」の10種類のカテゴリへの分類は・・・\n",
        "* 実は、元のデータをそのまま使うだけで実現できる。"
      ],
      "metadata": {
        "id": "GBb_wEC0ofq7"
      }
    },
    {
      "cell_type": "code",
      "source": [
        "clf = SGDClassifier(loss=\"hinge\", penalty=\"l2\")\n",
        "clf.fit(X_train, y_train_original) # Google Colabでは3分弱かかります。\n",
        "print(f'Accuracy: {clf.score(X_val, y_val_original):.4f}')"
      ],
      "metadata": {
        "id": "2d_xMgYzoqTP"
      },
      "execution_count": null,
      "outputs": []
    }
  ]
}