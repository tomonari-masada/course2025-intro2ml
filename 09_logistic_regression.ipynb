{
  "cells": [
    {
      "cell_type": "markdown",
      "metadata": {
        "id": "view-in-github",
        "colab_type": "text"
      },
      "source": [
        "<a href=\"https://colab.research.google.com/github/tomonari-masada/course2025-intro2ml/blob/main/09_logistic_regression.ipynb\" target=\"_parent\"><img src=\"https://colab.research.google.com/assets/colab-badge.svg\" alt=\"Open In Colab\"/></a>"
      ]
    },
    {
      "cell_type": "markdown",
      "metadata": {
        "id": "Gan0WLEv-ZGC"
      },
      "source": [
        "# ロジスティック回帰\n",
        "* 線形回帰を少し変えれば、２値分類に使うこともできるようになる。\n",
        "* 線形モデルの出力を、シグモイド関数と呼ばれる関数で$[0,1]$の範囲の値へ変換する。\n",
        "* 目的変数の値が0のときは、0に近い値が出力されるように、また・・・\n",
        "* 目的変数の値が1のときは、1に近い値が出力されるように、モデルの学習を行う。"
      ]
    },
    {
      "cell_type": "markdown",
      "metadata": {
        "id": "WogkMbdP-eCh"
      },
      "source": [
        "## シグモイド関数\n",
        "$$ \\sigma(s) = \\frac{1}{1 + e^{- s}} $$\n",
        "* 正確には、ロジスティック関数と呼ばれる。\n",
        "* シグモイド関数のひとつとしてロジスティック関数がある、ということ。だが・・・\n",
        "* シグモイド関数という呼び名の方が広く流通している感じ。\n",
        "  * https://en.wikipedia.org/wiki/Sigmoid_function"
      ]
    },
    {
      "cell_type": "code",
      "execution_count": null,
      "metadata": {
        "id": "JIcOWnYu-YMX"
      },
      "outputs": [],
      "source": [
        "%config InlineBackend.figure_format = 'retina'"
      ]
    },
    {
      "cell_type": "markdown",
      "metadata": {
        "id": "Vvj1x0y8_cpo"
      },
      "source": [
        "* シグモイド関数の値（縦軸の値）が0から1の範囲に収まっていることを確認してみる。"
      ]
    },
    {
      "cell_type": "code",
      "execution_count": null,
      "metadata": {
        "id": "MdmOBZv7-g_g"
      },
      "outputs": [],
      "source": [
        "import numpy as np\n",
        "import matplotlib.pyplot as plt\n",
        "\n",
        "x = np.linspace(-6, 6, 101)\n",
        "y = 1 / (1 + np.exp( - x))\n",
        "fig = plt.figure(figsize=(9,7))\n",
        "plt.plot(x, y)\n",
        "plt.title('sigmoid function')\n",
        "plt.show()"
      ]
    },
    {
      "cell_type": "markdown",
      "metadata": {
        "id": "F59NTUVhTICX"
      },
      "source": [
        "## toy dataでロジスティック回帰の使い方を把握"
      ]
    },
    {
      "cell_type": "code",
      "execution_count": null,
      "metadata": {
        "id": "GxM5_dStTWNY"
      },
      "outputs": [],
      "source": [
        "fig = plt.figure(figsize=(8,6))\n",
        "x = [1, 2, 7, 8]\n",
        "y = [0, 0, 1, 1]\n",
        "plt.plot(x, y, '.')\n",
        "plt.show()"
      ]
    },
    {
      "cell_type": "code",
      "execution_count": null,
      "metadata": {
        "id": "jdQTZvMSTmz5"
      },
      "outputs": [],
      "source": [
        "from sklearn.linear_model import LogisticRegression\n",
        "clf = LogisticRegression()"
      ]
    },
    {
      "cell_type": "code",
      "execution_count": null,
      "metadata": {
        "id": "5uOYkCm7Tspb"
      },
      "outputs": [],
      "source": [
        "clf.fit(x, y)"
      ]
    },
    {
      "cell_type": "code",
      "execution_count": null,
      "metadata": {
        "id": "suUiWdrYTtrG"
      },
      "outputs": [],
      "source": [
        "x = np.array(x).reshape(-1, 1)\n",
        "print(x)"
      ]
    },
    {
      "cell_type": "code",
      "execution_count": null,
      "metadata": {
        "id": "1VVkS0dbTxzN"
      },
      "outputs": [],
      "source": [
        "clf.fit(x, y)"
      ]
    },
    {
      "cell_type": "code",
      "execution_count": null,
      "metadata": {
        "id": "LlsjJk71TEEb"
      },
      "outputs": [],
      "source": [
        "a = clf.coef_\n",
        "b = clf.intercept_\n",
        "print(a, b)"
      ]
    },
    {
      "cell_type": "markdown",
      "metadata": {
        "id": "PH2jQvPQUOhc"
      },
      "source": [
        "* どのような関数が、２値分類を実現する関数として推定されたのか、描いてみる。"
      ]
    },
    {
      "cell_type": "code",
      "execution_count": null,
      "metadata": {
        "id": "VB85Rp0DTTj0"
      },
      "outputs": [],
      "source": [
        "fig = plt.figure(figsize=(10,7))\n",
        "xs = np.linspace(0,9,101)\n",
        "ys = clf.predict_proba(xs.reshape(-1,1))\n",
        "plt.plot(x, y, '.')\n",
        "plt.plot(xs, ys[:,1])\n",
        "plt.show()"
      ]
    },
    {
      "cell_type": "markdown",
      "source": [
        "# 課題20250623（正則化のある線形回帰モデルの復習）\n",
        "* scikit-learnの糖尿病データセットを使って、病気の進行度を予測するモデルを作ろう。\n",
        "* 試すのは、リッジ回帰だけで良い。\n",
        "* 下にコードを示すので、alphaの値のチューニングを自分で実施し、ベストなalphaの値を探してみよう。\n",
        "* 参考資料\n",
        "  * https://scikit-learn.org/stable/datasets/toy_dataset.html#diabetes-dataset"
      ],
      "metadata": {
        "id": "iJqjMQl1UOEm"
      }
    },
    {
      "cell_type": "code",
      "source": [
        "from sklearn.datasets import load_diabetes\n",
        "from sklearn.linear_model import Ridge\n",
        "from sklearn.model_selection import train_test_split\n",
        "from sklearn.metrics import root_mean_squared_error\n",
        "\n",
        "diabates = load_diabetes()\n",
        "X = diabates.data\n",
        "y = diabates.target\n",
        "\n",
        "X_train_val, X_test, y_train_val, y_test = train_test_split(X, y, test_size=0.2, random_state=42)\n",
        "X_train, X_val, y_train, y_val = train_test_split(X_train_val, y_train_val, test_size=0.25, random_state=42)\n",
        "\n",
        "alpha = 0.1\n",
        "reg = Ridge(alpha=alpha)\n",
        "reg.fit(X_train, y_train)\n",
        "y_pred = reg.predict(X_val)\n",
        "rmse_ridge = root_mean_squared_error(y_val, y_pred)\n",
        "print(f\"Ridge alpha={alpha} RMSE: {rmse_ridge:.2f}\")\n",
        "\n",
        "best_alpha = alpha\n",
        "reg = Ridge(alpha=best_alpha)\n",
        "reg.fit(X_train_val, y_train_val)\n",
        "y_pred_test = reg.predict(X_test)\n",
        "rmse_ridge_test = root_mean_squared_error(y_test, y_pred_test)\n",
        "print(f\"Ridge alpha={best_alpha} RMSE on test set: {rmse_ridge_test:.2f}\")"
      ],
      "metadata": {
        "id": "fZGYV7RKWzgY"
      },
      "execution_count": null,
      "outputs": []
    },
    {
      "cell_type": "markdown",
      "source": [
        "----"
      ],
      "metadata": {
        "id": "gYt26FLJX3Gd"
      }
    },
    {
      "cell_type": "markdown",
      "source": [
        "# ロジスティック回帰の応用"
      ],
      "metadata": {
        "id": "VQ1p3XMgX1V7"
      }
    },
    {
      "cell_type": "markdown",
      "metadata": {
        "id": "hLkP2yeo_h8i"
      },
      "source": [
        "## 手書き数字画像の分類\n",
        "* digitsデータセットを使う。\n",
        "* ただし、digitsデータセットは10値分類なので・・・\n",
        "* 今回は、「0」かそうでないかの、2値分類問題を、ロジスティック回帰で解く。"
      ]
    },
    {
      "cell_type": "code",
      "execution_count": null,
      "metadata": {
        "id": "dB8oUPsz-tNf"
      },
      "outputs": [],
      "source": [
        "from sklearn.datasets import load_digits\n",
        "digits = load_digits()"
      ]
    },
    {
      "cell_type": "markdown",
      "metadata": {
        "id": "dEY_Nts7AK9C"
      },
      "source": [
        "### 訓練データ/検証データ/テストデータに分割"
      ]
    },
    {
      "cell_type": "code",
      "source": [
        "from sklearn.model_selection import train_test_split"
      ],
      "metadata": {
        "id": "A_90sjwPLpcp"
      },
      "execution_count": null,
      "outputs": []
    },
    {
      "cell_type": "code",
      "execution_count": null,
      "metadata": {
        "id": "lb7xXmL-AEqk"
      },
      "outputs": [],
      "source": [
        "X_train_val, X_test, y_train_val, y_test = train_test_split(\n",
        "    digits.data,\n",
        "    digits.target,\n",
        "    test_size=0.2,\n",
        "    random_state=42,\n",
        ")"
      ]
    },
    {
      "cell_type": "code",
      "source": [
        "X_train, X_val, y_train, y_val = train_test_split(\n",
        "    X_train_val,\n",
        "    y_train_val,\n",
        "    test_size=0.25,\n",
        "    random_state=42,\n",
        ")"
      ],
      "metadata": {
        "id": "GdQBJbUVLcjK"
      },
      "execution_count": null,
      "outputs": []
    },
    {
      "cell_type": "code",
      "source": [
        "print(X_train.shape, X_val.shape, X_test.shape)"
      ],
      "metadata": {
        "id": "i0Oxgz_HLeCi"
      },
      "execution_count": null,
      "outputs": []
    },
    {
      "cell_type": "code",
      "execution_count": null,
      "metadata": {
        "id": "ssBlX-i0yxQz"
      },
      "outputs": [],
      "source": [
        "np.unique(y_train)"
      ]
    },
    {
      "cell_type": "markdown",
      "metadata": {
        "id": "68j3S9r6AVI1"
      },
      "source": [
        "### ２値分類の問題へ変える\n",
        "* 「0」であるものは正解ラベルを0、そうでないものは全て正解ラベルを1にする。"
      ]
    },
    {
      "cell_type": "code",
      "execution_count": null,
      "metadata": {
        "id": "YKSNlRt0AQG0"
      },
      "outputs": [],
      "source": [
        "y_train = (y_train != 0) * 1"
      ]
    },
    {
      "cell_type": "markdown",
      "metadata": {
        "id": "IfDFK-4Cy6lU"
      },
      "source": [
        "* クラスラベルは0と1だけになっている。"
      ]
    },
    {
      "cell_type": "code",
      "execution_count": null,
      "metadata": {
        "id": "3fbDxzqRAglj"
      },
      "outputs": [],
      "source": [
        "np.unique(y_train)"
      ]
    },
    {
      "cell_type": "markdown",
      "metadata": {
        "id": "8owmxFTIbp2I"
      },
      "source": [
        "* 検証データとテストデータも同様にラベルを変更する。"
      ]
    },
    {
      "cell_type": "code",
      "execution_count": null,
      "metadata": {
        "id": "54wotJhDAljC"
      },
      "outputs": [],
      "source": [
        "y_val = (y_val != 0) * 1\n",
        "y_test = (y_test != 0) * 1"
      ]
    },
    {
      "cell_type": "markdown",
      "metadata": {
        "id": "fCaefTJ-A7I5"
      },
      "source": [
        "### ロジスティック回帰で２値分類"
      ]
    },
    {
      "cell_type": "markdown",
      "metadata": {
        "id": "tGsmiaaGCZ2M"
      },
      "source": [
        "* ロジスティック回帰の予測の式\n",
        "  * $i$番目のデータについて、以下の式で、0/1の２値ラベルを予測する。\n",
        "$$ p_i = \\frac{1}{1 + e^{ - ( \\beta_0 + \\beta_1 x_{i,1} + \\cdots + \\beta_d x_{i, d} ) }} $$\n",
        "\n",
        "* 真のラベル$t_i$とのズレを表す式\n",
        "$$ - \\{ t_i \\log p_i + ( 1 - t_i ) \\log (1 - p_i) \\} $$\n",
        "  * この式の値を全てのデータ点にわたって足し合わせたものを最小化する。"
      ]
    },
    {
      "cell_type": "markdown",
      "metadata": {
        "id": "gwFCGZ5SBLk5"
      },
      "source": [
        "* モデルを準備し、訓練データを渡して係数と切片を推定させる。"
      ]
    },
    {
      "cell_type": "code",
      "execution_count": null,
      "metadata": {
        "id": "_-R0n5yrA-XJ"
      },
      "outputs": [],
      "source": [
        "clf = LogisticRegression()\n",
        "clf.fit(X_train, y_train)"
      ]
    },
    {
      "cell_type": "markdown",
      "metadata": {
        "id": "kb79aQODBJG4"
      },
      "source": [
        "* `max_iter`を増やしてみる"
      ]
    },
    {
      "cell_type": "code",
      "execution_count": null,
      "metadata": {
        "id": "VZ9D3fY-BBsq"
      },
      "outputs": [],
      "source": [
        "clf = LogisticRegression(max_iter=1000)\n",
        "clf.fit(X_train, y_train)"
      ]
    },
    {
      "cell_type": "code",
      "execution_count": null,
      "metadata": {
        "id": "So5gRVh9BRBj"
      },
      "outputs": [],
      "source": [
        "print(f'Accuracy: {clf.score(X_val, y_val):.4f}')"
      ]
    },
    {
      "cell_type": "markdown",
      "metadata": {
        "id": "UMAM9JHYdBxA"
      },
      "source": [
        "* digitsデータを0とそれ以外の2値分類にしてしまうと、問題として簡単になってしまうらしい・・・。"
      ]
    },
    {
      "cell_type": "markdown",
      "metadata": {
        "id": "jW09_g8mBZAc"
      },
      "source": [
        "## MNISTデータ"
      ]
    },
    {
      "cell_type": "markdown",
      "metadata": {
        "id": "VuSLyxWiU0bn"
      },
      "source": [
        "### データの３分割とEDA"
      ]
    },
    {
      "cell_type": "markdown",
      "metadata": {
        "id": "qalamp07dMpR"
      },
      "source": [
        "* scikit-learnに用意されている仕組みを利用してMNISTデータをダウンロードする。"
      ]
    },
    {
      "cell_type": "code",
      "execution_count": null,
      "metadata": {
        "id": "k5T4xL1tBWoV"
      },
      "outputs": [],
      "source": [
        "from sklearn.datasets import fetch_openml\n",
        "mnist = fetch_openml('mnist_784')"
      ]
    },
    {
      "cell_type": "code",
      "source": [
        "X, y = mnist.data, mnist.target"
      ],
      "metadata": {
        "id": "iXF3u41vQyWy"
      },
      "execution_count": null,
      "outputs": []
    },
    {
      "cell_type": "code",
      "source": [
        "print(X.shape, y.shape)"
      ],
      "metadata": {
        "id": "ilF0N7T9Qziv"
      },
      "execution_count": null,
      "outputs": []
    },
    {
      "cell_type": "markdown",
      "metadata": {
        "id": "7ActyQkLdS4d"
      },
      "source": [
        "* 通常、MNISTデータは最後の10000件をテストデータとして使う。"
      ]
    },
    {
      "cell_type": "code",
      "execution_count": null,
      "metadata": {
        "id": "xAcCKb0_Bgud"
      },
      "outputs": [],
      "source": [
        "X_train, X_test = X[:60000], X[60000:]\n",
        "y_train, y_test = y[:60000], y[60000:]"
      ]
    },
    {
      "cell_type": "markdown",
      "metadata": {
        "id": "JX8Jf3OPdeIE"
      },
      "source": [
        "* テストデータ以外の60000件を、訓練データ50000件と検証データ10000件へ分割しておく。"
      ]
    },
    {
      "cell_type": "code",
      "execution_count": null,
      "metadata": {
        "id": "Hf0hxjN0BlcM"
      },
      "outputs": [],
      "source": [
        "X_train, X_val, y_train, y_val = train_test_split(\n",
        "    X_train,\n",
        "    y_train,\n",
        "    test_size=10000,\n",
        "    random_state=42,\n",
        ")"
      ]
    },
    {
      "cell_type": "code",
      "execution_count": null,
      "metadata": {
        "id": "UlnqcUGzBsA2"
      },
      "outputs": [],
      "source": [
        "print(X_train.shape, X_val.shape, X_test.shape)"
      ]
    },
    {
      "cell_type": "markdown",
      "metadata": {
        "id": "yXo3NAZXzu2S"
      },
      "source": [
        "* 訓練データから一つの画像を眺めてみる。"
      ]
    },
    {
      "cell_type": "code",
      "execution_count": null,
      "metadata": {
        "id": "3IMlCRFYz4qj"
      },
      "outputs": [],
      "source": [
        "type(X_train)"
      ]
    },
    {
      "cell_type": "code",
      "execution_count": null,
      "metadata": {
        "id": "hj6Kf1mvzmEI"
      },
      "outputs": [],
      "source": [
        "plt.imshow(X_train.values[0].reshape(28, -1), cmap=plt.cm.gray);"
      ]
    },
    {
      "cell_type": "markdown",
      "metadata": {
        "id": "QecEjxyMdXQe"
      },
      "source": [
        "* 訓練データの最初の100個を可視化してみる。"
      ]
    },
    {
      "cell_type": "code",
      "execution_count": null,
      "metadata": {
        "id": "zacmZ9O3BjVW"
      },
      "outputs": [],
      "source": [
        "fig, axes = plt.subplots(10, 10)\n",
        "for x, ax in zip(X_train.values, axes.ravel()):\n",
        "  ax.axis('off') # 軸を消す\n",
        "  ax.matshow(x.reshape(28, 28), cmap=plt.cm.gray)\n",
        "plt.show()"
      ]
    },
    {
      "cell_type": "markdown",
      "metadata": {
        "id": "F3sU13WRB6F3"
      },
      "source": [
        "* 問題を２値分類問題に変える。\n",
        " * 0とそれ以外の2値分類問題にしてしまう。"
      ]
    },
    {
      "cell_type": "code",
      "execution_count": null,
      "metadata": {
        "id": "Znn2YGyvBw4W"
      },
      "outputs": [],
      "source": [
        "y_train = (y_train != '0') * 1\n",
        "y_val = (y_val != '0') * 1\n",
        "y_test = (y_test != '0') * 1"
      ]
    },
    {
      "cell_type": "code",
      "execution_count": null,
      "metadata": {
        "id": "onJS3wEufkyr"
      },
      "outputs": [],
      "source": [
        "print(f'{(y_train == 0).sum()} zero digits and {(y_train == 1).sum()} non-zero digits in training set')"
      ]
    },
    {
      "cell_type": "markdown",
      "metadata": {
        "id": "BwClOs7ZduMt"
      },
      "source": [
        "## ロジスティック回帰による分類の実行\n",
        "* ロジスティック回帰を準備し、訓練データを渡して係数と切片を推定させる。\n",
        "  * 訓練データの個数が多いので、少し時間がかかる。\n",
        "  * 推定計算が収束しない場合は、`max_iter`を増やしてみる（デフォルトの設定は`max_iter=100`）。\n",
        "  * `solver`（最適化アルゴリズムの設定）を`'saga'`にしているのは、こうしないと時間がかかってしまうため。"
      ]
    },
    {
      "cell_type": "markdown",
      "metadata": {
        "id": "n8X4NBHhb8Zq"
      },
      "source": [
        "## ロジスティック回帰での正則化\n",
        "* scikit-learnのロジスティック回帰では、`C`というパラメータを調整する。\n",
        "* `C`は、小さいほど、正則化が強く効く＝係数をより強くゼロに近づける。\n",
        "  * デフォルトの設定は`C=1.0`。\n",
        "  * リッジ回帰やLassoの`alpha`とは、向きが逆であることに、注意。\n",
        "* 正則化の種類は`penalty`を`'l2'`か`'l1'`に設定することでおこなう。\n",
        "  * `l2`だと、係数の二乗の和を最小化する。\n",
        "  * `l1`だと、係数の絶対値の和を最小化する。"
      ]
    },
    {
      "cell_type": "code",
      "execution_count": null,
      "metadata": {
        "colab": {
          "background_save": true
        },
        "id": "eANdkjTaB5gF"
      },
      "outputs": [],
      "source": [
        "clf = LogisticRegression(penalty='l2', solver='saga', max_iter=500)"
      ]
    },
    {
      "cell_type": "code",
      "source": [
        "clf.fit(X_train[::10], y_train[::10])"
      ],
      "metadata": {
        "id": "jRnXiZWWRCfV"
      },
      "execution_count": null,
      "outputs": []
    },
    {
      "cell_type": "markdown",
      "metadata": {
        "id": "iYqREMGV0vMj"
      },
      "source": [
        "* 検証データで評価\n",
        "  * テストデータは最終評価で一回使うだけです。"
      ]
    },
    {
      "cell_type": "code",
      "execution_count": null,
      "metadata": {
        "id": "qywf9D3xCAgM"
      },
      "outputs": [],
      "source": [
        "print(f'Accuracy: {clf.score(X_val, y_val):.4f}')"
      ]
    },
    {
      "cell_type": "markdown",
      "metadata": {
        "id": "kITRwRt2kX7f"
      },
      "source": [
        "* 推定された係数を可視化してみる。"
      ]
    },
    {
      "cell_type": "code",
      "execution_count": null,
      "metadata": {
        "id": "yEvBK8yUkXLO"
      },
      "outputs": [],
      "source": [
        "plt.imshow(clf.coef_.reshape(28,28), cmap=plt.cm.gray);"
      ]
    },
    {
      "cell_type": "markdown",
      "metadata": {
        "id": "uXvvYHellZW9"
      },
      "source": [
        "## 今回の設定をテストデータ上で評価"
      ]
    },
    {
      "cell_type": "code",
      "execution_count": null,
      "metadata": {
        "id": "xKJT7Fe0kZy3"
      },
      "outputs": [],
      "source": [
        "clf = LogisticRegression(penalty='l2', solver='saga', max_iter=500)\n",
        "clf.fit(X_train_val, y_train_val)\n",
        "print(f'Accuracy: {clf.score(X_test, y_test):.4f}')"
      ]
    },
    {
      "cell_type": "markdown",
      "metadata": {
        "id": "5WIF_MvV0UMe"
      },
      "source": [
        "# 課題20250630\n",
        "* 検証データでの性能がより良い性能になるよう、モデルの設定を調整して訓練データにモデルをfitさせ、検証データで評価する、ということを繰り返し行なってみよう。\n",
        "* そして、このようにして見つけ出した最良の設定を使って、最後にテストデータで評価しよう。"
      ]
    },
    {
      "cell_type": "code",
      "execution_count": null,
      "metadata": {
        "id": "GIHsNtaE0l5N"
      },
      "outputs": [],
      "source": []
    }
  ],
  "metadata": {
    "colab": {
      "provenance": [],
      "authorship_tag": "ABX9TyNX1+a8szmq9IOojQh+O4tI",
      "include_colab_link": true
    },
    "kernelspec": {
      "display_name": "Python 3",
      "name": "python3"
    },
    "language_info": {
      "name": "python"
    }
  },
  "nbformat": 4,
  "nbformat_minor": 0
}