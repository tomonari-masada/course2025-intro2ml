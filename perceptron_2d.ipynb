{
  "cells": [
    {
      "cell_type": "markdown",
      "metadata": {
        "id": "view-in-github",
        "colab_type": "text"
      },
      "source": [
        "<a href=\"https://colab.research.google.com/github/tomonari-masada/course2025-intro2ml/blob/main/perceptron_2d.ipynb\" target=\"_parent\"><img src=\"https://colab.research.google.com/assets/colab-badge.svg\" alt=\"Open In Colab\"/></a>"
      ]
    },
    {
      "cell_type": "code",
      "execution_count": null,
      "id": "2d9789fa",
      "metadata": {
        "id": "2d9789fa"
      },
      "outputs": [],
      "source": [
        "import numpy as np\n",
        "import matplotlib.pyplot as plt\n",
        "\n",
        "%config InlineBackend.figure_format = 'retina'\n",
        "\n",
        "np.random.seed(0)"
      ]
    },
    {
      "cell_type": "code",
      "execution_count": null,
      "id": "dbdc3a7a",
      "metadata": {
        "id": "dbdc3a7a"
      },
      "outputs": [],
      "source": [
        "x = [[1,4], [4,6], [3,2], [7,3]]\n",
        "X = np.array(x).reshape(-1, 2)\n",
        "y = [-1, -1, 1, 1]"
      ]
    },
    {
      "cell_type": "code",
      "execution_count": null,
      "id": "e77ecbc5",
      "metadata": {
        "id": "e77ecbc5"
      },
      "outputs": [],
      "source": [
        "def draw_dataset(X, y):\n",
        "    plt.figure(figsize=(4, 4))\n",
        "    plt.gca().set_aspect('equal', adjustable='box')\n",
        "    plt.xlim(-8, 8)\n",
        "    plt.ylim(-8, 8)\n",
        "    plt.scatter(X[:, 0], X[:, 1], c=y, s=100, cmap='bwr', edgecolors='k')"
      ]
    },
    {
      "cell_type": "code",
      "execution_count": null,
      "id": "1fcfc9c9",
      "metadata": {
        "id": "1fcfc9c9"
      },
      "outputs": [],
      "source": [
        "draw_dataset(X, y)"
      ]
    },
    {
      "cell_type": "code",
      "execution_count": null,
      "id": "15b15f1c",
      "metadata": {
        "id": "15b15f1c"
      },
      "outputs": [],
      "source": [
        "def update_in_perceptron(X, y, w, b, learning_rate=0.1):\n",
        "    i = np.random.randint(len(y)) # データ点をランダムに選択\n",
        "    # パーセプトロンの更新ルール\n",
        "    if y[i] * (np.dot(w, X[i]) + b) <= 0:\n",
        "        w += learning_rate * y[i] * X[i]\n",
        "        b += learning_rate * y[i]\n",
        "    return w, b"
      ]
    },
    {
      "cell_type": "code",
      "execution_count": null,
      "id": "54b7aedd",
      "metadata": {
        "id": "54b7aedd"
      },
      "outputs": [],
      "source": [
        "w = np.random.rand(2)\n",
        "b = 0.0\n",
        "learning_rate = 0.1"
      ]
    },
    {
      "cell_type": "code",
      "execution_count": null,
      "id": "f6f92934",
      "metadata": {
        "id": "f6f92934"
      },
      "outputs": [],
      "source": [
        "def draw_dataset_and_decision_boundary(X, y, w, b):\n",
        "    plt.figure(figsize=(4, 4))\n",
        "    plt.xlim(-8, 8)\n",
        "    plt.ylim(-8, 8)\n",
        "    plt.gca().set_aspect('equal', adjustable='box')\n",
        "    plt.scatter(X[:, 0], X[:, 1], c=y, s=100, cmap='bwr', edgecolors='k')\n",
        "    x_min, x_max = plt.xlim()\n",
        "    y_min = -(w[0] * x_min + b) / w[1]\n",
        "    y_max = -(w[0] * x_max + b) / w[1]\n",
        "    plt.plot([x_min, x_max], [y_min, y_max], color='black', lw=2)"
      ]
    },
    {
      "cell_type": "code",
      "execution_count": null,
      "id": "f34b6d5d",
      "metadata": {
        "id": "f34b6d5d"
      },
      "outputs": [],
      "source": [
        "draw_dataset_and_decision_boundary(X, y, w, b)"
      ]
    },
    {
      "cell_type": "code",
      "execution_count": null,
      "id": "a134d8bc",
      "metadata": {
        "id": "a134d8bc"
      },
      "outputs": [],
      "source": [
        "w, b = update_in_perceptron(X, y, w, b, learning_rate)\n",
        "draw_dataset_and_decision_boundary(X, y, w, b)"
      ]
    },
    {
      "cell_type": "code",
      "source": [],
      "metadata": {
        "id": "Mks6yanFqNxB"
      },
      "id": "Mks6yanFqNxB",
      "execution_count": null,
      "outputs": []
    }
  ],
  "metadata": {
    "kernelspec": {
      "display_name": "python",
      "language": "python",
      "name": "python3"
    },
    "language_info": {
      "codemirror_mode": {
        "name": "ipython",
        "version": 3
      },
      "file_extension": ".py",
      "mimetype": "text/x-python",
      "name": "python",
      "nbconvert_exporter": "python",
      "pygments_lexer": "ipython3",
      "version": "3.12.11"
    },
    "colab": {
      "provenance": [],
      "include_colab_link": true
    }
  },
  "nbformat": 4,
  "nbformat_minor": 5
}