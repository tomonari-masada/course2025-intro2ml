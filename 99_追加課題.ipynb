{
  "nbformat": 4,
  "nbformat_minor": 0,
  "metadata": {
    "colab": {
      "provenance": [],
      "authorship_tag": "ABX9TyN89IfGZsySLLyhPqFJvU/k",
      "include_colab_link": true
    },
    "kernelspec": {
      "name": "python3",
      "display_name": "Python 3"
    },
    "language_info": {
      "name": "python"
    }
  },
  "cells": [
    {
      "cell_type": "markdown",
      "metadata": {
        "id": "view-in-github",
        "colab_type": "text"
      },
      "source": [
        "<a href=\"https://colab.research.google.com/github/tomonari-masada/course2025-intro2ml/blob/main/99_%E8%BF%BD%E5%8A%A0%E8%AA%B2%E9%A1%8C.ipynb\" target=\"_parent\"><img src=\"https://colab.research.google.com/assets/colab-badge.svg\" alt=\"Open In Colab\"/></a>"
      ]
    },
    {
      "cell_type": "markdown",
      "source": [
        "# 追加課題\n",
        "* 注1: 点数は、一問あたり10点。よって、合計50点。\n",
        "* 注2: 課題全体の点数を50点満点に換算する場合の分母も、50点増える。\n",
        "  * つまり、10点をとれなかった過去の課題をそのまま補填できるわけではないです。"
      ],
      "metadata": {
        "id": "jl1DxgiPN_u7"
      }
    },
    {
      "cell_type": "markdown",
      "source": [
        "### 追加課題に答えると、課題全体の点数がどう変化するか\n",
        "* 課題全体の点数は、50点満点に換算されて、成績評価に使われる。（シラバスに書いてあるとおり。）\n",
        "* 課題20250414から課題20250714まで、11個の課題を出した。\n",
        "* ということは、課題全体の点数は・・・\n",
        "* 課題20250414から課題20250714までの合計点数を、110で割って、50を掛け算した値になる。\n",
        "* 追加課題に答えると、課題全体の点数は・・・\n",
        "* 課題20250414から課題20250714までの合計点数に追加課題で採れた点数を足した点数を、110+50=160で割って、50を掛け算した値になる。"
      ],
      "metadata": {
        "id": "isWbjuYgRYXF"
      }
    },
    {
      "cell_type": "markdown",
      "source": [
        "----\n"
      ],
      "metadata": {
        "id": "-vF6NRHpRYx1"
      }
    },
    {
      "cell_type": "markdown",
      "source": [
        "(1) 1から10までの整数を含む配列を作成し、その配列の要素の合計を計算して表示するPythonのコードを書け。"
      ],
      "metadata": {
        "id": "sYlZGfMtMsgO"
      }
    },
    {
      "cell_type": "code",
      "execution_count": null,
      "metadata": {
        "id": "8-1j5HlzMp8W"
      },
      "outputs": [],
      "source": []
    },
    {
      "cell_type": "markdown",
      "source": [
        "(2) 0から2πまでの101個の値の配列を作成し、これら101個の値のsin（正弦）を求め、そのグラフを描くPythonのコードを書け。"
      ],
      "metadata": {
        "id": "l-GsvlCaMzyj"
      }
    },
    {
      "cell_type": "code",
      "source": [],
      "metadata": {
        "id": "Op6sNfFiO3Es"
      },
      "execution_count": null,
      "outputs": []
    },
    {
      "cell_type": "markdown",
      "source": [
        "(3) 1から100の間の20個のランダムな整数を含むの配列を作成し、その配列の要素の平均値、中央値、標準偏差を計算して表示するPythonのコードを書け。"
      ],
      "metadata": {
        "id": "zZEwcd13NLvu"
      }
    },
    {
      "cell_type": "code",
      "source": [],
      "metadata": {
        "id": "agkgQMCqO3_i"
      },
      "execution_count": null,
      "outputs": []
    },
    {
      "cell_type": "markdown",
      "source": [
        "(4) numpy.random.randn()という関数を使って、標準正規乱数を1000個生成し、そのヒストグラムを描くPythonのコードを書け。"
      ],
      "metadata": {
        "id": "P15LqcW3NX9V"
      }
    },
    {
      "cell_type": "code",
      "source": [],
      "metadata": {
        "id": "Dd-zMUvSO4rV"
      },
      "execution_count": null,
      "outputs": []
    },
    {
      "cell_type": "markdown",
      "source": [
        "(5) numpy.random.rand()という関数を使って、50個の一様乱数を含む配列を二つ作成し、これら二つの配列をもとに散布図を描くPythonコードを書け。"
      ],
      "metadata": {
        "id": "kGVKLIHbNum5"
      }
    },
    {
      "cell_type": "code",
      "source": [],
      "metadata": {
        "id": "T1V-MnS8O5ZY"
      },
      "execution_count": null,
      "outputs": []
    }
  ]
}