{
  "nbformat": 4,
  "nbformat_minor": 0,
  "metadata": {
    "colab": {
      "provenance": [],
      "authorship_tag": "ABX9TyMoh1w3uq2wwrPRxzr5SBpj",
      "include_colab_link": true
    },
    "kernelspec": {
      "name": "python3",
      "display_name": "Python 3"
    },
    "language_info": {
      "name": "python"
    }
  },
  "cells": [
    {
      "cell_type": "markdown",
      "metadata": {
        "id": "view-in-github",
        "colab_type": "text"
      },
      "source": [
        "<a href=\"https://colab.research.google.com/github/tomonari-masada/course2025-intro2ml/blob/main/03_Python_2_%E6%8E%88%E6%A5%AD%E4%B8%AD.ipynb\" target=\"_parent\"><img src=\"https://colab.research.google.com/assets/colab-badge.svg\" alt=\"Open In Colab\"/></a>"
      ]
    },
    {
      "cell_type": "markdown",
      "metadata": {
        "id": "nnrbBOomw2H4"
      },
      "source": [
        "# Python入門 (2)"
      ]
    },
    {
      "cell_type": "markdown",
      "source": [
        "## リスト\n",
        "* 順序型の一つ。\n",
        "  * 文字列型も順序型だった。\n",
        "* リストの要素としては何でも使える。\n",
        "  * intでもfloatでもなんでもよい。"
      ],
      "metadata": {
        "id": "tfhmFeHkvkNs"
      }
    },
    {
      "cell_type": "code",
      "source": [
        "a = [ 2.5, -8.0, 1.7, 4.4, -0.6 ]\n",
        "print(a)"
      ],
      "metadata": {
        "id": "4mVFNN2Ivlxy",
        "colab": {
          "base_uri": "https://localhost:8080/"
        },
        "outputId": "6ca81724-c29f-426c-f4fc-65c381b73564"
      },
      "execution_count": 1,
      "outputs": [
        {
          "output_type": "stream",
          "name": "stdout",
          "text": [
            "[2.5, -8.0, 1.7, 4.4, -0.6]\n"
          ]
        }
      ]
    },
    {
      "cell_type": "code",
      "source": [
        "print(a[2])"
      ],
      "metadata": {
        "id": "r_G_5wC3vxHa",
        "colab": {
          "base_uri": "https://localhost:8080/"
        },
        "outputId": "b35de282-a3bd-4c2f-eccf-26daddceabd6"
      },
      "execution_count": 2,
      "outputs": [
        {
          "output_type": "stream",
          "name": "stdout",
          "text": [
            "1.7\n"
          ]
        }
      ]
    },
    {
      "cell_type": "code",
      "source": [
        "print(len(a))"
      ],
      "metadata": {
        "id": "9dCCg9WGvyim",
        "colab": {
          "base_uri": "https://localhost:8080/"
        },
        "outputId": "2d8fa7aa-3ec5-41be-b17c-8f53ad78b002"
      },
      "execution_count": 3,
      "outputs": [
        {
          "output_type": "stream",
          "name": "stdout",
          "text": [
            "5\n"
          ]
        }
      ]
    },
    {
      "cell_type": "code",
      "source": [
        "print(a[-1])"
      ],
      "metadata": {
        "id": "Z8khW9GZvzSo",
        "colab": {
          "base_uri": "https://localhost:8080/"
        },
        "outputId": "c72ca75a-fe3d-4437-a72d-7c50af67ba43"
      },
      "execution_count": 4,
      "outputs": [
        {
          "output_type": "stream",
          "name": "stdout",
          "text": [
            "-0.6\n"
          ]
        }
      ]
    },
    {
      "cell_type": "code",
      "source": [
        "print(a[-2])"
      ],
      "metadata": {
        "colab": {
          "base_uri": "https://localhost:8080/"
        },
        "id": "rUek1a4ZiTcf",
        "outputId": "ca4ad39a-138f-4474-f22b-80ffb940b52f"
      },
      "execution_count": 5,
      "outputs": [
        {
          "output_type": "stream",
          "name": "stdout",
          "text": [
            "4.4\n"
          ]
        }
      ]
    },
    {
      "cell_type": "markdown",
      "source": [
        "* スライシング"
      ],
      "metadata": {
        "id": "4V5c07tVAj0f"
      }
    },
    {
      "cell_type": "code",
      "source": [
        "print(a[1:4])"
      ],
      "metadata": {
        "id": "mPI29d4WAhRz",
        "colab": {
          "base_uri": "https://localhost:8080/"
        },
        "outputId": "b79145d7-2ff6-4bd2-9c3f-6c0c50194c40"
      },
      "execution_count": 6,
      "outputs": [
        {
          "output_type": "stream",
          "name": "stdout",
          "text": [
            "[-8.0, 1.7, 4.4]\n"
          ]
        }
      ]
    },
    {
      "cell_type": "markdown",
      "source": [
        "* 要素を変更することもできる。"
      ],
      "metadata": {
        "id": "ybtZ4hDzv0dn"
      }
    },
    {
      "cell_type": "code",
      "source": [
        "a[3] = 4.3\n",
        "print(a)"
      ],
      "metadata": {
        "id": "w3jSXRqBv0Du",
        "colab": {
          "base_uri": "https://localhost:8080/"
        },
        "outputId": "60f6ffac-3c23-49b9-c610-e37f07b0fa7b"
      },
      "execution_count": 7,
      "outputs": [
        {
          "output_type": "stream",
          "name": "stdout",
          "text": [
            "[2.5, -8.0, 1.7, 4.3, -0.6]\n"
          ]
        }
      ]
    },
    {
      "cell_type": "code",
      "source": [
        "my_string = \"hello\"\n",
        "my_string[1] = \"E\"\n",
        "print(my_string)"
      ],
      "metadata": {
        "colab": {
          "base_uri": "https://localhost:8080/",
          "height": 192
        },
        "id": "1iCfs7B-i7eD",
        "outputId": "dd35a591-7b74-4bcb-e4e8-934fbf1c6c20"
      },
      "execution_count": 10,
      "outputs": [
        {
          "output_type": "error",
          "ename": "TypeError",
          "evalue": "'str' object does not support item assignment",
          "traceback": [
            "\u001b[0;31m---------------------------------------------------------------------------\u001b[0m",
            "\u001b[0;31mTypeError\u001b[0m                                 Traceback (most recent call last)",
            "\u001b[0;32m<ipython-input-10-a9db6443f36e>\u001b[0m in \u001b[0;36m<cell line: 0>\u001b[0;34m()\u001b[0m\n\u001b[1;32m      1\u001b[0m \u001b[0mmy_string\u001b[0m \u001b[0;34m=\u001b[0m \u001b[0;34m\"hello\"\u001b[0m\u001b[0;34m\u001b[0m\u001b[0;34m\u001b[0m\u001b[0m\n\u001b[0;32m----> 2\u001b[0;31m \u001b[0mmy_string\u001b[0m\u001b[0;34m[\u001b[0m\u001b[0;36m1\u001b[0m\u001b[0;34m]\u001b[0m \u001b[0;34m=\u001b[0m \u001b[0;34m\"E\"\u001b[0m\u001b[0;34m\u001b[0m\u001b[0;34m\u001b[0m\u001b[0m\n\u001b[0m\u001b[1;32m      3\u001b[0m \u001b[0mprint\u001b[0m\u001b[0;34m(\u001b[0m\u001b[0mmy_string\u001b[0m\u001b[0;34m)\u001b[0m\u001b[0;34m\u001b[0m\u001b[0;34m\u001b[0m\u001b[0m\n",
            "\u001b[0;31mTypeError\u001b[0m: 'str' object does not support item assignment"
          ]
        }
      ]
    },
    {
      "cell_type": "markdown",
      "source": [
        "### リストのスライシング(slicing)"
      ],
      "metadata": {
        "id": "9-k8CN8Hv-a-"
      }
    },
    {
      "cell_type": "code",
      "source": [
        "a = [ 2.5, -8.0, 1.7, 4.4, -0.6 ]"
      ],
      "metadata": {
        "id": "GQjqC4zuv97N"
      },
      "execution_count": 11,
      "outputs": []
    },
    {
      "cell_type": "code",
      "source": [
        "print(a[1:3])"
      ],
      "metadata": {
        "id": "KiJKzDAvwAe7",
        "colab": {
          "base_uri": "https://localhost:8080/"
        },
        "outputId": "8e6710f0-be9e-441d-f400-c8fe5bef0462"
      },
      "execution_count": 12,
      "outputs": [
        {
          "output_type": "stream",
          "name": "stdout",
          "text": [
            "[-8.0, 1.7]\n"
          ]
        }
      ]
    },
    {
      "cell_type": "code",
      "source": [
        "print(a[2:])"
      ],
      "metadata": {
        "id": "HI1OiOOkwBJt",
        "colab": {
          "base_uri": "https://localhost:8080/"
        },
        "outputId": "4402a80d-b41f-4bdd-9066-c366f7bf4fcf"
      },
      "execution_count": 13,
      "outputs": [
        {
          "output_type": "stream",
          "name": "stdout",
          "text": [
            "[1.7, 4.4, -0.6]\n"
          ]
        }
      ]
    },
    {
      "cell_type": "code",
      "source": [
        "print(a[:2])"
      ],
      "metadata": {
        "id": "r_0SwQOfwB6r",
        "colab": {
          "base_uri": "https://localhost:8080/"
        },
        "outputId": "8a64f282-c5a6-4747-8ec3-f2c5eb26d4d6"
      },
      "execution_count": 14,
      "outputs": [
        {
          "output_type": "stream",
          "name": "stdout",
          "text": [
            "[2.5, -8.0]\n"
          ]
        }
      ]
    },
    {
      "cell_type": "code",
      "source": [
        "print(a[0:5:2])   # index 0, index 2, index 4"
      ],
      "metadata": {
        "id": "A9AVxkCdwCse",
        "colab": {
          "base_uri": "https://localhost:8080/"
        },
        "outputId": "8c1456d4-cb1e-4b16-9910-d7a6f6da05ab"
      },
      "execution_count": 15,
      "outputs": [
        {
          "output_type": "stream",
          "name": "stdout",
          "text": [
            "[2.5, 1.7, -0.6]\n"
          ]
        }
      ]
    },
    {
      "cell_type": "markdown",
      "source": [
        "* 順番を逆にする。"
      ],
      "metadata": {
        "id": "vbRTsQprApIk"
      }
    },
    {
      "cell_type": "code",
      "source": [
        "print(a[:])"
      ],
      "metadata": {
        "colab": {
          "base_uri": "https://localhost:8080/"
        },
        "id": "5ZQHwFoykXry",
        "outputId": "7bf0990e-17b4-43c4-9b2f-1b7f438cc08d"
      },
      "execution_count": 17,
      "outputs": [
        {
          "output_type": "stream",
          "name": "stdout",
          "text": [
            "[2.5, -8.0, 1.7, 4.4, -0.6]\n"
          ]
        }
      ]
    },
    {
      "cell_type": "code",
      "source": [
        "print(a[::-1])"
      ],
      "metadata": {
        "id": "k-vJwLmUwDD3",
        "colab": {
          "base_uri": "https://localhost:8080/"
        },
        "outputId": "9b8a2a8b-25a5-459d-e158-3415ee13ecb9"
      },
      "execution_count": 16,
      "outputs": [
        {
          "output_type": "stream",
          "name": "stdout",
          "text": [
            "[-0.6, 4.4, 1.7, -8.0, 2.5]\n"
          ]
        }
      ]
    },
    {
      "cell_type": "code",
      "source": [
        "b = a[::-1]\n",
        "print(b)"
      ],
      "metadata": {
        "id": "6tyDMgO_Arz7",
        "colab": {
          "base_uri": "https://localhost:8080/"
        },
        "outputId": "fcadbdeb-4da6-428f-d5a7-e03545c46dbb"
      },
      "execution_count": 18,
      "outputs": [
        {
          "output_type": "stream",
          "name": "stdout",
          "text": [
            "[-0.6, 4.4, 1.7, -8.0, 2.5]\n"
          ]
        }
      ]
    },
    {
      "cell_type": "markdown",
      "source": [
        "### リストのメソッド\n",
        "* メソッドとは、特定の種類のオブジェクトだけに使える、処理のまとまりのこと。\n",
        "* リストには、リストに特化されたさまざまな処理が、メソッドとして実装されている。\n"
      ],
      "metadata": {
        "id": "YZ05hSRewIoY"
      }
    },
    {
      "cell_type": "code",
      "source": [
        "my_list = [ 2.5, -8.0, 1.7, 4.4, -0.6 ]"
      ],
      "metadata": {
        "id": "stI1WuIDwNTV"
      },
      "execution_count": 19,
      "outputs": []
    },
    {
      "cell_type": "markdown",
      "source": [
        "* 要素を末尾に追加"
      ],
      "metadata": {
        "id": "CQflE6h3BLrv"
      }
    },
    {
      "cell_type": "code",
      "source": [
        "my_list.append(-5.3)\n",
        "print(my_list)"
      ],
      "metadata": {
        "id": "oZ-2kzXKwOjr",
        "colab": {
          "base_uri": "https://localhost:8080/"
        },
        "outputId": "2d2b4b0a-31a7-4e9e-cf85-a7dfcd47b68e"
      },
      "execution_count": 20,
      "outputs": [
        {
          "output_type": "stream",
          "name": "stdout",
          "text": [
            "[2.5, -8.0, 1.7, 4.4, -0.6, -5.3]\n"
          ]
        }
      ]
    },
    {
      "cell_type": "markdown",
      "source": [
        "* 順番をひっくり返す"
      ],
      "metadata": {
        "id": "c-hyEarNBNbj"
      }
    },
    {
      "cell_type": "code",
      "source": [
        "my_list.reverse()\n",
        "print(my_list)"
      ],
      "metadata": {
        "id": "PWK04yzbwS2h",
        "colab": {
          "base_uri": "https://localhost:8080/"
        },
        "outputId": "d832391a-742e-4542-c634-a3910df1f5af"
      },
      "execution_count": 21,
      "outputs": [
        {
          "output_type": "stream",
          "name": "stdout",
          "text": [
            "[-5.3, -0.6, 4.4, 1.7, -8.0, 2.5]\n"
          ]
        }
      ]
    },
    {
      "cell_type": "markdown",
      "source": [
        "* 要素を並べ替える"
      ],
      "metadata": {
        "id": "4UUoK_Z1BPmz"
      }
    },
    {
      "cell_type": "code",
      "source": [
        "my_list.sort()\n",
        "print(my_list)"
      ],
      "metadata": {
        "id": "3cTbUw1RwUSw",
        "colab": {
          "base_uri": "https://localhost:8080/"
        },
        "outputId": "84be8fc6-c768-46b9-b9ba-2ab8731da8fe"
      },
      "execution_count": 22,
      "outputs": [
        {
          "output_type": "stream",
          "name": "stdout",
          "text": [
            "[-8.0, -5.3, -0.6, 1.7, 2.5, 4.4]\n"
          ]
        }
      ]
    },
    {
      "cell_type": "markdown",
      "source": [
        "### リストにおける要素の存在確認"
      ],
      "metadata": {
        "id": "YcQGEk1rwdqs"
      }
    },
    {
      "cell_type": "code",
      "source": [
        "list1 = [ 2.5, -8.0, 1.7, 4.4, -0.6 ]\n",
        "print(2.5 in list1)\n",
        "print(1.1 in list1)"
      ],
      "metadata": {
        "id": "P63Y3iwRwZW8",
        "colab": {
          "base_uri": "https://localhost:8080/"
        },
        "outputId": "bab53e6b-3e9b-4250-839f-fa41893cd33f"
      },
      "execution_count": 23,
      "outputs": [
        {
          "output_type": "stream",
          "name": "stdout",
          "text": [
            "True\n",
            "False\n"
          ]
        }
      ]
    },
    {
      "cell_type": "markdown",
      "source": [
        "## タプル (tuple)\n",
        "* リストと似ているが・・・\n",
        "* 要素を後から変更できない"
      ],
      "metadata": {
        "id": "OqQ6mEYSwgm7"
      }
    },
    {
      "cell_type": "code",
      "source": [
        "a = ( 2.5, -8.0, 1.7, 4.4, -0.6 )\n",
        "print(a)"
      ],
      "metadata": {
        "id": "N6HsCheOwgV4",
        "colab": {
          "base_uri": "https://localhost:8080/"
        },
        "outputId": "dc8bdc8a-62fe-4730-b812-136b4b970048"
      },
      "execution_count": 24,
      "outputs": [
        {
          "output_type": "stream",
          "name": "stdout",
          "text": [
            "(2.5, -8.0, 1.7, 4.4, -0.6)\n"
          ]
        }
      ]
    },
    {
      "cell_type": "code",
      "source": [
        "print(a[2])"
      ],
      "metadata": {
        "id": "EO0d5iQDwlFy",
        "colab": {
          "base_uri": "https://localhost:8080/"
        },
        "outputId": "20479fa2-6a96-4cd2-e146-b7a5bdc6d06a"
      },
      "execution_count": 25,
      "outputs": [
        {
          "output_type": "stream",
          "name": "stdout",
          "text": [
            "1.7\n"
          ]
        }
      ]
    },
    {
      "cell_type": "code",
      "source": [
        "print(len(a))"
      ],
      "metadata": {
        "id": "1cw1EPHkwlA8",
        "colab": {
          "base_uri": "https://localhost:8080/"
        },
        "outputId": "fb523897-d2a6-45f6-f524-5c7b1474fca3"
      },
      "execution_count": 26,
      "outputs": [
        {
          "output_type": "stream",
          "name": "stdout",
          "text": [
            "5\n"
          ]
        }
      ]
    },
    {
      "cell_type": "code",
      "source": [
        "print(a[-1])"
      ],
      "metadata": {
        "id": "tAe18Q5awk8b",
        "colab": {
          "base_uri": "https://localhost:8080/"
        },
        "outputId": "f481a7a6-ab3a-4fe5-d5e6-bbda260196ac"
      },
      "execution_count": 27,
      "outputs": [
        {
          "output_type": "stream",
          "name": "stdout",
          "text": [
            "-0.6\n"
          ]
        }
      ]
    },
    {
      "cell_type": "code",
      "source": [
        "print(a[1:4])"
      ],
      "metadata": {
        "id": "fwFOg_EeBcqo",
        "colab": {
          "base_uri": "https://localhost:8080/"
        },
        "outputId": "5d936dfd-5903-479e-a625-1aa8b07f9ca4"
      },
      "execution_count": 28,
      "outputs": [
        {
          "output_type": "stream",
          "name": "stdout",
          "text": [
            "(-8.0, 1.7, 4.4)\n"
          ]
        }
      ]
    },
    {
      "cell_type": "markdown",
      "source": [
        "* 後から中身を変更することはできない。"
      ],
      "metadata": {
        "id": "-RULwkdBzChk"
      }
    },
    {
      "cell_type": "code",
      "source": [
        "a[3] = 4.3 #エラーが出るはず"
      ],
      "metadata": {
        "id": "gsZyrv-1wk3t",
        "colab": {
          "base_uri": "https://localhost:8080/",
          "height": 153
        },
        "outputId": "b5b6b056-0499-4914-af0b-1c66f5cbe7b1"
      },
      "execution_count": 29,
      "outputs": [
        {
          "output_type": "error",
          "ename": "TypeError",
          "evalue": "'tuple' object does not support item assignment",
          "traceback": [
            "\u001b[0;31m---------------------------------------------------------------------------\u001b[0m",
            "\u001b[0;31mTypeError\u001b[0m                                 Traceback (most recent call last)",
            "\u001b[0;32m<ipython-input-29-2c1705c288b6>\u001b[0m in \u001b[0;36m<cell line: 0>\u001b[0;34m()\u001b[0m\n\u001b[0;32m----> 1\u001b[0;31m \u001b[0ma\u001b[0m\u001b[0;34m[\u001b[0m\u001b[0;36m3\u001b[0m\u001b[0;34m]\u001b[0m \u001b[0;34m=\u001b[0m \u001b[0;36m4.3\u001b[0m \u001b[0;31m#エラーが出るはず\u001b[0m\u001b[0;34m\u001b[0m\u001b[0;34m\u001b[0m\u001b[0m\n\u001b[0m",
            "\u001b[0;31mTypeError\u001b[0m: 'tuple' object does not support item assignment"
          ]
        }
      ]
    },
    {
      "cell_type": "markdown",
      "source": [
        "### タプルをリストに変換する"
      ],
      "metadata": {
        "id": "zs1ls4E6wvax"
      }
    },
    {
      "cell_type": "code",
      "source": [
        "b = list(a)\n",
        "print(b)"
      ],
      "metadata": {
        "id": "C_u498Sqwkwu",
        "colab": {
          "base_uri": "https://localhost:8080/"
        },
        "outputId": "4f6fc25f-7052-4c2c-9d61-042dde5d23a7"
      },
      "execution_count": 30,
      "outputs": [
        {
          "output_type": "stream",
          "name": "stdout",
          "text": [
            "[2.5, -8.0, 1.7, 4.4, -0.6]\n"
          ]
        }
      ]
    },
    {
      "cell_type": "markdown",
      "source": [
        " * リストに変換してしまえば、変更できる。"
      ],
      "metadata": {
        "id": "3zAfoP2szFPZ"
      }
    },
    {
      "cell_type": "code",
      "source": [
        "b[3] = 4.3\n",
        "print(b)"
      ],
      "metadata": {
        "id": "Ud6j9QBGwrZa",
        "colab": {
          "base_uri": "https://localhost:8080/"
        },
        "outputId": "33f6acc5-b4c7-4692-9e3a-25c4878424a2"
      },
      "execution_count": 31,
      "outputs": [
        {
          "output_type": "stream",
          "name": "stdout",
          "text": [
            "[2.5, -8.0, 1.7, 4.3, -0.6]\n"
          ]
        }
      ]
    },
    {
      "cell_type": "markdown",
      "source": [
        "## 辞書\n",
        "* キーと値のペアから成るデータ。\n",
        "* 辞書では、キーと値のペアには、順番はついていない。\n",
        "  * リストやタプルでは、要素にちゃんと順番が付いていた。\n"
      ],
      "metadata": {
        "id": "I5MC_3Fow0SD"
      }
    },
    {
      "cell_type": "code",
      "source": [
        "dic = {'one':1, 'three':3, 'nine':9, 'four':4}\n",
        "print(dic)"
      ],
      "metadata": {
        "id": "AbVEOdFFw9jB",
        "colab": {
          "base_uri": "https://localhost:8080/"
        },
        "outputId": "8d6c1578-0a82-4b16-d4ab-50a98921bf29"
      },
      "execution_count": 32,
      "outputs": [
        {
          "output_type": "stream",
          "name": "stdout",
          "text": [
            "{'one': 1, 'three': 3, 'nine': 9, 'four': 4}\n"
          ]
        }
      ]
    },
    {
      "cell_type": "code",
      "source": [
        "print(dic['three']) # 指定したキーに対応する値にアクセス"
      ],
      "metadata": {
        "id": "88K5ZNi8w-KP",
        "colab": {
          "base_uri": "https://localhost:8080/"
        },
        "outputId": "f6d9d47a-a6d7-4512-8216-3ce7816688d4"
      },
      "execution_count": 33,
      "outputs": [
        {
          "output_type": "stream",
          "name": "stdout",
          "text": [
            "3\n"
          ]
        }
      ]
    },
    {
      "cell_type": "markdown",
      "source": [
        "* 次のセルはエラーが出るはず。\n",
        "  * 存在しないキーを使おうとしているため。"
      ],
      "metadata": {
        "id": "lKrwP0VEBz2D"
      }
    },
    {
      "cell_type": "code",
      "source": [
        "print(dic['seven'])"
      ],
      "metadata": {
        "id": "OHSe7zhVxCNK",
        "colab": {
          "base_uri": "https://localhost:8080/",
          "height": 153
        },
        "outputId": "6ddd8d3d-bf65-4c40-bc47-f1e53c39f3c6"
      },
      "execution_count": 34,
      "outputs": [
        {
          "output_type": "error",
          "ename": "KeyError",
          "evalue": "'seven'",
          "traceback": [
            "\u001b[0;31m---------------------------------------------------------------------------\u001b[0m",
            "\u001b[0;31mKeyError\u001b[0m                                  Traceback (most recent call last)",
            "\u001b[0;32m<ipython-input-34-5131735fbdcd>\u001b[0m in \u001b[0;36m<cell line: 0>\u001b[0;34m()\u001b[0m\n\u001b[0;32m----> 1\u001b[0;31m \u001b[0mprint\u001b[0m\u001b[0;34m(\u001b[0m\u001b[0mdic\u001b[0m\u001b[0;34m[\u001b[0m\u001b[0;34m'seven'\u001b[0m\u001b[0;34m]\u001b[0m\u001b[0;34m)\u001b[0m\u001b[0;34m\u001b[0m\u001b[0;34m\u001b[0m\u001b[0m\n\u001b[0m",
            "\u001b[0;31mKeyError\u001b[0m: 'seven'"
          ]
        }
      ]
    },
    {
      "cell_type": "code",
      "source": [
        "dic['seven'] = 7\n",
        "print(dic)"
      ],
      "metadata": {
        "id": "H0-wT9cdw-F8",
        "colab": {
          "base_uri": "https://localhost:8080/"
        },
        "outputId": "df4c635c-5308-444f-9f1a-955d5d67f569"
      },
      "execution_count": 35,
      "outputs": [
        {
          "output_type": "stream",
          "name": "stdout",
          "text": [
            "{'one': 1, 'three': 3, 'nine': 9, 'four': 4, 'seven': 7}\n"
          ]
        }
      ]
    },
    {
      "cell_type": "code",
      "source": [
        "print(dic['seven'])"
      ],
      "metadata": {
        "id": "Pr4ZkML3B6KN",
        "colab": {
          "base_uri": "https://localhost:8080/"
        },
        "outputId": "9ee7754b-f425-4d29-9b89-a187fc0a386e"
      },
      "execution_count": 36,
      "outputs": [
        {
          "output_type": "stream",
          "name": "stdout",
          "text": [
            "7\n"
          ]
        }
      ]
    },
    {
      "cell_type": "markdown",
      "source": [
        "* キーの存在確認"
      ],
      "metadata": {
        "id": "am2NJCIrB8Is"
      }
    },
    {
      "cell_type": "code",
      "source": [
        "print('nine' in dic)"
      ],
      "metadata": {
        "id": "7Z-UhXInxD55",
        "colab": {
          "base_uri": "https://localhost:8080/"
        },
        "outputId": "644f3da8-a746-4fb3-96c0-557836d3a720"
      },
      "execution_count": 37,
      "outputs": [
        {
          "output_type": "stream",
          "name": "stdout",
          "text": [
            "True\n"
          ]
        }
      ]
    },
    {
      "cell_type": "code",
      "source": [
        "print('six' in dic)"
      ],
      "metadata": {
        "id": "_jHtVR0xw-B_",
        "colab": {
          "base_uri": "https://localhost:8080/"
        },
        "outputId": "07c148e5-d6b9-4759-a696-dc69b79a750f"
      },
      "execution_count": 38,
      "outputs": [
        {
          "output_type": "stream",
          "name": "stdout",
          "text": [
            "False\n"
          ]
        }
      ]
    },
    {
      "cell_type": "markdown",
      "source": [
        "### 辞書のメソッド"
      ],
      "metadata": {
        "id": "E_0bdXO3x3MT"
      }
    },
    {
      "cell_type": "code",
      "source": [
        "dic = {'one':1, 'three':3, 'nine':9, 'four':4}\n",
        "print(dic)"
      ],
      "metadata": {
        "id": "km8bw6Prxxua",
        "colab": {
          "base_uri": "https://localhost:8080/"
        },
        "outputId": "b45be0cc-3933-45b1-d9e2-90b239a4648b"
      },
      "execution_count": 39,
      "outputs": [
        {
          "output_type": "stream",
          "name": "stdout",
          "text": [
            "{'one': 1, 'three': 3, 'nine': 9, 'four': 4}\n"
          ]
        }
      ]
    },
    {
      "cell_type": "code",
      "source": [
        "print(dic.keys())"
      ],
      "metadata": {
        "id": "jFl5UxXkxy7e",
        "colab": {
          "base_uri": "https://localhost:8080/"
        },
        "outputId": "c5a2e0c4-1ffa-49f2-e7c2-b9e4366c313b"
      },
      "execution_count": 40,
      "outputs": [
        {
          "output_type": "stream",
          "name": "stdout",
          "text": [
            "dict_keys(['one', 'three', 'nine', 'four'])\n"
          ]
        }
      ]
    },
    {
      "cell_type": "code",
      "source": [
        "print(dic.values())"
      ],
      "metadata": {
        "id": "WCGR-GWcx1hO",
        "colab": {
          "base_uri": "https://localhost:8080/"
        },
        "outputId": "0bdfae62-20b4-427e-f22e-aa275c26eca3"
      },
      "execution_count": 41,
      "outputs": [
        {
          "output_type": "stream",
          "name": "stdout",
          "text": [
            "dict_values([1, 3, 9, 4])\n"
          ]
        }
      ]
    },
    {
      "cell_type": "code",
      "source": [
        "print(dic.items())"
      ],
      "metadata": {
        "id": "mJaI51qVx2Ob",
        "colab": {
          "base_uri": "https://localhost:8080/"
        },
        "outputId": "7c8f8646-7ed5-4fcf-a420-0e90afc0ea54"
      },
      "execution_count": 42,
      "outputs": [
        {
          "output_type": "stream",
          "name": "stdout",
          "text": [
            "dict_items([('one', 1), ('three', 3), ('nine', 9), ('four', 4)])\n"
          ]
        }
      ]
    },
    {
      "cell_type": "markdown",
      "source": [
        "## Pythonにおける処理の流れの制御\n",
        "* if文（既出。）\n",
        "* while文（既出。）\n",
        "* for文"
      ],
      "metadata": {
        "id": "oVbNYcbtyGis"
      }
    },
    {
      "cell_type": "markdown",
      "source": [
        "## for文"
      ],
      "metadata": {
        "id": "kuJ7_OIyCC18"
      }
    },
    {
      "cell_type": "markdown",
      "source": [
        "### リストを使ったfor文"
      ],
      "metadata": {
        "id": "f7ff_NFbyOix"
      }
    },
    {
      "cell_type": "code",
      "source": [
        "for elem in [ 3.0, -1.2, 6.9, 0.2, -5.3 ]:\n",
        "  print(elem) # インデントを忘れないように"
      ],
      "metadata": {
        "id": "dbMySuowyQIf",
        "colab": {
          "base_uri": "https://localhost:8080/"
        },
        "outputId": "c5b33236-b828-459e-c064-a8af648455f7"
      },
      "execution_count": 43,
      "outputs": [
        {
          "output_type": "stream",
          "name": "stdout",
          "text": [
            "3.0\n",
            "-1.2\n",
            "6.9\n",
            "0.2\n",
            "-5.3\n"
          ]
        }
      ]
    },
    {
      "cell_type": "code",
      "source": [
        "my_list = [] # 空のリストを作っている\n",
        "for elem in [ 3.0, -1.2, 6.9, 0.2, -5.3 ]:\n",
        "  my_list.append(elem)\n",
        "  print(\"    \", my_list)\n",
        "\n",
        "print(my_list) # インデントは無いのでfor文の外側"
      ],
      "metadata": {
        "id": "0q3XOrovyQBh",
        "colab": {
          "base_uri": "https://localhost:8080/"
        },
        "outputId": "fb6373e4-666b-469b-9757-f883870a2dea"
      },
      "execution_count": 44,
      "outputs": [
        {
          "output_type": "stream",
          "name": "stdout",
          "text": [
            "     [3.0]\n",
            "     [3.0, -1.2]\n",
            "     [3.0, -1.2, 6.9]\n",
            "     [3.0, -1.2, 6.9, 0.2]\n",
            "     [3.0, -1.2, 6.9, 0.2, -5.3]\n",
            "[3.0, -1.2, 6.9, 0.2, -5.3]\n"
          ]
        }
      ]
    },
    {
      "cell_type": "markdown",
      "metadata": {
        "id": "BKC1aUbuiAvC"
      },
      "source": [
        "### range関数を使ったfor文"
      ]
    },
    {
      "cell_type": "code",
      "metadata": {
        "id": "ZePLcX9Sw1uZ",
        "colab": {
          "base_uri": "https://localhost:8080/"
        },
        "outputId": "c56fdbb8-b841-4133-c185-205444d39ec6"
      },
      "source": [
        "for i in range(6):\n",
        "  print(i)"
      ],
      "execution_count": 45,
      "outputs": [
        {
          "output_type": "stream",
          "name": "stdout",
          "text": [
            "0\n",
            "1\n",
            "2\n",
            "3\n",
            "4\n",
            "5\n"
          ]
        }
      ]
    },
    {
      "cell_type": "code",
      "metadata": {
        "id": "7lsv6XDww5kE",
        "colab": {
          "base_uri": "https://localhost:8080/"
        },
        "outputId": "ce79437f-678b-4b6e-9b52-ab65f6e6e5f8"
      },
      "source": [
        "x = 10\n",
        "for i in range(x):\n",
        "  print(i)"
      ],
      "execution_count": 46,
      "outputs": [
        {
          "output_type": "stream",
          "name": "stdout",
          "text": [
            "0\n",
            "1\n",
            "2\n",
            "3\n",
            "4\n",
            "5\n",
            "6\n",
            "7\n",
            "8\n",
            "9\n"
          ]
        }
      ]
    },
    {
      "cell_type": "code",
      "source": [
        "for i in range(3, 10):\n",
        "  print(i)"
      ],
      "metadata": {
        "colab": {
          "base_uri": "https://localhost:8080/"
        },
        "id": "AU35kkm1wSeS",
        "outputId": "f9c6a1bd-e4af-4dde-fc32-a9697f15cc67"
      },
      "execution_count": 47,
      "outputs": [
        {
          "output_type": "stream",
          "name": "stdout",
          "text": [
            "3\n",
            "4\n",
            "5\n",
            "6\n",
            "7\n",
            "8\n",
            "9\n"
          ]
        }
      ]
    },
    {
      "cell_type": "code",
      "metadata": {
        "id": "SRAwafrow7M0",
        "colab": {
          "base_uri": "https://localhost:8080/"
        },
        "outputId": "e0c4496f-3a3a-44a0-f3b1-4c2ad0779d67"
      },
      "source": [
        "for i in range(3, 80, 23):\n",
        "  print(i)"
      ],
      "execution_count": 48,
      "outputs": [
        {
          "output_type": "stream",
          "name": "stdout",
          "text": [
            "3\n",
            "26\n",
            "49\n",
            "72\n"
          ]
        }
      ]
    },
    {
      "cell_type": "code",
      "source": [
        "for i in range(10):\n",
        "  if i > 5: # 6のとき初めて引っかかる\n",
        "    break\n",
        "print(i) # インデントがない＝ループの外"
      ],
      "metadata": {
        "id": "Rz6ulVxczYpQ",
        "colab": {
          "base_uri": "https://localhost:8080/"
        },
        "outputId": "7f4e19b1-1acf-45a2-f68d-4235ae869a09"
      },
      "execution_count": 50,
      "outputs": [
        {
          "output_type": "stream",
          "name": "stdout",
          "text": [
            "6\n"
          ]
        }
      ]
    },
    {
      "cell_type": "code",
      "metadata": {
        "id": "z34yEWFFw8fD",
        "colab": {
          "base_uri": "https://localhost:8080/"
        },
        "outputId": "b97e6b8e-2d67-46a5-8f1d-a179194eee38"
      },
      "source": [
        "s = 0\n",
        "for i in range(1, 101):\n",
        "  s += i\n",
        "print(s) # 1から100までの整数の和"
      ],
      "execution_count": 51,
      "outputs": [
        {
          "output_type": "stream",
          "name": "stdout",
          "text": [
            "5050\n"
          ]
        }
      ]
    },
    {
      "cell_type": "markdown",
      "source": [
        "### 辞書を使ったfor文\n",
        "* キーをひとつずつ拾っていくことになる。"
      ],
      "metadata": {
        "id": "PkQy78KIzegc"
      }
    },
    {
      "cell_type": "code",
      "source": [
        "dic = {'one':1, 'three':3, 'nine':9, 'four':4}\n",
        "for key in dic:\n",
        "  print(key, dic[key])"
      ],
      "metadata": {
        "id": "dl52wD6czgIs",
        "colab": {
          "base_uri": "https://localhost:8080/"
        },
        "outputId": "8cb51abc-7f96-4c8a-e5f4-21bb4f44791a"
      },
      "execution_count": 52,
      "outputs": [
        {
          "output_type": "stream",
          "name": "stdout",
          "text": [
            "one 1\n",
            "three 3\n",
            "nine 9\n",
            "four 4\n"
          ]
        }
      ]
    },
    {
      "cell_type": "markdown",
      "metadata": {
        "id": "EiQ-lHpniPLP"
      },
      "source": [
        "## 関数\n",
        "* 一連の処理を一つにまとめて関数として定義する。\n",
        "  * 関数の定義は`def`で書き始める。\n",
        "* 関数を定義しておけば、その関数を呼び出すだけで、同じ一連の処理をまとめて実行できる。\n",
        "  * つまり、同じコードを何回も書かなくて済むようになる。\n",
        "* 多くの関数は、値を受け取って、その値を使った処理を実行する。\n",
        "  * 関数に渡す値のことを、引数(argument)と呼ぶ。\n",
        "* 多くの関数は、値を返す。\n",
        "  * 処理結果を返さない関数もある。"
      ]
    },
    {
      "cell_type": "markdown",
      "source": [
        "### 例1: 与えられた値を自乗する関数"
      ],
      "metadata": {
        "id": "89LY2xv10Dt2"
      }
    },
    {
      "cell_type": "code",
      "source": [
        "def square(x):\n",
        "  return x * x"
      ],
      "metadata": {
        "id": "fDnZSP6Iz60B"
      },
      "execution_count": 53,
      "outputs": []
    },
    {
      "cell_type": "markdown",
      "source": [
        "* 関数に渡す値（下の例では`3.0`）のことを引数(argument)と呼ぶ。"
      ],
      "metadata": {
        "id": "dcRjPsIgCjhW"
      }
    },
    {
      "cell_type": "code",
      "source": [
        "y = square(3.0)\n",
        "print(y)"
      ],
      "metadata": {
        "id": "OgVFReYoz8Ci",
        "colab": {
          "base_uri": "https://localhost:8080/"
        },
        "outputId": "dc5fc383-e834-4a18-d004-a37be9a9dda4"
      },
      "execution_count": 54,
      "outputs": [
        {
          "output_type": "stream",
          "name": "stdout",
          "text": [
            "9.0\n"
          ]
        }
      ]
    },
    {
      "cell_type": "markdown",
      "source": [
        "### 例2: 与えられた二つの値のうち大きい方を返す関数\n",
        "  * 引数は二つ以上あってもよい。"
      ],
      "metadata": {
        "id": "4oEVRSP-0HgR"
      }
    },
    {
      "cell_type": "code",
      "metadata": {
        "id": "k6ss_752xDzJ"
      },
      "source": [
        "def max_value(x, y):\n",
        "  if x > y:\n",
        "    return x\n",
        "  else:\n",
        "    return y"
      ],
      "execution_count": 55,
      "outputs": []
    },
    {
      "cell_type": "code",
      "metadata": {
        "id": "9jvrnoU0xF7b",
        "colab": {
          "base_uri": "https://localhost:8080/"
        },
        "outputId": "a0268229-9a2e-4749-e228-33c96fbea7fc"
      },
      "source": [
        "print(max_value(8, 30))"
      ],
      "execution_count": 57,
      "outputs": [
        {
          "output_type": "stream",
          "name": "stdout",
          "text": [
            "30\n"
          ]
        }
      ]
    },
    {
      "cell_type": "markdown",
      "source": [
        "### 例3: 与えられた数が負の値ならbool型のTrueを、それ以外の場合はbool型のFalseを返す関数"
      ],
      "metadata": {
        "id": "6pXpD8WfDfwL"
      }
    },
    {
      "cell_type": "code",
      "source": [
        "def is_negative(a):\n",
        "  if a < 0:\n",
        "    return True # bool型の値\n",
        "  else:\n",
        "    return False # bool型の値"
      ],
      "metadata": {
        "id": "V-wOtJSRDo_i"
      },
      "execution_count": 59,
      "outputs": []
    },
    {
      "cell_type": "code",
      "source": [
        "print(is_negative(-4.0))"
      ],
      "metadata": {
        "id": "TTdyOPtgD2uv",
        "colab": {
          "base_uri": "https://localhost:8080/"
        },
        "outputId": "12cfacc3-53a4-455c-ef19-6539a171d35c"
      },
      "execution_count": 61,
      "outputs": [
        {
          "output_type": "stream",
          "name": "stdout",
          "text": [
            "True\n"
          ]
        }
      ]
    },
    {
      "cell_type": "markdown",
      "source": [
        "* こう書けば、もっとスッキリ書ける。"
      ],
      "metadata": {
        "id": "2xdn6xG-D8H-"
      }
    },
    {
      "cell_type": "code",
      "source": [
        "def is_negative(a):\n",
        "  return a < 0\n",
        "\n",
        "print(is_negative(-5.0)) # インデントがない＝関数の外"
      ],
      "metadata": {
        "id": "d6Rn_oWED5Eo",
        "colab": {
          "base_uri": "https://localhost:8080/"
        },
        "outputId": "3948e51f-1ad7-459f-c89a-17177d449837"
      },
      "execution_count": 64,
      "outputs": [
        {
          "output_type": "stream",
          "name": "stdout",
          "text": [
            "True\n"
          ]
        }
      ]
    },
    {
      "cell_type": "markdown",
      "source": [
        "## 関数の引数のデフォルト値\n",
        "* 一部の引数について、値を指定しないとき、既定の値が使われるようにできる。"
      ],
      "metadata": {
        "id": "nCGzw9E00Tm3"
      }
    },
    {
      "cell_type": "code",
      "metadata": {
        "id": "H62HhnAVxOva"
      },
      "source": [
        "def printName(firstName, lastName, reverse):\n",
        "  if reverse:\n",
        "    print(lastName + ', ' + firstName)\n",
        "  else:\n",
        "    print(firstName + ' ' + lastName)"
      ],
      "execution_count": null,
      "outputs": []
    },
    {
      "cell_type": "code",
      "metadata": {
        "id": "ZmDIX2tYxQ1L"
      },
      "source": [
        "printName('Taro', 'Yamada', True)"
      ],
      "execution_count": null,
      "outputs": []
    },
    {
      "cell_type": "markdown",
      "source": [
        "* 次のセルはエラーが出る。\n",
        "  * 最後の引数の値を指定し忘れているため。"
      ],
      "metadata": {
        "id": "6kod8KDT0anP"
      }
    },
    {
      "cell_type": "code",
      "metadata": {
        "id": "j5pheTLCxTiK"
      },
      "source": [
        "printName('Taro', 'Yamada')"
      ],
      "execution_count": null,
      "outputs": []
    },
    {
      "cell_type": "markdown",
      "metadata": {
        "id": "M6L1IqaFidhy"
      },
      "source": [
        "### 引数のデフォルト値\n",
        "* 3番目の引数について、既定値（デフォルトの値）を設定する。"
      ]
    },
    {
      "cell_type": "code",
      "metadata": {
        "id": "2JCvKlyPxW7a"
      },
      "source": [
        "def printName(firstName, lastName, reverse=False):\n",
        "  if reverse:\n",
        "    print(lastName + ', ' + firstName)\n",
        "  else:\n",
        "    print(firstName + ' ' + lastName)"
      ],
      "execution_count": null,
      "outputs": []
    },
    {
      "cell_type": "markdown",
      "source": [
        "* こうすると、値を指定しなくてもエラーにならず、既定値が使われる。"
      ],
      "metadata": {
        "id": "nkojzHzf1eLE"
      }
    },
    {
      "cell_type": "code",
      "metadata": {
        "id": "YNffn7VSxd76"
      },
      "source": [
        "printName('Taro', 'Yamada')"
      ],
      "execution_count": null,
      "outputs": []
    },
    {
      "cell_type": "markdown",
      "metadata": {
        "id": "P879qVkjigtO"
      },
      "source": [
        "## スコープ\n",
        "* 関数の中だけに現れる変数は、その関数の中だけで通用する。"
      ]
    },
    {
      "cell_type": "code",
      "metadata": {
        "id": "y2Ydh-HOxfR6"
      },
      "source": [
        "def func(x):\n",
        "  y = 1 # このyは関数funcの中だけで通用する。\n",
        "  print(f'x = {x}')\n",
        "  print(f'y = {y}')\n",
        "  return"
      ],
      "execution_count": null,
      "outputs": []
    },
    {
      "cell_type": "code",
      "source": [
        "y = 2\n",
        "func(3)"
      ],
      "metadata": {
        "id": "jyMXMxEP1kXZ"
      },
      "execution_count": null,
      "outputs": []
    },
    {
      "cell_type": "code",
      "source": [
        "print(y)"
      ],
      "metadata": {
        "id": "MHNutfdq17jI"
      },
      "execution_count": null,
      "outputs": []
    },
    {
      "cell_type": "markdown",
      "source": [
        "## 課題20250505\n",
        "* まず、与えられた数が偶数であればbool型のTrueを、奇数であればbool型のFalseを返す関数`is_even`を定義しよう。\n",
        "  * 文字列の\"True\"や\"False\"を返すのではなく、bool型のTrueやFalseを返す関数を書くこと。\n",
        "* そして、この関数`is_even`を使って、1から1000までの範囲にある偶数の和を求めよう。"
      ],
      "metadata": {
        "id": "jZfbWdbX2n2G"
      }
    },
    {
      "cell_type": "code",
      "source": [
        "s = 0\n",
        "for i in range(1, 1001):\n",
        "  s += i\n",
        "print(s)"
      ],
      "metadata": {
        "colab": {
          "base_uri": "https://localhost:8080/"
        },
        "id": "cvX03brC2kbY",
        "outputId": "e6715eaf-dcf2-45b1-efae-1f1ea449c891"
      },
      "execution_count": 63,
      "outputs": [
        {
          "output_type": "stream",
          "name": "stdout",
          "text": [
            "500500\n"
          ]
        }
      ]
    },
    {
      "cell_type": "code",
      "source": [
        "def is_even(a):\n",
        "  # ここに自分で書く\n",
        "\n",
        "\n",
        "# ここに、関数is_evenを使ったコードを自分で書く"
      ],
      "metadata": {
        "id": "ns1bZ1dl243D"
      },
      "execution_count": null,
      "outputs": []
    }
  ]
}