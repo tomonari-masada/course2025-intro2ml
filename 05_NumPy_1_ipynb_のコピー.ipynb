{
  "nbformat": 4,
  "nbformat_minor": 0,
  "metadata": {
    "colab": {
      "provenance": [],
      "authorship_tag": "ABX9TyOXyh7WRkQrvqJPbuzuruOu",
      "include_colab_link": true
    },
    "kernelspec": {
      "name": "python3",
      "display_name": "Python 3"
    },
    "language_info": {
      "name": "python"
    }
  },
  "cells": [
    {
      "cell_type": "markdown",
      "metadata": {
        "id": "view-in-github",
        "colab_type": "text"
      },
      "source": [
        "<a href=\"https://colab.research.google.com/github/tomonari-masada/course2025-intro2ml/blob/main/05_NumPy_1_ipynb_%E3%81%AE%E3%82%B3%E3%83%94%E3%83%BC.ipynb\" target=\"_parent\"><img src=\"https://colab.research.google.com/assets/colab-badge.svg\" alt=\"Open In Colab\"/></a>"
      ]
    },
    {
      "cell_type": "markdown",
      "source": [
        "# NumPy入門 (1)"
      ],
      "metadata": {
        "id": "IfOqM3Qf-n62"
      }
    },
    {
      "cell_type": "markdown",
      "source": [
        "* NumPyを説明する前に・・・"
      ],
      "metadata": {
        "id": "c6aICUxx-tNv"
      }
    },
    {
      "cell_type": "markdown",
      "metadata": {
        "id": "AHp3ueBza0PR"
      },
      "source": [
        "## モジュール、パッケージ、ライブラリ\n",
        "* 参考資料\n",
        "  * https://zenn.dev/delacroix/articles/e3f62ca001deb0\n"
      ]
    },
    {
      "cell_type": "markdown",
      "metadata": {
        "id": "iVXwFXEqeDkG"
      },
      "source": [
        "* モジュール\n",
        "  * Pythonのファイル(.pyファイル)のこと。\n",
        "  * `import`文で.pyファイルをインポートすることで、その.pyファイルの中の関数やクラスを使用することができるようになる。\n",
        "* パッケージ\n",
        "  * モジュールを複数集めたものです。\n",
        "  * つまり .pyファイルを複数置いてあるフォルダのようなもの。\n",
        "  * 言葉としては、次の「ライブラリ」と区別せずに使われることもある。\n",
        "    * Python Package Index https://pypi.org/\n",
        "* ライブラリ\n",
        "  * 複数のパッケージからなるPythonコードの集合体。\n",
        "  * 標準ライブラリと外部ライブラリがある。\n",
        "  * 標準ライブラリは、Pythonにはじめからくっついてくるライブラリ。"
      ]
    },
    {
      "cell_type": "markdown",
      "metadata": {
        "id": "Tlv9lakya36X"
      },
      "source": [
        "## mathモジュール\n",
        "* Pythonでは数学的な処理をするためのモジュールがいくつか用意されている。\n",
        "  * https://docs.python.org/ja/3.13/library/numeric.html"
      ]
    },
    {
      "cell_type": "code",
      "source": [
        "import math"
      ],
      "metadata": {
        "id": "k6rQaPRqqIV2"
      },
      "execution_count": 3,
      "outputs": []
    },
    {
      "cell_type": "code",
      "metadata": {
        "id": "_ctew8faYguj"
      },
      "source": [
        "a = 2.0"
      ],
      "execution_count": 4,
      "outputs": []
    },
    {
      "cell_type": "code",
      "source": [
        "b = math.sqrt(a)\n",
        "print(a, b)"
      ],
      "metadata": {
        "id": "n02C2Q4IX3Xm",
        "colab": {
          "base_uri": "https://localhost:8080/"
        },
        "outputId": "daea8d6f-e73a-4a07-cb69-ee7654cc00e5"
      },
      "execution_count": 5,
      "outputs": [
        {
          "output_type": "stream",
          "name": "stdout",
          "text": [
            "2.0 1.4142135623730951\n"
          ]
        }
      ]
    },
    {
      "cell_type": "code",
      "source": [
        "c = math.exp(a)\n",
        "print(a, c)"
      ],
      "metadata": {
        "id": "UnBNAMLsXzHu",
        "colab": {
          "base_uri": "https://localhost:8080/"
        },
        "outputId": "c3498bc2-f95a-49ad-8f3a-85a3ebbfb8e6"
      },
      "execution_count": 6,
      "outputs": [
        {
          "output_type": "stream",
          "name": "stdout",
          "text": [
            "2.0 7.38905609893065\n"
          ]
        }
      ]
    },
    {
      "cell_type": "code",
      "source": [
        "d = math.sin(a)\n",
        "print(a, d)"
      ],
      "metadata": {
        "colab": {
          "base_uri": "https://localhost:8080/"
        },
        "id": "iN83vkibqiV7",
        "outputId": "b3111786-1b09-4218-90f8-2895a28bbf02"
      },
      "execution_count": 7,
      "outputs": [
        {
          "output_type": "stream",
          "name": "stdout",
          "text": [
            "2.0 0.9092974268256817\n"
          ]
        }
      ]
    },
    {
      "cell_type": "markdown",
      "metadata": {
        "id": "Hfkm3naOa97O"
      },
      "source": [
        "# NumPyライブラリ"
      ]
    },
    {
      "cell_type": "markdown",
      "metadata": {
        "id": "4-ScijSFbDga"
      },
      "source": [
        "* ベクトルや行列を扱える（他にも様々な機能がある）\n",
        " * ベクトルどうしの内積\n",
        " * 行列とベクトルの積\n",
        " * 行列と行列の積\n",
        " * 逆行列\n",
        "\n",
        "* ndarrayという独自のデータ構造を使う\n",
        " * ちゃんとコードを書けば高速（ちゃんと書かないと遅い・・・）\n"
      ]
    },
    {
      "cell_type": "markdown",
      "metadata": {
        "id": "0swi2CAGbNiJ"
      },
      "source": [
        "## NumPyの配列(ndarray)の作り方"
      ]
    },
    {
      "cell_type": "markdown",
      "metadata": {
        "id": "omiKZwz5bhMN"
      },
      "source": [
        "### Pythonのリストから作る"
      ]
    },
    {
      "cell_type": "code",
      "source": [
        "import numpy as np"
      ],
      "metadata": {
        "id": "8yF8iBVKA2kY"
      },
      "execution_count": 10,
      "outputs": []
    },
    {
      "cell_type": "markdown",
      "source": [
        "* 一次元配列\n",
        "  * ベクトルを使いたい時。"
      ],
      "metadata": {
        "id": "e8Hxkq3ecBWg"
      }
    },
    {
      "cell_type": "code",
      "source": [
        "print([-2.0, 1.0, 3.0])"
      ],
      "metadata": {
        "colab": {
          "base_uri": "https://localhost:8080/"
        },
        "id": "KUmKtVK3sPj1",
        "outputId": "296833ed-7590-4d66-bb55-cb742a243fe2"
      },
      "execution_count": 12,
      "outputs": [
        {
          "output_type": "stream",
          "name": "stdout",
          "text": [
            "[-2.0, 1.0, 3.0]\n"
          ]
        }
      ]
    },
    {
      "cell_type": "code",
      "metadata": {
        "id": "srm7ORHZYqfp",
        "colab": {
          "base_uri": "https://localhost:8080/"
        },
        "outputId": "49739266-527b-4e07-c8ac-70437b78e05e"
      },
      "source": [
        "a = np.array([-2.0, 1.0, 3.0])\n",
        "print(a)"
      ],
      "execution_count": 11,
      "outputs": [
        {
          "output_type": "stream",
          "name": "stdout",
          "text": [
            "[-2.  1.  3.]\n"
          ]
        }
      ]
    },
    {
      "cell_type": "markdown",
      "source": [
        "* 二次元配列\n",
        "  * 行列を使いたいとき。"
      ],
      "metadata": {
        "id": "iYqztS-EcDpW"
      }
    },
    {
      "cell_type": "code",
      "source": [
        "b = np.array([[1,2,3], [4,5,6]])\n",
        "print(b)"
      ],
      "metadata": {
        "id": "osHzji5WA1RY",
        "colab": {
          "base_uri": "https://localhost:8080/"
        },
        "outputId": "2e7597e8-3107-4d48-c811-ffce367e1f26"
      },
      "execution_count": 15,
      "outputs": [
        {
          "output_type": "stream",
          "name": "stdout",
          "text": [
            "[[1 2 3]\n",
            " [4 5 6]]\n"
          ]
        }
      ]
    },
    {
      "cell_type": "markdown",
      "source": [
        "* 転置"
      ],
      "metadata": {
        "id": "ouxpzU-jb-_U"
      }
    },
    {
      "cell_type": "code",
      "source": [
        "print(a.T)"
      ],
      "metadata": {
        "id": "2bgT-1WwA0_k",
        "colab": {
          "base_uri": "https://localhost:8080/"
        },
        "outputId": "2fef1946-be09-4f6b-db39-9f67076907d8"
      },
      "execution_count": 16,
      "outputs": [
        {
          "output_type": "stream",
          "name": "stdout",
          "text": [
            "[-2.  1.  3.]\n"
          ]
        }
      ]
    },
    {
      "cell_type": "code",
      "source": [
        "print(b.T)"
      ],
      "metadata": {
        "id": "TRiXpGfKA02N",
        "colab": {
          "base_uri": "https://localhost:8080/"
        },
        "outputId": "4a1b8eb4-78d7-4ea0-f654-cddf8063d75e"
      },
      "execution_count": 17,
      "outputs": [
        {
          "output_type": "stream",
          "name": "stdout",
          "text": [
            "[[1 4]\n",
            " [2 5]\n",
            " [3 6]]\n"
          ]
        }
      ]
    },
    {
      "cell_type": "markdown",
      "source": [
        "### ndarrayの演算"
      ],
      "metadata": {
        "id": "HpuwUQDVBJad"
      }
    },
    {
      "cell_type": "code",
      "metadata": {
        "id": "hlUvFI_mYyQh",
        "colab": {
          "base_uri": "https://localhost:8080/"
        },
        "outputId": "2c7b3243-4df6-4de2-d41f-ae63bd39b35c"
      },
      "source": [
        "a = np.array([1, 2, 3])\n",
        "print(a)"
      ],
      "execution_count": 18,
      "outputs": [
        {
          "output_type": "stream",
          "name": "stdout",
          "text": [
            "[1 2 3]\n"
          ]
        }
      ]
    },
    {
      "cell_type": "code",
      "source": [
        "print(a * 3)"
      ],
      "metadata": {
        "id": "KMMdbQArA9nf",
        "colab": {
          "base_uri": "https://localhost:8080/"
        },
        "outputId": "a4faa129-4de3-4481-c31e-7bff1a7b5aea"
      },
      "execution_count": 19,
      "outputs": [
        {
          "output_type": "stream",
          "name": "stdout",
          "text": [
            "[3 6 9]\n"
          ]
        }
      ]
    },
    {
      "cell_type": "code",
      "source": [
        "c = a * 3\n",
        "print(c)"
      ],
      "metadata": {
        "id": "9gIQbp40cHL2",
        "colab": {
          "base_uri": "https://localhost:8080/"
        },
        "outputId": "7c3bc2ab-d369-4da0-94b2-b2a22182ac6c"
      },
      "execution_count": 20,
      "outputs": [
        {
          "output_type": "stream",
          "name": "stdout",
          "text": [
            "[3 6 9]\n"
          ]
        }
      ]
    },
    {
      "cell_type": "code",
      "source": [
        "b = np.array([2, 2, 0])\n",
        "print(b)"
      ],
      "metadata": {
        "id": "9_P4xMdRA_-q",
        "colab": {
          "base_uri": "https://localhost:8080/"
        },
        "outputId": "73ebc0e6-f10e-4d1e-ebaa-b651b2aa8913"
      },
      "execution_count": 21,
      "outputs": [
        {
          "output_type": "stream",
          "name": "stdout",
          "text": [
            "[2 2 0]\n"
          ]
        }
      ]
    },
    {
      "cell_type": "code",
      "source": [
        "print(a)\n",
        "print(b)\n",
        "print(a + b)"
      ],
      "metadata": {
        "id": "IcbTQkAsBFFN",
        "colab": {
          "base_uri": "https://localhost:8080/"
        },
        "outputId": "e8a1aa6e-c255-4eaf-862f-1bcce67668f3"
      },
      "execution_count": 23,
      "outputs": [
        {
          "output_type": "stream",
          "name": "stdout",
          "text": [
            "[1 2 3]\n",
            "[2 2 0]\n",
            "[3 4 3]\n"
          ]
        }
      ]
    },
    {
      "cell_type": "code",
      "source": [
        "print(a * b)"
      ],
      "metadata": {
        "id": "SfMwrUyUA_5R",
        "colab": {
          "base_uri": "https://localhost:8080/"
        },
        "outputId": "9643aad7-21d1-47ac-fa5f-4bde86bbb909"
      },
      "execution_count": 24,
      "outputs": [
        {
          "output_type": "stream",
          "name": "stdout",
          "text": [
            "[2 4 0]\n"
          ]
        }
      ]
    },
    {
      "cell_type": "code",
      "source": [
        "print(a / b) #エラーが出る（どんなエラー？）"
      ],
      "metadata": {
        "id": "DFuqd5h7A_8F",
        "colab": {
          "base_uri": "https://localhost:8080/"
        },
        "outputId": "20967fd9-fb42-46f8-96ac-ad80a6f74192"
      },
      "execution_count": 25,
      "outputs": [
        {
          "output_type": "stream",
          "name": "stdout",
          "text": [
            "[0.5 1.  inf]\n"
          ]
        },
        {
          "output_type": "stream",
          "name": "stderr",
          "text": [
            "<ipython-input-25-3d500bdfd3c9>:1: RuntimeWarning: divide by zero encountered in divide\n",
            "  print(a / b) #エラーが出る（どんなエラー？）\n"
          ]
        }
      ]
    },
    {
      "cell_type": "markdown",
      "source": [
        "* ベクトルの内積"
      ],
      "metadata": {
        "id": "2imaVvjBcPa0"
      }
    },
    {
      "cell_type": "code",
      "source": [
        "print(a)\n",
        "print(b)\n",
        "print(np.dot(a, b))"
      ],
      "metadata": {
        "id": "THwhwwpNA_2g",
        "colab": {
          "base_uri": "https://localhost:8080/"
        },
        "outputId": "135337fa-08e8-4aa9-a08c-d48d033b460a"
      },
      "execution_count": 26,
      "outputs": [
        {
          "output_type": "stream",
          "name": "stdout",
          "text": [
            "[1 2 3]\n",
            "[2 2 0]\n",
            "6\n"
          ]
        }
      ]
    },
    {
      "cell_type": "markdown",
      "source": [
        "* インデックスで要素にアクセスできる。\n",
        "  * リストやタプルと同じ。"
      ],
      "metadata": {
        "id": "4F0GzPXcu6y5"
      }
    },
    {
      "cell_type": "code",
      "source": [
        "a[2]"
      ],
      "metadata": {
        "colab": {
          "base_uri": "https://localhost:8080/"
        },
        "id": "O_fsuUKju0Ql",
        "outputId": "c84a7aa8-8137-43d7-bf0a-cf694f6dfc80"
      },
      "execution_count": 30,
      "outputs": [
        {
          "output_type": "execute_result",
          "data": {
            "text/plain": [
              "np.int64(3)"
            ]
          },
          "metadata": {},
          "execution_count": 30
        }
      ]
    },
    {
      "cell_type": "code",
      "source": [
        "s = 0\n",
        "for i in range(len(a)):\n",
        "  s += a[i] * b[i]\n",
        "print(s)"
      ],
      "metadata": {
        "colab": {
          "base_uri": "https://localhost:8080/"
        },
        "id": "ZeRhJiEiuq-n",
        "outputId": "a7940f78-1ef6-4dbc-91dc-4ebba7144051"
      },
      "execution_count": 27,
      "outputs": [
        {
          "output_type": "stream",
          "name": "stdout",
          "text": [
            "6\n"
          ]
        }
      ]
    },
    {
      "cell_type": "markdown",
      "metadata": {
        "id": "LPZn1uvTbQwL"
      },
      "source": [
        "### ndarrayの属性"
      ]
    },
    {
      "cell_type": "code",
      "metadata": {
        "id": "zqnXK4utYvRC"
      },
      "source": [
        "a = np.array([-2.0, 1.0, 3.0])\n",
        "b = np.array([[1, 2, 3], [4, 5, 6]])"
      ],
      "execution_count": 31,
      "outputs": []
    },
    {
      "cell_type": "markdown",
      "source": [
        "* 配列自体のデータ型"
      ],
      "metadata": {
        "id": "YFazO4cpcfPS"
      }
    },
    {
      "cell_type": "code",
      "source": [
        "print(type(a))"
      ],
      "metadata": {
        "id": "OZ3FJCgRcUnJ",
        "colab": {
          "base_uri": "https://localhost:8080/"
        },
        "outputId": "be37c576-af3e-4c94-fd1c-612fe99a84df"
      },
      "execution_count": 32,
      "outputs": [
        {
          "output_type": "stream",
          "name": "stdout",
          "text": [
            "<class 'numpy.ndarray'>\n"
          ]
        }
      ]
    },
    {
      "cell_type": "markdown",
      "source": [
        "* 配列の要素のデータ型\n",
        "  * つまり配列の中身のデータ型"
      ],
      "metadata": {
        "id": "mppNVJRNciAS"
      }
    },
    {
      "cell_type": "code",
      "source": [
        "print(a.dtype)"
      ],
      "metadata": {
        "id": "49R6-fI2cd_Z",
        "colab": {
          "base_uri": "https://localhost:8080/"
        },
        "outputId": "4f526349-bc6a-406e-e1bb-c81d0d1e95e9"
      },
      "execution_count": 33,
      "outputs": [
        {
          "output_type": "stream",
          "name": "stdout",
          "text": [
            "float64\n"
          ]
        }
      ]
    },
    {
      "cell_type": "markdown",
      "source": [
        "* 配列のサイズ"
      ],
      "metadata": {
        "id": "v7xNfP4fcqcv"
      }
    },
    {
      "cell_type": "code",
      "source": [
        "print(a.size, b.size)"
      ],
      "metadata": {
        "id": "PCTfTPHPcqF0",
        "colab": {
          "base_uri": "https://localhost:8080/"
        },
        "outputId": "b99e01c0-09df-4d23-d13b-102c2615f62b"
      },
      "execution_count": 34,
      "outputs": [
        {
          "output_type": "stream",
          "name": "stdout",
          "text": [
            "3 6\n"
          ]
        }
      ]
    },
    {
      "cell_type": "markdown",
      "source": [
        "* 配列の要素のサイズ"
      ],
      "metadata": {
        "id": "T0xpnHi6cs1Z"
      }
    },
    {
      "cell_type": "code",
      "source": [
        "print(a.itemsize, b.itemsize)"
      ],
      "metadata": {
        "id": "3JKul7ZXccnC"
      },
      "execution_count": null,
      "outputs": []
    },
    {
      "cell_type": "markdown",
      "source": [
        "* 次元数"
      ],
      "metadata": {
        "id": "d9BTk_xpcx_Z"
      }
    },
    {
      "cell_type": "code",
      "source": [
        "print(b)"
      ],
      "metadata": {
        "colab": {
          "base_uri": "https://localhost:8080/"
        },
        "id": "DdEXL55UvqCI",
        "outputId": "ccadabd3-a6c5-4828-803a-0bdd2b7996df"
      },
      "execution_count": 36,
      "outputs": [
        {
          "output_type": "stream",
          "name": "stdout",
          "text": [
            "[[1 2 3]\n",
            " [4 5 6]]\n"
          ]
        }
      ]
    },
    {
      "cell_type": "code",
      "source": [
        "print(a.ndim, b.ndim)"
      ],
      "metadata": {
        "id": "EYkYemb2cvQ3",
        "colab": {
          "base_uri": "https://localhost:8080/"
        },
        "outputId": "d6b77ab0-1504-46e1-ce88-28c39a2cb907"
      },
      "execution_count": 35,
      "outputs": [
        {
          "output_type": "stream",
          "name": "stdout",
          "text": [
            "1 2\n"
          ]
        }
      ]
    },
    {
      "cell_type": "markdown",
      "source": [
        "* 形状"
      ],
      "metadata": {
        "id": "zTOaVtVAc2a6"
      }
    },
    {
      "cell_type": "code",
      "source": [
        "print(b)"
      ],
      "metadata": {
        "colab": {
          "base_uri": "https://localhost:8080/"
        },
        "id": "Q46rPI03v8Jo",
        "outputId": "b90d7f9d-fa0f-44e3-efd9-00e9d6a2038c"
      },
      "execution_count": 39,
      "outputs": [
        {
          "output_type": "stream",
          "name": "stdout",
          "text": [
            "[[1 2 3]\n",
            " [4 5 6]]\n"
          ]
        }
      ]
    },
    {
      "cell_type": "code",
      "source": [
        "print(a.shape, b.shape)"
      ],
      "metadata": {
        "id": "ssJ02Zf8cwNR",
        "colab": {
          "base_uri": "https://localhost:8080/"
        },
        "outputId": "c0afe3f2-fe2b-43da-caa2-d5175ca4099c"
      },
      "execution_count": 37,
      "outputs": [
        {
          "output_type": "stream",
          "name": "stdout",
          "text": [
            "(3,) (2, 3)\n"
          ]
        }
      ]
    },
    {
      "cell_type": "markdown",
      "metadata": {
        "id": "Gn13GaIUbawK"
      },
      "source": [
        "### ndarrayの作り方のいろいろ"
      ]
    },
    {
      "cell_type": "code",
      "source": [
        "for i in range(10):\n",
        "  print(i)"
      ],
      "metadata": {
        "colab": {
          "base_uri": "https://localhost:8080/"
        },
        "id": "cii2uy7UwYe-",
        "outputId": "e1a2e91a-63aa-49fe-d184-735b126baf2a"
      },
      "execution_count": 43,
      "outputs": [
        {
          "output_type": "stream",
          "name": "stdout",
          "text": [
            "0\n",
            "1\n",
            "2\n",
            "3\n",
            "4\n",
            "5\n",
            "6\n",
            "7\n",
            "8\n",
            "9\n"
          ]
        }
      ]
    },
    {
      "cell_type": "code",
      "metadata": {
        "id": "3f6iGuw6Yz-q",
        "colab": {
          "base_uri": "https://localhost:8080/"
        },
        "outputId": "d180f81c-9252-49a4-dc60-b138749ac286"
      },
      "source": [
        "a = np.arange(10)\n",
        "print(a)"
      ],
      "execution_count": 42,
      "outputs": [
        {
          "output_type": "stream",
          "name": "stdout",
          "text": [
            "[0 1 2 3 4 5 6 7 8 9]\n"
          ]
        }
      ]
    },
    {
      "cell_type": "code",
      "source": [
        "for i in range(0, 10, 2):\n",
        "  print(i)"
      ],
      "metadata": {
        "colab": {
          "base_uri": "https://localhost:8080/"
        },
        "id": "WEcKZvmewtfm",
        "outputId": "74c80034-3405-416a-ee93-9718cc2eba8c"
      },
      "execution_count": 44,
      "outputs": [
        {
          "output_type": "stream",
          "name": "stdout",
          "text": [
            "0\n",
            "2\n",
            "4\n",
            "6\n",
            "8\n"
          ]
        }
      ]
    },
    {
      "cell_type": "code",
      "source": [
        "b = np.arange(0, 10, 2)\n",
        "print(b)"
      ],
      "metadata": {
        "id": "fbpADEiRc-H7",
        "colab": {
          "base_uri": "https://localhost:8080/"
        },
        "outputId": "840584fe-65b5-4fab-df2e-98ee6b44f1e8"
      },
      "execution_count": 45,
      "outputs": [
        {
          "output_type": "stream",
          "name": "stdout",
          "text": [
            "[0 2 4 6 8]\n"
          ]
        }
      ]
    },
    {
      "cell_type": "code",
      "source": [
        "x = np.linspace(0, 10, 21) #0以上10以下を10等分\n",
        "print(x)"
      ],
      "metadata": {
        "id": "wn5_D3aYc-_t",
        "colab": {
          "base_uri": "https://localhost:8080/"
        },
        "outputId": "10741a2e-5250-415d-e422-6ca5b12457b4"
      },
      "execution_count": 51,
      "outputs": [
        {
          "output_type": "stream",
          "name": "stdout",
          "text": [
            "[ 0.   0.5  1.   1.5  2.   2.5  3.   3.5  4.   4.5  5.   5.5  6.   6.5\n",
            "  7.   7.5  8.   8.5  9.   9.5 10. ]\n"
          ]
        }
      ]
    },
    {
      "cell_type": "markdown",
      "source": [
        "* 配列を乱数で埋める"
      ],
      "metadata": {
        "id": "GV9U76UCdAT4"
      }
    },
    {
      "cell_type": "code",
      "source": [
        "print(np.random.randn()) #正規乱数"
      ],
      "metadata": {
        "colab": {
          "base_uri": "https://localhost:8080/"
        },
        "id": "10QR7rP60Ehv",
        "outputId": "e6479f27-88a4-4f2f-fdc3-8e2b6c3fc766"
      },
      "execution_count": 57,
      "outputs": [
        {
          "output_type": "stream",
          "name": "stdout",
          "text": [
            "-0.9382805383588977\n"
          ]
        }
      ]
    },
    {
      "cell_type": "code",
      "metadata": {
        "id": "cTjr9VdUY58Z",
        "colab": {
          "base_uri": "https://localhost:8080/"
        },
        "outputId": "1b741aeb-0d0b-4b17-dda3-265306b2c617"
      },
      "source": [
        "a = np.random.randn(2, 3) # 2行3列\n",
        "print(a)"
      ],
      "execution_count": 61,
      "outputs": [
        {
          "output_type": "stream",
          "name": "stdout",
          "text": [
            "[[-1.28087258  1.7884448  -0.82961957]\n",
            " [ 0.74255755  1.30085148 -0.1446068 ]]\n"
          ]
        }
      ]
    },
    {
      "cell_type": "code",
      "source": [
        "b = np.random.randn(3, 4)\n",
        "print(b)"
      ],
      "metadata": {
        "colab": {
          "base_uri": "https://localhost:8080/"
        },
        "id": "ui__8KmC0jFe",
        "outputId": "441d6179-4644-4ca5-c8f9-66bb0f68bf4d"
      },
      "execution_count": 62,
      "outputs": [
        {
          "output_type": "stream",
          "name": "stdout",
          "text": [
            "[[-0.55773939  1.5873045  -1.10692863  0.74778348]\n",
            " [-0.14307037 -0.547767   -1.21012789  1.61278433]\n",
            " [-1.21808383 -0.44246876 -0.5977189  -0.39839748]]\n"
          ]
        }
      ]
    },
    {
      "cell_type": "markdown",
      "source": [
        "* 行列の掛け算"
      ],
      "metadata": {
        "id": "oN_lFdlk0ns7"
      }
    },
    {
      "cell_type": "code",
      "source": [
        "print(np.dot(a, b))"
      ],
      "metadata": {
        "id": "ATTQQUH1dDyZ",
        "colab": {
          "base_uri": "https://localhost:8080/"
        },
        "outputId": "97b34472-350f-4a74-9414-486c2a9af82e"
      },
      "execution_count": 65,
      "outputs": [
        {
          "output_type": "stream",
          "name": "stdout",
          "text": [
            "[[ 1.4690658  -2.64570511 -0.2505331   2.25707873]\n",
            " [-0.42412369  0.53008542 -2.30972065  2.71087614]]\n"
          ]
        }
      ]
    },
    {
      "cell_type": "markdown",
      "source": [
        "* 次のセルはエラーになる。\n",
        "  * なぜ？"
      ],
      "metadata": {
        "id": "WRsi9TXsdFho"
      }
    },
    {
      "cell_type": "code",
      "source": [
        "print(np.dot(b, a))"
      ],
      "metadata": {
        "id": "5Iv9xY-edE6A",
        "colab": {
          "base_uri": "https://localhost:8080/",
          "height": 153
        },
        "outputId": "f3a6ec3c-9204-4cc9-bfca-2703e4f3aee9"
      },
      "execution_count": 66,
      "outputs": [
        {
          "output_type": "error",
          "ename": "ValueError",
          "evalue": "shapes (3,4) and (2,3) not aligned: 4 (dim 1) != 2 (dim 0)",
          "traceback": [
            "\u001b[0;31m---------------------------------------------------------------------------\u001b[0m",
            "\u001b[0;31mValueError\u001b[0m                                Traceback (most recent call last)",
            "\u001b[0;32m<ipython-input-66-11663ab089df>\u001b[0m in \u001b[0;36m<cell line: 0>\u001b[0;34m()\u001b[0m\n\u001b[0;32m----> 1\u001b[0;31m \u001b[0mprint\u001b[0m\u001b[0;34m(\u001b[0m\u001b[0mnp\u001b[0m\u001b[0;34m.\u001b[0m\u001b[0mdot\u001b[0m\u001b[0;34m(\u001b[0m\u001b[0mb\u001b[0m\u001b[0;34m,\u001b[0m \u001b[0ma\u001b[0m\u001b[0;34m)\u001b[0m\u001b[0;34m)\u001b[0m\u001b[0;34m\u001b[0m\u001b[0;34m\u001b[0m\u001b[0m\n\u001b[0m",
            "\u001b[0;31mValueError\u001b[0m: shapes (3,4) and (2,3) not aligned: 4 (dim 1) != 2 (dim 0)"
          ]
        }
      ]
    },
    {
      "cell_type": "markdown",
      "source": [
        "* 配列をゼロやその他の数値で埋める"
      ],
      "metadata": {
        "id": "JxFtCw--dIfQ"
      }
    },
    {
      "cell_type": "code",
      "metadata": {
        "id": "juezWtTpY7fh",
        "colab": {
          "base_uri": "https://localhost:8080/"
        },
        "outputId": "03c4710f-2345-458f-c47b-5230ce8f3aa5"
      },
      "source": [
        "a = np.zeros((3,3)) #()で囲む必要あり\n",
        "print(a)"
      ],
      "execution_count": 67,
      "outputs": [
        {
          "output_type": "stream",
          "name": "stdout",
          "text": [
            "[[0. 0. 0.]\n",
            " [0. 0. 0.]\n",
            " [0. 0. 0.]]\n"
          ]
        }
      ]
    },
    {
      "cell_type": "code",
      "source": [
        "b = np.ones((3,3))\n",
        "print(b)"
      ],
      "metadata": {
        "id": "MKfoc53rdMKI",
        "colab": {
          "base_uri": "https://localhost:8080/"
        },
        "outputId": "3a8156ae-9eda-4f3c-a059-19967c0e36a5"
      },
      "execution_count": 68,
      "outputs": [
        {
          "output_type": "stream",
          "name": "stdout",
          "text": [
            "[[1. 1. 1.]\n",
            " [1. 1. 1.]\n",
            " [1. 1. 1.]]\n"
          ]
        }
      ]
    },
    {
      "cell_type": "markdown",
      "source": [
        "* 問：次のセルの出力結果がなぜそうなるか、説明してみよう。"
      ],
      "metadata": {
        "id": "xkiacvkGdZ7N"
      }
    },
    {
      "cell_type": "code",
      "source": [
        "print(np.dot(b, b))"
      ],
      "metadata": {
        "id": "KD52GGDhdObB",
        "colab": {
          "base_uri": "https://localhost:8080/"
        },
        "outputId": "c25a0620-d46a-469e-f7d9-bb9418c44439"
      },
      "execution_count": 69,
      "outputs": [
        {
          "output_type": "stream",
          "name": "stdout",
          "text": [
            "[[3. 3. 3.]\n",
            " [3. 3. 3.]\n",
            " [3. 3. 3.]]\n"
          ]
        }
      ]
    },
    {
      "cell_type": "code",
      "source": [
        "c = np.full((6,23), -2.3241212)\n",
        "print(c)"
      ],
      "metadata": {
        "id": "C9OZ3XxMdNJo",
        "colab": {
          "base_uri": "https://localhost:8080/"
        },
        "outputId": "44105727-1ff2-461d-e49a-dfcaf49aeaa9"
      },
      "execution_count": 73,
      "outputs": [
        {
          "output_type": "stream",
          "name": "stdout",
          "text": [
            "[[-2.3241212 -2.3241212 -2.3241212 -2.3241212 -2.3241212 -2.3241212\n",
            "  -2.3241212 -2.3241212 -2.3241212 -2.3241212 -2.3241212 -2.3241212\n",
            "  -2.3241212 -2.3241212 -2.3241212 -2.3241212 -2.3241212 -2.3241212\n",
            "  -2.3241212 -2.3241212 -2.3241212 -2.3241212 -2.3241212]\n",
            " [-2.3241212 -2.3241212 -2.3241212 -2.3241212 -2.3241212 -2.3241212\n",
            "  -2.3241212 -2.3241212 -2.3241212 -2.3241212 -2.3241212 -2.3241212\n",
            "  -2.3241212 -2.3241212 -2.3241212 -2.3241212 -2.3241212 -2.3241212\n",
            "  -2.3241212 -2.3241212 -2.3241212 -2.3241212 -2.3241212]\n",
            " [-2.3241212 -2.3241212 -2.3241212 -2.3241212 -2.3241212 -2.3241212\n",
            "  -2.3241212 -2.3241212 -2.3241212 -2.3241212 -2.3241212 -2.3241212\n",
            "  -2.3241212 -2.3241212 -2.3241212 -2.3241212 -2.3241212 -2.3241212\n",
            "  -2.3241212 -2.3241212 -2.3241212 -2.3241212 -2.3241212]\n",
            " [-2.3241212 -2.3241212 -2.3241212 -2.3241212 -2.3241212 -2.3241212\n",
            "  -2.3241212 -2.3241212 -2.3241212 -2.3241212 -2.3241212 -2.3241212\n",
            "  -2.3241212 -2.3241212 -2.3241212 -2.3241212 -2.3241212 -2.3241212\n",
            "  -2.3241212 -2.3241212 -2.3241212 -2.3241212 -2.3241212]\n",
            " [-2.3241212 -2.3241212 -2.3241212 -2.3241212 -2.3241212 -2.3241212\n",
            "  -2.3241212 -2.3241212 -2.3241212 -2.3241212 -2.3241212 -2.3241212\n",
            "  -2.3241212 -2.3241212 -2.3241212 -2.3241212 -2.3241212 -2.3241212\n",
            "  -2.3241212 -2.3241212 -2.3241212 -2.3241212 -2.3241212]\n",
            " [-2.3241212 -2.3241212 -2.3241212 -2.3241212 -2.3241212 -2.3241212\n",
            "  -2.3241212 -2.3241212 -2.3241212 -2.3241212 -2.3241212 -2.3241212\n",
            "  -2.3241212 -2.3241212 -2.3241212 -2.3241212 -2.3241212 -2.3241212\n",
            "  -2.3241212 -2.3241212 -2.3241212 -2.3241212 -2.3241212]]\n"
          ]
        }
      ]
    },
    {
      "cell_type": "markdown",
      "metadata": {
        "id": "YRd5MaWsbupX"
      },
      "source": [
        "## 配列の要素を指定する"
      ]
    },
    {
      "cell_type": "markdown",
      "metadata": {
        "id": "AIUg61oUb-lM"
      },
      "source": [
        "### インデックス（添え字）"
      ]
    },
    {
      "cell_type": "code",
      "metadata": {
        "id": "rzLp8AQHY9jB",
        "colab": {
          "base_uri": "https://localhost:8080/"
        },
        "outputId": "5c4e06ee-c430-40ae-88b4-1f5c1f13afd5"
      },
      "source": [
        "a = np.arange(1, 20, 3)\n",
        "print(a)"
      ],
      "execution_count": 74,
      "outputs": [
        {
          "output_type": "stream",
          "name": "stdout",
          "text": [
            "[ 1  4  7 10 13 16 19]\n"
          ]
        }
      ]
    },
    {
      "cell_type": "code",
      "source": [
        "print(a[0])\n",
        "print(a[1])"
      ],
      "metadata": {
        "id": "ELNZUONHbza3",
        "colab": {
          "base_uri": "https://localhost:8080/"
        },
        "outputId": "db098ec8-c548-4900-e9c6-594512f6c563"
      },
      "execution_count": 75,
      "outputs": [
        {
          "output_type": "stream",
          "name": "stdout",
          "text": [
            "1\n",
            "4\n"
          ]
        }
      ]
    },
    {
      "cell_type": "code",
      "source": [
        "a[3] = 11\n",
        "print(a)"
      ],
      "metadata": {
        "id": "FsV0B_2ob08w",
        "colab": {
          "base_uri": "https://localhost:8080/"
        },
        "outputId": "19ca0432-086f-4610-9b6e-76357ce7c4e4"
      },
      "execution_count": 76,
      "outputs": [
        {
          "output_type": "stream",
          "name": "stdout",
          "text": [
            "[ 1  4  7 11 13 16 19]\n"
          ]
        }
      ]
    },
    {
      "cell_type": "markdown",
      "source": [
        "* 2次元配列の場合"
      ],
      "metadata": {
        "id": "RF9Cn6Zrb3lv"
      }
    },
    {
      "cell_type": "code",
      "source": [
        "c = np.array([[1,2,3],[4,5,6]])\n",
        "print(c)"
      ],
      "metadata": {
        "id": "Az6ckUiyb2FJ",
        "colab": {
          "base_uri": "https://localhost:8080/"
        },
        "outputId": "32cc71e5-98b5-4e76-c78f-adeda3cd2c48"
      },
      "execution_count": 77,
      "outputs": [
        {
          "output_type": "stream",
          "name": "stdout",
          "text": [
            "[[1 2 3]\n",
            " [4 5 6]]\n"
          ]
        }
      ]
    },
    {
      "cell_type": "code",
      "source": [
        "print(c[0,0])"
      ],
      "metadata": {
        "colab": {
          "base_uri": "https://localhost:8080/"
        },
        "id": "QKw8srkC14Uc",
        "outputId": "7ce0a39b-dae1-4c6b-c4cc-2ebfdac15025"
      },
      "execution_count": 78,
      "outputs": [
        {
          "output_type": "stream",
          "name": "stdout",
          "text": [
            "1\n"
          ]
        }
      ]
    },
    {
      "cell_type": "code",
      "source": [
        "print(c[0,2])"
      ],
      "metadata": {
        "colab": {
          "base_uri": "https://localhost:8080/"
        },
        "id": "e9Aag-LP19ui",
        "outputId": "5c0105db-360c-429a-82be-7d3e5591159f"
      },
      "execution_count": 79,
      "outputs": [
        {
          "output_type": "stream",
          "name": "stdout",
          "text": [
            "3\n"
          ]
        }
      ]
    },
    {
      "cell_type": "code",
      "source": [
        "print(c[1,0])"
      ],
      "metadata": {
        "id": "phgA9Vbfb3IG",
        "colab": {
          "base_uri": "https://localhost:8080/"
        },
        "outputId": "82f02f72-a1a1-4578-891d-cad3964b2ca8"
      },
      "execution_count": 80,
      "outputs": [
        {
          "output_type": "stream",
          "name": "stdout",
          "text": [
            "4\n"
          ]
        }
      ]
    },
    {
      "cell_type": "code",
      "source": [
        "print(c[3,10])"
      ],
      "metadata": {
        "colab": {
          "base_uri": "https://localhost:8080/",
          "height": 153
        },
        "id": "nNCzR5432EHw",
        "outputId": "91a6b5e7-c076-4beb-a0ae-dfbb9e38b8f6"
      },
      "execution_count": 82,
      "outputs": [
        {
          "output_type": "error",
          "ename": "IndexError",
          "evalue": "index 3 is out of bounds for axis 0 with size 2",
          "traceback": [
            "\u001b[0;31m---------------------------------------------------------------------------\u001b[0m",
            "\u001b[0;31mIndexError\u001b[0m                                Traceback (most recent call last)",
            "\u001b[0;32m<ipython-input-82-dbfe66e0cc4c>\u001b[0m in \u001b[0;36m<cell line: 0>\u001b[0;34m()\u001b[0m\n\u001b[0;32m----> 1\u001b[0;31m \u001b[0mprint\u001b[0m\u001b[0;34m(\u001b[0m\u001b[0mc\u001b[0m\u001b[0;34m[\u001b[0m\u001b[0;36m3\u001b[0m\u001b[0;34m,\u001b[0m\u001b[0;36m10\u001b[0m\u001b[0;34m]\u001b[0m\u001b[0;34m)\u001b[0m\u001b[0;34m\u001b[0m\u001b[0;34m\u001b[0m\u001b[0m\n\u001b[0m",
            "\u001b[0;31mIndexError\u001b[0m: index 3 is out of bounds for axis 0 with size 2"
          ]
        }
      ]
    },
    {
      "cell_type": "markdown",
      "metadata": {
        "id": "VGTRdkLDZIYJ"
      },
      "source": [
        "## ndarrayを高速に扱う工夫\n",
        "* 要素を個別に取り出して計算したりしない。"
      ]
    },
    {
      "cell_type": "code",
      "metadata": {
        "id": "Jn7bUVa6ZAPx"
      },
      "source": [
        "import time\n",
        "import numpy as np\n",
        "\n",
        "x = np.ones(10000000)\n",
        "y = np.ones(10000000)\n",
        "s = np.zeros(10000000)\n",
        "for _ in range(10):\n",
        "  a = time.time()\n",
        "  for i in range(10000000):\n",
        "    s[i] = x[i] + y[i]\n",
        "  b = time.time()\n",
        "  print(b - a)"
      ],
      "execution_count": null,
      "outputs": []
    },
    {
      "cell_type": "markdown",
      "metadata": {
        "id": "rPzYF1AkZMom"
      },
      "source": [
        "* 上のセルのように書くより、こう書くほうが良い"
      ]
    },
    {
      "cell_type": "code",
      "metadata": {
        "id": "7s8cFdShZQn-"
      },
      "source": [
        "import time\n",
        "import numpy as np\n",
        "\n",
        "x = np.ones(10000000)\n",
        "y = np.ones(10000000)\n",
        "s = np.zeros(10000000)\n",
        "for _ in range(10):\n",
        "  a = time.time()\n",
        "  s = x + y\n",
        "  b = time.time()\n",
        "  print(b - a)"
      ],
      "execution_count": null,
      "outputs": []
    },
    {
      "cell_type": "markdown",
      "metadata": {
        "id": "ku21YYlpb6I_"
      },
      "source": [
        "## スライシング\n",
        "* 配列の要素をまとめて扱う。"
      ]
    },
    {
      "cell_type": "code",
      "metadata": {
        "id": "2V5VfCO4ZUrZ",
        "colab": {
          "base_uri": "https://localhost:8080/"
        },
        "outputId": "56f5fde8-ad98-4b72-d86f-33a44f81b090"
      },
      "source": [
        "a = np.arange(1, 20, 3)\n",
        "print(a)"
      ],
      "execution_count": 83,
      "outputs": [
        {
          "output_type": "stream",
          "name": "stdout",
          "text": [
            "[ 1  4  7 10 13 16 19]\n"
          ]
        }
      ]
    },
    {
      "cell_type": "code",
      "source": [
        "print(a[1:5])"
      ],
      "metadata": {
        "id": "AHpsjZofblbQ",
        "colab": {
          "base_uri": "https://localhost:8080/"
        },
        "outputId": "d20bc892-9872-457f-bb7e-f27798c1b140"
      },
      "execution_count": 84,
      "outputs": [
        {
          "output_type": "stream",
          "name": "stdout",
          "text": [
            "[ 4  7 10 13]\n"
          ]
        }
      ]
    },
    {
      "cell_type": "code",
      "source": [
        "print(a[0:6:2])"
      ],
      "metadata": {
        "id": "PXaWWG-IbmgK",
        "colab": {
          "base_uri": "https://localhost:8080/"
        },
        "outputId": "527b5911-fa58-49d4-c530-5bb4f5eae2c8"
      },
      "execution_count": 85,
      "outputs": [
        {
          "output_type": "stream",
          "name": "stdout",
          "text": [
            "[ 1  7 13]\n"
          ]
        }
      ]
    },
    {
      "cell_type": "code",
      "source": [
        "print(a[::-1])"
      ],
      "metadata": {
        "id": "TNE9ngYWboW0",
        "colab": {
          "base_uri": "https://localhost:8080/"
        },
        "outputId": "2441bc1e-b81e-45f8-f7e2-0d94dfcdd34b"
      },
      "execution_count": 86,
      "outputs": [
        {
          "output_type": "stream",
          "name": "stdout",
          "text": [
            "[19 16 13 10  7  4  1]\n"
          ]
        }
      ]
    },
    {
      "cell_type": "code",
      "source": [
        "print(a[-2::-1])"
      ],
      "metadata": {
        "id": "SD0t3xsfboPB",
        "colab": {
          "base_uri": "https://localhost:8080/"
        },
        "outputId": "b459c852-545c-4498-ea0f-105d9dbb7a92"
      },
      "execution_count": 87,
      "outputs": [
        {
          "output_type": "stream",
          "name": "stdout",
          "text": [
            "[16 13 10  7  4  1]\n"
          ]
        }
      ]
    },
    {
      "cell_type": "code",
      "source": [
        "print(a[-2:1:-1])"
      ],
      "metadata": {
        "id": "qTsCXKj9boGo"
      },
      "execution_count": null,
      "outputs": []
    },
    {
      "cell_type": "markdown",
      "metadata": {
        "id": "mQ2JhxBJcBuS"
      },
      "source": [
        "### fancy index"
      ]
    },
    {
      "cell_type": "code",
      "metadata": {
        "id": "v9XiqHT-ZWSR",
        "colab": {
          "base_uri": "https://localhost:8080/"
        },
        "outputId": "2c54ed4d-6347-4937-bf89-38428b1271bd"
      },
      "source": [
        "np.random.seed(1234)\n",
        "a = np.random.randint(10, size=10)\n",
        "print(a)"
      ],
      "execution_count": 114,
      "outputs": [
        {
          "output_type": "stream",
          "name": "stdout",
          "text": [
            "[3 6 5 4 8 9 1 7 9 6]\n"
          ]
        }
      ]
    },
    {
      "cell_type": "code",
      "source": [
        "m = a % 3 == 0\n",
        "print(m)"
      ],
      "metadata": {
        "id": "o0qN4PZnbfYR",
        "colab": {
          "base_uri": "https://localhost:8080/"
        },
        "outputId": "422aa9ca-693e-439b-d998-d9ce09763d05"
      },
      "execution_count": 115,
      "outputs": [
        {
          "output_type": "stream",
          "name": "stdout",
          "text": [
            "[ True  True False False False  True False False  True  True]\n"
          ]
        }
      ]
    },
    {
      "cell_type": "code",
      "source": [
        "print(type(m))\n",
        "print(m.dtype)"
      ],
      "metadata": {
        "id": "-zOZM3trbh5F",
        "colab": {
          "base_uri": "https://localhost:8080/"
        },
        "outputId": "54565924-5a5e-42f4-ff63-553a85e9bc58"
      },
      "execution_count": 116,
      "outputs": [
        {
          "output_type": "stream",
          "name": "stdout",
          "text": [
            "<class 'numpy.ndarray'>\n",
            "bool\n"
          ]
        }
      ]
    },
    {
      "cell_type": "code",
      "source": [
        "b = a[m]\n",
        "print(b)"
      ],
      "metadata": {
        "id": "j0Wt60R9bgv-",
        "colab": {
          "base_uri": "https://localhost:8080/"
        },
        "outputId": "4c30c431-4a6f-4509-ec80-528b8e4b5cd9"
      },
      "execution_count": 117,
      "outputs": [
        {
          "output_type": "stream",
          "name": "stdout",
          "text": [
            "[3 6 9 9 6]\n"
          ]
        }
      ]
    },
    {
      "cell_type": "markdown",
      "metadata": {
        "id": "8sAWN6YIcFMp"
      },
      "source": [
        "### where関数"
      ]
    },
    {
      "cell_type": "code",
      "metadata": {
        "id": "vdQeMI1mZXvR",
        "colab": {
          "base_uri": "https://localhost:8080/"
        },
        "outputId": "7e9726cd-e36e-4e90-f352-3100511ee392"
      },
      "source": [
        "#np.random.seed(1234)\n",
        "a = np.random.randint(10,size=10)\n",
        "print(a)"
      ],
      "execution_count": 100,
      "outputs": [
        {
          "output_type": "stream",
          "name": "stdout",
          "text": [
            "[3 1 3 7 1 7 4 0 5 1]\n"
          ]
        }
      ]
    },
    {
      "cell_type": "code",
      "source": [
        "print(a > 3) # bool型の値が並んだ配列になる"
      ],
      "metadata": {
        "colab": {
          "base_uri": "https://localhost:8080/"
        },
        "id": "pZxJMnB33yMh",
        "outputId": "f2918e29-1b76-441b-b853-4a9c16a5ab5a"
      },
      "execution_count": 104,
      "outputs": [
        {
          "output_type": "stream",
          "name": "stdout",
          "text": [
            "[False False False  True False  True  True False  True False]\n"
          ]
        }
      ]
    },
    {
      "cell_type": "code",
      "source": [
        "indices = a > 3\n",
        "print(indices)"
      ],
      "metadata": {
        "colab": {
          "base_uri": "https://localhost:8080/"
        },
        "id": "CpBGmjDx4R27",
        "outputId": "8cb83506-18dd-4315-ccea-76aa27539bf5"
      },
      "execution_count": 105,
      "outputs": [
        {
          "output_type": "stream",
          "name": "stdout",
          "text": [
            "[False False False  True False  True  True False  True False]\n"
          ]
        }
      ]
    },
    {
      "cell_type": "code",
      "source": [
        "print(a[1:4])"
      ],
      "metadata": {
        "colab": {
          "base_uri": "https://localhost:8080/"
        },
        "id": "w5yD9ZYr4cy8",
        "outputId": "cd02cb04-e152-466f-aecf-fc38b9033598"
      },
      "execution_count": 108,
      "outputs": [
        {
          "output_type": "stream",
          "name": "stdout",
          "text": [
            "[1 3 7]\n"
          ]
        }
      ]
    },
    {
      "cell_type": "code",
      "source": [
        "print(a[indices])"
      ],
      "metadata": {
        "colab": {
          "base_uri": "https://localhost:8080/"
        },
        "id": "pervsDWx4XfN",
        "outputId": "606b6a82-fb4b-42df-da54-9807e5ffca7a"
      },
      "execution_count": 107,
      "outputs": [
        {
          "output_type": "stream",
          "name": "stdout",
          "text": [
            "[7 7 4 5]\n"
          ]
        }
      ]
    },
    {
      "cell_type": "code",
      "source": [
        "m = np.where(a % 2 == 0) #インデックスのtupleを返す\n",
        "print(m)"
      ],
      "metadata": {
        "id": "7UwvntZ_bA0U",
        "colab": {
          "base_uri": "https://localhost:8080/"
        },
        "outputId": "0fdaaccc-3659-4548-b478-585ae78ab9bd"
      },
      "execution_count": 109,
      "outputs": [
        {
          "output_type": "stream",
          "name": "stdout",
          "text": [
            "(array([6, 7]),)\n"
          ]
        }
      ]
    },
    {
      "cell_type": "code",
      "source": [
        "b = a[m]\n",
        "print(b)"
      ],
      "metadata": {
        "id": "-Cqg2GI7bFJb",
        "colab": {
          "base_uri": "https://localhost:8080/"
        },
        "outputId": "a3076bd7-daea-4292-8384-3bb72944fb81"
      },
      "execution_count": 110,
      "outputs": [
        {
          "output_type": "stream",
          "name": "stdout",
          "text": [
            "[4 0]\n"
          ]
        }
      ]
    },
    {
      "cell_type": "code",
      "source": [
        "m = np.where(a > 3)\n",
        "print(m)"
      ],
      "metadata": {
        "colab": {
          "base_uri": "https://localhost:8080/"
        },
        "id": "wUebZYwF5Ryl",
        "outputId": "6b5a35b8-ae26-4446-fd18-566cb9530056"
      },
      "execution_count": 112,
      "outputs": [
        {
          "output_type": "stream",
          "name": "stdout",
          "text": [
            "(array([3, 5, 6, 8]),)\n"
          ]
        }
      ]
    },
    {
      "cell_type": "code",
      "source": [
        "print(a[m])"
      ],
      "metadata": {
        "colab": {
          "base_uri": "https://localhost:8080/"
        },
        "id": "ahgvMYFx5cEc",
        "outputId": "465654ce-2275-4c85-91bc-a336224927ab"
      },
      "execution_count": 113,
      "outputs": [
        {
          "output_type": "stream",
          "name": "stdout",
          "text": [
            "[7 7 4 5]\n"
          ]
        }
      ]
    },
    {
      "cell_type": "code",
      "source": [
        "a = np.arange(10)\n",
        "print(a)"
      ],
      "metadata": {
        "colab": {
          "base_uri": "https://localhost:8080/"
        },
        "id": "G4H8tvvO6SFx",
        "outputId": "773e74ae-e92d-47dc-d1a8-b7649ab25fe6"
      },
      "execution_count": 118,
      "outputs": [
        {
          "output_type": "stream",
          "name": "stdout",
          "text": [
            "[0 1 2 3 4 5 6 7 8 9]\n"
          ]
        }
      ]
    },
    {
      "cell_type": "code",
      "source": [
        "a[a % 2 == 0]"
      ],
      "metadata": {
        "colab": {
          "base_uri": "https://localhost:8080/"
        },
        "id": "32CXrxWz6VV4",
        "outputId": "767e93d8-1c2b-452a-d20b-d2a2c00bcbd1"
      },
      "execution_count": 119,
      "outputs": [
        {
          "output_type": "execute_result",
          "data": {
            "text/plain": [
              "array([0, 2, 4, 6, 8])"
            ]
          },
          "metadata": {},
          "execution_count": 119
        }
      ]
    },
    {
      "cell_type": "code",
      "source": [
        "b = []\n",
        "for i in range(len(a)):\n",
        "  if a[i] % 2 == 0:\n",
        "    b.append(a[i])\n",
        "b = np.array(b)\n",
        "print(b)"
      ],
      "metadata": {
        "colab": {
          "base_uri": "https://localhost:8080/"
        },
        "id": "Snpu0Gus6b0z",
        "outputId": "bfba3a3b-9faf-4deb-e137-043f6c842e3c"
      },
      "execution_count": 120,
      "outputs": [
        {
          "output_type": "stream",
          "name": "stdout",
          "text": [
            "[0 2 4 6 8]\n"
          ]
        }
      ]
    },
    {
      "cell_type": "code",
      "metadata": {
        "id": "lDGpLYtDZaG5",
        "colab": {
          "base_uri": "https://localhost:8080/"
        },
        "outputId": "a530f041-3118-4836-c352-52e0874fb80b"
      },
      "source": [
        "np.random.seed(1234)\n",
        "a = np.random.randint(10,size=10)\n",
        "print(a)"
      ],
      "execution_count": 121,
      "outputs": [
        {
          "output_type": "stream",
          "name": "stdout",
          "text": [
            "[3 6 5 4 8 9 1 7 9 6]\n"
          ]
        }
      ]
    },
    {
      "cell_type": "code",
      "source": [
        "m = np.where(a % 2 == 0, 'even', 'odd')\n",
        "print(m)"
      ],
      "metadata": {
        "id": "gOeF3hkzbG8r",
        "colab": {
          "base_uri": "https://localhost:8080/"
        },
        "outputId": "eca56ca0-d944-4414-9a32-de82bbd33451"
      },
      "execution_count": 122,
      "outputs": [
        {
          "output_type": "stream",
          "name": "stdout",
          "text": [
            "['odd' 'even' 'odd' 'even' 'even' 'odd' 'odd' 'odd' 'odd' 'even']\n"
          ]
        }
      ]
    },
    {
      "cell_type": "code",
      "source": [
        "print(a[m == 'even'])"
      ],
      "metadata": {
        "id": "e0V4e91-bHym"
      },
      "execution_count": null,
      "outputs": []
    },
    {
      "cell_type": "markdown",
      "metadata": {
        "id": "M5ZVnM-4cIjb"
      },
      "source": [
        "## 配列のコピー"
      ]
    },
    {
      "cell_type": "markdown",
      "metadata": {
        "id": "FzalREx9cVCr"
      },
      "source": [
        "### 配列のビュー\n",
        "* 中身をコピーするわけではない。"
      ]
    },
    {
      "cell_type": "code",
      "metadata": {
        "id": "Bajlb7q3cXGK"
      },
      "source": [
        "a = np.array([1, 2, 3])\n",
        "b = a #ビューを作っている"
      ],
      "execution_count": null,
      "outputs": []
    },
    {
      "cell_type": "markdown",
      "metadata": {
        "id": "QBaj4afYZf9M"
      },
      "source": [
        "### リストのコピー"
      ]
    },
    {
      "cell_type": "code",
      "metadata": {
        "id": "9s7sI0f6Zb9Q"
      },
      "source": [
        "a = [1, 2, 3]\n",
        "b = a\n",
        "b[1] = 22\n",
        "print(a)\n",
        "print(b)"
      ],
      "execution_count": null,
      "outputs": []
    },
    {
      "cell_type": "code",
      "source": [
        "c = a[:] #リストがコピーされる\n",
        "c[2] = 234\n",
        "print(a)\n",
        "print(c)"
      ],
      "metadata": {
        "id": "GCU0ys73AlRK"
      },
      "execution_count": null,
      "outputs": []
    },
    {
      "cell_type": "markdown",
      "metadata": {
        "id": "oBRFhX3NZvrC"
      },
      "source": [
        "### ndarrayの場合の`a[:]`\n",
        "* コピーされるかどうか？"
      ]
    },
    {
      "cell_type": "code",
      "metadata": {
        "id": "CTOUB97jZgr5"
      },
      "source": [
        "a = np.array([1, 2, 3])\n",
        "c = a[:]"
      ],
      "execution_count": null,
      "outputs": []
    },
    {
      "cell_type": "code",
      "source": [
        "print(id(a) == id(c))"
      ],
      "metadata": {
        "id": "zBCI4LiObVh1"
      },
      "execution_count": null,
      "outputs": []
    },
    {
      "cell_type": "code",
      "source": [
        "c[1] = 22\n",
        "print(a) #変化している"
      ],
      "metadata": {
        "id": "cs5TByc7bUlz"
      },
      "execution_count": null,
      "outputs": []
    },
    {
      "cell_type": "markdown",
      "metadata": {
        "id": "EaVzJy8XccaI"
      },
      "source": [
        "### `copy`メソッド"
      ]
    },
    {
      "cell_type": "code",
      "metadata": {
        "id": "HpvXCyFhZim5"
      },
      "source": [
        "a = np.array([1, 2, 3])\n",
        "d = a.copy() #コピーを作る\n",
        "print(id(a) == id(d))"
      ],
      "execution_count": null,
      "outputs": []
    },
    {
      "cell_type": "code",
      "source": [
        "d[2] = 234\n",
        "print(a) #変化していない"
      ],
      "metadata": {
        "id": "rc7m9aGbbX5m"
      },
      "execution_count": null,
      "outputs": []
    },
    {
      "cell_type": "markdown",
      "metadata": {
        "id": "w9XBDkJRc19M"
      },
      "source": [
        "## 配列の形の変更"
      ]
    },
    {
      "cell_type": "code",
      "metadata": {
        "id": "galRR6uCaVAK"
      },
      "source": [
        "a = np.arange(12)\n",
        "print(a)"
      ],
      "execution_count": null,
      "outputs": []
    },
    {
      "cell_type": "markdown",
      "source": [
        "* NumPyのreshape関数"
      ],
      "metadata": {
        "id": "IA24-OotarBg"
      }
    },
    {
      "cell_type": "code",
      "source": [
        "b = np.reshape(a, (3, 4)) #\n",
        "print(b)"
      ],
      "metadata": {
        "id": "3BiEoiePabKU"
      },
      "execution_count": null,
      "outputs": []
    },
    {
      "cell_type": "markdown",
      "source": [
        "* 元の配列の中身を変更してみる。"
      ],
      "metadata": {
        "id": "zM8oJW9nas2b"
      }
    },
    {
      "cell_type": "code",
      "source": [
        "a[3] = - a[3]\n",
        "print(a)"
      ],
      "metadata": {
        "id": "yd7yiIRIacpv"
      },
      "execution_count": null,
      "outputs": []
    },
    {
      "cell_type": "markdown",
      "source": [
        "* 注意: reshape関数は配列の中身をコピーしない。"
      ],
      "metadata": {
        "id": "1qaF_cYBalVl"
      }
    },
    {
      "cell_type": "code",
      "source": [
        "print(b) #中身が変化している!"
      ],
      "metadata": {
        "id": "6Scer4Sjad3O"
      },
      "execution_count": null,
      "outputs": []
    },
    {
      "cell_type": "markdown",
      "source": [
        "* ndarrayのreshapeメソッド"
      ],
      "metadata": {
        "id": "t1Pxfiq8ahtp"
      }
    },
    {
      "cell_type": "code",
      "source": [
        "c = a.reshape((2,6))\n",
        "print(c)"
      ],
      "metadata": {
        "id": "OlfHgFZQaetB"
      },
      "execution_count": null,
      "outputs": []
    },
    {
      "cell_type": "markdown",
      "source": [
        "# 課題20250519\n",
        "* 1から1000までの範囲のすべての偶数の和を求める計算を、NumPyの機能を使って書いてみよう。\n",
        "  * NumPyの配列を使う、NumPyのarangeを使う、などなど。とにかく、何か一つでもNumPyの機能を使ってください。"
      ],
      "metadata": {
        "id": "dmX2akQTaIZy"
      }
    },
    {
      "cell_type": "code",
      "source": [
        "a = np.arange(10)\n",
        "print(a)"
      ],
      "metadata": {
        "id": "-B-xkIrqaRzP",
        "colab": {
          "base_uri": "https://localhost:8080/"
        },
        "outputId": "bce0b17e-1af4-420d-888b-5a542c195c15"
      },
      "execution_count": 123,
      "outputs": [
        {
          "output_type": "stream",
          "name": "stdout",
          "text": [
            "[0 1 2 3 4 5 6 7 8 9]\n"
          ]
        }
      ]
    },
    {
      "cell_type": "code",
      "source": [
        "print(np.sum(a))"
      ],
      "metadata": {
        "colab": {
          "base_uri": "https://localhost:8080/"
        },
        "id": "SDMoTy3Q7Ona",
        "outputId": "f40cabe5-ee11-4817-f9f9-7a612ef56078"
      },
      "execution_count": 125,
      "outputs": [
        {
          "output_type": "stream",
          "name": "stdout",
          "text": [
            "45\n"
          ]
        }
      ]
    },
    {
      "cell_type": "code",
      "source": [],
      "metadata": {
        "id": "57r1xdTV7Pdz"
      },
      "execution_count": null,
      "outputs": []
    }
  ]
}