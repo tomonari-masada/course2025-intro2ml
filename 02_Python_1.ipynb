{
  "nbformat": 4,
  "nbformat_minor": 0,
  "metadata": {
    "colab": {
      "provenance": [],
      "authorship_tag": "ABX9TyMEekDcYtBCdJAzwRhrlcv3",
      "include_colab_link": true
    },
    "kernelspec": {
      "name": "python3",
      "display_name": "Python 3"
    },
    "language_info": {
      "name": "python"
    }
  },
  "cells": [
    {
      "cell_type": "markdown",
      "metadata": {
        "id": "view-in-github",
        "colab_type": "text"
      },
      "source": [
        "<a href=\"https://colab.research.google.com/github/tomonari-masada/course2025-intro2ml/blob/main/02_Python_1.ipynb\" target=\"_parent\"><img src=\"https://colab.research.google.com/assets/colab-badge.svg\" alt=\"Open In Colab\"/></a>"
      ]
    },
    {
      "cell_type": "markdown",
      "metadata": {
        "id": "CKNt-nJvwMUk"
      },
      "source": [
        "# Python入門 (1)\n",
        "* ChatGPTがあるのでPythonでコーディングできる必要はないというのは、とんでもない勘違い。\n",
        "  * ChatGPTで作ったコードが間違っていたとき、誰が修正するんですか？"
      ]
    },
    {
      "cell_type": "markdown",
      "metadata": {
        "id": "gX7PqQlxeR0I"
      },
      "source": [
        "## Google Colabでコード片を実行する"
      ]
    },
    {
      "cell_type": "markdown",
      "source": [
        "* 変数への値の設定"
      ],
      "metadata": {
        "id": "BOLNtEtL4BNC"
      }
    },
    {
      "cell_type": "code",
      "source": [
        "a = 3.1"
      ],
      "metadata": {
        "id": "v01NqwtPqESY"
      },
      "execution_count": 7,
      "outputs": []
    },
    {
      "cell_type": "markdown",
      "source": [
        "* 変数の内容の確認"
      ],
      "metadata": {
        "id": "HZyCF-Gx4Cp7"
      }
    },
    {
      "cell_type": "code",
      "source": [
        "a"
      ],
      "metadata": {
        "colab": {
          "base_uri": "https://localhost:8080/"
        },
        "id": "fMk4iC0iqFPy",
        "outputId": "6753864d-7700-4b3d-c9a8-38ea8751219e"
      },
      "execution_count": 8,
      "outputs": [
        {
          "output_type": "execute_result",
          "data": {
            "text/plain": [
              "3.1"
            ]
          },
          "metadata": {},
          "execution_count": 8
        }
      ]
    },
    {
      "cell_type": "markdown",
      "source": [
        "* コメント\n",
        "  * ハッシュ記号（`#`）以下の文字列はコードの実行に無関係\n"
      ],
      "metadata": {
        "id": "ZzxiUShd4PcG"
      }
    },
    {
      "cell_type": "code",
      "source": [
        "a #コメント"
      ],
      "metadata": {
        "colab": {
          "base_uri": "https://localhost:8080/"
        },
        "id": "MkZ1hE_94OYl",
        "outputId": "2de2caa9-03d1-420f-a04c-14cef2721779"
      },
      "execution_count": 9,
      "outputs": [
        {
          "output_type": "execute_result",
          "data": {
            "text/plain": [
              "3.1"
            ]
          },
          "metadata": {},
          "execution_count": 9
        }
      ]
    },
    {
      "cell_type": "code",
      "source": [
        "b = 2.4"
      ],
      "metadata": {
        "id": "YCQsNkafqF0q"
      },
      "execution_count": null,
      "outputs": []
    },
    {
      "cell_type": "code",
      "source": [
        "b"
      ],
      "metadata": {
        "id": "RtwjjnokqGq9"
      },
      "execution_count": null,
      "outputs": []
    },
    {
      "cell_type": "markdown",
      "source": [
        "* 簡単な計算"
      ],
      "metadata": {
        "id": "xcmW51IoqSFg"
      }
    },
    {
      "cell_type": "code",
      "metadata": {
        "id": "fluONlNcuvDf"
      },
      "source": [
        "a + b"
      ],
      "execution_count": null,
      "outputs": []
    },
    {
      "cell_type": "code",
      "source": [
        "c = a + b"
      ],
      "metadata": {
        "id": "g8FdJrDsqPgX"
      },
      "execution_count": null,
      "outputs": []
    },
    {
      "cell_type": "code",
      "source": [
        "c"
      ],
      "metadata": {
        "id": "v_RF4WMcqQ14"
      },
      "execution_count": null,
      "outputs": []
    },
    {
      "cell_type": "markdown",
      "source": [
        "* 計算結果を元の変数に上書きする計算\n",
        "  * in-place演算という。"
      ],
      "metadata": {
        "id": "8gejFegh3uxK"
      }
    },
    {
      "cell_type": "code",
      "source": [
        "c = 5\n",
        "c += 1"
      ],
      "metadata": {
        "id": "yiAw6ATC3p3X"
      },
      "execution_count": null,
      "outputs": []
    },
    {
      "cell_type": "code",
      "source": [
        "c"
      ],
      "metadata": {
        "id": "-pNV0hes3sSZ"
      },
      "execution_count": null,
      "outputs": []
    },
    {
      "cell_type": "markdown",
      "metadata": {
        "id": "iqSn5bSyeTg5"
      },
      "source": [
        "## print関数"
      ]
    },
    {
      "cell_type": "code",
      "metadata": {
        "id": "SLIgWKqwux4K"
      },
      "source": [
        "print('Hello!')"
      ],
      "execution_count": null,
      "outputs": []
    },
    {
      "cell_type": "code",
      "source": [
        "print('World!')"
      ],
      "metadata": {
        "id": "y8H_jFHMqB-w"
      },
      "execution_count": null,
      "outputs": []
    },
    {
      "cell_type": "code",
      "source": [
        "print('Hello,', 'world!')"
      ],
      "metadata": {
        "id": "JnVENRvpqC21"
      },
      "execution_count": null,
      "outputs": []
    },
    {
      "cell_type": "code",
      "source": [
        "a = 1\n",
        "b = -1\n",
        "print(a, b)\n",
        "print(b, a)"
      ],
      "metadata": {
        "id": "aIzfXBpKyg-9"
      },
      "execution_count": null,
      "outputs": []
    },
    {
      "cell_type": "markdown",
      "metadata": {
        "id": "VpOjKvJkeX04"
      },
      "source": [
        "## Pythonのオブジェクト"
      ]
    },
    {
      "cell_type": "markdown",
      "metadata": {
        "id": "AHPOMKIzgmbH"
      },
      "source": [
        "* オブジェクト(object)\n",
        "  * Pythonのプログラムによって操作されるもののこと。\n",
        "  * すべてのオブジェクトは型(type)をもつ。\n",
        "* 型(type)\n",
        "  * スカラ(scalar): 分割不能。\n",
        "  * 非スカラ(non-scalar): 内部構造を持つ。例えば文字列。"
      ]
    },
    {
      "cell_type": "markdown",
      "metadata": {
        "id": "DGRUrV2vgyq8"
      },
      "source": [
        "### スカラ・オブジェクトの4つの型\n",
        "* int型\n",
        "\n",
        "\n",
        "\n"
      ]
    },
    {
      "cell_type": "code",
      "source": [
        "print(3)"
      ],
      "metadata": {
        "id": "9KZst7DtxRGc"
      },
      "execution_count": null,
      "outputs": []
    },
    {
      "cell_type": "code",
      "metadata": {
        "id": "r36vKH7ou8gF"
      },
      "source": [
        "print(type(3))"
      ],
      "execution_count": null,
      "outputs": []
    },
    {
      "cell_type": "markdown",
      "source": [
        "* float型"
      ],
      "metadata": {
        "id": "rkPBoRkcxKYG"
      }
    },
    {
      "cell_type": "code",
      "source": [
        "print(3.0)"
      ],
      "metadata": {
        "id": "GmylHdAnxSAV"
      },
      "execution_count": null,
      "outputs": []
    },
    {
      "cell_type": "code",
      "source": [
        "print(type(3.0))"
      ],
      "metadata": {
        "id": "fU1wfVXbqVhJ"
      },
      "execution_count": null,
      "outputs": []
    },
    {
      "cell_type": "markdown",
      "source": [
        "* bool型\n",
        "  * TrueとFalseの二種類の値しかない"
      ],
      "metadata": {
        "id": "WqYpD_6oxMkl"
      }
    },
    {
      "cell_type": "code",
      "source": [
        "print(3 != 2)"
      ],
      "metadata": {
        "id": "5IIUhGuDxNvI"
      },
      "execution_count": null,
      "outputs": []
    },
    {
      "cell_type": "code",
      "source": [
        "print(type(3 != 2))"
      ],
      "metadata": {
        "id": "30iYm3dFqWpQ"
      },
      "execution_count": null,
      "outputs": []
    },
    {
      "cell_type": "code",
      "source": [
        "a = 10\n",
        "b = 4\n",
        "print(a > b)\n",
        "print(a < b)"
      ],
      "metadata": {
        "id": "v6oXrqcMxThY"
      },
      "execution_count": null,
      "outputs": []
    },
    {
      "cell_type": "markdown",
      "source": [
        "* None型\n",
        "  * Noneという一つの値しかない"
      ],
      "metadata": {
        "id": "bYvMU-CRxL6m"
      }
    },
    {
      "cell_type": "code",
      "source": [
        "a = None"
      ],
      "metadata": {
        "id": "ly2r1_yGqYY6"
      },
      "execution_count": null,
      "outputs": []
    },
    {
      "cell_type": "code",
      "source": [
        "print(a)"
      ],
      "metadata": {
        "id": "SN5L-IWQxbww"
      },
      "execution_count": null,
      "outputs": []
    },
    {
      "cell_type": "code",
      "metadata": {
        "id": "u4YZf-1tg6jz"
      },
      "source": [
        "print(a is None)"
      ],
      "execution_count": null,
      "outputs": []
    },
    {
      "cell_type": "markdown",
      "metadata": {
        "id": "4ZUaJIZ7ehQ0"
      },
      "source": [
        "## 演算子"
      ]
    },
    {
      "cell_type": "markdown",
      "metadata": {
        "id": "8GQWjbbdhGHW"
      },
      "source": [
        "### 演算子の一覧\n",
        "\n",
        "\n",
        "> +, -, \\*, //, /, %, \\*\\*, ==, !=, >, >=, <, <=\n",
        "\n",
        "> and, or, not\n"
      ]
    },
    {
      "cell_type": "code",
      "metadata": {
        "id": "4IU28wFwu-6d"
      },
      "source": [
        "print(3 + 2)"
      ],
      "execution_count": null,
      "outputs": []
    },
    {
      "cell_type": "code",
      "source": [
        "print(3.0 + 2.0)"
      ],
      "metadata": {
        "id": "jDycs2OyqaWI"
      },
      "execution_count": null,
      "outputs": []
    },
    {
      "cell_type": "code",
      "source": [
        "print(3 != 2)"
      ],
      "metadata": {
        "id": "3irxAfTjqbbS"
      },
      "execution_count": null,
      "outputs": []
    },
    {
      "cell_type": "markdown",
      "source": [
        "* 問：//と/の違いは？\n"
      ],
      "metadata": {
        "id": "EKpMnj9QqeyI"
      }
    },
    {
      "cell_type": "code",
      "source": [
        "print(5 // 2)\n",
        "print(5 / 2)"
      ],
      "metadata": {
        "id": "yPkLcCouqgEZ"
      },
      "execution_count": null,
      "outputs": []
    },
    {
      "cell_type": "markdown",
      "source": [
        "* 問：(5+2)\\*4と5+2\\*4の違いは？（演算子の優先順位）\n"
      ],
      "metadata": {
        "id": "8HS1QP2Eqfnp"
      }
    },
    {
      "cell_type": "code",
      "source": [
        "print((5+2)*4)\n",
        "print(5+2*4)"
      ],
      "metadata": {
        "id": "8w4CsaWTqgil"
      },
      "execution_count": null,
      "outputs": []
    },
    {
      "cell_type": "markdown",
      "metadata": {
        "id": "KA94z1E_ejrV"
      },
      "source": [
        "## 変数と代入"
      ]
    },
    {
      "cell_type": "markdown",
      "source": [
        "* Pythonでの代入\n",
        "  * 変数に値を「紐付けする」イメージ。"
      ],
      "metadata": {
        "id": "8HijE_fiqtxB"
      }
    },
    {
      "cell_type": "code",
      "source": [
        "a = 3"
      ],
      "metadata": {
        "id": "R8zlTEWLqyxr"
      },
      "execution_count": null,
      "outputs": []
    },
    {
      "cell_type": "code",
      "source": [
        "a"
      ],
      "metadata": {
        "id": "tOxF297pq1kw"
      },
      "execution_count": null,
      "outputs": []
    },
    {
      "cell_type": "code",
      "source": [
        "print(a)"
      ],
      "metadata": {
        "id": "QdkcKljqq2bK"
      },
      "execution_count": null,
      "outputs": []
    },
    {
      "cell_type": "markdown",
      "metadata": {
        "id": "2M9pkBiNeqUL"
      },
      "source": [
        "### 変数名について\n",
        "* 大文字、小文字、数字、特殊文字'_'\n",
        "* 大文字と小文字は区別される\n",
        "* 予約語(reserved word)は変数名として使えない\n",
        "> and, as, assert, break, class, continue, def, del, elif, else, except, False, finally, for, from, global, if, import, in, is, lambda, nonlocal, None, not, or, pass, raise, return, True, try, while, with, yield\n"
      ]
    },
    {
      "cell_type": "code",
      "source": [
        "a_ = 5\n",
        "a_"
      ],
      "metadata": {
        "id": "M-uxTXE7qqB-"
      },
      "execution_count": null,
      "outputs": []
    },
    {
      "cell_type": "markdown",
      "metadata": {
        "id": "UNvchLcvex0k"
      },
      "source": [
        "### 複数の代入を1つの文で"
      ]
    },
    {
      "cell_type": "code",
      "metadata": {
        "id": "vAyWYg3dvBS0"
      },
      "source": [
        "a, b = 5, 4  #aと5, bと4が紐付けされる\n",
        "print(a, b)"
      ],
      "execution_count": null,
      "outputs": []
    },
    {
      "cell_type": "markdown",
      "source": [
        "* 問: 次のセルを実行すると、何が表示されるか？"
      ],
      "metadata": {
        "id": "fJCB7IqSq84W"
      }
    },
    {
      "cell_type": "code",
      "metadata": {
        "id": "zXlghevzvEXc"
      },
      "source": [
        "a, b = 5, 4\n",
        "a, b = b, a\n",
        "print(a, b)"
      ],
      "execution_count": null,
      "outputs": []
    },
    {
      "cell_type": "markdown",
      "metadata": {
        "id": "5aQHIHDhjaw9"
      },
      "source": [
        "* 組み込み関数idを使うとオブジェクトの固有識別子が得られる\n"
      ]
    },
    {
      "cell_type": "code",
      "metadata": {
        "id": "lg5cLj5RvG90"
      },
      "source": [
        "print(id(2))\n",
        "a = 2\n",
        "print(a)\n",
        "print(id(a))\n",
        "b = 1 + 1\n",
        "print(b)\n",
        "print(id(b))"
      ],
      "execution_count": null,
      "outputs": []
    },
    {
      "cell_type": "markdown",
      "metadata": {
        "id": "aIjARcgke2Kd"
      },
      "source": [
        "## if文"
      ]
    },
    {
      "cell_type": "code",
      "metadata": {
        "id": "MWREuv21vJcM"
      },
      "source": [
        "x = 251\n",
        "if x % 2 == 1:\n",
        "    print('odd')\n",
        "else:\n",
        "    print('even')"
      ],
      "execution_count": null,
      "outputs": []
    },
    {
      "cell_type": "code",
      "source": [
        "y = 50\n",
        "if y > 0:\n",
        "    print('positive')\n",
        "elif y < 0:\n",
        "    print('negative')\n",
        "else:\n",
        "    print('zero')"
      ],
      "metadata": {
        "id": "InlevrsMrKs7"
      },
      "execution_count": null,
      "outputs": []
    },
    {
      "cell_type": "markdown",
      "metadata": {
        "id": "JSDgqqlRfsJ9"
      },
      "source": [
        "### 入れ子状のif文"
      ]
    },
    {
      "cell_type": "code",
      "metadata": {
        "id": "-E3gw12gvLtc"
      },
      "source": [
        "x = 30\n",
        "if x % 3 == 0:\n",
        "    if x % 5 == 0:\n",
        "        print('Divisible by 3 and 5')\n",
        "    else:\n",
        "        print('Divisible by 3 and not by 5')\n",
        "elif x % 5 == 0:\n",
        "    print('Divisible by 5 and not by 3')"
      ],
      "execution_count": null,
      "outputs": []
    },
    {
      "cell_type": "markdown",
      "metadata": {
        "id": "mA-bPy_he6r-"
      },
      "source": [
        "## 文字列型（str型）\n",
        "* スカラ・オブジェクトではない。\n",
        "* たくさんの文字が並んで構成されたデータ。"
      ]
    },
    {
      "cell_type": "code",
      "metadata": {
        "id": "GnDPUVb-vNfc"
      },
      "source": [
        "print('This is a pen.')"
      ],
      "execution_count": null,
      "outputs": []
    },
    {
      "cell_type": "markdown",
      "source": [
        "* 変数への代入"
      ],
      "metadata": {
        "id": "o_K8yNXBt7J2"
      }
    },
    {
      "cell_type": "code",
      "source": [
        "s1 = \"This is a pen.\"\n",
        "s2 = \"That is a pencil.\"\n",
        "print(s1)\n",
        "print(s2)"
      ],
      "metadata": {
        "id": "_tG45ngJt01v"
      },
      "execution_count": null,
      "outputs": []
    },
    {
      "cell_type": "markdown",
      "source": [
        "* 文字列の連結"
      ],
      "metadata": {
        "id": "kXm9_YXguIwD"
      }
    },
    {
      "cell_type": "code",
      "source": [
        "s1 = \"This is a pen.\"\n",
        "s2 = \"That is a pencil.\"\n",
        "print(s1 + s2)"
      ],
      "metadata": {
        "id": "3HN7knL9rgAn"
      },
      "execution_count": null,
      "outputs": []
    },
    {
      "cell_type": "code",
      "source": [
        "print(s1 + \" \" + s2)"
      ],
      "metadata": {
        "id": "Wd_fVPILuPDc"
      },
      "execution_count": null,
      "outputs": []
    },
    {
      "cell_type": "markdown",
      "source": [
        "* 複数回繰り返して連結"
      ],
      "metadata": {
        "id": "0iMfn4pct8gw"
      }
    },
    {
      "cell_type": "code",
      "source": [
        "ss = 'abc'\n",
        "print(ss)\n",
        "ss = ss * 10\n",
        "print(ss)"
      ],
      "metadata": {
        "id": "q74iV8rlrh3n"
      },
      "execution_count": null,
      "outputs": []
    },
    {
      "cell_type": "markdown",
      "source": [
        "* 空の文字列"
      ],
      "metadata": {
        "id": "f9S8dz6luSoF"
      }
    },
    {
      "cell_type": "code",
      "source": [
        "my_str = \"\"\n",
        "print(my_str)"
      ],
      "metadata": {
        "colab": {
          "base_uri": "https://localhost:8080/"
        },
        "id": "y5NldZmPtwgM",
        "outputId": "84aaf35c-5fff-407c-effc-c6ed990d8702"
      },
      "execution_count": 2,
      "outputs": [
        {
          "output_type": "stream",
          "name": "stdout",
          "text": [
            "\n"
          ]
        }
      ]
    },
    {
      "cell_type": "code",
      "source": [
        "my_str += \"bank\"\n",
        "print(my_str)"
      ],
      "metadata": {
        "colab": {
          "base_uri": "https://localhost:8080/"
        },
        "id": "ZdR4gTdDuoGA",
        "outputId": "88067ae1-411e-46eb-fb9f-b215d0412825"
      },
      "execution_count": 3,
      "outputs": [
        {
          "output_type": "stream",
          "name": "stdout",
          "text": [
            "bank\n"
          ]
        }
      ]
    },
    {
      "cell_type": "code",
      "source": [
        "my_str += \"\"\n",
        "print(my_str)"
      ],
      "metadata": {
        "colab": {
          "base_uri": "https://localhost:8080/"
        },
        "id": "uiFNcUoFulwv",
        "outputId": "549b3b68-0f86-4c16-ccab-cae6e462c6bd"
      },
      "execution_count": 4,
      "outputs": [
        {
          "output_type": "stream",
          "name": "stdout",
          "text": [
            "bank\n"
          ]
        }
      ]
    },
    {
      "cell_type": "code",
      "source": [
        "my_str += \"rupt\"\n",
        "print(my_str)"
      ],
      "metadata": {
        "colab": {
          "base_uri": "https://localhost:8080/"
        },
        "id": "YTKb7yY5ulKa",
        "outputId": "6d7ad331-4153-47aa-ca74-b427e81dfa45"
      },
      "execution_count": 5,
      "outputs": [
        {
          "output_type": "stream",
          "name": "stdout",
          "text": [
            "bankrupt\n"
          ]
        }
      ]
    },
    {
      "cell_type": "markdown",
      "metadata": {
        "id": "V7Nfg-WRfzXY"
      },
      "source": [
        "### 順序型としての文字列型\n",
        "* 同じ種類のアイテムがたくさん並んで構成されるデータの型を順序型という。\n",
        "* 順序型には、以下の三種類の操作が、共通している\n",
        "  * 長さ\n",
        "  * 添え字\n",
        "  * スライシング"
      ]
    },
    {
      "cell_type": "code",
      "metadata": {
        "id": "lvB2EnbyvPKU"
      },
      "source": [
        "s = 'abcdef'"
      ],
      "execution_count": null,
      "outputs": []
    },
    {
      "cell_type": "markdown",
      "source": [
        "* 文字列の長さ"
      ],
      "metadata": {
        "id": "2_EfYEmUrwRd"
      }
    },
    {
      "cell_type": "code",
      "source": [
        "print(len(s))"
      ],
      "metadata": {
        "id": "-7mINfMVrqzw"
      },
      "execution_count": null,
      "outputs": []
    },
    {
      "cell_type": "markdown",
      "source": [
        "* 添え字(index)を使って一文字を取り出す"
      ],
      "metadata": {
        "id": "sfaciLB2ryG6"
      }
    },
    {
      "cell_type": "code",
      "source": [
        "print(s[3])"
      ],
      "metadata": {
        "id": "CMCZM7ozrrr_"
      },
      "execution_count": null,
      "outputs": []
    },
    {
      "cell_type": "markdown",
      "source": [
        "* スライス表記(slicing)"
      ],
      "metadata": {
        "id": "nVxfpZXVr5u5"
      }
    },
    {
      "cell_type": "code",
      "source": [
        "print(s[2:4])"
      ],
      "metadata": {
        "id": "ZHXEufzNrtkW"
      },
      "execution_count": null,
      "outputs": []
    },
    {
      "cell_type": "markdown",
      "metadata": {
        "id": "o9QpUsucfE0M"
      },
      "source": [
        "## 補足: フォーマット付きのprint"
      ]
    },
    {
      "cell_type": "code",
      "metadata": {
        "id": "qEZYAS3ZvWVT"
      },
      "source": [
        "a = 0.00215332634\n",
        "print(a)\n",
        "print(f'a = {a}')\n",
        "print(f'a = {a:.4f}')\n",
        "print(f'a = {a:.4e}')"
      ],
      "execution_count": null,
      "outputs": []
    },
    {
      "cell_type": "markdown",
      "source": [
        "## whileループ\n",
        "* Pythonでは繰り返し処理が書ける。"
      ],
      "metadata": {
        "id": "DdVgEOBj3P3f"
      }
    },
    {
      "cell_type": "code",
      "source": [
        "counter = 10\n",
        "while counter > 0:\n",
        "  print(counter)\n",
        "  counter = counter - 1"
      ],
      "metadata": {
        "colab": {
          "base_uri": "https://localhost:8080/"
        },
        "id": "Tbp3zxfi3cbm",
        "outputId": "6219465e-b909-4d60-fa91-959951cbe630"
      },
      "execution_count": 6,
      "outputs": [
        {
          "output_type": "stream",
          "name": "stdout",
          "text": [
            "10\n",
            "9\n",
            "8\n",
            "7\n",
            "6\n",
            "5\n",
            "4\n",
            "3\n",
            "2\n",
            "1\n"
          ]
        }
      ]
    },
    {
      "cell_type": "code",
      "source": [
        "s = 0\n",
        "n = 1\n",
        "while n <= 10:\n",
        "    s += n\n",
        "    n += 1\n",
        "print(s)"
      ],
      "metadata": {
        "id": "s1l1Wf003UiZ"
      },
      "execution_count": null,
      "outputs": []
    },
    {
      "cell_type": "markdown",
      "source": [
        "* 無限ループ\n",
        "  * breakで抜けると処理を終了できる。"
      ],
      "metadata": {
        "id": "Ewnt1ynX3W-3"
      }
    },
    {
      "cell_type": "code",
      "source": [
        "s = 0\n",
        "n = 1\n",
        "while True:\n",
        "    if n > 10:\n",
        "        break\n",
        "    s += n\n",
        "    n += 1\n",
        "print(s)"
      ],
      "metadata": {
        "id": "tWg-o-K43VcP"
      },
      "execution_count": null,
      "outputs": []
    },
    {
      "cell_type": "markdown",
      "source": [
        "# 課題2\n",
        "* 下記のコードを、コメントにある指示に従って完成させよう。\n",
        "* `.ipynb`ファイルをCanvas LMSにアップロードすることで提出してください。\n",
        "  * notebookへのリンク（つまりURL）での提出は受け付けません。"
      ],
      "metadata": {
        "id": "6nT3NJ73r9hB"
      }
    },
    {
      "cell_type": "code",
      "source": [
        "text = \"abracadabra\"\n",
        "a = 5 # 整数を代入する\n",
        "if a == 0:\n",
        "  # 空の文字列、つまり、長さ0の文字列を表示する。\n",
        "elif a > 0:\n",
        "  # textに設定された文字列をa回表示する\n",
        "else:\n",
        "  print(\"負の値は設定しないでください。\")"
      ],
      "metadata": {
        "id": "BzU6ixXestmH"
      },
      "execution_count": null,
      "outputs": []
    }
  ]
}