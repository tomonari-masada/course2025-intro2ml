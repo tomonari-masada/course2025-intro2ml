{
  "nbformat": 4,
  "nbformat_minor": 0,
  "metadata": {
    "colab": {
      "provenance": [],
      "authorship_tag": "ABX9TyPcKOTJW2hrsOejcvRzx2S5",
      "include_colab_link": true
    },
    "kernelspec": {
      "name": "python3",
      "display_name": "Python 3"
    },
    "language_info": {
      "name": "python"
    }
  },
  "cells": [
    {
      "cell_type": "markdown",
      "metadata": {
        "id": "view-in-github",
        "colab_type": "text"
      },
      "source": [
        "<a href=\"https://colab.research.google.com/github/tomonari-masada/course2025-intro2ml/blob/main/02_Python_1.ipynb\" target=\"_parent\"><img src=\"https://colab.research.google.com/assets/colab-badge.svg\" alt=\"Open In Colab\"/></a>"
      ]
    },
    {
      "cell_type": "markdown",
      "metadata": {
        "id": "CKNt-nJvwMUk"
      },
      "source": [
        "# Python入門 (1)\n",
        "* ChatGPTがあるのでPythonを勉強する必要はない、というのはとんでもない勘違い。\n",
        "  * ChatGPTで作ったコードが間違っていたとき、誰が修正するんですか？"
      ]
    },
    {
      "cell_type": "markdown",
      "metadata": {
        "id": "gX7PqQlxeR0I"
      },
      "source": [
        "## Google Colabでコードを実行する"
      ]
    },
    {
      "cell_type": "markdown",
      "source": [
        "### 変数への値の設定"
      ],
      "metadata": {
        "id": "BOLNtEtL4BNC"
      }
    },
    {
      "cell_type": "code",
      "source": [
        "a = 3.1"
      ],
      "metadata": {
        "id": "v01NqwtPqESY"
      },
      "execution_count": null,
      "outputs": []
    },
    {
      "cell_type": "markdown",
      "source": [
        "### 変数の内容の確認"
      ],
      "metadata": {
        "id": "HZyCF-Gx4Cp7"
      }
    },
    {
      "cell_type": "code",
      "source": [
        "a"
      ],
      "metadata": {
        "id": "fMk4iC0iqFPy"
      },
      "execution_count": null,
      "outputs": []
    },
    {
      "cell_type": "markdown",
      "source": [
        "### コメント\n",
        "* ハッシュ記号（`#`）以下の文字列はコードの実行に無関係\n",
        "  * コードの説明などを書いておくとよい。\n"
      ],
      "metadata": {
        "id": "ZzxiUShd4PcG"
      }
    },
    {
      "cell_type": "code",
      "source": [
        "a #コメント"
      ],
      "metadata": {
        "id": "MkZ1hE_94OYl"
      },
      "execution_count": null,
      "outputs": []
    },
    {
      "cell_type": "markdown",
      "source": [
        "### 簡単な計算"
      ],
      "metadata": {
        "id": "EMkXcLpz-XGY"
      }
    },
    {
      "cell_type": "code",
      "source": [
        "b = 2.4"
      ],
      "metadata": {
        "id": "YCQsNkafqF0q"
      },
      "execution_count": null,
      "outputs": []
    },
    {
      "cell_type": "code",
      "source": [
        "b"
      ],
      "metadata": {
        "id": "RtwjjnokqGq9"
      },
      "execution_count": null,
      "outputs": []
    },
    {
      "cell_type": "code",
      "metadata": {
        "id": "fluONlNcuvDf"
      },
      "source": [
        "a + b"
      ],
      "execution_count": null,
      "outputs": []
    },
    {
      "cell_type": "code",
      "source": [
        "c = a + b"
      ],
      "metadata": {
        "id": "g8FdJrDsqPgX"
      },
      "execution_count": null,
      "outputs": []
    },
    {
      "cell_type": "code",
      "source": [
        "c"
      ],
      "metadata": {
        "id": "v_RF4WMcqQ14"
      },
      "execution_count": null,
      "outputs": []
    },
    {
      "cell_type": "markdown",
      "source": [
        "### 計算結果を元の変数に上書きする計算\n",
        "* in-place演算という。"
      ],
      "metadata": {
        "id": "8gejFegh3uxK"
      }
    },
    {
      "cell_type": "code",
      "source": [
        "c = 5\n",
        "c += 1"
      ],
      "metadata": {
        "id": "yiAw6ATC3p3X"
      },
      "execution_count": null,
      "outputs": []
    },
    {
      "cell_type": "code",
      "source": [
        "c"
      ],
      "metadata": {
        "id": "-pNV0hes3sSZ"
      },
      "execution_count": null,
      "outputs": []
    },
    {
      "cell_type": "markdown",
      "metadata": {
        "id": "iqSn5bSyeTg5"
      },
      "source": [
        "## print関数"
      ]
    },
    {
      "cell_type": "markdown",
      "source": [
        "* 画面にさまざまな情報を表示させるときに使う。"
      ],
      "metadata": {
        "id": "Leajm4Rh-dC1"
      }
    },
    {
      "cell_type": "code",
      "metadata": {
        "id": "SLIgWKqwux4K"
      },
      "source": [
        "print('Hello!')"
      ],
      "execution_count": null,
      "outputs": []
    },
    {
      "cell_type": "code",
      "source": [
        "print('World!')"
      ],
      "metadata": {
        "id": "y8H_jFHMqB-w"
      },
      "execution_count": null,
      "outputs": []
    },
    {
      "cell_type": "markdown",
      "source": [
        "* コンマを使うと、たくさんのものを同時に表示させることができる。\n",
        "  * あいだに空白文字が一つ入る。"
      ],
      "metadata": {
        "id": "IzwKgz3H4b-8"
      }
    },
    {
      "cell_type": "code",
      "source": [
        "print('Hello', 'world!')"
      ],
      "metadata": {
        "id": "JnVENRvpqC21"
      },
      "execution_count": null,
      "outputs": []
    },
    {
      "cell_type": "markdown",
      "source": [
        "* print関数に変数を与えると、変数の内容が表示される。"
      ],
      "metadata": {
        "id": "f8c5w3724xjg"
      }
    },
    {
      "cell_type": "code",
      "source": [
        "a = 1\n",
        "b = -1\n",
        "print(a, b)\n",
        "print(b, a)"
      ],
      "metadata": {
        "id": "aIzfXBpKyg-9"
      },
      "execution_count": null,
      "outputs": []
    },
    {
      "cell_type": "markdown",
      "metadata": {
        "id": "VpOjKvJkeX04"
      },
      "source": [
        "## Pythonのオブジェクト"
      ]
    },
    {
      "cell_type": "markdown",
      "metadata": {
        "id": "AHPOMKIzgmbH"
      },
      "source": [
        "### オブジェクト (object)\n",
        "* Pythonのプログラムによって操作されるデータのこと。\n",
        "* すべてのオブジェクトは型(type)をもつ。\n"
      ]
    },
    {
      "cell_type": "markdown",
      "source": [
        "### 型 (type) の大別\n",
        "* スカラ (scalar): 分割不能なデータ。int型、float型、bool型、None型など。\n",
        "* 非スカラ (non-scalar): 内部構造を持つ。例えば、文字列型、リスト型など。"
      ],
      "metadata": {
        "id": "6VBPldqA-kpI"
      }
    },
    {
      "cell_type": "markdown",
      "metadata": {
        "id": "DGRUrV2vgyq8"
      },
      "source": [
        "### スカラ・オブジェクトの4つの型\n",
        "* int型\n",
        "\n",
        "\n",
        "\n"
      ]
    },
    {
      "cell_type": "code",
      "source": [
        "print(3)"
      ],
      "metadata": {
        "id": "9KZst7DtxRGc"
      },
      "execution_count": null,
      "outputs": []
    },
    {
      "cell_type": "code",
      "metadata": {
        "id": "r36vKH7ou8gF"
      },
      "source": [
        "print(type(3))"
      ],
      "execution_count": null,
      "outputs": []
    },
    {
      "cell_type": "markdown",
      "source": [
        "* float型"
      ],
      "metadata": {
        "id": "rkPBoRkcxKYG"
      }
    },
    {
      "cell_type": "code",
      "source": [
        "print(3.0)"
      ],
      "metadata": {
        "id": "GmylHdAnxSAV"
      },
      "execution_count": null,
      "outputs": []
    },
    {
      "cell_type": "code",
      "source": [
        "print(type(3.0))"
      ],
      "metadata": {
        "id": "fU1wfVXbqVhJ"
      },
      "execution_count": null,
      "outputs": []
    },
    {
      "cell_type": "markdown",
      "source": [
        "* bool型\n",
        "  * TrueとFalseの二種類の値しかない"
      ],
      "metadata": {
        "id": "WqYpD_6oxMkl"
      }
    },
    {
      "cell_type": "code",
      "source": [
        "print(3 != 2)"
      ],
      "metadata": {
        "id": "5IIUhGuDxNvI"
      },
      "execution_count": null,
      "outputs": []
    },
    {
      "cell_type": "code",
      "source": [
        "print(type(3 != 2))"
      ],
      "metadata": {
        "id": "30iYm3dFqWpQ"
      },
      "execution_count": null,
      "outputs": []
    },
    {
      "cell_type": "code",
      "source": [
        "a = 10\n",
        "b = 4\n",
        "print(a > b)\n",
        "print(a < b)"
      ],
      "metadata": {
        "id": "v6oXrqcMxThY"
      },
      "execution_count": null,
      "outputs": []
    },
    {
      "cell_type": "code",
      "source": [
        "a = 3\n",
        "b = 2\n",
        "print(a == (b + 1))"
      ],
      "metadata": {
        "id": "nFZsp24c5DPp"
      },
      "execution_count": null,
      "outputs": []
    },
    {
      "cell_type": "markdown",
      "source": [
        "* None型\n",
        "  * Noneという一種類の値しかない"
      ],
      "metadata": {
        "id": "bYvMU-CRxL6m"
      }
    },
    {
      "cell_type": "code",
      "source": [
        "a = None"
      ],
      "metadata": {
        "id": "ly2r1_yGqYY6"
      },
      "execution_count": null,
      "outputs": []
    },
    {
      "cell_type": "code",
      "source": [
        "print(a)"
      ],
      "metadata": {
        "id": "SN5L-IWQxbww"
      },
      "execution_count": null,
      "outputs": []
    },
    {
      "cell_type": "code",
      "metadata": {
        "id": "u4YZf-1tg6jz"
      },
      "source": [
        "print(a is None)"
      ],
      "execution_count": null,
      "outputs": []
    },
    {
      "cell_type": "markdown",
      "metadata": {
        "id": "4ZUaJIZ7ehQ0"
      },
      "source": [
        "## 演算子"
      ]
    },
    {
      "cell_type": "markdown",
      "metadata": {
        "id": "8GQWjbbdhGHW"
      },
      "source": [
        "### Pythonの演算子の一覧\n",
        "\n",
        "\n",
        "* +, -, \\*, //, /, %, \\*\\*, ==, !=, >, >=, <, <=\n",
        "\n",
        "* and, or, not\n"
      ]
    },
    {
      "cell_type": "markdown",
      "source": [
        "### 算術演算子"
      ],
      "metadata": {
        "id": "HdCl2AV6_S2Q"
      }
    },
    {
      "cell_type": "code",
      "metadata": {
        "id": "4IU28wFwu-6d"
      },
      "source": [
        "print(3 + 2)"
      ],
      "execution_count": null,
      "outputs": []
    },
    {
      "cell_type": "code",
      "source": [
        "print(3.0 + 2.0)"
      ],
      "metadata": {
        "id": "jDycs2OyqaWI"
      },
      "execution_count": null,
      "outputs": []
    },
    {
      "cell_type": "code",
      "source": [
        "print(3 != 2)"
      ],
      "metadata": {
        "id": "3irxAfTjqbbS"
      },
      "execution_count": null,
      "outputs": []
    },
    {
      "cell_type": "markdown",
      "source": [
        "### **問題** //と/の違いは？\n"
      ],
      "metadata": {
        "id": "EKpMnj9QqeyI"
      }
    },
    {
      "cell_type": "code",
      "source": [
        "print(5 // 2)\n",
        "print(5 / 2)"
      ],
      "metadata": {
        "id": "yPkLcCouqgEZ"
      },
      "execution_count": null,
      "outputs": []
    },
    {
      "cell_type": "markdown",
      "source": [
        "### 論理演算子\n",
        "* bool型のオブジェクトに使う演算子。"
      ],
      "metadata": {
        "id": "pme4pj1o596S"
      }
    },
    {
      "cell_type": "code",
      "source": [
        "a = 1\n",
        "b = 3"
      ],
      "metadata": {
        "id": "hUAFDm4e5uaJ"
      },
      "execution_count": null,
      "outputs": []
    },
    {
      "cell_type": "code",
      "source": [
        "print(a == 1)"
      ],
      "metadata": {
        "id": "4RZqecuj_Z5O"
      },
      "execution_count": null,
      "outputs": []
    },
    {
      "cell_type": "code",
      "source": [
        "print(not a == 1)"
      ],
      "metadata": {
        "id": "CX33Rt8y_at8"
      },
      "execution_count": null,
      "outputs": []
    },
    {
      "cell_type": "code",
      "source": [
        "print(a > 2 and b > 2)"
      ],
      "metadata": {
        "id": "QwdzBBqC_bab"
      },
      "execution_count": null,
      "outputs": []
    },
    {
      "cell_type": "code",
      "source": [
        "print(a > 2 or b > 2)"
      ],
      "metadata": {
        "id": "yHQoyE3E_cHe"
      },
      "execution_count": null,
      "outputs": []
    },
    {
      "cell_type": "markdown",
      "source": [
        "### 演算子の優先順位\n",
        "* 演算子には、どれが先に実行されるかの、優先順位がある。\n",
        "  * https://docs.python.org/ja/3/reference/expressions.html#operator-precedence\n"
      ],
      "metadata": {
        "id": "8HS1QP2Eqfnp"
      }
    },
    {
      "cell_type": "code",
      "source": [
        "print((5 + 2) * 4)\n",
        "print(5 + 2 * 4)"
      ],
      "metadata": {
        "id": "8w4CsaWTqgil"
      },
      "execution_count": null,
      "outputs": []
    },
    {
      "cell_type": "code",
      "source": [
        "print(3 // (2 + 1))\n",
        "print(3 // 2 + 1)"
      ],
      "metadata": {
        "id": "3nJDAb7S5ctK"
      },
      "execution_count": null,
      "outputs": []
    },
    {
      "cell_type": "markdown",
      "metadata": {
        "id": "KA94z1E_ejrV"
      },
      "source": [
        "## 変数と代入"
      ]
    },
    {
      "cell_type": "markdown",
      "source": [
        "### Pythonでの代入\n",
        "* 変数に値を「紐付けする」イメージ。\n",
        "  * 「名前がついた箱に値を入れる」というイメージで考えていると「？？？」と感じることが多い。"
      ],
      "metadata": {
        "id": "8HijE_fiqtxB"
      }
    },
    {
      "cell_type": "code",
      "source": [
        "a = 3"
      ],
      "metadata": {
        "id": "R8zlTEWLqyxr"
      },
      "execution_count": null,
      "outputs": []
    },
    {
      "cell_type": "code",
      "source": [
        "a"
      ],
      "metadata": {
        "id": "tOxF297pq1kw"
      },
      "execution_count": null,
      "outputs": []
    },
    {
      "cell_type": "code",
      "source": [
        "print(a)"
      ],
      "metadata": {
        "id": "QdkcKljqq2bK"
      },
      "execution_count": null,
      "outputs": []
    },
    {
      "cell_type": "markdown",
      "metadata": {
        "id": "2M9pkBiNeqUL"
      },
      "source": [
        "### 変数名の付け方\n",
        "* 使える文字\n",
        "  * 大文字、小文字、数字、アンダースコア（`_`）\n",
        "* 変数名の注意事項\n",
        "  * 大文字と小文字は区別される。\n",
        "  * 予約語(reserved word)は変数名として使えない。\n",
        "> and, as, assert, break, class, continue, def, del, elif, else, except, False, finally, for, from, global, if, import, in, is, lambda, nonlocal, None, not, or, pass, raise, return, True, try, while, with, yield\n"
      ]
    },
    {
      "cell_type": "code",
      "source": [
        "my_integer = 5\n",
        "my_integer"
      ],
      "metadata": {
        "id": "M-uxTXE7qqB-"
      },
      "execution_count": null,
      "outputs": []
    },
    {
      "cell_type": "markdown",
      "metadata": {
        "id": "UNvchLcvex0k"
      },
      "source": [
        "### 複数の代入を1つの文で"
      ]
    },
    {
      "cell_type": "code",
      "metadata": {
        "id": "vAyWYg3dvBS0"
      },
      "source": [
        "a, b = 5, 4  #aと5, bと4が紐付けされる\n",
        "print(a, b)"
      ],
      "execution_count": null,
      "outputs": []
    },
    {
      "cell_type": "markdown",
      "source": [
        "* 問: 次のセルを実行すると、何が表示されるか？"
      ],
      "metadata": {
        "id": "fJCB7IqSq84W"
      }
    },
    {
      "cell_type": "code",
      "metadata": {
        "id": "zXlghevzvEXc"
      },
      "source": [
        "a, b = 5, 4\n",
        "a, b = b, a\n",
        "print(a, b)"
      ],
      "execution_count": null,
      "outputs": []
    },
    {
      "cell_type": "markdown",
      "metadata": {
        "id": "5aQHIHDhjaw9"
      },
      "source": [
        "## 組み込み関数id\n",
        "* オブジェクトの固有識別子が得られる。\n",
        "  * オブジェクトに付けられた通し番号のようなもの。\n",
        "  * これが同じだと、実体としても同じ。\n",
        "* 値として見ると同じでも、固有識別番号は異なることがある。"
      ]
    },
    {
      "cell_type": "code",
      "source": [
        "a = 2\n",
        "print(id(a))"
      ],
      "metadata": {
        "id": "ByjOEflq7kU7"
      },
      "execution_count": null,
      "outputs": []
    },
    {
      "cell_type": "code",
      "source": [
        "id(2)"
      ],
      "metadata": {
        "id": "9Tyl34yo7own"
      },
      "execution_count": null,
      "outputs": []
    },
    {
      "cell_type": "code",
      "source": [
        "b = 1 + 1\n",
        "print(id(b))"
      ],
      "metadata": {
        "id": "FvkfWGNs7qx5"
      },
      "execution_count": null,
      "outputs": []
    },
    {
      "cell_type": "code",
      "metadata": {
        "id": "lg5cLj5RvG90"
      },
      "source": [
        "c = 1.3\n",
        "print(id(c))"
      ],
      "execution_count": null,
      "outputs": []
    },
    {
      "cell_type": "code",
      "source": [
        "d = c\n",
        "print(id(d))"
      ],
      "metadata": {
        "id": "gpb2tV-f7yCP"
      },
      "execution_count": null,
      "outputs": []
    },
    {
      "cell_type": "markdown",
      "source": [
        "* 値としては同じだが固有識別番号は異なる例"
      ],
      "metadata": {
        "id": "BA0TExUs770Q"
      }
    },
    {
      "cell_type": "code",
      "source": [
        "e = c * 1.0\n",
        "print(id(c))\n",
        "print(id(e))"
      ],
      "metadata": {
        "id": "EAdr0pRB73Za"
      },
      "execution_count": null,
      "outputs": []
    },
    {
      "cell_type": "markdown",
      "metadata": {
        "id": "aIjARcgke2Kd"
      },
      "source": [
        "## if文"
      ]
    },
    {
      "cell_type": "code",
      "source": [
        "x = 251\n",
        "if x % 2 == 1:\n",
        "    print('odd')"
      ],
      "metadata": {
        "id": "t0lEEtPNANdS"
      },
      "execution_count": null,
      "outputs": []
    },
    {
      "cell_type": "markdown",
      "source": [
        "### else節"
      ],
      "metadata": {
        "id": "ZpH9yK3GAObY"
      }
    },
    {
      "cell_type": "code",
      "metadata": {
        "id": "MWREuv21vJcM"
      },
      "source": [
        "x = 251\n",
        "if x % 2 == 1:\n",
        "    print('odd')\n",
        "else:\n",
        "    print('even')"
      ],
      "execution_count": null,
      "outputs": []
    },
    {
      "cell_type": "markdown",
      "source": [
        "### elif\n",
        "* else ifを略したもの。"
      ],
      "metadata": {
        "id": "pWKKGMymAjlJ"
      }
    },
    {
      "cell_type": "code",
      "source": [
        "y = 50\n",
        "if y > 0:\n",
        "    print('positive')\n",
        "elif y < 0:\n",
        "    print('negative')\n",
        "else:\n",
        "    print('zero')"
      ],
      "metadata": {
        "id": "InlevrsMrKs7"
      },
      "execution_count": null,
      "outputs": []
    },
    {
      "cell_type": "markdown",
      "metadata": {
        "id": "JSDgqqlRfsJ9"
      },
      "source": [
        "### 入れ子状のif文\n",
        "* if文の中にさらにif文を書くことができる。"
      ]
    },
    {
      "cell_type": "code",
      "metadata": {
        "id": "-E3gw12gvLtc"
      },
      "source": [
        "x = 33 # ここの値をいろいろ変えてみる。\n",
        "\n",
        "if x % 3 == 0:\n",
        "  if x % 5 == 0:\n",
        "    print('3と5で割り切れる')\n",
        "  else:\n",
        "    print('3で割り切れるが5で割り切れない')\n",
        "elif x % 5 == 0:\n",
        "  print('5で割り切れるが3で割り切れない')\n",
        "else:\n",
        "  print('3でも5でも割り切れない')"
      ],
      "execution_count": null,
      "outputs": []
    },
    {
      "cell_type": "markdown",
      "metadata": {
        "id": "mA-bPy_he6r-"
      },
      "source": [
        "## 文字列型（str型）\n",
        "* スカラ・オブジェクトではない。\n",
        "  * つまり、分割できないデータとはみなせない。\n",
        "* たくさんの文字が並んで構成されたデータ。"
      ]
    },
    {
      "cell_type": "code",
      "metadata": {
        "id": "GnDPUVb-vNfc"
      },
      "source": [
        "print('This is a pen.')"
      ],
      "execution_count": null,
      "outputs": []
    },
    {
      "cell_type": "markdown",
      "source": [
        "### 代入"
      ],
      "metadata": {
        "id": "o_K8yNXBt7J2"
      }
    },
    {
      "cell_type": "code",
      "source": [
        "s1 = \"This is a pen.\"\n",
        "s2 = \"That is a pencil.\"\n",
        "print(s1)\n",
        "print(s2)"
      ],
      "metadata": {
        "id": "_tG45ngJt01v"
      },
      "execution_count": null,
      "outputs": []
    },
    {
      "cell_type": "markdown",
      "source": [
        "### 同じ文字列かどうかの判定"
      ],
      "metadata": {
        "id": "75vnsf0z92-N"
      }
    },
    {
      "cell_type": "code",
      "source": [
        "s1 == s2"
      ],
      "metadata": {
        "id": "6VHkUkLg8iTP"
      },
      "execution_count": null,
      "outputs": []
    },
    {
      "cell_type": "markdown",
      "source": [
        "### 文字列の連結"
      ],
      "metadata": {
        "id": "kXm9_YXguIwD"
      }
    },
    {
      "cell_type": "code",
      "source": [
        "s1 = \"This is a pen.\"\n",
        "s2 = \"That is a pencil.\"\n",
        "s3 = s1 + s2\n",
        "print(s3)"
      ],
      "metadata": {
        "id": "3HN7knL9rgAn"
      },
      "execution_count": null,
      "outputs": []
    },
    {
      "cell_type": "code",
      "source": [
        "s4 = s1 + \" \" + s2\n",
        "print(s4)"
      ],
      "metadata": {
        "id": "Wd_fVPILuPDc"
      },
      "execution_count": null,
      "outputs": []
    },
    {
      "cell_type": "markdown",
      "source": [
        "### 文字列の繰り返し\n",
        "  * 整数を掛ける、という書き方をする。"
      ],
      "metadata": {
        "id": "0iMfn4pct8gw"
      }
    },
    {
      "cell_type": "code",
      "source": [
        "ss = 'abc'\n",
        "print(ss)\n",
        "ss = ss * 10 # 変数ssに上書きしている\n",
        "print(ss)"
      ],
      "metadata": {
        "id": "q74iV8rlrh3n"
      },
      "execution_count": null,
      "outputs": []
    },
    {
      "cell_type": "markdown",
      "source": [
        "### 空の文字列"
      ],
      "metadata": {
        "id": "f9S8dz6luSoF"
      }
    },
    {
      "cell_type": "code",
      "source": [
        "my_str = \"\"\n",
        "print(my_str)"
      ],
      "metadata": {
        "id": "y5NldZmPtwgM"
      },
      "execution_count": null,
      "outputs": []
    },
    {
      "cell_type": "code",
      "source": [
        "my_str += \"bank\"\n",
        "print(my_str)"
      ],
      "metadata": {
        "id": "ZdR4gTdDuoGA"
      },
      "execution_count": null,
      "outputs": []
    },
    {
      "cell_type": "code",
      "source": [
        "my_str += \"\"\n",
        "print(my_str)"
      ],
      "metadata": {
        "id": "uiFNcUoFulwv"
      },
      "execution_count": null,
      "outputs": []
    },
    {
      "cell_type": "code",
      "source": [
        "my_str += \"rupt\"\n",
        "print(my_str)"
      ],
      "metadata": {
        "id": "YTKb7yY5ulKa"
      },
      "execution_count": null,
      "outputs": []
    },
    {
      "cell_type": "markdown",
      "source": [
        "### 数値を文字列に変換"
      ],
      "metadata": {
        "id": "0mKUA4om9WGN"
      }
    },
    {
      "cell_type": "code",
      "source": [
        "my_int = -12425\n",
        "my_string = str(my_int)\n",
        "print(my_string)\n",
        "print(len(my_string))"
      ],
      "metadata": {
        "id": "_hv-EdoT9Zx_"
      },
      "execution_count": null,
      "outputs": []
    },
    {
      "cell_type": "code",
      "source": [
        "my_float = 3.1416\n",
        "my_string = str(my_float)\n",
        "print(my_string)\n",
        "print(len(my_string))"
      ],
      "metadata": {
        "id": "ERbkGk9T9tjT"
      },
      "execution_count": null,
      "outputs": []
    },
    {
      "cell_type": "markdown",
      "metadata": {
        "id": "V7Nfg-WRfzXY"
      },
      "source": [
        "## 順序型としての文字列型\n",
        "* 同じ種類のアイテムがたくさん並んで構成されるデータの型を順序型という。\n",
        "* 順序型には、以下の三種類の操作が、共通している\n",
        "  * 長さ\n",
        "  * 添え字\n",
        "  * スライシング"
      ]
    },
    {
      "cell_type": "code",
      "metadata": {
        "id": "lvB2EnbyvPKU"
      },
      "source": [
        "s = 'abcdef'"
      ],
      "execution_count": null,
      "outputs": []
    },
    {
      "cell_type": "markdown",
      "source": [
        "### 文字列の長さ"
      ],
      "metadata": {
        "id": "2_EfYEmUrwRd"
      }
    },
    {
      "cell_type": "code",
      "source": [
        "print(len(s))"
      ],
      "metadata": {
        "id": "-7mINfMVrqzw"
      },
      "execution_count": null,
      "outputs": []
    },
    {
      "cell_type": "markdown",
      "source": [
        "### 添え字(index)"
      ],
      "metadata": {
        "id": "sfaciLB2ryG6"
      }
    },
    {
      "cell_type": "code",
      "source": [
        "print(s[0])"
      ],
      "metadata": {
        "id": "U5wmJyw39Emz"
      },
      "execution_count": null,
      "outputs": []
    },
    {
      "cell_type": "code",
      "source": [
        "print(s[3])"
      ],
      "metadata": {
        "id": "CMCZM7ozrrr_"
      },
      "execution_count": null,
      "outputs": []
    },
    {
      "cell_type": "markdown",
      "source": [
        "### スライシング (slicing)"
      ],
      "metadata": {
        "id": "nVxfpZXVr5u5"
      }
    },
    {
      "cell_type": "code",
      "source": [
        "print(s[2:4])"
      ],
      "metadata": {
        "id": "ZHXEufzNrtkW"
      },
      "execution_count": null,
      "outputs": []
    },
    {
      "cell_type": "markdown",
      "metadata": {
        "id": "o9QpUsucfE0M"
      },
      "source": [
        "## フォーマット付きprint\n",
        "* `f`で始まる文字列は、書式を表現している。\n",
        "  * 波括弧の中に、表示したい値や変数を書く。"
      ]
    },
    {
      "cell_type": "code",
      "metadata": {
        "id": "qEZYAS3ZvWVT"
      },
      "source": [
        "a = 0.00215332634\n",
        "print(a)"
      ],
      "execution_count": null,
      "outputs": []
    },
    {
      "cell_type": "code",
      "source": [
        "print(f'a = {a}')"
      ],
      "metadata": {
        "id": "9LRqSzEf9d8f"
      },
      "execution_count": null,
      "outputs": []
    },
    {
      "cell_type": "markdown",
      "source": [
        "* 指定した桁数で端数を四捨五入"
      ],
      "metadata": {
        "id": "dk5GRZBQ9pG4"
      }
    },
    {
      "cell_type": "code",
      "source": [
        "print(f'a = {a:.4f}')"
      ],
      "metadata": {
        "id": "w2FVDY7E9fb5"
      },
      "execution_count": null,
      "outputs": []
    },
    {
      "cell_type": "markdown",
      "source": [
        "* 数値の指数表記"
      ],
      "metadata": {
        "id": "JO_zyWyU9lrR"
      }
    },
    {
      "cell_type": "code",
      "source": [
        "print(f'a = {a:.4e}')"
      ],
      "metadata": {
        "id": "a0dbY8Io9gdC"
      },
      "execution_count": null,
      "outputs": []
    },
    {
      "cell_type": "markdown",
      "source": [
        "## while文\n",
        "* Pythonでは繰り返し処理が書ける。"
      ],
      "metadata": {
        "id": "DdVgEOBj3P3f"
      }
    },
    {
      "cell_type": "code",
      "source": [
        "counter = 10\n",
        "while counter > 0:\n",
        "  print(counter)\n",
        "  counter = counter - 1"
      ],
      "metadata": {
        "id": "Tbp3zxfi3cbm"
      },
      "execution_count": null,
      "outputs": []
    },
    {
      "cell_type": "code",
      "source": [
        "s = 0\n",
        "n = 1\n",
        "while n <= 10:\n",
        "  s += n\n",
        "  n += 1\n",
        "print(s)"
      ],
      "metadata": {
        "id": "s1l1Wf003UiZ"
      },
      "execution_count": null,
      "outputs": []
    },
    {
      "cell_type": "markdown",
      "source": [
        "* 無限ループを実行してしまったら・・・\n",
        "  * Google Colabでは、セル左端の停止ボタンをクリックすれば処理が止まる。"
      ],
      "metadata": {
        "id": "Ewnt1ynX3W-3"
      }
    },
    {
      "cell_type": "code",
      "source": [
        "a = 1\n",
        "while True:\n",
        "  a = 1 - a"
      ],
      "metadata": {
        "id": "FcJg0QzM99XC"
      },
      "execution_count": null,
      "outputs": []
    },
    {
      "cell_type": "markdown",
      "source": [
        "## break文\n",
        "* ループから強制的に抜ける。"
      ],
      "metadata": {
        "id": "a2eEyBBB-CTc"
      }
    },
    {
      "cell_type": "code",
      "source": [
        "s = 0\n",
        "n = 1\n",
        "while True:\n",
        "  if n > 10:\n",
        "    break\n",
        "  s += n\n",
        "  n += 1\n",
        "print(s)"
      ],
      "metadata": {
        "id": "tWg-o-K43VcP"
      },
      "execution_count": null,
      "outputs": []
    },
    {
      "cell_type": "markdown",
      "source": [
        "# 課題20250421\n",
        "* 下記のコードを、コメントにある指示に従って完成させよう。\n",
        "* .ipynbファイルをCanvas LMSにアップロードすることで提出してください。\n",
        "  * notebookへのリンク（つまりURL）での提出は受け付けません。（昨年度までとの相違点。）\n",
        "* .ipynbファイルは、上部メニュー「ファイル」→「ダウンロード」→「.ipynbをダウンロード」で取得できます。\n",
        "* こうして自分のパソコンにダウンロードした.ipynbファイルを、Canvas LMSに提出してください。\n",
        "  * notebookへのリンク（つまりURL）での提出は受け付けません。（昨年度までとの相違点。）"
      ],
      "metadata": {
        "id": "6nT3NJ73r9hB"
      }
    },
    {
      "cell_type": "code",
      "source": [
        "text = \"wow\"\n",
        "a = 5\n",
        "\n",
        "if a >= 0:\n",
        "  # 変数textに設定された文字列を、変数aに設定された値の回数だけ表示する。\n",
        "  # ただし、繰り返して表示するときに、空白文字ひとつ分、あいだをあけること。\n",
        "else:\n",
        "  print(\"負の値は設定しないでください。\")"
      ],
      "metadata": {
        "id": "BzU6ixXestmH"
      },
      "execution_count": null,
      "outputs": []
    },
    {
      "cell_type": "code",
      "source": [],
      "metadata": {
        "id": "xeh0etcm_vr1"
      },
      "execution_count": null,
      "outputs": []
    }
  ]
}