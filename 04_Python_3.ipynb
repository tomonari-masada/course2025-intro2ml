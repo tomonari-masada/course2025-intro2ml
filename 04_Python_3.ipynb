{
  "nbformat": 4,
  "nbformat_minor": 0,
  "metadata": {
    "colab": {
      "provenance": [],
      "mount_file_id": "1FOQd6XlURTdd9xX4b9EAOc6yod2z1rkj",
      "authorship_tag": "ABX9TyN+B9ek9grJuayto2tBVM+o",
      "include_colab_link": true
    },
    "kernelspec": {
      "name": "python3",
      "display_name": "Python 3"
    },
    "language_info": {
      "name": "python"
    }
  },
  "cells": [
    {
      "cell_type": "markdown",
      "metadata": {
        "id": "view-in-github",
        "colab_type": "text"
      },
      "source": [
        "<a href=\"https://colab.research.google.com/github/tomonari-masada/course2025-intro2ml/blob/main/04_Python_3.ipynb\" target=\"_parent\"><img src=\"https://colab.research.google.com/assets/colab-badge.svg\" alt=\"Open In Colab\"/></a>"
      ]
    },
    {
      "cell_type": "markdown",
      "source": [
        "# Python入門 (3)"
      ],
      "metadata": {
        "id": "64EX4on-45c8"
      }
    },
    {
      "cell_type": "markdown",
      "source": [
        "## ファイルの読み書き"
      ],
      "metadata": {
        "id": "ckUrI6Ch422x"
      }
    },
    {
      "cell_type": "markdown",
      "source": [
        "* ファイルに文字列を書き込む\n",
        "  * `w`はwriteの意味。"
      ],
      "metadata": {
        "id": "Udlbqc7M5EmX"
      }
    },
    {
      "cell_type": "code",
      "execution_count": null,
      "metadata": {
        "id": "yqhQSukR4znT"
      },
      "outputs": [],
      "source": [
        "f = open('text.txt', 'w')\n",
        "for i in range(5):\n",
        "  line = str(i)\n",
        "  f.write(line + '\\n')\n",
        "f.close()"
      ]
    },
    {
      "cell_type": "markdown",
      "source": [
        "* 次のような書き方もできる。\n",
        "  * 元あったファイルは完全に上書きされることに注意。"
      ],
      "metadata": {
        "id": "UNjZGsnU5VQl"
      }
    },
    {
      "cell_type": "code",
      "source": [
        "with open('text.txt', 'w') as f:\n",
        "  for i in range(5):\n",
        "    line = str(i)\n",
        "    f.write(line + '\\n')"
      ],
      "metadata": {
        "id": "pkhIWizy5Mi8"
      },
      "execution_count": null,
      "outputs": []
    },
    {
      "cell_type": "markdown",
      "source": [
        "* ファイルに追記する場合は追記モードを指定する。\n",
        "  * `a`はappendの意味。"
      ],
      "metadata": {
        "id": "HlUK-diK5rm_"
      }
    },
    {
      "cell_type": "code",
      "source": [
        "with open('text.txt', 'a') as f:\n",
        "  for i in range(5, 10):\n",
        "    line = str(i)\n",
        "    f.write(line + '\\n')"
      ],
      "metadata": {
        "id": "6gpzLXTS5nrV"
      },
      "execution_count": null,
      "outputs": []
    },
    {
      "cell_type": "markdown",
      "source": [
        "* ファイルから文字列を読み込む\n",
        "  * `r`はreadの意味。"
      ],
      "metadata": {
        "id": "w02g19Y35GrD"
      }
    },
    {
      "cell_type": "code",
      "source": [
        "f = open('text.txt', 'r')\n",
        "for line in f:\n",
        "  print(line)\n",
        "f.close()"
      ],
      "metadata": {
        "id": "PNU7tHqM5DHR"
      },
      "execution_count": null,
      "outputs": []
    },
    {
      "cell_type": "code",
      "source": [
        "with open('text.txt', 'r') as f:\n",
        "  for line in f:\n",
        "    print(line)"
      ],
      "metadata": {
        "id": "lH9dFeAa6GTP"
      },
      "execution_count": null,
      "outputs": []
    },
    {
      "cell_type": "markdown",
      "source": [
        "* 改行記号を無くしたい場合は、以下のようにする。"
      ],
      "metadata": {
        "id": "9rqeJGQ-5_F4"
      }
    },
    {
      "cell_type": "code",
      "source": [
        "f = open('text.txt', 'r')\n",
        "for line in f:\n",
        "  line = line.strip()\n",
        "  print(line)\n",
        "f.close()"
      ],
      "metadata": {
        "id": "5Zx5bKcL5TbW"
      },
      "execution_count": null,
      "outputs": []
    },
    {
      "cell_type": "markdown",
      "source": [
        "## プチ演習: テキストファイルを作ってそれを読み込んでみる"
      ],
      "metadata": {
        "id": "aZmZulrME7YH"
      }
    },
    {
      "cell_type": "markdown",
      "source": [
        "* テキストファイルの作り方\n",
        "  * 左端のフォルダアイコンをクリックする。\n",
        "  * 現れたフォルダ一覧の上端にあるGoogle Driveアイコンをクリックする。\n",
        "  * これで自分のGoogle DriveにGoogle Colabからアクセスできるようになる。\n",
        "  * driveの下のMyDriveの下に、適当なフォルダを作る。\n",
        "  * そのフォルダの上で右クリックする。\n",
        "  * 現れたメニューの「新しいファイル」をクリックする。\n",
        "  * 適当なファイル名をつける。\n",
        "  * そのファイルをダブルクリックする。\n",
        "  * そこに適当なテキストを記入する。\n"
      ],
      "metadata": {
        "id": "Ntj4xJKqFLul"
      }
    },
    {
      "cell_type": "code",
      "source": [],
      "metadata": {
        "id": "xXnYiFXTFBhU"
      },
      "execution_count": null,
      "outputs": []
    },
    {
      "cell_type": "markdown",
      "source": [
        "## Pythonの4つの構造型（復習）"
      ],
      "metadata": {
        "id": "ekzA_mZN6M9C"
      }
    },
    {
      "cell_type": "markdown",
      "source": [
        "* タプル\n",
        "  * 変更できない要素の列。\n",
        "* range\n",
        "  * タプルと同じく不変な要素の列。ただし整数の列。\n",
        "* リスト\n",
        "  * タプルとは異なり、変更可能。\n",
        "* 辞書\n",
        "  * 連想配列（添え字が数字でない配列）"
      ],
      "metadata": {
        "id": "kqV2LxBo6O8V"
      }
    },
    {
      "cell_type": "markdown",
      "source": [
        "### タプル(tuple)"
      ],
      "metadata": {
        "id": "n7tXZQDa6RFo"
      }
    },
    {
      "cell_type": "code",
      "source": [
        "t1 = ()\n",
        "print(t1)"
      ],
      "metadata": {
        "id": "0kceDbWI6Ezd"
      },
      "execution_count": null,
      "outputs": []
    },
    {
      "cell_type": "code",
      "source": [
        "t2 = ('one', 2, 'three', 4)\n",
        "print(t2)"
      ],
      "metadata": {
        "id": "gZud5V7f6oVx"
      },
      "execution_count": null,
      "outputs": []
    },
    {
      "cell_type": "code",
      "source": [
        "t3 = (123,)\n",
        "print(t3)"
      ],
      "metadata": {
        "id": "nornyUmL6SvT"
      },
      "execution_count": null,
      "outputs": []
    },
    {
      "cell_type": "code",
      "source": [
        "t1 = ('one', 2, 'three', 4)\n",
        "t2 = (0, t1, 'five')\n",
        "print(t2)\n",
        "print(t1 + t2)\n",
        "print((t1 + t2)[2])\n",
        "print((t1 + t2)[1:4])"
      ],
      "metadata": {
        "id": "zp1KfOal6V79"
      },
      "execution_count": null,
      "outputs": []
    },
    {
      "cell_type": "code",
      "source": [
        "t1 = (2, 4, 6, 8, 10, 12, 14, 16, 18)\n",
        "t2 = (3, 6, 9, 12, 15, 18)\n",
        "for e in t1:\n",
        "  if e in t2:\n",
        "    print(e)"
      ],
      "metadata": {
        "id": "H0JKQFcD6Y6_"
      },
      "execution_count": null,
      "outputs": []
    },
    {
      "cell_type": "markdown",
      "source": [
        "### 範囲(range)"
      ],
      "metadata": {
        "id": "opBOd9SA6biT"
      }
    },
    {
      "cell_type": "code",
      "source": [
        "for i in range(21, 100, 7):\n",
        "  print(i)"
      ],
      "metadata": {
        "id": "mKnh6B8o6bpg"
      },
      "execution_count": null,
      "outputs": []
    },
    {
      "cell_type": "code",
      "source": [
        "for i in range(100, 21, -7):\n",
        "  print(i)"
      ],
      "metadata": {
        "id": "umNJTzBc6eLV"
      },
      "execution_count": null,
      "outputs": []
    },
    {
      "cell_type": "markdown",
      "source": [
        "### リスト(list)"
      ],
      "metadata": {
        "id": "oRvu-08B6fsj"
      }
    },
    {
      "cell_type": "code",
      "source": [
        "l1 = []\n",
        "print(l1)"
      ],
      "metadata": {
        "id": "7cBk4cSi6gDP"
      },
      "execution_count": null,
      "outputs": []
    },
    {
      "cell_type": "code",
      "source": [
        "l2 = ['one', 2, 'three', 4]\n",
        "print(l2)"
      ],
      "metadata": {
        "id": "gth33Dxv6iC1"
      },
      "execution_count": null,
      "outputs": []
    },
    {
      "cell_type": "code",
      "source": [
        "l3 = [123]\n",
        "print(l3)"
      ],
      "metadata": {
        "id": "-QhTo8WM6seg"
      },
      "execution_count": null,
      "outputs": []
    },
    {
      "cell_type": "code",
      "source": [
        "l1 = [2, 4, 6, 8, 10, 12, 14, 16, 18]\n",
        "l2 = [3, 6, 9, 12, 15, 18]\n",
        "for e in l1:\n",
        "  if e in l2:\n",
        "    print(e)"
      ],
      "metadata": {
        "id": "HpGtV8eJ6s2u"
      },
      "execution_count": null,
      "outputs": []
    },
    {
      "cell_type": "markdown",
      "source": [
        "* リストのメソッド"
      ],
      "metadata": {
        "id": "xqanVUCd6um0"
      }
    },
    {
      "cell_type": "code",
      "source": [
        "l1 = [1,2,3]\n",
        "l2 = [4,5,6]"
      ],
      "metadata": {
        "id": "1-Vlh4to62mo"
      },
      "execution_count": null,
      "outputs": []
    },
    {
      "cell_type": "code",
      "source": [
        "l2.append(7)\n",
        "print(l2)"
      ],
      "metadata": {
        "id": "VUhvL2MP6wi9"
      },
      "execution_count": null,
      "outputs": []
    },
    {
      "cell_type": "code",
      "source": [
        "l1.extend(l2)\n",
        "print(l1)"
      ],
      "metadata": {
        "id": "mbfLBD5X60e9"
      },
      "execution_count": null,
      "outputs": []
    },
    {
      "cell_type": "code",
      "source": [
        "l1.append(l2)\n",
        "print(l1)"
      ],
      "metadata": {
        "id": "BdYorPAT61Wk"
      },
      "execution_count": null,
      "outputs": []
    },
    {
      "cell_type": "code",
      "source": [
        "l = [1,2,3,2,1,2,3,4,3,2,3,4,5]\n",
        "print(l.count(1))\n",
        "print(l.count(3))\n",
        "print(l.index(4))\n",
        "print(l.index(10))"
      ],
      "metadata": {
        "id": "BjNFeM_Y64-C"
      },
      "execution_count": null,
      "outputs": []
    },
    {
      "cell_type": "code",
      "source": [
        "l = [1,2,3,2,1,2,3,4,3,2,3,4,5]\n",
        "l.sort()\n",
        "print(l)\n",
        "l.reverse()\n",
        "print(l)"
      ],
      "metadata": {
        "id": "sMBmGjq066Rq"
      },
      "execution_count": null,
      "outputs": []
    },
    {
      "cell_type": "code",
      "source": [
        "l = [3, 6, 9, 12, 15, 18]\n",
        "l.insert(3, 10)\n",
        "print(l)\n",
        "l.remove(10)\n",
        "print(l)\n",
        "l.pop(4)\n",
        "print(l)"
      ],
      "metadata": {
        "id": "fAyxJn1U67jf"
      },
      "execution_count": null,
      "outputs": []
    },
    {
      "cell_type": "markdown",
      "source": [
        "### 辞書"
      ],
      "metadata": {
        "id": "6YYi9ndy8P9X"
      }
    },
    {
      "cell_type": "code",
      "source": [
        "numbers = {'three':3 , 'one':1 , 'nine':9, 'four':4}\n",
        "for key in numbers :\n",
        "  print(key, numbers[key])"
      ],
      "metadata": {
        "id": "eyQScW1w7-sv"
      },
      "execution_count": null,
      "outputs": []
    },
    {
      "cell_type": "markdown",
      "source": [
        "* 辞書のメソッド"
      ],
      "metadata": {
        "id": "fOVEcrcv8URm"
      }
    },
    {
      "cell_type": "code",
      "source": [
        "numbers = {'three':3 , 'one':1 , 'nine':9, 'four':4}\n",
        "for item in numbers.items():\n",
        "  print(item)"
      ],
      "metadata": {
        "id": "WimyOp9a8U_6"
      },
      "execution_count": null,
      "outputs": []
    },
    {
      "cell_type": "markdown",
      "source": [
        "## 組み込み関数`sorted`"
      ],
      "metadata": {
        "id": "2JVYoO9n8XvC"
      }
    },
    {
      "cell_type": "code",
      "source": [
        "l = [1, -2, 8, 3, 23, 14]\n",
        "sorted_l = sorted(l)\n",
        "print(sorted_l)\n",
        "print(type(sorted(l)))"
      ],
      "metadata": {
        "id": "cyO6B4k08bA0"
      },
      "execution_count": null,
      "outputs": []
    },
    {
      "cell_type": "markdown",
      "source": [
        "* 元のリストはもちろんそのまま。"
      ],
      "metadata": {
        "id": "u6VvgSC08-ng"
      }
    },
    {
      "cell_type": "code",
      "source": [
        "print(l)"
      ],
      "metadata": {
        "id": "I-g5icJe89nj"
      },
      "execution_count": null,
      "outputs": []
    },
    {
      "cell_type": "markdown",
      "source": [
        "* タプルにsortedを使うとリストに変換されてしまう。\n",
        "  * タプルはとにかく変更不可能なデータであるため。"
      ],
      "metadata": {
        "id": "UKS05u_68eob"
      }
    },
    {
      "cell_type": "code",
      "source": [
        "t = (4, -2, 3, 10, -8, 1)\n",
        "sorted_t = sorted(t)\n",
        "print(sorted_t)\n",
        "print(type(sorted_t))"
      ],
      "metadata": {
        "id": "6ptwNXN08YI3"
      },
      "execution_count": null,
      "outputs": []
    },
    {
      "cell_type": "markdown",
      "source": [
        "* 元のタプルはもちろんそのまま。"
      ],
      "metadata": {
        "id": "JEWMEg6L9C80"
      }
    },
    {
      "cell_type": "code",
      "source": [
        "print(t)"
      ],
      "metadata": {
        "id": "Y8gClirX809B"
      },
      "execution_count": null,
      "outputs": []
    },
    {
      "cell_type": "markdown",
      "source": [
        "## 辞書のソート"
      ],
      "metadata": {
        "id": "T3FIwMbi9GuY"
      }
    },
    {
      "cell_type": "markdown",
      "source": [
        "### 辞書の要素をキーでソートする"
      ],
      "metadata": {
        "id": "0Do14ULG9Jnz"
      }
    },
    {
      "cell_type": "code",
      "source": [
        "numbers = {'three':3 , 'one':1 , 'nine':9, 'four':4}\n",
        "for item in sorted(numbers.items()):\n",
        "  print(item)"
      ],
      "metadata": {
        "id": "to5TbMwW9IUt"
      },
      "execution_count": null,
      "outputs": []
    },
    {
      "cell_type": "markdown",
      "source": [
        "### 辞書の要素を値でソートする"
      ],
      "metadata": {
        "id": "YgKXcji49MYy"
      }
    },
    {
      "cell_type": "code",
      "source": [
        "numbers = {'three':3 , 'one':1 , 'nine':9, 'four':4}\n",
        "for item in sorted(numbers.items(), key=lambda x: x[1]):\n",
        "  print(item)"
      ],
      "metadata": {
        "id": "CgCU5Elu9Nx2"
      },
      "execution_count": null,
      "outputs": []
    },
    {
      "cell_type": "markdown",
      "source": [
        "## 課題4\n",
        "* 適当な英文ニュース記事から本文だけをコピー・アンド・ペーストし、テキストファイル`news.txt`を作っておく\n",
        "* このテキストファイル`news.txt`を関数`open`で開き、そして読み込み、以下の処理をするコードをPythonで書く\n",
        "* 記事にどの単語が何回出現するかを、単語の出現回数の降順でソートして表示する。"
      ],
      "metadata": {
        "id": "_mRQA4o39S_a"
      }
    },
    {
      "cell_type": "markdown",
      "source": [
        "### 課題4のヒント\n",
        "* 文字列を空白で分割する方法"
      ],
      "metadata": {
        "id": "6Czgjo7n9bKD"
      }
    },
    {
      "cell_type": "code",
      "source": [
        "text = 'Donald Trump has his sights set on Amazon. He is reportedly “obsessed” with the internet commerce giant, and as is his wont, spent Thursday morning tweeting about it. And it’s not because he loves online shopping.'\n",
        "word_seq = text.split()"
      ],
      "metadata": {
        "id": "JVNAXcDP9Zvh"
      },
      "execution_count": null,
      "outputs": []
    },
    {
      "cell_type": "code",
      "source": [
        "word_seq"
      ],
      "metadata": {
        "id": "pLyeaqX29lMv"
      },
      "execution_count": null,
      "outputs": []
    },
    {
      "cell_type": "code",
      "source": [
        "for word in word_seq:\n",
        "  print(word)"
      ],
      "metadata": {
        "id": "97cbQHUz9kWM"
      },
      "execution_count": null,
      "outputs": []
    },
    {
      "cell_type": "code",
      "source": [],
      "metadata": {
        "id": "Dy0QjMHC9nbF"
      },
      "execution_count": null,
      "outputs": []
    }
  ]
}