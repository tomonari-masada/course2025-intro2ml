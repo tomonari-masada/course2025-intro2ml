{
  "nbformat": 4,
  "nbformat_minor": 0,
  "metadata": {
    "colab": {
      "provenance": [],
      "mount_file_id": "1FOQd6XlURTdd9xX4b9EAOc6yod2z1rkj",
      "authorship_tag": "ABX9TyNW7gBHNEGsF2+wREYSP+l6",
      "include_colab_link": true
    },
    "kernelspec": {
      "name": "python3",
      "display_name": "Python 3"
    },
    "language_info": {
      "name": "python"
    }
  },
  "cells": [
    {
      "cell_type": "markdown",
      "metadata": {
        "id": "view-in-github",
        "colab_type": "text"
      },
      "source": [
        "<a href=\"https://colab.research.google.com/github/tomonari-masada/course2025-intro2ml/blob/main/04_Python_3.ipynb\" target=\"_parent\"><img src=\"https://colab.research.google.com/assets/colab-badge.svg\" alt=\"Open In Colab\"/></a>"
      ]
    },
    {
      "cell_type": "markdown",
      "source": [
        "# Python入門 (3)"
      ],
      "metadata": {
        "id": "64EX4on-45c8"
      }
    },
    {
      "cell_type": "markdown",
      "source": [
        "## ファイルの読み書き"
      ],
      "metadata": {
        "id": "ckUrI6Ch422x"
      }
    },
    {
      "cell_type": "markdown",
      "source": [
        "### ファイルへの書き込み\n",
        "* `open`関数の二番目の引数`w`はwriteの意味。"
      ],
      "metadata": {
        "id": "Udlbqc7M5EmX"
      }
    },
    {
      "cell_type": "code",
      "execution_count": null,
      "metadata": {
        "id": "yqhQSukR4znT"
      },
      "outputs": [],
      "source": [
        "f = open('text.txt', 'w')\n",
        "for i in range(5):\n",
        "  line = str(i)\n",
        "  f.write(line + '\\n')\n",
        "f.close()"
      ]
    },
    {
      "cell_type": "markdown",
      "source": [
        "* 次のようにwith文を使うこともできる。\n",
        "* 注意: 同じファイル名を使うと、元あった内容は完全に上書きされ、消えてしまうことに注意。"
      ],
      "metadata": {
        "id": "UNjZGsnU5VQl"
      }
    },
    {
      "cell_type": "code",
      "source": [
        "with open('text.txt', 'w') as f:\n",
        "  for i in range(5):\n",
        "    line = str(i)\n",
        "    f.write(line + '\\n')"
      ],
      "metadata": {
        "id": "pkhIWizy5Mi8"
      },
      "execution_count": null,
      "outputs": []
    },
    {
      "cell_type": "markdown",
      "source": [
        "### ファイルへの追記\n",
        "* `a`はappendの意味。\n",
        "  * 新しい内容は、元の内容の末尾に追加される。"
      ],
      "metadata": {
        "id": "HlUK-diK5rm_"
      }
    },
    {
      "cell_type": "code",
      "source": [
        "with open('text.txt', 'a') as f:\n",
        "  for i in range(5, 10):\n",
        "    line = str(i)\n",
        "    f.write(line + '\\n')"
      ],
      "metadata": {
        "id": "6gpzLXTS5nrV"
      },
      "execution_count": null,
      "outputs": []
    },
    {
      "cell_type": "markdown",
      "source": [
        "### ファイルからの読み込み\n",
        "* `r`はreadの意味。"
      ],
      "metadata": {
        "id": "w02g19Y35GrD"
      }
    },
    {
      "cell_type": "code",
      "source": [
        "f = open('text.txt', 'r')\n",
        "for line in f:\n",
        "  print(line)\n",
        "f.close()"
      ],
      "metadata": {
        "id": "PNU7tHqM5DHR"
      },
      "execution_count": null,
      "outputs": []
    },
    {
      "cell_type": "markdown",
      "source": [
        "* with文を使うこともできる。"
      ],
      "metadata": {
        "id": "_X9oC9OyBln-"
      }
    },
    {
      "cell_type": "code",
      "source": [
        "with open('text.txt', 'r') as f:\n",
        "  for line in f:\n",
        "    print(line)"
      ],
      "metadata": {
        "id": "lH9dFeAa6GTP"
      },
      "execution_count": null,
      "outputs": []
    },
    {
      "cell_type": "markdown",
      "source": [
        "### テキストファイルの改行記号\n",
        "* テキストファイルからテキストを読み込むと・・・\n",
        "* 各行の末尾にある改行記号も一緒に読み込まれる。\n",
        "* この改行記号を無くしたい場合は、以下のようにする。"
      ],
      "metadata": {
        "id": "9rqeJGQ-5_F4"
      }
    },
    {
      "cell_type": "code",
      "source": [
        "f = open('text.txt', 'r')\n",
        "for line in f:\n",
        "  line = line.strip()\n",
        "  print(line)\n",
        "f.close()"
      ],
      "metadata": {
        "id": "5Zx5bKcL5TbW"
      },
      "execution_count": null,
      "outputs": []
    },
    {
      "cell_type": "markdown",
      "source": [
        "## プチ演習: テキストファイルを作ってそれを読み込んでみる"
      ],
      "metadata": {
        "id": "aZmZulrME7YH"
      }
    },
    {
      "cell_type": "markdown",
      "source": [
        "### テキストファイルの作り方\n",
        "* 左端のフォルダアイコンをクリックする。\n",
        "* 現れたフォルダ一覧の上端にあるGoogle Driveアイコンをクリックする。\n",
        "  * これで自分のGoogle DriveにGoogle Colabからアクセスできるようになる。\n",
        "* driveの下のMyDriveの下に、適当なフォルダを作る。\n",
        "* そのフォルダの上で右クリックする。\n",
        "* 現れたメニューの「新しいファイル」をクリックする。\n",
        "* 適当なファイル名をつける。\n",
        "* そのファイルをダブルクリックする。\n",
        "* そこに適当なテキストを記入する。\n"
      ],
      "metadata": {
        "id": "Ntj4xJKqFLul"
      }
    },
    {
      "cell_type": "code",
      "source": [],
      "metadata": {
        "id": "xXnYiFXTFBhU"
      },
      "execution_count": null,
      "outputs": []
    },
    {
      "cell_type": "markdown",
      "source": [
        "## Pythonの4つの構造型（復習）"
      ],
      "metadata": {
        "id": "ekzA_mZN6M9C"
      }
    },
    {
      "cell_type": "markdown",
      "source": [
        "* タプル\n",
        "  * 変更できない要素の列。\n",
        "* range\n",
        "  * タプルと同じく不変な要素の列。ただし整数の列。\n",
        "* リスト\n",
        "  * タプルとは異なり、変更可能。\n",
        "* 辞書\n",
        "  * 連想配列（添え字が数字でない配列）"
      ],
      "metadata": {
        "id": "kqV2LxBo6O8V"
      }
    },
    {
      "cell_type": "markdown",
      "source": [
        "### タプル(tuple)"
      ],
      "metadata": {
        "id": "n7tXZQDa6RFo"
      }
    },
    {
      "cell_type": "code",
      "source": [
        "empty_tuple = ()\n",
        "print(empty_tuple)"
      ],
      "metadata": {
        "id": "0kceDbWI6Ezd"
      },
      "execution_count": null,
      "outputs": []
    },
    {
      "cell_type": "code",
      "source": [
        "tuple1 = ('one', 2, 'three', 4)\n",
        "print(tuple1)"
      ],
      "metadata": {
        "id": "gZud5V7f6oVx"
      },
      "execution_count": null,
      "outputs": []
    },
    {
      "cell_type": "code",
      "source": [
        "tuple2 = (123,)\n",
        "print(tuple2)"
      ],
      "metadata": {
        "id": "nornyUmL6SvT"
      },
      "execution_count": null,
      "outputs": []
    },
    {
      "cell_type": "markdown",
      "source": [
        "* タプルの代入\n",
        "  * 実体として同じ一つのタプルを、別の変数で指しているだけ。"
      ],
      "metadata": {
        "id": "ZLsIdkZCCoPp"
      }
    },
    {
      "cell_type": "code",
      "source": [
        "tuple3 = (10, -2, \"this\", 0.312, tuple1)\n",
        "tuple4 = tuple3"
      ],
      "metadata": {
        "id": "7j4xTNVeCFtb"
      },
      "execution_count": null,
      "outputs": []
    },
    {
      "cell_type": "code",
      "source": [
        "print(tuple3)\n",
        "print(id(tuple3))"
      ],
      "metadata": {
        "id": "hLw7Yy6-CMpk"
      },
      "execution_count": null,
      "outputs": []
    },
    {
      "cell_type": "code",
      "source": [
        "print(tuple4)\n",
        "print(id(tuple4))"
      ],
      "metadata": {
        "id": "Q-WzROZoCOvM"
      },
      "execution_count": null,
      "outputs": []
    },
    {
      "cell_type": "markdown",
      "source": [
        "* タプルの結合"
      ],
      "metadata": {
        "id": "PWLNW9SVCmDu"
      }
    },
    {
      "cell_type": "code",
      "source": [
        "tuple_a = ('one', 2, 'three', 4)\n",
        "tuple_b = (0, tuple1, 'five')"
      ],
      "metadata": {
        "id": "zp1KfOal6V79"
      },
      "execution_count": null,
      "outputs": []
    },
    {
      "cell_type": "code",
      "source": [
        "tuple_c = tuple_a + tuple_b\n",
        "print(tuple_c)"
      ],
      "metadata": {
        "id": "BEXg6cXDDdgt"
      },
      "execution_count": null,
      "outputs": []
    },
    {
      "cell_type": "code",
      "source": [
        "print(tuple_c[2])"
      ],
      "metadata": {
        "id": "wV4WS2rJDiL_"
      },
      "execution_count": null,
      "outputs": []
    },
    {
      "cell_type": "code",
      "source": [
        "print(tuple_c[1:4])"
      ],
      "metadata": {
        "id": "aIgO5PCSDi6h"
      },
      "execution_count": null,
      "outputs": []
    },
    {
      "cell_type": "markdown",
      "source": [
        "* 空のタプルを結合するとどうなるか？"
      ],
      "metadata": {
        "id": "zGH68YrLCx7G"
      }
    },
    {
      "cell_type": "code",
      "source": [
        "tuple_d = tuple_a + empty_tuple\n",
        "print(tuple_d)"
      ],
      "metadata": {
        "id": "6j66Muj8Caam"
      },
      "execution_count": null,
      "outputs": []
    },
    {
      "cell_type": "code",
      "source": [
        "print(id(tuple_a))\n",
        "print(id(tuple_d))"
      ],
      "metadata": {
        "id": "dHboaR0hDsDM"
      },
      "execution_count": null,
      "outputs": []
    },
    {
      "cell_type": "markdown",
      "source": [
        "* tupleの要素をfor文で列挙する。"
      ],
      "metadata": {
        "id": "q0UDWXyoDu6w"
      }
    },
    {
      "cell_type": "code",
      "source": [
        "tuple_1 = (2, 4, 6, 8, 10, 12, 14, 16, 18)\n",
        "tuple_2 = (3, 6, 9, 12, 15, 18)\n",
        "for elem in tuple_1:\n",
        "  if elem in tuple_2:\n",
        "    print(elem)"
      ],
      "metadata": {
        "id": "H0JKQFcD6Y6_"
      },
      "execution_count": null,
      "outputs": []
    },
    {
      "cell_type": "markdown",
      "source": [
        "### 範囲 (range)"
      ],
      "metadata": {
        "id": "opBOd9SA6biT"
      }
    },
    {
      "cell_type": "code",
      "source": [
        "for i in range(21, 100, 7):\n",
        "  print(i)"
      ],
      "metadata": {
        "id": "mKnh6B8o6bpg"
      },
      "execution_count": null,
      "outputs": []
    },
    {
      "cell_type": "code",
      "source": [
        "for i in range(100, 21, -7):\n",
        "  print(i)"
      ],
      "metadata": {
        "id": "umNJTzBc6eLV"
      },
      "execution_count": null,
      "outputs": []
    },
    {
      "cell_type": "markdown",
      "source": [
        "### リスト(list)"
      ],
      "metadata": {
        "id": "oRvu-08B6fsj"
      }
    },
    {
      "cell_type": "code",
      "source": [
        "empty_list = []\n",
        "print(empty_list)"
      ],
      "metadata": {
        "id": "7cBk4cSi6gDP"
      },
      "execution_count": null,
      "outputs": []
    },
    {
      "cell_type": "code",
      "source": [
        "list_1 = ['one', 2, 'three', 4]\n",
        "print(list_1)"
      ],
      "metadata": {
        "id": "gth33Dxv6iC1"
      },
      "execution_count": null,
      "outputs": []
    },
    {
      "cell_type": "code",
      "source": [
        "list_2 = [123]\n",
        "print(list_2)"
      ],
      "metadata": {
        "id": "-QhTo8WM6seg"
      },
      "execution_count": null,
      "outputs": []
    },
    {
      "cell_type": "code",
      "source": [
        "list_a = [2, 4, 6, 8, 10, 12, 14, 16, 18]\n",
        "list_b = [3, 6, 9, 12, 15, 18]\n",
        "for elem in list_a:\n",
        "  if elem in list_b:\n",
        "    print(elem)"
      ],
      "metadata": {
        "id": "HpGtV8eJ6s2u"
      },
      "execution_count": null,
      "outputs": []
    },
    {
      "cell_type": "markdown",
      "source": [
        "* リストのメソッド\n",
        "  * https://docs.python.org/ja/3/tutorial/datastructures.html#more-on-lists\n",
        "  * リストのメソッドのほとんどは、それを実行することでオブジェクトが上書きされる。"
      ],
      "metadata": {
        "id": "xqanVUCd6um0"
      }
    },
    {
      "cell_type": "code",
      "source": [
        "list_1 = [1,2,3]\n",
        "list_2 = [4,5,6]"
      ],
      "metadata": {
        "id": "1-Vlh4to62mo"
      },
      "execution_count": null,
      "outputs": []
    },
    {
      "cell_type": "code",
      "source": [
        "list_2.append(7)\n",
        "print(list_2)"
      ],
      "metadata": {
        "id": "VUhvL2MP6wi9"
      },
      "execution_count": null,
      "outputs": []
    },
    {
      "cell_type": "code",
      "source": [
        "list_1.extend(list_2)\n",
        "print(list_1)"
      ],
      "metadata": {
        "id": "mbfLBD5X60e9"
      },
      "execution_count": null,
      "outputs": []
    },
    {
      "cell_type": "code",
      "source": [
        "list_1.append(list_2)\n",
        "print(list_1)"
      ],
      "metadata": {
        "id": "BdYorPAT61Wk"
      },
      "execution_count": null,
      "outputs": []
    },
    {
      "cell_type": "code",
      "source": [
        "long_list = [1,2,3,2,1,2,3,4,3,2,3,4,5,1,3,2,3,2,4,3]\n",
        "print(long_list.count(1))\n",
        "print(long_list.count(3))"
      ],
      "metadata": {
        "id": "BjNFeM_Y64-C"
      },
      "execution_count": null,
      "outputs": []
    },
    {
      "cell_type": "code",
      "source": [
        "print(long_list.index(4))"
      ],
      "metadata": {
        "id": "Yc9NRDgQFcpi"
      },
      "execution_count": null,
      "outputs": []
    },
    {
      "cell_type": "code",
      "source": [
        "print(long_list.index(10))"
      ],
      "metadata": {
        "id": "tpYiABNOFfIC"
      },
      "execution_count": null,
      "outputs": []
    },
    {
      "cell_type": "code",
      "source": [
        "long_list.sort()\n",
        "print(long_list)"
      ],
      "metadata": {
        "id": "sMBmGjq066Rq"
      },
      "execution_count": null,
      "outputs": []
    },
    {
      "cell_type": "code",
      "source": [
        "long_list.reverse()\n",
        "print(long_list)"
      ],
      "metadata": {
        "id": "_xK2BfJlFn5c"
      },
      "execution_count": null,
      "outputs": []
    },
    {
      "cell_type": "code",
      "source": [
        "list_x = [3, 6, 9, 12, 15, 18]\n",
        "list_x.insert(3, 10)\n",
        "print(list_x)"
      ],
      "metadata": {
        "id": "fAyxJn1U67jf"
      },
      "execution_count": null,
      "outputs": []
    },
    {
      "cell_type": "code",
      "source": [
        "list_x.remove(10)\n",
        "print(list_x)"
      ],
      "metadata": {
        "id": "Be4aXTuqFvgl"
      },
      "execution_count": null,
      "outputs": []
    },
    {
      "cell_type": "code",
      "source": [
        "list_x.pop(4)\n",
        "print(list_x)"
      ],
      "metadata": {
        "id": "kyaHFd7OFwUZ"
      },
      "execution_count": null,
      "outputs": []
    },
    {
      "cell_type": "markdown",
      "source": [
        "### リストの複製\n",
        "* 単に代入するだけでは、複製できない。\n",
        "* 複製するには、特殊な書き方をする必要がある。"
      ],
      "metadata": {
        "id": "pseRWVfGGvoZ"
      }
    },
    {
      "cell_type": "markdown",
      "source": [
        "* 例1: 複製できていないコード"
      ],
      "metadata": {
        "id": "mc4_-4ttHmSi"
      }
    },
    {
      "cell_type": "code",
      "source": [
        "list_1 = [0, 1, 2, 3, 4, 5, 6, 7, 8, 9]\n",
        "print(list_1)"
      ],
      "metadata": {
        "id": "fJeWWU2FGT8s"
      },
      "execution_count": null,
      "outputs": []
    },
    {
      "cell_type": "code",
      "source": [
        "list_2 = list_1\n",
        "print(list_2)"
      ],
      "metadata": {
        "id": "PAJQjJweGWxe"
      },
      "execution_count": null,
      "outputs": []
    },
    {
      "cell_type": "code",
      "source": [
        "list_2[0] = 10\n",
        "print(list_2)"
      ],
      "metadata": {
        "id": "RPCvwGaSGfJN"
      },
      "execution_count": null,
      "outputs": []
    },
    {
      "cell_type": "code",
      "source": [
        "print(list_1)"
      ],
      "metadata": {
        "id": "O8ZzsbzlGif5"
      },
      "execution_count": null,
      "outputs": []
    },
    {
      "cell_type": "markdown",
      "source": [
        "* 例2: 複製できているコード"
      ],
      "metadata": {
        "id": "bTN4HnTCHs2Q"
      }
    },
    {
      "cell_type": "code",
      "source": [
        "list_1 = [0, 1, 2, 3, 4, 5, 6, 7, 8, 9]\n",
        "list_3 = list_1.copy()\n",
        "print(list_3)"
      ],
      "metadata": {
        "id": "TqShfWJqHdhq"
      },
      "execution_count": null,
      "outputs": []
    },
    {
      "cell_type": "code",
      "source": [
        "list_3[0] = 10\n",
        "print(list_3)"
      ],
      "metadata": {
        "id": "7NXZ3XN9HfaV"
      },
      "execution_count": null,
      "outputs": []
    },
    {
      "cell_type": "code",
      "source": [
        "print(list_1)"
      ],
      "metadata": {
        "id": "A6PAfvzmHgyd"
      },
      "execution_count": null,
      "outputs": []
    },
    {
      "cell_type": "markdown",
      "source": [
        "* 例3: 複製できているコード"
      ],
      "metadata": {
        "id": "OVdnfl6FH0AC"
      }
    },
    {
      "cell_type": "code",
      "source": [
        "list_1 = [0, 1, 2, 3, 4, 5, 6, 7, 8, 9]\n",
        "list_3 = list_1[:]\n",
        "print(list_3)"
      ],
      "metadata": {
        "id": "5txVJXvUGkHv"
      },
      "execution_count": null,
      "outputs": []
    },
    {
      "cell_type": "code",
      "source": [
        "list_3[0] = 10\n",
        "print(list_3)"
      ],
      "metadata": {
        "id": "Q4vCb3SyGssv"
      },
      "execution_count": null,
      "outputs": []
    },
    {
      "cell_type": "code",
      "source": [
        "print(list_1)"
      ],
      "metadata": {
        "id": "0UFEleTIG_TA"
      },
      "execution_count": null,
      "outputs": []
    },
    {
      "cell_type": "markdown",
      "source": [
        "* 例4: 複製できていると思ったら、一段深いところは複製できていなかったコード"
      ],
      "metadata": {
        "id": "wZ8fqQF6H3xc"
      }
    },
    {
      "cell_type": "code",
      "source": [
        "list_1 = [[0, 1, 2, 3], 1, 2, 3, 4, 5, 6, 7, 8, 9]\n",
        "list_3 = list_1.copy()\n",
        "print(list_3)"
      ],
      "metadata": {
        "id": "LavSoLHhHDiH"
      },
      "execution_count": null,
      "outputs": []
    },
    {
      "cell_type": "code",
      "source": [
        "print(list_3[0])"
      ],
      "metadata": {
        "id": "9UJDjpoRHLd7"
      },
      "execution_count": null,
      "outputs": []
    },
    {
      "cell_type": "code",
      "source": [
        "list_3[0][0] = 10\n",
        "print(list_3)"
      ],
      "metadata": {
        "id": "-iZ6_OyJHHwP"
      },
      "execution_count": null,
      "outputs": []
    },
    {
      "cell_type": "code",
      "source": [
        "print(list_1)"
      ],
      "metadata": {
        "id": "p_sEMMXSHQ0W"
      },
      "execution_count": null,
      "outputs": []
    },
    {
      "cell_type": "markdown",
      "source": [
        "* 例5: 複製できていると思ったら、一段深いところは複製できていなかったコード"
      ],
      "metadata": {
        "id": "FJdOM5X5IL--"
      }
    },
    {
      "cell_type": "code",
      "source": [
        "list_1 = [[0, 1, 2, 3], 1, 2, 3, 4, 5, 6, 7, 8, 9]\n",
        "list_3 = list_1[:]\n",
        "print(list_3)"
      ],
      "metadata": {
        "id": "U06xP-kRHVoj"
      },
      "execution_count": null,
      "outputs": []
    },
    {
      "cell_type": "code",
      "source": [
        "list_3[0][0] = 10\n",
        "print(list_3)\n",
        "print(list_1)"
      ],
      "metadata": {
        "id": "67oOZtAyHX7-"
      },
      "execution_count": null,
      "outputs": []
    },
    {
      "cell_type": "markdown",
      "source": [
        "* 例6: リストを完全に複製できているコード\n",
        "  * copyモジュールのdeepcopy関数を使う。"
      ],
      "metadata": {
        "id": "eCO2DMC5Ig84"
      }
    },
    {
      "cell_type": "code",
      "source": [
        "import copy\n",
        "\n",
        "list_1 = [[0, 1, 2, 3], 1, 2, 3, 4, 5, 6, 7, 8, 9]\n",
        "list_4 = copy.deepcopy(list_1)\n",
        "print(list_4)"
      ],
      "metadata": {
        "id": "SrcxmGyfIcDf"
      },
      "execution_count": null,
      "outputs": []
    },
    {
      "cell_type": "code",
      "source": [
        "list_4[0][0] = 10\n",
        "print(list_4)\n",
        "print(list_1)"
      ],
      "metadata": {
        "id": "gofM5ViXIuZT"
      },
      "execution_count": null,
      "outputs": []
    },
    {
      "cell_type": "markdown",
      "source": [
        "### 辞書"
      ],
      "metadata": {
        "id": "6YYi9ndy8P9X"
      }
    },
    {
      "cell_type": "code",
      "source": [
        "numbers_dict = {'three':3 , 'one':1 , 'nine':9, 'four':4}\n",
        "for key in numbers_dict :\n",
        "  print(key, numbers_dict[key])"
      ],
      "metadata": {
        "id": "eyQScW1w7-sv"
      },
      "execution_count": null,
      "outputs": []
    },
    {
      "cell_type": "markdown",
      "source": [
        "* 辞書のメソッド"
      ],
      "metadata": {
        "id": "fOVEcrcv8URm"
      }
    },
    {
      "cell_type": "code",
      "source": [
        "numbers_dict = {'three':3 , 'one':1 , 'nine':9, 'four':4}\n",
        "for item in numbers_dict.items():\n",
        "  print(item)"
      ],
      "metadata": {
        "id": "WimyOp9a8U_6"
      },
      "execution_count": null,
      "outputs": []
    },
    {
      "cell_type": "markdown",
      "source": [
        "## 組み込み関数`sorted`\n",
        "* これはPython自体に最初から備わっている関数。\n",
        "* 様々なオブジェクトに対して、その中身を並べ替えるのに利用できる。"
      ],
      "metadata": {
        "id": "2JVYoO9n8XvC"
      }
    },
    {
      "cell_type": "code",
      "source": [
        "my_list = [1, -2, 8, 3, 23, 14]\n",
        "sorted_my_list = sorted(my_list)\n",
        "print(sorted_my_list)"
      ],
      "metadata": {
        "id": "cyO6B4k08bA0"
      },
      "execution_count": null,
      "outputs": []
    },
    {
      "cell_type": "code",
      "source": [
        "print(type(sorted(my_list)))"
      ],
      "metadata": {
        "id": "kBIKwvBhJLMb"
      },
      "execution_count": null,
      "outputs": []
    },
    {
      "cell_type": "markdown",
      "source": [
        "* 元のリストはそのまま。"
      ],
      "metadata": {
        "id": "u6VvgSC08-ng"
      }
    },
    {
      "cell_type": "code",
      "source": [
        "print(my_list)"
      ],
      "metadata": {
        "id": "I-g5icJe89nj"
      },
      "execution_count": null,
      "outputs": []
    },
    {
      "cell_type": "markdown",
      "source": [
        "* タプルにsortedを使うとリストに変換されてしまう。\n",
        "  * タプルはとにかく変更不可能なデータであるため。"
      ],
      "metadata": {
        "id": "UKS05u_68eob"
      }
    },
    {
      "cell_type": "code",
      "source": [
        "my_tuple = (4, -2, 3, 10, -8, 1)\n",
        "sorted_my_tuple = sorted(my_tuple)\n",
        "print(sorted_my_tuple)\n",
        "print(type(sorted_my_tuple))"
      ],
      "metadata": {
        "id": "6ptwNXN08YI3"
      },
      "execution_count": null,
      "outputs": []
    },
    {
      "cell_type": "markdown",
      "source": [
        "## 辞書のソート"
      ],
      "metadata": {
        "id": "T3FIwMbi9GuY"
      }
    },
    {
      "cell_type": "markdown",
      "source": [
        "### 辞書の要素をキーでソートする"
      ],
      "metadata": {
        "id": "0Do14ULG9Jnz"
      }
    },
    {
      "cell_type": "code",
      "source": [
        "numbers_dict = {'three':3 , 'one':1 , 'nine':9, 'four':4}\n",
        "for item in sorted(numbers_dict.items()):\n",
        "  print(item)"
      ],
      "metadata": {
        "id": "to5TbMwW9IUt"
      },
      "execution_count": null,
      "outputs": []
    },
    {
      "cell_type": "markdown",
      "source": [
        "### 辞書の要素を値でソートする"
      ],
      "metadata": {
        "id": "YgKXcji49MYy"
      }
    },
    {
      "cell_type": "code",
      "source": [
        "numbers_dict = {'three':3 , 'one':1 , 'nine':9, 'four':4}\n",
        "for item in sorted(numbers_dict.items(), key=lambda x: x[1]):\n",
        "  print(item)"
      ],
      "metadata": {
        "id": "CgCU5Elu9Nx2"
      },
      "execution_count": null,
      "outputs": []
    },
    {
      "cell_type": "markdown",
      "source": [
        "## 課題20250512\n",
        "* 適当な英文ニュース記事から本文だけをコピー・アンド・ペーストし、テキストファイル`news.txt`を作っておく\n",
        "* このテキストファイル`news.txt`を関数`open`で開き、そして読み込み、以下の処理をするコードをPythonで書く\n",
        "* 記事にどの単語が何回出現するかを、単語の出現回数の降順でソートして表示する。"
      ],
      "metadata": {
        "id": "_mRQA4o39S_a"
      }
    },
    {
      "cell_type": "markdown",
      "source": [
        "### 課題のヒント\n",
        "* 文字列を空白で分割する方法"
      ],
      "metadata": {
        "id": "6Czgjo7n9bKD"
      }
    },
    {
      "cell_type": "code",
      "source": [
        "text = 'Donald Trump has his sights set on Amazon. He is reportedly “obsessed” with the internet commerce giant, and as is his wont, spent Thursday morning tweeting about it. And it’s not because he loves online shopping.'\n",
        "word_seq = text.split()"
      ],
      "metadata": {
        "id": "JVNAXcDP9Zvh"
      },
      "execution_count": null,
      "outputs": []
    },
    {
      "cell_type": "code",
      "source": [
        "word_seq"
      ],
      "metadata": {
        "id": "pLyeaqX29lMv"
      },
      "execution_count": null,
      "outputs": []
    },
    {
      "cell_type": "code",
      "source": [
        "for word in word_seq:\n",
        "  print(word)"
      ],
      "metadata": {
        "id": "97cbQHUz9kWM"
      },
      "execution_count": null,
      "outputs": []
    },
    {
      "cell_type": "code",
      "source": [],
      "metadata": {
        "id": "Dy0QjMHC9nbF"
      },
      "execution_count": null,
      "outputs": []
    }
  ]
}