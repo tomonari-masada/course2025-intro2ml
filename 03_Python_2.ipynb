{
  "nbformat": 4,
  "nbformat_minor": 0,
  "metadata": {
    "colab": {
      "provenance": [],
      "authorship_tag": "ABX9TyPTMxsxp3IM2nA2hV0suwIl",
      "include_colab_link": true
    },
    "kernelspec": {
      "name": "python3",
      "display_name": "Python 3"
    },
    "language_info": {
      "name": "python"
    }
  },
  "cells": [
    {
      "cell_type": "markdown",
      "metadata": {
        "id": "view-in-github",
        "colab_type": "text"
      },
      "source": [
        "<a href=\"https://colab.research.google.com/github/tomonari-masada/course2025-intro2ml/blob/main/03_Python_2.ipynb\" target=\"_parent\"><img src=\"https://colab.research.google.com/assets/colab-badge.svg\" alt=\"Open In Colab\"/></a>"
      ]
    },
    {
      "cell_type": "markdown",
      "metadata": {
        "id": "nnrbBOomw2H4"
      },
      "source": [
        "# Python入門 (2)"
      ]
    },
    {
      "cell_type": "markdown",
      "source": [
        "## リスト\n",
        "* 順序型の一つ。\n",
        "* リストの要素としては何でも使える。"
      ],
      "metadata": {
        "id": "tfhmFeHkvkNs"
      }
    },
    {
      "cell_type": "code",
      "source": [
        "a = [ 2.5, -8.0, 1.7, 4.4, -0.6 ]\n",
        "print(a)"
      ],
      "metadata": {
        "id": "4mVFNN2Ivlxy"
      },
      "execution_count": null,
      "outputs": []
    },
    {
      "cell_type": "code",
      "source": [
        "print(a[2])"
      ],
      "metadata": {
        "id": "r_G_5wC3vxHa"
      },
      "execution_count": null,
      "outputs": []
    },
    {
      "cell_type": "code",
      "source": [
        "print(len(a))"
      ],
      "metadata": {
        "id": "9dCCg9WGvyim"
      },
      "execution_count": null,
      "outputs": []
    },
    {
      "cell_type": "code",
      "source": [
        "print(a[-1])"
      ],
      "metadata": {
        "id": "Z8khW9GZvzSo"
      },
      "execution_count": null,
      "outputs": []
    },
    {
      "cell_type": "markdown",
      "source": [
        "* 要素を変更することもできる。"
      ],
      "metadata": {
        "id": "ybtZ4hDzv0dn"
      }
    },
    {
      "cell_type": "code",
      "source": [
        "a[3] = 4.3\n",
        "print(a)"
      ],
      "metadata": {
        "id": "w3jSXRqBv0Du"
      },
      "execution_count": null,
      "outputs": []
    },
    {
      "cell_type": "markdown",
      "source": [
        "### リストのスライシング(slicing)"
      ],
      "metadata": {
        "id": "9-k8CN8Hv-a-"
      }
    },
    {
      "cell_type": "code",
      "source": [
        "a = [ 2.5, -8.0, 1.7, 4.4, -0.6 ]"
      ],
      "metadata": {
        "id": "GQjqC4zuv97N"
      },
      "execution_count": null,
      "outputs": []
    },
    {
      "cell_type": "code",
      "source": [
        "print(a[1:3])"
      ],
      "metadata": {
        "id": "KiJKzDAvwAe7"
      },
      "execution_count": null,
      "outputs": []
    },
    {
      "cell_type": "code",
      "source": [
        "print(a[2:])"
      ],
      "metadata": {
        "id": "HI1OiOOkwBJt"
      },
      "execution_count": null,
      "outputs": []
    },
    {
      "cell_type": "code",
      "source": [
        "print(a[:2])"
      ],
      "metadata": {
        "id": "r_0SwQOfwB6r"
      },
      "execution_count": null,
      "outputs": []
    },
    {
      "cell_type": "code",
      "source": [
        "print(a[0:5:2])"
      ],
      "metadata": {
        "id": "A9AVxkCdwCse"
      },
      "execution_count": null,
      "outputs": []
    },
    {
      "cell_type": "code",
      "source": [
        "print(a[::-1])"
      ],
      "metadata": {
        "id": "k-vJwLmUwDD3"
      },
      "execution_count": null,
      "outputs": []
    },
    {
      "cell_type": "markdown",
      "source": [
        "### リストのメソッド"
      ],
      "metadata": {
        "id": "YZ05hSRewIoY"
      }
    },
    {
      "cell_type": "code",
      "source": [
        "my_list = [ 2.5, -8.0, 1.7, 4.4, -0.6 ]"
      ],
      "metadata": {
        "id": "stI1WuIDwNTV"
      },
      "execution_count": null,
      "outputs": []
    },
    {
      "cell_type": "code",
      "source": [
        "my_list.append(-5.3)\n",
        "print(my_list)"
      ],
      "metadata": {
        "id": "oZ-2kzXKwOjr"
      },
      "execution_count": null,
      "outputs": []
    },
    {
      "cell_type": "code",
      "source": [
        "my_list.reverse()\n",
        "print(my_list)"
      ],
      "metadata": {
        "id": "PWK04yzbwS2h"
      },
      "execution_count": null,
      "outputs": []
    },
    {
      "cell_type": "code",
      "source": [
        "my_list.sort()\n",
        "print(my_list)"
      ],
      "metadata": {
        "id": "3cTbUw1RwUSw"
      },
      "execution_count": null,
      "outputs": []
    },
    {
      "cell_type": "markdown",
      "source": [
        "* 要素の存在確認"
      ],
      "metadata": {
        "id": "YcQGEk1rwdqs"
      }
    },
    {
      "cell_type": "code",
      "source": [
        "list1 = [ 2.5, -8.0, 1.7, 4.4, -0.6 ]\n",
        "print(2.5 in list1)\n",
        "print(1.1 in list1)"
      ],
      "metadata": {
        "id": "P63Y3iwRwZW8"
      },
      "execution_count": null,
      "outputs": []
    },
    {
      "cell_type": "markdown",
      "source": [
        "## タプル\n",
        "* リストと似ているが・・・\n",
        "* 要素を後から変更できない"
      ],
      "metadata": {
        "id": "OqQ6mEYSwgm7"
      }
    },
    {
      "cell_type": "code",
      "source": [
        "a = ( 2.5, -8.0, 1.7, 4.4, -0.6 )\n",
        "print(a)"
      ],
      "metadata": {
        "id": "N6HsCheOwgV4"
      },
      "execution_count": null,
      "outputs": []
    },
    {
      "cell_type": "code",
      "source": [
        "print(a[2])"
      ],
      "metadata": {
        "id": "EO0d5iQDwlFy"
      },
      "execution_count": null,
      "outputs": []
    },
    {
      "cell_type": "code",
      "source": [
        "print(len(a))"
      ],
      "metadata": {
        "id": "1cw1EPHkwlA8"
      },
      "execution_count": null,
      "outputs": []
    },
    {
      "cell_type": "code",
      "source": [
        "print(a[-1])"
      ],
      "metadata": {
        "id": "tAe18Q5awk8b"
      },
      "execution_count": null,
      "outputs": []
    },
    {
      "cell_type": "markdown",
      "source": [
        "* 後から中身を変更することはできない。"
      ],
      "metadata": {
        "id": "-RULwkdBzChk"
      }
    },
    {
      "cell_type": "code",
      "source": [
        "a[3] = 4.3 #エラーが出るはず"
      ],
      "metadata": {
        "id": "gsZyrv-1wk3t"
      },
      "execution_count": null,
      "outputs": []
    },
    {
      "cell_type": "markdown",
      "source": [
        "### タプルをリストに変換する"
      ],
      "metadata": {
        "id": "zs1ls4E6wvax"
      }
    },
    {
      "cell_type": "code",
      "source": [
        "b = list(a)"
      ],
      "metadata": {
        "id": "C_u498Sqwkwu"
      },
      "execution_count": null,
      "outputs": []
    },
    {
      "cell_type": "markdown",
      "source": [
        " * 変換すれば変更できる。"
      ],
      "metadata": {
        "id": "3zAfoP2szFPZ"
      }
    },
    {
      "cell_type": "code",
      "source": [
        "b[3] = 4.3\n",
        "print(b)"
      ],
      "metadata": {
        "id": "Ud6j9QBGwrZa"
      },
      "execution_count": null,
      "outputs": []
    },
    {
      "cell_type": "markdown",
      "source": [
        "## 辞書\n",
        "* キーと値のペアから成るデータ。\n",
        "  * ペアの順番は関係ない。\n"
      ],
      "metadata": {
        "id": "I5MC_3Fow0SD"
      }
    },
    {
      "cell_type": "code",
      "source": [
        "dic = {'one':1, 'three':3, 'nine':9, 'four':4}\n",
        "print(dic)"
      ],
      "metadata": {
        "id": "AbVEOdFFw9jB"
      },
      "execution_count": null,
      "outputs": []
    },
    {
      "cell_type": "code",
      "source": [
        "print(dic['three'])"
      ],
      "metadata": {
        "id": "88K5ZNi8w-KP"
      },
      "execution_count": null,
      "outputs": []
    },
    {
      "cell_type": "code",
      "source": [
        "print(dic['seven'])"
      ],
      "metadata": {
        "id": "OHSe7zhVxCNK"
      },
      "execution_count": null,
      "outputs": []
    },
    {
      "cell_type": "code",
      "source": [
        "dic['seven'] = 7\n",
        "print(dic['seven'])"
      ],
      "metadata": {
        "id": "H0-wT9cdw-F8"
      },
      "execution_count": null,
      "outputs": []
    },
    {
      "cell_type": "code",
      "source": [
        "print('nine' in dic)"
      ],
      "metadata": {
        "id": "7Z-UhXInxD55"
      },
      "execution_count": null,
      "outputs": []
    },
    {
      "cell_type": "code",
      "source": [
        "print('six' in dic)"
      ],
      "metadata": {
        "id": "_jHtVR0xw-B_"
      },
      "execution_count": null,
      "outputs": []
    },
    {
      "cell_type": "markdown",
      "source": [
        "### 辞書のメソッド"
      ],
      "metadata": {
        "id": "E_0bdXO3x3MT"
      }
    },
    {
      "cell_type": "code",
      "source": [
        "dic = {'one':1, 'three':3, 'nine':9, 'four':4}\n",
        "print(dic)"
      ],
      "metadata": {
        "id": "km8bw6Prxxua"
      },
      "execution_count": null,
      "outputs": []
    },
    {
      "cell_type": "code",
      "source": [
        "print(dic.keys())"
      ],
      "metadata": {
        "id": "jFl5UxXkxy7e"
      },
      "execution_count": null,
      "outputs": []
    },
    {
      "cell_type": "code",
      "source": [
        "print(dic.values())"
      ],
      "metadata": {
        "id": "WCGR-GWcx1hO"
      },
      "execution_count": null,
      "outputs": []
    },
    {
      "cell_type": "code",
      "source": [
        "print(dic.items())"
      ],
      "metadata": {
        "id": "mJaI51qVx2Ob"
      },
      "execution_count": null,
      "outputs": []
    },
    {
      "cell_type": "markdown",
      "source": [
        "## Pythonにおける処理の流れの制御\n",
        "* if文（既出。）\n",
        "* while文（既出。）\n",
        "* for文"
      ],
      "metadata": {
        "id": "oVbNYcbtyGis"
      }
    },
    {
      "cell_type": "markdown",
      "source": [
        "## リストを使ったfor文"
      ],
      "metadata": {
        "id": "f7ff_NFbyOix"
      }
    },
    {
      "cell_type": "code",
      "source": [
        "for elem in [ 3.0, -1.2, 6.9, 0.2, -5.3 ]:\n",
        "  print(elem)"
      ],
      "metadata": {
        "id": "dbMySuowyQIf"
      },
      "execution_count": null,
      "outputs": []
    },
    {
      "cell_type": "code",
      "source": [
        "my_list = []\n",
        "for elem in [ 3.0, -1.2, 6.9, 0.2, -5.3 ]:\n",
        "  my_list.append(elem)\n",
        "  print(\"    \", my_list)\n",
        "\n",
        "print(my_list)"
      ],
      "metadata": {
        "id": "0q3XOrovyQBh"
      },
      "execution_count": null,
      "outputs": []
    },
    {
      "cell_type": "markdown",
      "metadata": {
        "id": "BKC1aUbuiAvC"
      },
      "source": [
        "## range関数を使ったfor文"
      ]
    },
    {
      "cell_type": "code",
      "metadata": {
        "id": "ZePLcX9Sw1uZ"
      },
      "source": [
        "for i in range(6):\n",
        "  print(i)"
      ],
      "execution_count": null,
      "outputs": []
    },
    {
      "cell_type": "code",
      "metadata": {
        "id": "7lsv6XDww5kE"
      },
      "source": [
        "x = 10\n",
        "for i in range(x):\n",
        "  print(i)"
      ],
      "execution_count": null,
      "outputs": []
    },
    {
      "cell_type": "code",
      "metadata": {
        "id": "SRAwafrow7M0"
      },
      "source": [
        "for i in range(3, 80, 23):\n",
        "  print(i)"
      ],
      "execution_count": null,
      "outputs": []
    },
    {
      "cell_type": "code",
      "source": [
        "for i in range(10):\n",
        "  if i > 5:\n",
        "    break\n",
        "  else:\n",
        "    print(i)"
      ],
      "metadata": {
        "id": "Rz6ulVxczYpQ"
      },
      "execution_count": null,
      "outputs": []
    },
    {
      "cell_type": "code",
      "metadata": {
        "id": "z34yEWFFw8fD"
      },
      "source": [
        "s = 0\n",
        "for i in range(1, 101):\n",
        "  s += i\n",
        "print(s)"
      ],
      "execution_count": null,
      "outputs": []
    },
    {
      "cell_type": "markdown",
      "source": [
        "## for文と辞書\n",
        "* キーをひとつずつ拾っていく"
      ],
      "metadata": {
        "id": "PkQy78KIzegc"
      }
    },
    {
      "cell_type": "code",
      "source": [
        "dic = {'one':1, 'three':3, 'nine':9, 'four':4}\n",
        "for key in dic:\n",
        "  print(key, dic[key])"
      ],
      "metadata": {
        "id": "dl52wD6czgIs"
      },
      "execution_count": null,
      "outputs": []
    },
    {
      "cell_type": "markdown",
      "metadata": {
        "id": "EiQ-lHpniPLP"
      },
      "source": [
        "## 関数\n",
        "* 一連の処理を一つにまとめて関数として定義する。\n",
        "* あとはその関数を呼び出すだけで、その一連の処理をまとめて実行できる。\n",
        "  * 同じコードを何回も書かなくて済むようになる。\n",
        "* 多くの関数は、値を返す。\n",
        "  * 処理結果を返さない関数もある。"
      ]
    },
    {
      "cell_type": "markdown",
      "source": [
        "* 例1: 与えられた値を自乗する関数\n",
        "  * この関数の`x`のことを引数(argument)という。"
      ],
      "metadata": {
        "id": "89LY2xv10Dt2"
      }
    },
    {
      "cell_type": "code",
      "source": [
        "def square(x):\n",
        "  return x * x"
      ],
      "metadata": {
        "id": "fDnZSP6Iz60B"
      },
      "execution_count": null,
      "outputs": []
    },
    {
      "cell_type": "code",
      "source": [
        "y = square(3.0)\n",
        "print(y)"
      ],
      "metadata": {
        "id": "OgVFReYoz8Ci"
      },
      "execution_count": null,
      "outputs": []
    },
    {
      "cell_type": "markdown",
      "source": [
        "* 例2: 与えられた二つの値のうち大きい方を返す関数\n",
        "  * 引数は二つ以上あってもよい。"
      ],
      "metadata": {
        "id": "4oEVRSP-0HgR"
      }
    },
    {
      "cell_type": "code",
      "metadata": {
        "id": "k6ss_752xDzJ"
      },
      "source": [
        "def maxValue(x, y):\n",
        "  if x > y:\n",
        "    return x\n",
        "  else:\n",
        "    return y"
      ],
      "execution_count": 1,
      "outputs": []
    },
    {
      "cell_type": "code",
      "metadata": {
        "id": "9jvrnoU0xF7b",
        "colab": {
          "base_uri": "https://localhost:8080/"
        },
        "outputId": "891dcbf2-9366-443b-9cb4-bbacb3e8bcc2"
      },
      "source": [
        "print(maxValue(8, 3))"
      ],
      "execution_count": 2,
      "outputs": [
        {
          "output_type": "stream",
          "name": "stdout",
          "text": [
            "8\n"
          ]
        }
      ]
    },
    {
      "cell_type": "markdown",
      "source": [
        "## 関数の引数のデフォルト値\n",
        "* 一部の引数については、値を指定しないとき、既定の値が使われるようにしたいことがある。"
      ],
      "metadata": {
        "id": "nCGzw9E00Tm3"
      }
    },
    {
      "cell_type": "code",
      "metadata": {
        "id": "H62HhnAVxOva"
      },
      "source": [
        "def printName(firstName, lastName, reverse):\n",
        "  if reverse:\n",
        "    print(lastName + ', ' + firstName)\n",
        "  else:\n",
        "    print(firstName + ' ' + lastName)"
      ],
      "execution_count": null,
      "outputs": []
    },
    {
      "cell_type": "code",
      "metadata": {
        "id": "ZmDIX2tYxQ1L"
      },
      "source": [
        "printName('Taro', 'Yamada', True)"
      ],
      "execution_count": null,
      "outputs": []
    },
    {
      "cell_type": "markdown",
      "source": [
        "* 次のセルはエラーが出る。\n",
        "  * 最後の引数の値を指定し忘れているため。"
      ],
      "metadata": {
        "id": "6kod8KDT0anP"
      }
    },
    {
      "cell_type": "code",
      "metadata": {
        "id": "j5pheTLCxTiK"
      },
      "source": [
        "printName('Taro', 'Yamada')"
      ],
      "execution_count": null,
      "outputs": []
    },
    {
      "cell_type": "markdown",
      "metadata": {
        "id": "M6L1IqaFidhy"
      },
      "source": [
        "### 引数のデフォルト値\n",
        "* 3番目の引数について、既定値（デフォルトの値）を設定する。"
      ]
    },
    {
      "cell_type": "code",
      "metadata": {
        "id": "2JCvKlyPxW7a"
      },
      "source": [
        "def printName(firstName, lastName, reverse=False):\n",
        "  if reverse:\n",
        "    print(lastName + ', ' + firstName)\n",
        "  else:\n",
        "    print(firstName + ' ' + lastName)"
      ],
      "execution_count": null,
      "outputs": []
    },
    {
      "cell_type": "markdown",
      "source": [
        "* こうすると、値を指定しなくてもエラーにならず、既定値が使われる。"
      ],
      "metadata": {
        "id": "nkojzHzf1eLE"
      }
    },
    {
      "cell_type": "code",
      "metadata": {
        "id": "YNffn7VSxd76"
      },
      "source": [
        "printName('Taro', 'Yamada')"
      ],
      "execution_count": null,
      "outputs": []
    },
    {
      "cell_type": "markdown",
      "metadata": {
        "id": "P879qVkjigtO"
      },
      "source": [
        "## スコープ\n",
        "* 関数の中だけに現れる変数は、その関数の中だけで通用する。"
      ]
    },
    {
      "cell_type": "code",
      "metadata": {
        "id": "y2Ydh-HOxfR6"
      },
      "source": [
        "def func(x):\n",
        "  y = 1 # このyは関数funcの中だけで通用する。\n",
        "  print('y =', y)\n",
        "  return"
      ],
      "execution_count": 10,
      "outputs": []
    },
    {
      "cell_type": "code",
      "source": [
        "y = 2\n",
        "func(3)"
      ],
      "metadata": {
        "colab": {
          "base_uri": "https://localhost:8080/"
        },
        "id": "jyMXMxEP1kXZ",
        "outputId": "b9245231-6d97-426d-f585-ddfa8e8fc3ca"
      },
      "execution_count": 11,
      "outputs": [
        {
          "output_type": "stream",
          "name": "stdout",
          "text": [
            "y = 1\n"
          ]
        }
      ]
    },
    {
      "cell_type": "code",
      "source": [
        "print(y)"
      ],
      "metadata": {
        "colab": {
          "base_uri": "https://localhost:8080/"
        },
        "id": "MHNutfdq17jI",
        "outputId": "43f74371-38e3-4397-e4f7-6288f09c63b2"
      },
      "execution_count": 12,
      "outputs": [
        {
          "output_type": "stream",
          "name": "stdout",
          "text": [
            "2\n"
          ]
        }
      ]
    },
    {
      "cell_type": "markdown",
      "source": [
        "## 課題3\n",
        "* まず、与えられた数が偶数であればbool型のTrueを、奇数であればbool型のFalseを返す関数`is_even`を定義しよう。\n",
        "  * 文字列の\"True\"や\"False\"を返すのではなく、bool型のTrueやFalseを返す関数を書くこと。\n",
        "* そして、この関数`is_even`を使って、1から1000までの範囲にある偶数の和を求めよう。"
      ],
      "metadata": {
        "id": "jZfbWdbX2n2G"
      }
    },
    {
      "cell_type": "code",
      "source": [
        "def is_even(a):\n",
        "  # ここに自分で書く\n",
        "\n",
        "\n",
        "# ここに、関数is_evenを使ったコードを自分で書く"
      ],
      "metadata": {
        "id": "ns1bZ1dl243D"
      },
      "execution_count": null,
      "outputs": []
    }
  ]
}