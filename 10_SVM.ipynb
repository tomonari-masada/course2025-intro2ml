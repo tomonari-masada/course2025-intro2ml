{
  "nbformat": 4,
  "nbformat_minor": 0,
  "metadata": {
    "colab": {
      "provenance": [],
      "authorship_tag": "ABX9TyNt74SeYNUK5wen5fR4N+h7",
      "include_colab_link": true
    },
    "kernelspec": {
      "name": "python3",
      "display_name": "Python 3"
    },
    "language_info": {
      "name": "python"
    }
  },
  "cells": [
    {
      "cell_type": "markdown",
      "metadata": {
        "id": "view-in-github",
        "colab_type": "text"
      },
      "source": [
        "<a href=\"https://colab.research.google.com/github/tomonari-masada/course2025-intro2ml/blob/main/10_SVM.ipynb\" target=\"_parent\"><img src=\"https://colab.research.google.com/assets/colab-badge.svg\" alt=\"Open In Colab\"/></a>"
      ]
    },
    {
      "cell_type": "markdown",
      "metadata": {
        "id": "Gan0WLEv-ZGC"
      },
      "source": [
        "# パーセプトロンとSVM"
      ]
    },
    {
      "cell_type": "code",
      "metadata": {
        "id": "JIcOWnYu-YMX"
      },
      "source": [
        "import numpy as np\n",
        "import matplotlib.pyplot as plt\n",
        "from sklearn.model_selection import train_test_split\n",
        "from sklearn.datasets import fetch_openml\n",
        "from sklearn.linear_model import Perceptron\n",
        "from sklearn.svm import LinearSVC\n",
        "from sklearn.linear_model import SGDClassifier\n",
        "\n",
        "%config InlineBackend.figure_format = 'retina'"
      ],
      "execution_count": null,
      "outputs": []
    },
    {
      "cell_type": "markdown",
      "metadata": {
        "id": "jW09_g8mBZAc"
      },
      "source": [
        "## MNISTデータを使う"
      ]
    },
    {
      "cell_type": "markdown",
      "metadata": {
        "id": "qalamp07dMpR"
      },
      "source": [
        "* 関数`sklearn.datasets.fetch_openml`を利用してMNISTデータをダウンロードする。"
      ]
    },
    {
      "cell_type": "code",
      "metadata": {
        "id": "k5T4xL1tBWoV"
      },
      "source": [
        "mnist = fetch_openml('mnist_784')"
      ],
      "execution_count": null,
      "outputs": []
    },
    {
      "cell_type": "code",
      "source": [
        "X, y = mnist.data, mnist.target"
      ],
      "metadata": {
        "id": "wmEzfk5GPbvB"
      },
      "execution_count": null,
      "outputs": []
    },
    {
      "cell_type": "code",
      "source": [
        "print(X.shape, y.shape)"
      ],
      "metadata": {
        "id": "vvtYvJR6Pck5"
      },
      "execution_count": null,
      "outputs": []
    },
    {
      "cell_type": "markdown",
      "metadata": {
        "id": "7ActyQkLdS4d"
      },
      "source": [
        "* 通常、MNISTデータは最後の10000件をテストデータとして使う。"
      ]
    },
    {
      "cell_type": "code",
      "metadata": {
        "id": "xAcCKb0_Bgud"
      },
      "source": [
        "X_train, X_test = X[:60000], X[60000:]\n",
        "y_train, y_test = y[:60000], y[60000:]"
      ],
      "execution_count": null,
      "outputs": []
    },
    {
      "cell_type": "markdown",
      "source": [
        "* テストデータ以外の60000件を、訓練データ50000件と検証データ10000件へ分割しておく。"
      ],
      "metadata": {
        "id": "8Hr6JrAI1Tf2"
      }
    },
    {
      "cell_type": "code",
      "source": [
        "X_train, X_val, y_train, y_val = train_test_split(\n",
        "    X_train, y_train,\n",
        "    test_size=10000,\n",
        "    random_state=42,\n",
        ")"
      ],
      "metadata": {
        "id": "_47X4gyI1SgT"
      },
      "execution_count": null,
      "outputs": []
    },
    {
      "cell_type": "code",
      "source": [
        "print(X_train.shape, X_val.shape, X_test.shape)"
      ],
      "metadata": {
        "id": "zGtWqqtT1Yyf"
      },
      "execution_count": null,
      "outputs": []
    },
    {
      "cell_type": "markdown",
      "metadata": {
        "id": "QecEjxyMdXQe"
      },
      "source": [
        "* 訓練データの最初の100個を可視化してみる。"
      ]
    },
    {
      "cell_type": "code",
      "metadata": {
        "id": "zacmZ9O3BjVW"
      },
      "source": [
        "fig, axes = plt.subplots(10, 10)\n",
        "for x, ax in zip(X_train.values, axes.ravel()):\n",
        "  ax.axis('off') # 軸を消す\n",
        "  ax.matshow(x.reshape(28, 28), cmap=plt.cm.gray)\n",
        "plt.show()"
      ],
      "execution_count": null,
      "outputs": []
    },
    {
      "cell_type": "markdown",
      "metadata": {
        "id": "F3sU13WRB6F3"
      },
      "source": [
        "* 問題を2値分類問題に変える。\n",
        "  * 0とそれ以外の2値分類問題にしてしまう。"
      ]
    },
    {
      "cell_type": "markdown",
      "source": [
        "* その前に、元の正解ラベルをコピーしておく。"
      ],
      "metadata": {
        "id": "dWh3LoPqnHHt"
      }
    },
    {
      "cell_type": "code",
      "source": [
        "y_train_original = y_train.copy()\n",
        "y_val_original = y_val.copy()\n",
        "y_test_original = y_test.copy()"
      ],
      "metadata": {
        "id": "Ji4dr2jenDsI"
      },
      "execution_count": null,
      "outputs": []
    },
    {
      "cell_type": "code",
      "metadata": {
        "id": "Znn2YGyvBw4W"
      },
      "source": [
        "y_train = (y_train != '0') * 1\n",
        "y_val = (y_val != '0') * 1\n",
        "y_test = (y_test != '0') * 1"
      ],
      "execution_count": null,
      "outputs": []
    },
    {
      "cell_type": "code",
      "metadata": {
        "id": "onJS3wEufkyr"
      },
      "source": [
        "print(f'{(y_train == 0).sum()} zero digits and {(y_train == 1).sum()} non-zero digits in training set')"
      ],
      "execution_count": null,
      "outputs": []
    },
    {
      "cell_type": "markdown",
      "metadata": {
        "id": "XOQeYKAdn85i"
      },
      "source": [
        "## パーセプトロンによる分類の実行\n",
        "* `sklearn.linear_model.Perceptron`クラスを使う。"
      ]
    },
    {
      "cell_type": "markdown",
      "metadata": {
        "id": "v5xixjXvoMdK"
      },
      "source": [
        "## パーセプトロンでの正則化\n",
        "* scikit-learnのパーセプトロンでは、`alpha`というパラメータを調整する。\n",
        "  * リッジ回帰やLassoの`alpha`と同じ。大きいほど正則化が強く効く。\n",
        "* 正則化の種類は`penalty`を`'l2'`か`'l1'`に設定することでおこなう。\n",
        "  * `l2`だと、係数の二乗の和を最小化する。\n",
        "  * `l1`だと、係数の絶対値の和を最小化する。"
      ]
    },
    {
      "cell_type": "code",
      "metadata": {
        "id": "Zk_p8Cp-oDzA"
      },
      "source": [
        "clf = Perceptron()\n",
        "clf.fit(X_train, y_train)"
      ],
      "execution_count": null,
      "outputs": []
    },
    {
      "cell_type": "code",
      "metadata": {
        "id": "5OvA1L_gpw3g"
      },
      "source": [
        "print(f'Accuracy: {clf.score(X_val, y_val):.4f}')"
      ],
      "execution_count": null,
      "outputs": []
    },
    {
      "cell_type": "markdown",
      "metadata": {
        "id": "BwClOs7ZduMt"
      },
      "source": [
        "## SVMによる分類の実行\n",
        "* ここでは、`LinearSVC`クラスを使う。\n",
        "  * `SVC`クラスを使ってもよい。\n",
        "  * `SVC`クラスを使うと、カーネルを指定できる。\n",
        "* 分類器を準備し、訓練データを渡して係数と切片を推定させる。\n",
        "  * 訓練データの個数が多いので、少し時間がかかる。\n",
        "  * 推定計算が収束しない場合は、`max_iter`を増やしてみる。"
      ]
    },
    {
      "cell_type": "markdown",
      "metadata": {
        "id": "n8X4NBHhb8Zq"
      },
      "source": [
        "## SVMでの正則化\n",
        "* scikit-learnの`LinearSVC`では、`C`というパラメータを調整する。\n",
        "  * https://scikit-learn.org/stable/modules/generated/sklearn.svm.LinearSVC.html\n",
        "* `C`は、小さいほど、正則化が強く効く＝係数をより強くゼロに近づける。\n",
        "  * デフォルトの設定は`C=1.0`。\n",
        "  * リッジ回帰やLassoの`alpha`とは、向きが逆であることに、注意。"
      ]
    },
    {
      "cell_type": "code",
      "metadata": {
        "id": "eANdkjTaB5gF"
      },
      "source": [
        "clf = LinearSVC()\n",
        "clf.fit(X_train, y_train) # Google Colabでも1分以内には終わる。"
      ],
      "execution_count": null,
      "outputs": []
    },
    {
      "cell_type": "code",
      "metadata": {
        "id": "qywf9D3xCAgM"
      },
      "source": [
        "print(f'Accuracy: {clf.score(X_val, y_val):.4f}')"
      ],
      "execution_count": null,
      "outputs": []
    },
    {
      "cell_type": "markdown",
      "metadata": {
        "id": "kITRwRt2kX7f"
      },
      "source": [
        "* 推定された係数を可視化してみる。\n",
        " * 0とそれ以外を分類するとき、どのピクセルが有効かが見えるかも。"
      ]
    },
    {
      "cell_type": "code",
      "metadata": {
        "id": "yEvBK8yUkXLO"
      },
      "source": [
        "plt.imshow(clf.coef_.reshape(28,28), cmap=plt.cm.gray);"
      ],
      "execution_count": null,
      "outputs": []
    },
    {
      "cell_type": "markdown",
      "source": [
        "* パラメータ`C`の値を変えつつ試行錯誤する。"
      ],
      "metadata": {
        "id": "b-KTC_oGoEcu"
      }
    },
    {
      "cell_type": "code",
      "source": [
        "clf = LinearSVC(C=0.1)\n",
        "clf.fit(X_train, y_train)\n",
        "print(f'Accuracy: {clf.score(X_val, y_val):.4f}')"
      ],
      "metadata": {
        "id": "_5ioXTjKoC24"
      },
      "execution_count": null,
      "outputs": []
    },
    {
      "cell_type": "markdown",
      "metadata": {
        "id": "Wa2ury-amZ7U"
      },
      "source": [
        "## 見つけ出した最善の設定を使ってテストデータ上で評価\n"
      ]
    },
    {
      "cell_type": "code",
      "source": [
        "X_train_val = np.concat((X_train, X_val))\n",
        "y_train_val = np.concat((y_train, y_val))"
      ],
      "metadata": {
        "id": "HubJT3UO-M5y"
      },
      "execution_count": null,
      "outputs": []
    },
    {
      "cell_type": "code",
      "metadata": {
        "id": "xKJT7Fe0kZy3"
      },
      "source": [
        "clf = LinearSVC()\n",
        "clf.fit(X_train_val, y_train_val)\n",
        "print(f'Accuracy: {clf.score(X_test, y_test):.4f}')"
      ],
      "execution_count": null,
      "outputs": []
    },
    {
      "cell_type": "markdown",
      "source": [
        "## Stochastic Gradient Descent (SGD) を使う方法"
      ],
      "metadata": {
        "id": "_xXGySQjcTwG"
      }
    },
    {
      "cell_type": "markdown",
      "source": [
        "* 実は、ロジスティック回帰モデルやSVMの学習を、より効率よく行う方法がある。\n",
        "* それは、sklearn.linear_model.SGDClassifierを使う方法である。"
      ],
      "metadata": {
        "id": "9iHO31YIcc1I"
      }
    },
    {
      "cell_type": "markdown",
      "source": [
        "### ロジスティック回帰の学習と同等の学習\n",
        "* `SGDClassifier`を`loss=\"log_loss\"`という設定で使う。"
      ],
      "metadata": {
        "id": "vV6aJ3NncoQr"
      }
    },
    {
      "cell_type": "code",
      "source": [
        "clf = SGDClassifier(loss=\"log_loss\")\n",
        "clf.fit(X_train, y_train)\n",
        "print(f'Accuracy: {clf.score(X_val, y_val):.4f}')"
      ],
      "metadata": {
        "id": "wLrZKjwactjz"
      },
      "execution_count": null,
      "outputs": []
    },
    {
      "cell_type": "markdown",
      "source": [
        "* 正則化の併用\n",
        "  * `penalty`は`\"l1\"`に設定しても`\"l2\"`に設定しても、どちらでも良い。"
      ],
      "metadata": {
        "id": "b7402jVrdGzd"
      }
    },
    {
      "cell_type": "code",
      "source": [
        "clf = SGDClassifier(loss=\"log_loss\", penalty=\"l2\", alpha=0.01)\n",
        "clf.fit(X_train, y_train)\n",
        "print(f'Accuracy: {clf.score(X_val, y_val):.4f}')"
      ],
      "metadata": {
        "id": "zBgx2r3rdQwh"
      },
      "execution_count": null,
      "outputs": []
    },
    {
      "cell_type": "markdown",
      "source": [
        "### SVMの学習と同等の学習\n",
        "* `SGDClassifier`を`loss=\"hinge\"`かつ`penalty=\"l2\"`という設定で使う。\n",
        "  * `penalty=\"l2\"`以外の設定だと、SVMと同等にならない。"
      ],
      "metadata": {
        "id": "IdoSWY_wd0p-"
      }
    },
    {
      "cell_type": "code",
      "source": [
        "clf = SGDClassifier(loss=\"hinge\", penalty=\"l2\")\n",
        "clf.fit(X_train, y_train)\n",
        "print(f'Accuracy: {clf.score(X_val, y_val):.4f}')"
      ],
      "metadata": {
        "id": "Iob1TkeZd5lc"
      },
      "execution_count": null,
      "outputs": []
    },
    {
      "cell_type": "markdown",
      "source": [
        "* 正則化の併用"
      ],
      "metadata": {
        "id": "fEdo_4Ewe46h"
      }
    },
    {
      "cell_type": "code",
      "source": [
        "clf = SGDClassifier(loss=\"hinge\", penalty=\"l2\", alpha=0.01)\n",
        "clf.fit(X_train, y_train)\n",
        "print(f'Accuracy: {clf.score(X_val, y_val):.4f}')"
      ],
      "metadata": {
        "id": "Fz7FPV--e6Wp"
      },
      "execution_count": null,
      "outputs": []
    },
    {
      "cell_type": "markdown",
      "source": [
        "# 課題20250714\n",
        "* 分類モデルとして`LinearSVC`を使ったとき・・・\n",
        "* 検証データでの正解率が良くなるように、パラメータ`C`の値をチューニングしよう。\n",
        "* その`C`の値を使って、テストデータでの正解率を求めよう。"
      ],
      "metadata": {
        "id": "BioiQ-NJyfnr"
      }
    },
    {
      "cell_type": "code",
      "metadata": {
        "id": "mdC8f7BupXdS"
      },
      "source": [],
      "execution_count": null,
      "outputs": []
    },
    {
      "cell_type": "markdown",
      "source": [
        "\n",
        "\n",
        "---\n",
        "\n"
      ],
      "metadata": {
        "id": "fIbJu7TQtcVG"
      }
    },
    {
      "cell_type": "markdown",
      "source": [
        "# SVMによる多値分類\n",
        "* 元の10値分類、つまり「0」〜「9」の10種類のカテゴリへの分類は・・・\n",
        "* 実は、元のデータをそのまま使うだけで実現できる。"
      ],
      "metadata": {
        "id": "GBb_wEC0ofq7"
      }
    },
    {
      "cell_type": "code",
      "source": [
        "clf = SGDClassifier(loss=\"hinge\", penalty=\"l2\")\n",
        "clf.fit(X_train, y_train_original) # Google Colabでは3分弱かかります。\n",
        "print(f'Accuracy: {clf.score(X_val, y_val_original):.4f}')"
      ],
      "metadata": {
        "id": "2d_xMgYzoqTP"
      },
      "execution_count": null,
      "outputs": []
    }
  ]
}