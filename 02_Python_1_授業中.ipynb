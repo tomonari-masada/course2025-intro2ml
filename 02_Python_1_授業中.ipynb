{
  "nbformat": 4,
  "nbformat_minor": 0,
  "metadata": {
    "colab": {
      "provenance": [],
      "authorship_tag": "ABX9TyP+9+udDib1/bvY+t6jMIEj",
      "include_colab_link": true
    },
    "kernelspec": {
      "name": "python3",
      "display_name": "Python 3"
    },
    "language_info": {
      "name": "python"
    }
  },
  "cells": [
    {
      "cell_type": "markdown",
      "metadata": {
        "id": "view-in-github",
        "colab_type": "text"
      },
      "source": [
        "<a href=\"https://colab.research.google.com/github/tomonari-masada/course2025-intro2ml/blob/main/02_Python_1_%E6%8E%88%E6%A5%AD%E4%B8%AD.ipynb\" target=\"_parent\"><img src=\"https://colab.research.google.com/assets/colab-badge.svg\" alt=\"Open In Colab\"/></a>"
      ]
    },
    {
      "cell_type": "markdown",
      "metadata": {
        "id": "CKNt-nJvwMUk"
      },
      "source": [
        "# Python入門 (1)\n",
        "* ChatGPTがあるのでPythonを勉強する必要はない、というのはとんでもない勘違い。\n",
        "  * ChatGPTで作ったコードが間違っていたとき、誰が修正するんですか？"
      ]
    },
    {
      "cell_type": "markdown",
      "source": [
        "メモ"
      ],
      "metadata": {
        "id": "_LQkp5RPfkb5"
      }
    },
    {
      "cell_type": "markdown",
      "metadata": {
        "id": "gX7PqQlxeR0I"
      },
      "source": [
        "## Google Colabでコードを実行する"
      ]
    },
    {
      "cell_type": "markdown",
      "source": [
        "### 変数への値の設定"
      ],
      "metadata": {
        "id": "BOLNtEtL4BNC"
      }
    },
    {
      "cell_type": "code",
      "source": [
        "a = 3.1"
      ],
      "metadata": {
        "id": "v01NqwtPqESY"
      },
      "execution_count": 1,
      "outputs": []
    },
    {
      "cell_type": "markdown",
      "source": [
        "### 変数の内容の確認"
      ],
      "metadata": {
        "id": "HZyCF-Gx4Cp7"
      }
    },
    {
      "cell_type": "code",
      "source": [
        "a"
      ],
      "metadata": {
        "id": "fMk4iC0iqFPy",
        "colab": {
          "base_uri": "https://localhost:8080/"
        },
        "outputId": "67af190b-0e92-4056-870f-46a9ea946547"
      },
      "execution_count": null,
      "outputs": [
        {
          "output_type": "execute_result",
          "data": {
            "text/plain": [
              "3.1"
            ]
          },
          "metadata": {},
          "execution_count": 10
        }
      ]
    },
    {
      "cell_type": "markdown",
      "source": [
        "### コメント\n",
        "* ハッシュ記号（`#`）以下の文字列はコードの実行に無関係\n",
        "  * コードの説明などを書いておくとよい。\n"
      ],
      "metadata": {
        "id": "ZzxiUShd4PcG"
      }
    },
    {
      "cell_type": "code",
      "source": [
        "a #コメント"
      ],
      "metadata": {
        "id": "MkZ1hE_94OYl",
        "colab": {
          "base_uri": "https://localhost:8080/"
        },
        "outputId": "78945c10-cde4-418e-bd38-ed271da2b468"
      },
      "execution_count": null,
      "outputs": [
        {
          "output_type": "execute_result",
          "data": {
            "text/plain": [
              "3.1"
            ]
          },
          "metadata": {},
          "execution_count": 11
        }
      ]
    },
    {
      "cell_type": "markdown",
      "source": [
        "### 簡単な計算"
      ],
      "metadata": {
        "id": "EMkXcLpz-XGY"
      }
    },
    {
      "cell_type": "code",
      "source": [
        "1 + 3"
      ],
      "metadata": {
        "colab": {
          "base_uri": "https://localhost:8080/"
        },
        "id": "FrH5RzQ6ifnA",
        "outputId": "afe0b06c-784d-4516-d513-c8b9e0c73843"
      },
      "execution_count": null,
      "outputs": [
        {
          "output_type": "execute_result",
          "data": {
            "text/plain": [
              "4"
            ]
          },
          "metadata": {},
          "execution_count": 12
        }
      ]
    },
    {
      "cell_type": "code",
      "source": [
        "4.8 / 1.2"
      ],
      "metadata": {
        "colab": {
          "base_uri": "https://localhost:8080/"
        },
        "id": "E5MAv0ckii1t",
        "outputId": "661ab33f-3e14-47e6-a011-c03929c7880c"
      },
      "execution_count": null,
      "outputs": [
        {
          "output_type": "execute_result",
          "data": {
            "text/plain": [
              "4.0"
            ]
          },
          "metadata": {},
          "execution_count": 13
        }
      ]
    },
    {
      "cell_type": "code",
      "source": [
        "b = 2.4"
      ],
      "metadata": {
        "id": "YCQsNkafqF0q"
      },
      "execution_count": null,
      "outputs": []
    },
    {
      "cell_type": "code",
      "source": [
        "b"
      ],
      "metadata": {
        "id": "RtwjjnokqGq9",
        "colab": {
          "base_uri": "https://localhost:8080/"
        },
        "outputId": "83766f59-3267-4f16-ae5c-5ef4bfdef9b4"
      },
      "execution_count": null,
      "outputs": [
        {
          "output_type": "execute_result",
          "data": {
            "text/plain": [
              "2.4"
            ]
          },
          "metadata": {},
          "execution_count": 15
        }
      ]
    },
    {
      "cell_type": "code",
      "metadata": {
        "id": "fluONlNcuvDf",
        "colab": {
          "base_uri": "https://localhost:8080/"
        },
        "outputId": "99ddc08f-d7ef-4e1d-f41a-b695748d34e5"
      },
      "source": [
        "a + b"
      ],
      "execution_count": null,
      "outputs": [
        {
          "output_type": "execute_result",
          "data": {
            "text/plain": [
              "5.5"
            ]
          },
          "metadata": {},
          "execution_count": 16
        }
      ]
    },
    {
      "cell_type": "code",
      "source": [
        "c = a + b"
      ],
      "metadata": {
        "id": "g8FdJrDsqPgX"
      },
      "execution_count": null,
      "outputs": []
    },
    {
      "cell_type": "code",
      "source": [
        "c"
      ],
      "metadata": {
        "id": "v_RF4WMcqQ14",
        "colab": {
          "base_uri": "https://localhost:8080/"
        },
        "outputId": "979b1150-7ae3-4259-9ce0-4ad7c5a5226d"
      },
      "execution_count": null,
      "outputs": [
        {
          "output_type": "execute_result",
          "data": {
            "text/plain": [
              "5.5"
            ]
          },
          "metadata": {},
          "execution_count": 18
        }
      ]
    },
    {
      "cell_type": "markdown",
      "source": [
        "### 計算結果を元の変数に上書きする計算\n",
        "* in-place演算という。"
      ],
      "metadata": {
        "id": "8gejFegh3uxK"
      }
    },
    {
      "cell_type": "code",
      "source": [
        "c = 5\n",
        "c += 1"
      ],
      "metadata": {
        "id": "yiAw6ATC3p3X"
      },
      "execution_count": null,
      "outputs": []
    },
    {
      "cell_type": "code",
      "source": [
        "c"
      ],
      "metadata": {
        "id": "-pNV0hes3sSZ",
        "colab": {
          "base_uri": "https://localhost:8080/"
        },
        "outputId": "c6dc2211-4b5c-4e9c-c386-0ff4dd2b22a7"
      },
      "execution_count": null,
      "outputs": [
        {
          "output_type": "execute_result",
          "data": {
            "text/plain": [
              "6"
            ]
          },
          "metadata": {},
          "execution_count": 20
        }
      ]
    },
    {
      "cell_type": "code",
      "source": [
        "c -= 2"
      ],
      "metadata": {
        "id": "3FMdJhgUjX82"
      },
      "execution_count": null,
      "outputs": []
    },
    {
      "cell_type": "code",
      "source": [
        "c"
      ],
      "metadata": {
        "colab": {
          "base_uri": "https://localhost:8080/"
        },
        "id": "DZCeiBuVjZ94",
        "outputId": "8cb0a61c-aa67-4fd0-b30e-42f71f712045"
      },
      "execution_count": null,
      "outputs": [
        {
          "output_type": "execute_result",
          "data": {
            "text/plain": [
              "4"
            ]
          },
          "metadata": {},
          "execution_count": 22
        }
      ]
    },
    {
      "cell_type": "markdown",
      "metadata": {
        "id": "iqSn5bSyeTg5"
      },
      "source": [
        "## print関数"
      ]
    },
    {
      "cell_type": "markdown",
      "source": [
        "* 画面にさまざまな情報を表示させるときに使う。"
      ],
      "metadata": {
        "id": "Leajm4Rh-dC1"
      }
    },
    {
      "cell_type": "markdown",
      "source": [
        "文字列の表示"
      ],
      "metadata": {
        "id": "nEhV1CY1k3bp"
      }
    },
    {
      "cell_type": "code",
      "metadata": {
        "id": "SLIgWKqwux4K",
        "colab": {
          "base_uri": "https://localhost:8080/"
        },
        "outputId": "8021e85a-fcb8-4e17-d170-f110f25d07a6"
      },
      "source": [
        "print(\"Hello!\")"
      ],
      "execution_count": 2,
      "outputs": [
        {
          "output_type": "stream",
          "name": "stdout",
          "text": [
            "Hello!\n"
          ]
        }
      ]
    },
    {
      "cell_type": "code",
      "source": [],
      "metadata": {
        "id": "voghDkcfe3ti"
      },
      "execution_count": null,
      "outputs": []
    },
    {
      "cell_type": "code",
      "source": [
        "print('World!')"
      ],
      "metadata": {
        "id": "y8H_jFHMqB-w",
        "colab": {
          "base_uri": "https://localhost:8080/"
        },
        "outputId": "29d5e605-e99b-42c2-f299-f72c4704636f"
      },
      "execution_count": null,
      "outputs": [
        {
          "output_type": "stream",
          "name": "stdout",
          "text": [
            "World!\n"
          ]
        }
      ]
    },
    {
      "cell_type": "code",
      "source": [
        "print(a)"
      ],
      "metadata": {
        "colab": {
          "base_uri": "https://localhost:8080/"
        },
        "id": "Bs_1rnNVkA71",
        "outputId": "4af64dae-26e0-4c8e-9ec8-680e66ee0dcf"
      },
      "execution_count": null,
      "outputs": [
        {
          "output_type": "stream",
          "name": "stdout",
          "text": [
            "3.1\n"
          ]
        }
      ]
    },
    {
      "cell_type": "markdown",
      "source": [
        "* コンマを使うと、たくさんのものを同時に表示させることができる。\n",
        "  * あいだに空白文字が一つ入る。"
      ],
      "metadata": {
        "id": "IzwKgz3H4b-8"
      }
    },
    {
      "cell_type": "code",
      "source": [
        "b = 1\n",
        "c = 1.2\n",
        "print('Hello', \"world!\", a, b, c)"
      ],
      "metadata": {
        "id": "JnVENRvpqC21",
        "colab": {
          "base_uri": "https://localhost:8080/"
        },
        "outputId": "2e0dea4b-4325-4c1b-c125-88dc54c6a87a"
      },
      "execution_count": 4,
      "outputs": [
        {
          "output_type": "stream",
          "name": "stdout",
          "text": [
            "Hello world! 3.1 1 1.2\n"
          ]
        }
      ]
    },
    {
      "cell_type": "markdown",
      "source": [
        "* print関数に変数を与えると、変数の内容が表示される。"
      ],
      "metadata": {
        "id": "f8c5w3724xjg"
      }
    },
    {
      "cell_type": "code",
      "source": [
        "a = 1\n",
        "b = -1\n",
        "print(a, b)\n",
        "print(b, a)"
      ],
      "metadata": {
        "id": "aIzfXBpKyg-9",
        "colab": {
          "base_uri": "https://localhost:8080/"
        },
        "outputId": "44d3bbb3-35ce-4a76-ccbc-4f5c949e554a"
      },
      "execution_count": null,
      "outputs": [
        {
          "output_type": "stream",
          "name": "stdout",
          "text": [
            "1 -1\n",
            "-1 1\n"
          ]
        }
      ]
    },
    {
      "cell_type": "markdown",
      "metadata": {
        "id": "VpOjKvJkeX04"
      },
      "source": [
        "## Pythonのオブジェクト"
      ]
    },
    {
      "cell_type": "markdown",
      "metadata": {
        "id": "AHPOMKIzgmbH"
      },
      "source": [
        "### オブジェクト (object)\n",
        "* Pythonのプログラムによって操作されるデータのこと。\n",
        "* すべてのオブジェクトは型(type)をもつ。\n"
      ]
    },
    {
      "cell_type": "markdown",
      "source": [
        "### 型 (type) の大別\n",
        "* スカラ (scalar): 分割不能なデータ。int型、float型、bool型、None型など。\n",
        "* 非スカラ (non-scalar): 内部構造を持つ。例えば、文字列型、リスト型など。"
      ],
      "metadata": {
        "id": "6VBPldqA-kpI"
      }
    },
    {
      "cell_type": "markdown",
      "metadata": {
        "id": "DGRUrV2vgyq8"
      },
      "source": [
        "### スカラ・オブジェクトの4つの型\n",
        "* int型\n",
        "\n",
        "\n",
        "\n"
      ]
    },
    {
      "cell_type": "markdown",
      "source": [
        "integerの略"
      ],
      "metadata": {
        "id": "c7gs90qVlOIB"
      }
    },
    {
      "cell_type": "code",
      "source": [
        "print(3)"
      ],
      "metadata": {
        "id": "9KZst7DtxRGc",
        "colab": {
          "base_uri": "https://localhost:8080/"
        },
        "outputId": "731b9c52-5235-4b41-d08c-b9d75d2a4cba"
      },
      "execution_count": null,
      "outputs": [
        {
          "output_type": "stream",
          "name": "stdout",
          "text": [
            "3\n"
          ]
        }
      ]
    },
    {
      "cell_type": "code",
      "metadata": {
        "id": "r36vKH7ou8gF",
        "colab": {
          "base_uri": "https://localhost:8080/"
        },
        "outputId": "c84a5f91-1545-4ca3-f729-c073b2dc49c9"
      },
      "source": [
        "print(type(3))"
      ],
      "execution_count": null,
      "outputs": [
        {
          "output_type": "stream",
          "name": "stdout",
          "text": [
            "<class 'int'>\n"
          ]
        }
      ]
    },
    {
      "cell_type": "markdown",
      "source": [
        "* float型"
      ],
      "metadata": {
        "id": "rkPBoRkcxKYG"
      }
    },
    {
      "cell_type": "code",
      "source": [
        "print(3.0)"
      ],
      "metadata": {
        "id": "GmylHdAnxSAV",
        "colab": {
          "base_uri": "https://localhost:8080/"
        },
        "outputId": "4b2c1955-236e-434f-ce47-bd891c4567d2"
      },
      "execution_count": null,
      "outputs": [
        {
          "output_type": "stream",
          "name": "stdout",
          "text": [
            "3.0\n"
          ]
        }
      ]
    },
    {
      "cell_type": "code",
      "source": [
        "print(type(3.0))"
      ],
      "metadata": {
        "id": "fU1wfVXbqVhJ",
        "colab": {
          "base_uri": "https://localhost:8080/"
        },
        "outputId": "aaa2ea02-f5e9-48b1-eddb-b6c13f5c17d1"
      },
      "execution_count": null,
      "outputs": [
        {
          "output_type": "stream",
          "name": "stdout",
          "text": [
            "<class 'float'>\n"
          ]
        }
      ]
    },
    {
      "cell_type": "markdown",
      "source": [
        "* bool型\n",
        "  * TrueとFalseの二種類の値しかない"
      ],
      "metadata": {
        "id": "WqYpD_6oxMkl"
      }
    },
    {
      "cell_type": "code",
      "source": [
        "print(2 == 3)"
      ],
      "metadata": {
        "colab": {
          "base_uri": "https://localhost:8080/"
        },
        "id": "Vv8QDoIRl8K4",
        "outputId": "920de94e-1dc1-4faf-84c7-459ef44234bd"
      },
      "execution_count": null,
      "outputs": [
        {
          "output_type": "stream",
          "name": "stdout",
          "text": [
            "False\n"
          ]
        }
      ]
    },
    {
      "cell_type": "code",
      "source": [
        "print(3 != 2)"
      ],
      "metadata": {
        "id": "5IIUhGuDxNvI",
        "colab": {
          "base_uri": "https://localhost:8080/"
        },
        "outputId": "70733180-660b-46c9-adbc-0abc6d1ea206"
      },
      "execution_count": null,
      "outputs": [
        {
          "output_type": "stream",
          "name": "stdout",
          "text": [
            "True\n"
          ]
        }
      ]
    },
    {
      "cell_type": "code",
      "source": [
        "print(type(3 != 2))"
      ],
      "metadata": {
        "id": "30iYm3dFqWpQ",
        "colab": {
          "base_uri": "https://localhost:8080/"
        },
        "outputId": "7d244bd1-32c8-461f-e598-600388528ca7"
      },
      "execution_count": null,
      "outputs": [
        {
          "output_type": "stream",
          "name": "stdout",
          "text": [
            "<class 'bool'>\n"
          ]
        }
      ]
    },
    {
      "cell_type": "code",
      "source": [
        "a = 10\n",
        "b = 4\n",
        "print(a > b)\n",
        "print(a < b)"
      ],
      "metadata": {
        "id": "v6oXrqcMxThY",
        "colab": {
          "base_uri": "https://localhost:8080/"
        },
        "outputId": "a5a60894-06d8-4257-99d2-7eac8c4ab89f"
      },
      "execution_count": null,
      "outputs": [
        {
          "output_type": "stream",
          "name": "stdout",
          "text": [
            "True\n",
            "False\n"
          ]
        }
      ]
    },
    {
      "cell_type": "code",
      "source": [
        "a = 3\n",
        "b = 2\n",
        "print(a == (b + 1))"
      ],
      "metadata": {
        "id": "nFZsp24c5DPp",
        "colab": {
          "base_uri": "https://localhost:8080/"
        },
        "outputId": "3d455bae-a792-4e9a-ef0a-45a545254c34"
      },
      "execution_count": null,
      "outputs": [
        {
          "output_type": "stream",
          "name": "stdout",
          "text": [
            "True\n"
          ]
        }
      ]
    },
    {
      "cell_type": "markdown",
      "source": [
        "* None型\n",
        "  * Noneという一種類の値しかない"
      ],
      "metadata": {
        "id": "bYvMU-CRxL6m"
      }
    },
    {
      "cell_type": "code",
      "source": [
        "a = None"
      ],
      "metadata": {
        "id": "ly2r1_yGqYY6"
      },
      "execution_count": null,
      "outputs": []
    },
    {
      "cell_type": "code",
      "source": [
        "print(a)"
      ],
      "metadata": {
        "id": "SN5L-IWQxbww",
        "colab": {
          "base_uri": "https://localhost:8080/"
        },
        "outputId": "8d5be47f-4a26-42f7-e098-c3860d7522a3"
      },
      "execution_count": null,
      "outputs": [
        {
          "output_type": "stream",
          "name": "stdout",
          "text": [
            "None\n"
          ]
        }
      ]
    },
    {
      "cell_type": "code",
      "metadata": {
        "id": "u4YZf-1tg6jz",
        "colab": {
          "base_uri": "https://localhost:8080/"
        },
        "outputId": "89e8a8f7-55cc-4a0a-ea8c-61bb491deea4"
      },
      "source": [
        "print(a is None)"
      ],
      "execution_count": null,
      "outputs": [
        {
          "output_type": "stream",
          "name": "stdout",
          "text": [
            "True\n"
          ]
        }
      ]
    },
    {
      "cell_type": "code",
      "source": [
        "b = 1.4\n",
        "print(b is None)"
      ],
      "metadata": {
        "colab": {
          "base_uri": "https://localhost:8080/"
        },
        "id": "lESkFu11ndp9",
        "outputId": "019c45b4-b5e2-4924-e400-337738432a0f"
      },
      "execution_count": null,
      "outputs": [
        {
          "output_type": "stream",
          "name": "stdout",
          "text": [
            "False\n"
          ]
        }
      ]
    },
    {
      "cell_type": "markdown",
      "metadata": {
        "id": "4ZUaJIZ7ehQ0"
      },
      "source": [
        "## 演算子"
      ]
    },
    {
      "cell_type": "markdown",
      "metadata": {
        "id": "8GQWjbbdhGHW"
      },
      "source": [
        "### Pythonの演算子の一覧\n",
        "\n",
        "\n",
        "* +, -, \\*, //, /, %, \\*\\*, ==, !=, >, >=, <, <=\n",
        "\n",
        "* and, or, not\n"
      ]
    },
    {
      "cell_type": "markdown",
      "source": [
        "### 算術演算子"
      ],
      "metadata": {
        "id": "HdCl2AV6_S2Q"
      }
    },
    {
      "cell_type": "code",
      "metadata": {
        "id": "4IU28wFwu-6d",
        "colab": {
          "base_uri": "https://localhost:8080/"
        },
        "outputId": "594e8f45-95bd-4af6-fc22-2bc741904f7a"
      },
      "source": [
        "print(3 + 2)"
      ],
      "execution_count": null,
      "outputs": [
        {
          "output_type": "stream",
          "name": "stdout",
          "text": [
            "5\n"
          ]
        }
      ]
    },
    {
      "cell_type": "code",
      "source": [
        "print(3.0 + 2.0)"
      ],
      "metadata": {
        "id": "jDycs2OyqaWI",
        "colab": {
          "base_uri": "https://localhost:8080/"
        },
        "outputId": "ce54e98b-5710-4dd9-b4f5-c78c65a41ebc"
      },
      "execution_count": null,
      "outputs": [
        {
          "output_type": "stream",
          "name": "stdout",
          "text": [
            "5.0\n"
          ]
        }
      ]
    },
    {
      "cell_type": "code",
      "source": [
        "print(3 == 2) # equal"
      ],
      "metadata": {
        "id": "3irxAfTjqbbS",
        "colab": {
          "base_uri": "https://localhost:8080/"
        },
        "outputId": "52b65e8f-be5a-40cf-96f0-a96c2342f349"
      },
      "execution_count": null,
      "outputs": [
        {
          "output_type": "stream",
          "name": "stdout",
          "text": [
            "False\n"
          ]
        }
      ]
    },
    {
      "cell_type": "code",
      "source": [
        "print(2 <= 2)"
      ],
      "metadata": {
        "colab": {
          "base_uri": "https://localhost:8080/"
        },
        "id": "AboNqmH9p2xm",
        "outputId": "d9105b9f-7f93-4002-82e0-eb0bdb17c27a"
      },
      "execution_count": null,
      "outputs": [
        {
          "output_type": "stream",
          "name": "stdout",
          "text": [
            "True\n"
          ]
        }
      ]
    },
    {
      "cell_type": "markdown",
      "source": [
        "### **問題** //と/の違いは？\n"
      ],
      "metadata": {
        "id": "EKpMnj9QqeyI"
      }
    },
    {
      "cell_type": "code",
      "source": [
        "print(5 // 2)\n",
        "print(5 / 2)"
      ],
      "metadata": {
        "id": "yPkLcCouqgEZ",
        "colab": {
          "base_uri": "https://localhost:8080/"
        },
        "outputId": "5efa870b-6f4b-4b40-bae5-7bbdf6a30a94"
      },
      "execution_count": null,
      "outputs": [
        {
          "output_type": "stream",
          "name": "stdout",
          "text": [
            "2\n",
            "2.5\n"
          ]
        }
      ]
    },
    {
      "cell_type": "code",
      "source": [
        "print(11 % 3)"
      ],
      "metadata": {
        "colab": {
          "base_uri": "https://localhost:8080/"
        },
        "id": "efIdSq2MqS_6",
        "outputId": "912f87e5-1a87-4d38-f28c-cab965e1d229"
      },
      "execution_count": null,
      "outputs": [
        {
          "output_type": "stream",
          "name": "stdout",
          "text": [
            "2\n"
          ]
        }
      ]
    },
    {
      "cell_type": "code",
      "source": [
        "print(3 ** 4) # べき乗"
      ],
      "metadata": {
        "colab": {
          "base_uri": "https://localhost:8080/"
        },
        "id": "ktyy4yV8qYny",
        "outputId": "e220a5a8-b8db-4e5c-f317-f6697a151bb5"
      },
      "execution_count": null,
      "outputs": [
        {
          "output_type": "stream",
          "name": "stdout",
          "text": [
            "81\n"
          ]
        }
      ]
    },
    {
      "cell_type": "markdown",
      "source": [
        "### 論理演算子\n",
        "* bool型のオブジェクトに使う演算子。"
      ],
      "metadata": {
        "id": "pme4pj1o596S"
      }
    },
    {
      "cell_type": "code",
      "source": [
        "a = 1\n",
        "b = 3"
      ],
      "metadata": {
        "id": "hUAFDm4e5uaJ"
      },
      "execution_count": null,
      "outputs": []
    },
    {
      "cell_type": "code",
      "source": [
        "print(a == 1)"
      ],
      "metadata": {
        "id": "4RZqecuj_Z5O",
        "colab": {
          "base_uri": "https://localhost:8080/"
        },
        "outputId": "310dc11a-953e-4ab8-b7d6-2dc7f4836521"
      },
      "execution_count": null,
      "outputs": [
        {
          "output_type": "stream",
          "name": "stdout",
          "text": [
            "True\n"
          ]
        }
      ]
    },
    {
      "cell_type": "code",
      "source": [
        "print(not a == 1)"
      ],
      "metadata": {
        "id": "CX33Rt8y_at8",
        "colab": {
          "base_uri": "https://localhost:8080/"
        },
        "outputId": "4dbf6af2-fd25-48bb-ef64-86093a26223a"
      },
      "execution_count": null,
      "outputs": [
        {
          "output_type": "stream",
          "name": "stdout",
          "text": [
            "False\n"
          ]
        }
      ]
    },
    {
      "cell_type": "code",
      "source": [
        "print(a > 2 and b > 2)"
      ],
      "metadata": {
        "id": "QwdzBBqC_bab",
        "colab": {
          "base_uri": "https://localhost:8080/"
        },
        "outputId": "e82b431d-b629-4759-b81c-d20945ec16e4"
      },
      "execution_count": null,
      "outputs": [
        {
          "output_type": "stream",
          "name": "stdout",
          "text": [
            "False\n"
          ]
        }
      ]
    },
    {
      "cell_type": "code",
      "source": [
        "print(a > 2 or b > 2)"
      ],
      "metadata": {
        "id": "yHQoyE3E_cHe",
        "colab": {
          "base_uri": "https://localhost:8080/"
        },
        "outputId": "52ccf505-24d3-4a3e-fc4f-7c1fee9d297b"
      },
      "execution_count": null,
      "outputs": [
        {
          "output_type": "stream",
          "name": "stdout",
          "text": [
            "True\n"
          ]
        }
      ]
    },
    {
      "cell_type": "markdown",
      "source": [
        "### 演算子の優先順位\n",
        "* 演算子には、どれが先に実行されるかの、優先順位がある。\n",
        "  * https://docs.python.org/ja/3/reference/expressions.html#operator-precedence\n"
      ],
      "metadata": {
        "id": "8HS1QP2Eqfnp"
      }
    },
    {
      "cell_type": "code",
      "source": [
        "print((5 + 2) * 4)\n",
        "print(5 + 2 * 4)"
      ],
      "metadata": {
        "id": "8w4CsaWTqgil",
        "colab": {
          "base_uri": "https://localhost:8080/"
        },
        "outputId": "85079bb4-352c-4d7f-bc37-86c4c4d72723"
      },
      "execution_count": null,
      "outputs": [
        {
          "output_type": "stream",
          "name": "stdout",
          "text": [
            "28\n",
            "13\n"
          ]
        }
      ]
    },
    {
      "cell_type": "code",
      "source": [
        "print(3 // (2 + 1))\n",
        "print(3 // 2 + 1)"
      ],
      "metadata": {
        "id": "3nJDAb7S5ctK",
        "colab": {
          "base_uri": "https://localhost:8080/"
        },
        "outputId": "1ed57c81-7497-45fe-97d8-f0a5f26b8ff7"
      },
      "execution_count": null,
      "outputs": [
        {
          "output_type": "stream",
          "name": "stdout",
          "text": [
            "1\n",
            "2\n"
          ]
        }
      ]
    },
    {
      "cell_type": "markdown",
      "metadata": {
        "id": "KA94z1E_ejrV"
      },
      "source": [
        "## 変数と代入"
      ]
    },
    {
      "cell_type": "markdown",
      "source": [
        "### Pythonでの代入\n",
        "* 変数に値を「紐付けする」イメージ。\n",
        "  * 「名前がついた箱に値を入れる」というイメージで考えていると「？？？」と感じることが多い。"
      ],
      "metadata": {
        "id": "8HijE_fiqtxB"
      }
    },
    {
      "cell_type": "code",
      "source": [
        "a = 3"
      ],
      "metadata": {
        "id": "R8zlTEWLqyxr"
      },
      "execution_count": null,
      "outputs": []
    },
    {
      "cell_type": "code",
      "source": [
        "a"
      ],
      "metadata": {
        "id": "tOxF297pq1kw",
        "colab": {
          "base_uri": "https://localhost:8080/"
        },
        "outputId": "b1f9872b-df34-4e37-9604-3bdf009a7967"
      },
      "execution_count": null,
      "outputs": [
        {
          "output_type": "execute_result",
          "data": {
            "text/plain": [
              "3"
            ]
          },
          "metadata": {},
          "execution_count": 65
        }
      ]
    },
    {
      "cell_type": "code",
      "source": [
        "print(a)"
      ],
      "metadata": {
        "id": "QdkcKljqq2bK",
        "colab": {
          "base_uri": "https://localhost:8080/"
        },
        "outputId": "8338fbdd-6971-432e-a169-14335ce5f0a4"
      },
      "execution_count": null,
      "outputs": [
        {
          "output_type": "stream",
          "name": "stdout",
          "text": [
            "3\n"
          ]
        }
      ]
    },
    {
      "cell_type": "markdown",
      "metadata": {
        "id": "2M9pkBiNeqUL"
      },
      "source": [
        "### 変数名の付け方\n",
        "* 使える文字\n",
        "  * 大文字、小文字、数字、アンダースコア（`_`）\n",
        "* 変数名の注意事項\n",
        "  * 大文字と小文字は区別される。\n",
        "  * 予約語(reserved word)は変数名として使えない。\n",
        "> and, as, assert, break, class, continue, def, del, elif, else, except, False, finally, for, from, global, if, import, in, is, lambda, nonlocal, None, not, or, pass, raise, return, True, try, while, with, yield\n"
      ]
    },
    {
      "cell_type": "code",
      "source": [
        "my_integer = 5\n",
        "my_integer"
      ],
      "metadata": {
        "id": "M-uxTXE7qqB-",
        "colab": {
          "base_uri": "https://localhost:8080/"
        },
        "outputId": "90ce2553-a070-4e2c-f053-52fab41791ea"
      },
      "execution_count": null,
      "outputs": [
        {
          "output_type": "execute_result",
          "data": {
            "text/plain": [
              "5"
            ]
          },
          "metadata": {},
          "execution_count": 67
        }
      ]
    },
    {
      "cell_type": "markdown",
      "metadata": {
        "id": "UNvchLcvex0k"
      },
      "source": [
        "### 複数の代入を1つの文で"
      ]
    },
    {
      "cell_type": "code",
      "metadata": {
        "id": "vAyWYg3dvBS0",
        "colab": {
          "base_uri": "https://localhost:8080/"
        },
        "outputId": "5e531ee7-b400-4f96-f644-a17b59f3bbe2"
      },
      "source": [
        "a, b = 5, 4  #aと5, bと4が紐付けされる\n",
        "print(a, b)"
      ],
      "execution_count": null,
      "outputs": [
        {
          "output_type": "stream",
          "name": "stdout",
          "text": [
            "5 4\n"
          ]
        }
      ]
    },
    {
      "cell_type": "code",
      "source": [
        "a, b, c = 5, 4, 3\n",
        "print(a, b, c)"
      ],
      "metadata": {
        "colab": {
          "base_uri": "https://localhost:8080/"
        },
        "id": "wgPCaGTws99s",
        "outputId": "07eb23a3-c099-4e84-d826-9e46c985a08f"
      },
      "execution_count": null,
      "outputs": [
        {
          "output_type": "stream",
          "name": "stdout",
          "text": [
            "5 4 3\n"
          ]
        }
      ]
    },
    {
      "cell_type": "markdown",
      "source": [
        "* 問: 次のセルを実行すると、何が表示されるか？"
      ],
      "metadata": {
        "id": "fJCB7IqSq84W"
      }
    },
    {
      "cell_type": "code",
      "metadata": {
        "id": "zXlghevzvEXc",
        "colab": {
          "base_uri": "https://localhost:8080/"
        },
        "outputId": "5cadad61-8a3f-4091-9733-d8fad1b5546b"
      },
      "source": [
        "a, b = 5, 4\n",
        "a, b = b, a # 値を入れ替えるときの書き方\n",
        "print(a, b)"
      ],
      "execution_count": null,
      "outputs": [
        {
          "output_type": "stream",
          "name": "stdout",
          "text": [
            "4 5\n"
          ]
        }
      ]
    },
    {
      "cell_type": "markdown",
      "metadata": {
        "id": "5aQHIHDhjaw9"
      },
      "source": [
        "## 組み込み関数id\n",
        "* オブジェクトの固有識別子が得られる。\n",
        "  * オブジェクトに付けられた通し番号のようなもの。\n",
        "  * これが同じだと、実体としても同じ。\n",
        "* 値として見ると同じでも、固有識別番号は異なることがある。"
      ]
    },
    {
      "cell_type": "code",
      "source": [
        "a = 2\n",
        "print(id(a))"
      ],
      "metadata": {
        "id": "ByjOEflq7kU7"
      },
      "execution_count": null,
      "outputs": []
    },
    {
      "cell_type": "code",
      "source": [
        "id(2)"
      ],
      "metadata": {
        "id": "9Tyl34yo7own"
      },
      "execution_count": null,
      "outputs": []
    },
    {
      "cell_type": "code",
      "source": [
        "b = 1 + 1\n",
        "print(id(b))"
      ],
      "metadata": {
        "id": "FvkfWGNs7qx5"
      },
      "execution_count": null,
      "outputs": []
    },
    {
      "cell_type": "code",
      "metadata": {
        "id": "lg5cLj5RvG90"
      },
      "source": [
        "c = 1.3\n",
        "print(id(c))"
      ],
      "execution_count": null,
      "outputs": []
    },
    {
      "cell_type": "code",
      "source": [
        "d = c\n",
        "print(id(d))"
      ],
      "metadata": {
        "id": "gpb2tV-f7yCP"
      },
      "execution_count": null,
      "outputs": []
    },
    {
      "cell_type": "markdown",
      "source": [
        "* 値としては同じだが固有識別番号は異なる例"
      ],
      "metadata": {
        "id": "BA0TExUs770Q"
      }
    },
    {
      "cell_type": "code",
      "source": [
        "e = c * 1.0\n",
        "print(id(c))\n",
        "print(id(e))"
      ],
      "metadata": {
        "id": "EAdr0pRB73Za"
      },
      "execution_count": null,
      "outputs": []
    },
    {
      "cell_type": "markdown",
      "metadata": {
        "id": "aIjARcgke2Kd"
      },
      "source": [
        "## if文"
      ]
    },
    {
      "cell_type": "code",
      "source": [
        "x = 250"
      ],
      "metadata": {
        "id": "UGPe4KyltwTO"
      },
      "execution_count": 5,
      "outputs": []
    },
    {
      "cell_type": "markdown",
      "source": [
        "インデント\n",
        "* 空白文字が4つ（または2つ）"
      ],
      "metadata": {
        "id": "gJL4zpRsf6CK"
      }
    },
    {
      "cell_type": "code",
      "source": [
        "if x % 2 == 1:\n",
        "    print('odd')"
      ],
      "metadata": {
        "id": "t0lEEtPNANdS"
      },
      "execution_count": null,
      "outputs": []
    },
    {
      "cell_type": "markdown",
      "source": [
        "### else節"
      ],
      "metadata": {
        "id": "ZpH9yK3GAObY"
      }
    },
    {
      "cell_type": "code",
      "metadata": {
        "id": "MWREuv21vJcM",
        "colab": {
          "base_uri": "https://localhost:8080/"
        },
        "outputId": "7ecb291c-1663-4ce4-b7ca-d9e5ff64d4a9"
      },
      "source": [
        "x = 250\n",
        "if x % 2 == 1:\n",
        "  print('odd')\n",
        "  print('------')\n",
        "else:\n",
        "    print('even')\n",
        "    print('000-0feafa') # 何行書いてもいい"
      ],
      "execution_count": 9,
      "outputs": [
        {
          "output_type": "stream",
          "name": "stdout",
          "text": [
            "even\n",
            "000-0feafa\n"
          ]
        }
      ]
    },
    {
      "cell_type": "markdown",
      "source": [
        "### elif\n",
        "* else ifを略したもの。"
      ],
      "metadata": {
        "id": "pWKKGMymAjlJ"
      }
    },
    {
      "cell_type": "code",
      "source": [
        "y = 0\n",
        "if y > 0:\n",
        "    print('positive')\n",
        "elif y < 0:\n",
        "    print('negative')\n",
        "else:\n",
        "    print('zero')"
      ],
      "metadata": {
        "id": "InlevrsMrKs7",
        "colab": {
          "base_uri": "https://localhost:8080/"
        },
        "outputId": "dd653a41-8991-450e-efc5-c6eea7d764cc"
      },
      "execution_count": null,
      "outputs": [
        {
          "output_type": "stream",
          "name": "stdout",
          "text": [
            "zero\n"
          ]
        }
      ]
    },
    {
      "cell_type": "markdown",
      "metadata": {
        "id": "JSDgqqlRfsJ9"
      },
      "source": [
        "### 入れ子状のif文\n",
        "* if文の中にさらにif文を書くことができる。"
      ]
    },
    {
      "cell_type": "code",
      "metadata": {
        "id": "-E3gw12gvLtc",
        "colab": {
          "base_uri": "https://localhost:8080/"
        },
        "outputId": "b061f097-b915-455b-8006-da88f14fc934"
      },
      "source": [
        "x = 25 # ここの値をいろいろ変えてみる。\n",
        "\n",
        "if x % 3 == 0:\n",
        "  if x % 5 == 0:\n",
        "    print('3と5で割り切れる')\n",
        "  else:\n",
        "    print('3で割り切れるが5で割り切れない')\n",
        "elif x % 5 == 0:\n",
        "  print('5で割り切れるが3で割り切れない')\n",
        "else:\n",
        "  print('3でも5でも割り切れない')"
      ],
      "execution_count": 11,
      "outputs": [
        {
          "output_type": "stream",
          "name": "stdout",
          "text": [
            "5で割り切れるが3で割り切れない\n"
          ]
        }
      ]
    },
    {
      "cell_type": "markdown",
      "metadata": {
        "id": "mA-bPy_he6r-"
      },
      "source": [
        "## 文字列型（str型）\n",
        "* スカラ・オブジェクトではない。\n",
        "  * つまり、分割できないデータとはみなせない。\n",
        "* たくさんの文字が並んで構成されたデータ。"
      ]
    },
    {
      "cell_type": "code",
      "metadata": {
        "id": "GnDPUVb-vNfc",
        "colab": {
          "base_uri": "https://localhost:8080/"
        },
        "outputId": "f2141a34-84cc-4ca4-f37e-3e9bd737e3fe"
      },
      "source": [
        "print('This is a pen.')"
      ],
      "execution_count": 12,
      "outputs": [
        {
          "output_type": "stream",
          "name": "stdout",
          "text": [
            "This is a pen.\n"
          ]
        }
      ]
    },
    {
      "cell_type": "markdown",
      "source": [
        "### 代入"
      ],
      "metadata": {
        "id": "o_K8yNXBt7J2"
      }
    },
    {
      "cell_type": "code",
      "source": [
        "s1 = \"This is a pen.\"\n",
        "s2 = \"That is a pencil.\"\n",
        "print(s1)\n",
        "print(s2)"
      ],
      "metadata": {
        "id": "_tG45ngJt01v",
        "colab": {
          "base_uri": "https://localhost:8080/"
        },
        "outputId": "2d780d28-31ff-436b-de58-b811012bd14d"
      },
      "execution_count": 13,
      "outputs": [
        {
          "output_type": "stream",
          "name": "stdout",
          "text": [
            "This is a pen.\n",
            "That is a pencil.\n"
          ]
        }
      ]
    },
    {
      "cell_type": "markdown",
      "source": [
        "### 同じ文字列かどうかの判定"
      ],
      "metadata": {
        "id": "75vnsf0z92-N"
      }
    },
    {
      "cell_type": "code",
      "source": [
        "s1 == s2"
      ],
      "metadata": {
        "id": "6VHkUkLg8iTP",
        "colab": {
          "base_uri": "https://localhost:8080/"
        },
        "outputId": "6b32f870-23d1-400a-9db8-de44c89b2f9e"
      },
      "execution_count": 14,
      "outputs": [
        {
          "output_type": "execute_result",
          "data": {
            "text/plain": [
              "False"
            ]
          },
          "metadata": {},
          "execution_count": 14
        }
      ]
    },
    {
      "cell_type": "code",
      "source": [
        "s3 = \"This is a pen.\"\n",
        "print(s1 == s3)"
      ],
      "metadata": {
        "colab": {
          "base_uri": "https://localhost:8080/"
        },
        "id": "OqbZLFzli-Gy",
        "outputId": "6632b4bd-4595-4d3f-9082-f28695b7969e"
      },
      "execution_count": 15,
      "outputs": [
        {
          "output_type": "stream",
          "name": "stdout",
          "text": [
            "True\n"
          ]
        }
      ]
    },
    {
      "cell_type": "code",
      "source": [
        "id(s1)"
      ],
      "metadata": {
        "colab": {
          "base_uri": "https://localhost:8080/"
        },
        "id": "8eKRBAkpjHmV",
        "outputId": "74501121-4a1d-4366-de18-30aa364422c0"
      },
      "execution_count": 16,
      "outputs": [
        {
          "output_type": "execute_result",
          "data": {
            "text/plain": [
              "138029623866224"
            ]
          },
          "metadata": {},
          "execution_count": 16
        }
      ]
    },
    {
      "cell_type": "code",
      "source": [
        "id(s3)"
      ],
      "metadata": {
        "colab": {
          "base_uri": "https://localhost:8080/"
        },
        "id": "TjDTa-C9jIwS",
        "outputId": "27975b7e-f3e8-46f0-a737-55d66f7e8462"
      },
      "execution_count": 17,
      "outputs": [
        {
          "output_type": "execute_result",
          "data": {
            "text/plain": [
              "138029612076144"
            ]
          },
          "metadata": {},
          "execution_count": 17
        }
      ]
    },
    {
      "cell_type": "markdown",
      "source": [
        "### 文字列の連結"
      ],
      "metadata": {
        "id": "kXm9_YXguIwD"
      }
    },
    {
      "cell_type": "code",
      "source": [
        "s1 = \"This is a pen.\"\n",
        "s2 = \"That is a pencil.\"\n",
        "s3 = s1 + s2\n",
        "print(s3)"
      ],
      "metadata": {
        "id": "3HN7knL9rgAn",
        "colab": {
          "base_uri": "https://localhost:8080/"
        },
        "outputId": "a6b8ca03-9d7b-45b2-ac16-7e4a5ef06290"
      },
      "execution_count": 18,
      "outputs": [
        {
          "output_type": "stream",
          "name": "stdout",
          "text": [
            "This is a pen.That is a pencil.\n"
          ]
        }
      ]
    },
    {
      "cell_type": "code",
      "source": [
        "s4 = s1 + \" \" + s2\n",
        "print(s4)"
      ],
      "metadata": {
        "id": "Wd_fVPILuPDc",
        "colab": {
          "base_uri": "https://localhost:8080/"
        },
        "outputId": "f49c9dbd-a3cb-452c-9124-38a4bfa2983c"
      },
      "execution_count": 19,
      "outputs": [
        {
          "output_type": "stream",
          "name": "stdout",
          "text": [
            "This is a pen. That is a pencil.\n"
          ]
        }
      ]
    },
    {
      "cell_type": "markdown",
      "source": [
        "### 文字列の繰り返し\n",
        "  * 整数を掛ける、という書き方をする。"
      ],
      "metadata": {
        "id": "0iMfn4pct8gw"
      }
    },
    {
      "cell_type": "code",
      "source": [
        "ss = 'abc'\n",
        "print(ss)"
      ],
      "metadata": {
        "colab": {
          "base_uri": "https://localhost:8080/"
        },
        "id": "N8ANtvYpj3Io",
        "outputId": "2a075d7a-cfde-421a-935f-86ac6c390696"
      },
      "execution_count": 20,
      "outputs": [
        {
          "output_type": "stream",
          "name": "stdout",
          "text": [
            "abc\n"
          ]
        }
      ]
    },
    {
      "cell_type": "code",
      "source": [
        "ss = \"abc\"\n",
        "ss = ss * 4 # 変数ssに上書きしている\n",
        "print(ss)"
      ],
      "metadata": {
        "id": "q74iV8rlrh3n",
        "colab": {
          "base_uri": "https://localhost:8080/"
        },
        "outputId": "005f4891-ce69-41bb-fcb6-31a26ab6b7a1"
      },
      "execution_count": 29,
      "outputs": [
        {
          "output_type": "stream",
          "name": "stdout",
          "text": [
            "abcabcabcabc\n"
          ]
        }
      ]
    },
    {
      "cell_type": "markdown",
      "source": [
        "### 空の文字列"
      ],
      "metadata": {
        "id": "f9S8dz6luSoF"
      }
    },
    {
      "cell_type": "code",
      "source": [
        "my_str = ''\n",
        "print(my_str)"
      ],
      "metadata": {
        "id": "y5NldZmPtwgM",
        "colab": {
          "base_uri": "https://localhost:8080/"
        },
        "outputId": "68bf7586-788c-4a9c-afdd-3e6bcd507772"
      },
      "execution_count": 31,
      "outputs": [
        {
          "output_type": "stream",
          "name": "stdout",
          "text": [
            "\n"
          ]
        }
      ]
    },
    {
      "cell_type": "code",
      "source": [
        "my_str += \"bank\"\n",
        "print(my_str)"
      ],
      "metadata": {
        "id": "ZdR4gTdDuoGA",
        "colab": {
          "base_uri": "https://localhost:8080/"
        },
        "outputId": "f01c74d7-3b49-490e-9ecd-60fd9eb52dc5"
      },
      "execution_count": 32,
      "outputs": [
        {
          "output_type": "stream",
          "name": "stdout",
          "text": [
            "bank\n"
          ]
        }
      ]
    },
    {
      "cell_type": "code",
      "source": [
        "a = 1\n",
        "a += 3\n",
        "print(a)"
      ],
      "metadata": {
        "colab": {
          "base_uri": "https://localhost:8080/"
        },
        "id": "2DHyAKbnklFp",
        "outputId": "2b167e3d-17fd-4f1d-9f6c-0f4959269bab"
      },
      "execution_count": 33,
      "outputs": [
        {
          "output_type": "stream",
          "name": "stdout",
          "text": [
            "4\n"
          ]
        }
      ]
    },
    {
      "cell_type": "code",
      "source": [
        "my_str += \"\"\n",
        "print(my_str)"
      ],
      "metadata": {
        "id": "uiFNcUoFulwv"
      },
      "execution_count": null,
      "outputs": []
    },
    {
      "cell_type": "code",
      "source": [
        "my_str += \"rupt\"\n",
        "print(my_str)"
      ],
      "metadata": {
        "id": "YTKb7yY5ulKa"
      },
      "execution_count": null,
      "outputs": []
    },
    {
      "cell_type": "markdown",
      "source": [
        "### 数値を文字列に変換"
      ],
      "metadata": {
        "id": "0mKUA4om9WGN"
      }
    },
    {
      "cell_type": "markdown",
      "source": [
        "len ... lengthの略"
      ],
      "metadata": {
        "id": "NE21bGC2lAZB"
      }
    },
    {
      "cell_type": "code",
      "source": [
        "my_int = -12425\n",
        "my_string = str(my_int)\n",
        "print(my_string)\n",
        "print(len(my_string))"
      ],
      "metadata": {
        "id": "_hv-EdoT9Zx_",
        "colab": {
          "base_uri": "https://localhost:8080/"
        },
        "outputId": "8493ccf4-a500-48c5-d92c-1925656ae942"
      },
      "execution_count": 34,
      "outputs": [
        {
          "output_type": "stream",
          "name": "stdout",
          "text": [
            "-12425\n",
            "6\n"
          ]
        }
      ]
    },
    {
      "cell_type": "code",
      "source": [
        "my_float = 3.1416\n",
        "my_string = str(my_float)\n",
        "print(my_string)\n",
        "print(len(my_string))"
      ],
      "metadata": {
        "id": "ERbkGk9T9tjT",
        "colab": {
          "base_uri": "https://localhost:8080/"
        },
        "outputId": "bae3ba24-3a76-4485-c9bc-cf16bff1adb8"
      },
      "execution_count": 35,
      "outputs": [
        {
          "output_type": "stream",
          "name": "stdout",
          "text": [
            "3.1416\n",
            "6\n"
          ]
        }
      ]
    },
    {
      "cell_type": "code",
      "source": [
        "my_string = \"54321\"\n",
        "my_float = float(my_string)\n",
        "print(my_float)\n",
        "print(my_float / 3)\n",
        "print(my_float % 3)"
      ],
      "metadata": {
        "colab": {
          "base_uri": "https://localhost:8080/"
        },
        "id": "8jH9f6VHldPX",
        "outputId": "f9c4572f-e5ed-4942-fce1-ec5ad02a3d60"
      },
      "execution_count": 39,
      "outputs": [
        {
          "output_type": "stream",
          "name": "stdout",
          "text": [
            "54321.0\n",
            "18107.0\n",
            "0.0\n"
          ]
        }
      ]
    },
    {
      "cell_type": "markdown",
      "metadata": {
        "id": "V7Nfg-WRfzXY"
      },
      "source": [
        "## 順序型としての文字列型\n",
        "* 同じ種類のアイテムがたくさん並んで構成されるデータの型を順序型という。\n",
        "* 順序型には、以下の三種類の操作が、共通している\n",
        "  * 長さ\n",
        "  * 添え字\n",
        "  * スライシング"
      ]
    },
    {
      "cell_type": "code",
      "metadata": {
        "id": "lvB2EnbyvPKU"
      },
      "source": [
        "s = 'abcdef'"
      ],
      "execution_count": 40,
      "outputs": []
    },
    {
      "cell_type": "markdown",
      "source": [
        "### 文字列の長さ"
      ],
      "metadata": {
        "id": "2_EfYEmUrwRd"
      }
    },
    {
      "cell_type": "code",
      "source": [
        "print(len(s))"
      ],
      "metadata": {
        "id": "-7mINfMVrqzw",
        "colab": {
          "base_uri": "https://localhost:8080/"
        },
        "outputId": "7e73c9ae-baba-4198-a7c4-d15a58bddc52"
      },
      "execution_count": 41,
      "outputs": [
        {
          "output_type": "stream",
          "name": "stdout",
          "text": [
            "6\n"
          ]
        }
      ]
    },
    {
      "cell_type": "markdown",
      "source": [
        "### 添え字(index)"
      ],
      "metadata": {
        "id": "sfaciLB2ryG6"
      }
    },
    {
      "cell_type": "code",
      "source": [
        "print(s[0])"
      ],
      "metadata": {
        "id": "U5wmJyw39Emz",
        "colab": {
          "base_uri": "https://localhost:8080/"
        },
        "outputId": "e01cd22a-d69d-43a4-83f4-558abdd7e6ad"
      },
      "execution_count": 42,
      "outputs": [
        {
          "output_type": "stream",
          "name": "stdout",
          "text": [
            "a\n"
          ]
        }
      ]
    },
    {
      "cell_type": "code",
      "source": [
        "print(s[3])"
      ],
      "metadata": {
        "id": "CMCZM7ozrrr_",
        "colab": {
          "base_uri": "https://localhost:8080/"
        },
        "outputId": "db2709cf-5b5f-4a22-97fe-e7865965adff"
      },
      "execution_count": 43,
      "outputs": [
        {
          "output_type": "stream",
          "name": "stdout",
          "text": [
            "d\n"
          ]
        }
      ]
    },
    {
      "cell_type": "markdown",
      "source": [
        "### スライシング (slicing)"
      ],
      "metadata": {
        "id": "nVxfpZXVr5u5"
      }
    },
    {
      "cell_type": "code",
      "source": [
        "print(s[2:4])"
      ],
      "metadata": {
        "id": "ZHXEufzNrtkW",
        "colab": {
          "base_uri": "https://localhost:8080/"
        },
        "outputId": "1925ff93-0fc3-410f-f74b-d691a78488ed"
      },
      "execution_count": 44,
      "outputs": [
        {
          "output_type": "stream",
          "name": "stdout",
          "text": [
            "cd\n"
          ]
        }
      ]
    },
    {
      "cell_type": "code",
      "source": [
        "print(s[1:5])"
      ],
      "metadata": {
        "colab": {
          "base_uri": "https://localhost:8080/"
        },
        "id": "GDfK4kLenPJp",
        "outputId": "75489d26-bd9e-4584-a619-05608ace5b6a"
      },
      "execution_count": 45,
      "outputs": [
        {
          "output_type": "stream",
          "name": "stdout",
          "text": [
            "bcde\n"
          ]
        }
      ]
    },
    {
      "cell_type": "code",
      "source": [
        "print(s[5])"
      ],
      "metadata": {
        "colab": {
          "base_uri": "https://localhost:8080/"
        },
        "id": "EMjAr3qjnyms",
        "outputId": "4a7adece-594a-4748-c1df-2718866c6e3e"
      },
      "execution_count": 46,
      "outputs": [
        {
          "output_type": "stream",
          "name": "stdout",
          "text": [
            "f\n"
          ]
        }
      ]
    },
    {
      "cell_type": "code",
      "source": [
        "print(s[5])"
      ],
      "metadata": {
        "colab": {
          "base_uri": "https://localhost:8080/"
        },
        "id": "IHA2XurFn7kN",
        "outputId": "9490506b-f441-4698-b1fd-37de0dd1b44c"
      },
      "execution_count": 49,
      "outputs": [
        {
          "output_type": "stream",
          "name": "stdout",
          "text": [
            "f\n"
          ]
        }
      ]
    },
    {
      "cell_type": "code",
      "source": [
        "print(s[2:])"
      ],
      "metadata": {
        "colab": {
          "base_uri": "https://localhost:8080/"
        },
        "id": "MkQ4OSGjoMNe",
        "outputId": "42f06ebb-9c95-45f3-8e4a-50fbbf8171ae"
      },
      "execution_count": 52,
      "outputs": [
        {
          "output_type": "stream",
          "name": "stdout",
          "text": [
            "cdef\n"
          ]
        }
      ]
    },
    {
      "cell_type": "code",
      "source": [
        "print(s[:5])"
      ],
      "metadata": {
        "colab": {
          "base_uri": "https://localhost:8080/"
        },
        "id": "MdPSjyFooZJ4",
        "outputId": "6505490d-3970-44db-ecd9-d735a4205174"
      },
      "execution_count": 53,
      "outputs": [
        {
          "output_type": "stream",
          "name": "stdout",
          "text": [
            "abcde\n"
          ]
        }
      ]
    },
    {
      "cell_type": "markdown",
      "metadata": {
        "id": "o9QpUsucfE0M"
      },
      "source": [
        "## フォーマット付きprint\n",
        "* `f`で始まる文字列は、書式を表現している。\n",
        "  * 波括弧の中に、表示したい値や変数を書く。"
      ]
    },
    {
      "cell_type": "code",
      "metadata": {
        "id": "qEZYAS3ZvWVT",
        "colab": {
          "base_uri": "https://localhost:8080/"
        },
        "outputId": "49247d57-8e57-4e3f-d1a9-e496f83dbe7b"
      },
      "source": [
        "a = 0.00215332634\n",
        "print(a)"
      ],
      "execution_count": 54,
      "outputs": [
        {
          "output_type": "stream",
          "name": "stdout",
          "text": [
            "0.00215332634\n"
          ]
        }
      ]
    },
    {
      "cell_type": "code",
      "source": [
        "print(f'a = {a}')"
      ],
      "metadata": {
        "id": "9LRqSzEf9d8f",
        "colab": {
          "base_uri": "https://localhost:8080/"
        },
        "outputId": "a403ae8c-4443-40a1-e489-842eb3f80b53"
      },
      "execution_count": 55,
      "outputs": [
        {
          "output_type": "stream",
          "name": "stdout",
          "text": [
            "a = 0.00215332634\n"
          ]
        }
      ]
    },
    {
      "cell_type": "markdown",
      "source": [
        "* 指定した桁数で端数を四捨五入"
      ],
      "metadata": {
        "id": "dk5GRZBQ9pG4"
      }
    },
    {
      "cell_type": "code",
      "source": [
        "print(f'a = {a:.4f}')"
      ],
      "metadata": {
        "id": "w2FVDY7E9fb5",
        "colab": {
          "base_uri": "https://localhost:8080/"
        },
        "outputId": "a15b71c6-091c-4cf4-d7da-13ef51726dfb"
      },
      "execution_count": 56,
      "outputs": [
        {
          "output_type": "stream",
          "name": "stdout",
          "text": [
            "a = 0.0022\n"
          ]
        }
      ]
    },
    {
      "cell_type": "code",
      "source": [
        "print(f'{a:.5f}')"
      ],
      "metadata": {
        "colab": {
          "base_uri": "https://localhost:8080/"
        },
        "id": "fQNTdSaPpjaQ",
        "outputId": "ff8e0ddd-eb82-4e5f-9a3b-f80baaf68d70"
      },
      "execution_count": 57,
      "outputs": [
        {
          "output_type": "stream",
          "name": "stdout",
          "text": [
            "0.00215\n"
          ]
        }
      ]
    },
    {
      "cell_type": "markdown",
      "source": [
        "* 数値の指数表記"
      ],
      "metadata": {
        "id": "JO_zyWyU9lrR"
      }
    },
    {
      "cell_type": "code",
      "source": [
        "print(f'a = {a:.4e}')"
      ],
      "metadata": {
        "id": "a0dbY8Io9gdC",
        "colab": {
          "base_uri": "https://localhost:8080/"
        },
        "outputId": "dc4554df-2077-4cdc-b212-752c025382d4"
      },
      "execution_count": 58,
      "outputs": [
        {
          "output_type": "stream",
          "name": "stdout",
          "text": [
            "a = 2.1533e-03\n"
          ]
        }
      ]
    },
    {
      "cell_type": "markdown",
      "source": [
        "## while文\n",
        "* Pythonでは繰り返し処理が書ける。"
      ],
      "metadata": {
        "id": "DdVgEOBj3P3f"
      }
    },
    {
      "cell_type": "code",
      "source": [
        "counter = 10\n",
        "while counter > 0:\n",
        "  print(counter)\n",
        "  counter = counter - 1\n",
        "print(\"end\")"
      ],
      "metadata": {
        "id": "Tbp3zxfi3cbm",
        "colab": {
          "base_uri": "https://localhost:8080/"
        },
        "outputId": "72012d43-1d69-4339-a794-eb70cdc0eb80"
      },
      "execution_count": 62,
      "outputs": [
        {
          "output_type": "stream",
          "name": "stdout",
          "text": [
            "10\n",
            "9\n",
            "8\n",
            "7\n",
            "6\n",
            "5\n",
            "4\n",
            "3\n",
            "2\n",
            "1\n",
            "end\n"
          ]
        }
      ]
    },
    {
      "cell_type": "code",
      "source": [
        "s = 0\n",
        "n = 1\n",
        "while n <= 10:\n",
        "  s += n\n",
        "  n += 1\n",
        "print(s)"
      ],
      "metadata": {
        "id": "s1l1Wf003UiZ",
        "colab": {
          "base_uri": "https://localhost:8080/"
        },
        "outputId": "56b34585-cdeb-42a3-c75e-f4f47185ca69"
      },
      "execution_count": 63,
      "outputs": [
        {
          "output_type": "stream",
          "name": "stdout",
          "text": [
            "55\n"
          ]
        }
      ]
    },
    {
      "cell_type": "markdown",
      "source": [
        "* 無限ループを実行してしまったら・・・\n",
        "  * Google Colabでは、セル左端の停止ボタンをクリックすれば処理が止まる。"
      ],
      "metadata": {
        "id": "Ewnt1ynX3W-3"
      }
    },
    {
      "cell_type": "code",
      "source": [
        "a = 1\n",
        "while True:\n",
        "  a = 1 - a"
      ],
      "metadata": {
        "id": "FcJg0QzM99XC",
        "colab": {
          "base_uri": "https://localhost:8080/",
          "height": 192
        },
        "outputId": "7e48c6a5-df7f-4163-eb3b-cd14af992141"
      },
      "execution_count": 66,
      "outputs": [
        {
          "output_type": "error",
          "ename": "KeyboardInterrupt",
          "evalue": "",
          "traceback": [
            "\u001b[0;31m---------------------------------------------------------------------------\u001b[0m",
            "\u001b[0;31mKeyboardInterrupt\u001b[0m                         Traceback (most recent call last)",
            "\u001b[0;32m<ipython-input-66-30b4690ad114>\u001b[0m in \u001b[0;36m<cell line: 0>\u001b[0;34m()\u001b[0m\n\u001b[1;32m      1\u001b[0m \u001b[0ma\u001b[0m \u001b[0;34m=\u001b[0m \u001b[0;36m1\u001b[0m\u001b[0;34m\u001b[0m\u001b[0;34m\u001b[0m\u001b[0m\n\u001b[0;32m----> 2\u001b[0;31m \u001b[0;32mwhile\u001b[0m \u001b[0;32mTrue\u001b[0m\u001b[0;34m:\u001b[0m\u001b[0;34m\u001b[0m\u001b[0;34m\u001b[0m\u001b[0m\n\u001b[0m\u001b[1;32m      3\u001b[0m   \u001b[0ma\u001b[0m \u001b[0;34m=\u001b[0m \u001b[0;36m1\u001b[0m \u001b[0;34m-\u001b[0m \u001b[0ma\u001b[0m\u001b[0;34m\u001b[0m\u001b[0;34m\u001b[0m\u001b[0m\n",
            "\u001b[0;31mKeyboardInterrupt\u001b[0m: "
          ]
        }
      ]
    },
    {
      "cell_type": "markdown",
      "source": [
        "## break文\n",
        "* ループから強制的に抜ける。"
      ],
      "metadata": {
        "id": "a2eEyBBB-CTc"
      }
    },
    {
      "cell_type": "code",
      "source": [
        "s = 0\n",
        "n = 1\n",
        "while True:\n",
        "  if n > 10:\n",
        "    print(n)\n",
        "    break\n",
        "  s += n\n",
        "  n += 1\n",
        "print(s)"
      ],
      "metadata": {
        "id": "tWg-o-K43VcP",
        "colab": {
          "base_uri": "https://localhost:8080/"
        },
        "outputId": "9e14e3a9-a8c1-4e0b-9a23-b666b12965f1"
      },
      "execution_count": 69,
      "outputs": [
        {
          "output_type": "stream",
          "name": "stdout",
          "text": [
            "11\n",
            "55\n"
          ]
        }
      ]
    },
    {
      "cell_type": "markdown",
      "source": [
        "# 課題20250428\n",
        "* 下記のコードを、コメントにある指示に従って完成させよう。\n",
        "* .ipynbファイルをCanvas LMSにアップロードすることで提出してください。\n",
        "  * notebookへのリンク（つまりURL）での提出は受け付けません。（昨年度までとの相違点。）\n",
        "* .ipynbファイルは、上部メニュー「ファイル」→「ダウンロード」→「.ipynbをダウンロード」で取得できます。\n",
        "* こうして自分のパソコンにダウンロードした.ipynbファイルを、Canvas LMSに提出してください。\n",
        "  * notebookへのリンク（つまりURL）での提出は受け付けません。（昨年度までとの相違点。）"
      ],
      "metadata": {
        "id": "6nT3NJ73r9hB"
      }
    },
    {
      "cell_type": "code",
      "source": [
        "text = \"wow\"\n",
        "a = 5\n",
        "print(text * a)"
      ],
      "metadata": {
        "colab": {
          "base_uri": "https://localhost:8080/"
        },
        "id": "9vWDbV3rwU7l",
        "outputId": "8d6bfbe4-79b8-4c6b-a50c-2206a9c35cc8"
      },
      "execution_count": 70,
      "outputs": [
        {
          "output_type": "stream",
          "name": "stdout",
          "text": [
            "wowwowwowwowwow\n"
          ]
        }
      ]
    },
    {
      "cell_type": "code",
      "source": [
        "text = \"wow\"\n",
        "a = 5\n",
        "\n",
        "if a >= 0:\n",
        "  # 変数textに設定された文字列を、変数aに設定された値の回数だけ表示する。\n",
        "  # ただし、繰り返して表示するときに、空白文字ひとつ分、あいだをあけること。\n",
        "else:\n",
        "  print(\"負の値は設定しないでください。\")"
      ],
      "metadata": {
        "id": "BzU6ixXestmH"
      },
      "execution_count": null,
      "outputs": []
    },
    {
      "cell_type": "code",
      "source": [],
      "metadata": {
        "id": "xeh0etcm_vr1"
      },
      "execution_count": null,
      "outputs": []
    }
  ]
}