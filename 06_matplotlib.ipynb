{
  "nbformat": 4,
  "nbformat_minor": 0,
  "metadata": {
    "colab": {
      "provenance": [],
      "mount_file_id": "1lTJQlXsWFDh81GD5lkKZbiV0EHyAeuU2",
      "authorship_tag": "ABX9TyOVYTF8DCc2PDhvURtAlGFJ",
      "include_colab_link": true
    },
    "kernelspec": {
      "name": "python3",
      "display_name": "Python 3"
    },
    "language_info": {
      "name": "python"
    }
  },
  "cells": [
    {
      "cell_type": "markdown",
      "metadata": {
        "id": "view-in-github",
        "colab_type": "text"
      },
      "source": [
        "<a href=\"https://colab.research.google.com/github/tomonari-masada/course2025-intro2ml/blob/main/06_matplotlib.ipynb\" target=\"_parent\"><img src=\"https://colab.research.google.com/assets/colab-badge.svg\" alt=\"Open In Colab\"/></a>"
      ]
    },
    {
      "cell_type": "markdown",
      "metadata": {
        "id": "Ld882uK8rXmL"
      },
      "source": [
        "# matplotlibの使い方\n",
        "* グラフを描くときによく使う。（可視化）\n",
        "* 類似のライブラリにseabornというものもある。\n",
        " * seabornの方がややキレイな図になる。\n",
        " * matplotlibを知っておけば。seabornを使うのは簡単。"
      ]
    },
    {
      "cell_type": "markdown",
      "metadata": {
        "id": "fsMTXZpn0qwI"
      },
      "source": [
        "* matplotlibの公式チートシート\n",
        "https://github.com/matplotlib/cheatsheets\n"
      ]
    },
    {
      "cell_type": "markdown",
      "metadata": {
        "id": "7g2OQ9d_0ush"
      },
      "source": [
        "### インポートの仕方"
      ]
    },
    {
      "cell_type": "code",
      "metadata": {
        "id": "FlN3gXiMrHiQ"
      },
      "source": [
        "import matplotlib.pyplot as plt"
      ],
      "execution_count": null,
      "outputs": []
    },
    {
      "cell_type": "markdown",
      "metadata": {
        "id": "WJwo5dS9sLsS"
      },
      "source": [
        "### 図の解像度を上げるための設定"
      ]
    },
    {
      "cell_type": "code",
      "metadata": {
        "id": "PhdXY90asEW6"
      },
      "source": [
        "%config InlineBackend.figure_format = 'retina'"
      ],
      "execution_count": null,
      "outputs": []
    },
    {
      "cell_type": "markdown",
      "metadata": {
        "id": "yWhm0bidrWTB"
      },
      "source": [
        "### 散布図"
      ]
    },
    {
      "cell_type": "code",
      "metadata": {
        "id": "XU58IdoQrD8G"
      },
      "source": [
        "import numpy as np\n",
        "\n",
        "x = np.array([0.7, 1.8, 3.6])\n",
        "y = np.array([3.3, 0.7, 4.8])\n",
        "\n",
        "plt.scatter(x, y);"
      ],
      "execution_count": null,
      "outputs": []
    },
    {
      "cell_type": "markdown",
      "metadata": {
        "id": "-8Hq1qnvrtlQ"
      },
      "source": [
        "### 線グラフ"
      ]
    },
    {
      "cell_type": "code",
      "metadata": {
        "id": "VjnuT1RIrJtn"
      },
      "source": [
        "import numpy as np"
      ],
      "execution_count": null,
      "outputs": []
    },
    {
      "cell_type": "code",
      "source": [
        "x = np.linspace(-5, 5, 101)\n",
        "print(x)"
      ],
      "metadata": {
        "id": "PEoZfJrOa8ed"
      },
      "execution_count": null,
      "outputs": []
    },
    {
      "cell_type": "code",
      "source": [
        "x ** 2"
      ],
      "metadata": {
        "id": "xVDyE2s4bHrG"
      },
      "execution_count": null,
      "outputs": []
    },
    {
      "cell_type": "code",
      "metadata": {
        "id": "ytpbNG41rPM4"
      },
      "source": [
        "y = x ** 2\n",
        "plt.plot(x, y);"
      ],
      "execution_count": null,
      "outputs": []
    },
    {
      "cell_type": "code",
      "metadata": {
        "id": "X7AuIAC6rVPg"
      },
      "source": [
        "x = np.linspace(-5, 5, 101)\n",
        "y = np.sin(x)\n",
        "plt.plot(x, y)\n"
      ],
      "execution_count": null,
      "outputs": []
    },
    {
      "cell_type": "markdown",
      "metadata": {
        "id": "QYEhy8AKtqFs"
      },
      "source": [
        "### 棒グラフ"
      ]
    },
    {
      "cell_type": "code",
      "metadata": {
        "id": "pCO2dJgcsR7r"
      },
      "source": [
        "items = [\"apple\", \"orange\", \"banana\", \"peach\"]\n",
        "counts = [100, 200, 300, 400]\n",
        "plt.bar(items, counts);"
      ],
      "execution_count": null,
      "outputs": []
    },
    {
      "cell_type": "markdown",
      "metadata": {
        "id": "RiYu5ahyr1b-"
      },
      "source": [
        "### 行列の可視化"
      ]
    },
    {
      "cell_type": "code",
      "metadata": {
        "id": "RUBw7VZTr73h"
      },
      "source": [
        "X = np.random.randn(10, 10)\n",
        "print(X)"
      ],
      "execution_count": null,
      "outputs": []
    },
    {
      "cell_type": "code",
      "metadata": {
        "id": "U2ZsGiAxsLV0"
      },
      "source": [
        "plt.imshow(X)\n",
        "plt.title(\"10x10 random matrix\");"
      ],
      "execution_count": null,
      "outputs": []
    },
    {
      "cell_type": "code",
      "source": [
        "X_eye = np.eye(6) # 単位行列"
      ],
      "metadata": {
        "id": "u1QYvIZvf6Dg"
      },
      "execution_count": null,
      "outputs": []
    },
    {
      "cell_type": "code",
      "source": [
        "print(X_eye)"
      ],
      "metadata": {
        "id": "l0vJExRBgACl"
      },
      "execution_count": null,
      "outputs": []
    },
    {
      "cell_type": "code",
      "source": [
        "plt.imshow(X_eye);"
      ],
      "metadata": {
        "id": "D-fG6M4VgDxX"
      },
      "execution_count": null,
      "outputs": []
    },
    {
      "cell_type": "markdown",
      "metadata": {
        "id": "MgUkAm2wt139"
      },
      "source": [
        "### 等高線\n",
        "* 2変数の関数の値を可視化するときに使う\n",
        "$$z=f(x, y)$$"
      ]
    },
    {
      "cell_type": "code",
      "metadata": {
        "id": "Ox0AzCBStZ7k"
      },
      "source": [
        "delta = 1.0\n",
        "x = np.arange(-3.0, 3.0, delta)\n",
        "y = np.arange(-2.0, 2.0, delta)"
      ],
      "execution_count": null,
      "outputs": []
    },
    {
      "cell_type": "code",
      "metadata": {
        "id": "NlOMAJfzuRer"
      },
      "source": [
        "print(x)\n",
        "print(y)"
      ],
      "execution_count": null,
      "outputs": []
    },
    {
      "cell_type": "markdown",
      "metadata": {
        "id": "3JAIExHgvKj_"
      },
      "source": [
        "* 格子点を作る関数"
      ]
    },
    {
      "cell_type": "code",
      "metadata": {
        "id": "eeS4MlesuELF"
      },
      "source": [
        "X, Y = np.meshgrid(x, y)"
      ],
      "execution_count": null,
      "outputs": []
    },
    {
      "cell_type": "code",
      "metadata": {
        "id": "MNgk8cSkuMh6"
      },
      "source": [
        "print(X)"
      ],
      "execution_count": null,
      "outputs": []
    },
    {
      "cell_type": "code",
      "metadata": {
        "id": "NhWyvxlzuUjK"
      },
      "source": [
        "print(Y)"
      ],
      "execution_count": null,
      "outputs": []
    },
    {
      "cell_type": "markdown",
      "metadata": {
        "id": "8Bj0X_VqvRby"
      },
      "source": [
        "* `X`と`Y`に同じインデックスでアクセスすると、格子点の座標が得られる。"
      ]
    },
    {
      "cell_type": "code",
      "metadata": {
        "id": "KB3rLXLOuWLb"
      },
      "source": [
        "print(X[0,0], Y[0,0])"
      ],
      "execution_count": null,
      "outputs": []
    },
    {
      "cell_type": "code",
      "metadata": {
        "id": "p2cfRUquvhBI"
      },
      "source": [
        "print(X[1,0], Y[1,0])"
      ],
      "execution_count": null,
      "outputs": []
    },
    {
      "cell_type": "code",
      "metadata": {
        "id": "hCS86mR8vb6t"
      },
      "source": [
        "print(X[2,3], Y[2,3])"
      ],
      "execution_count": null,
      "outputs": []
    },
    {
      "cell_type": "markdown",
      "metadata": {
        "id": "TDcb9J4-vEXo"
      },
      "source": [
        "* $z = x^2 + y^2$という関数の値の等高線を描く。"
      ]
    },
    {
      "cell_type": "code",
      "metadata": {
        "id": "FrP4h9c6ug1y"
      },
      "source": [
        "Z = X ** 2 + Y ** 2"
      ],
      "execution_count": null,
      "outputs": []
    },
    {
      "cell_type": "code",
      "metadata": {
        "id": "usdjheBsuqhq"
      },
      "source": [
        "print(Z)"
      ],
      "execution_count": null,
      "outputs": []
    },
    {
      "cell_type": "code",
      "metadata": {
        "id": "c8ynhRY7urgR"
      },
      "source": [
        "plt.contour(X, Y, Z)"
      ],
      "execution_count": null,
      "outputs": []
    },
    {
      "cell_type": "markdown",
      "metadata": {
        "id": "nnUojP6v0TnX"
      },
      "source": [
        "## 実践例\n",
        "* 有名なiris datasetを可視化する。"
      ]
    },
    {
      "cell_type": "markdown",
      "source": [
        "* scikit-learnを使ってiris datasetを読み込む（ロードする）"
      ],
      "metadata": {
        "id": "EgWaBXaUhtmI"
      }
    },
    {
      "cell_type": "code",
      "metadata": {
        "id": "6RLvSWYyuu1Z"
      },
      "source": [
        "from sklearn.datasets import load_iris\n",
        "data = load_iris()"
      ],
      "execution_count": null,
      "outputs": []
    },
    {
      "cell_type": "code",
      "source": [
        "data"
      ],
      "metadata": {
        "id": "EPwM23zaiAnQ"
      },
      "execution_count": null,
      "outputs": []
    },
    {
      "cell_type": "code",
      "metadata": {
        "id": "lB65o2Dtz03k"
      },
      "source": [
        "X = data.data"
      ],
      "execution_count": null,
      "outputs": []
    },
    {
      "cell_type": "code",
      "metadata": {
        "id": "TbuND-VVz51s"
      },
      "source": [
        "print(X)"
      ],
      "execution_count": null,
      "outputs": []
    },
    {
      "cell_type": "code",
      "metadata": {
        "id": "ABigg9VDz8Q8"
      },
      "source": [
        "print(data.feature_names)"
      ],
      "execution_count": null,
      "outputs": []
    },
    {
      "cell_type": "code",
      "source": [
        "X.shape"
      ],
      "metadata": {
        "id": "bnK5PTS9irT_"
      },
      "execution_count": null,
      "outputs": []
    },
    {
      "cell_type": "code",
      "source": [
        "X[10,:]"
      ],
      "metadata": {
        "id": "x_zteByIi2AT"
      },
      "execution_count": null,
      "outputs": []
    },
    {
      "cell_type": "code",
      "metadata": {
        "id": "_3oq8sBmz_p_"
      },
      "source": [
        "plt.scatter(X[:,1], X[:,2]) # 2列目全てと、3列目すべて\n",
        "plt.xlabel(data.feature_names[1])\n",
        "plt.ylabel(data.feature_names[2]);"
      ],
      "execution_count": null,
      "outputs": []
    },
    {
      "cell_type": "markdown",
      "metadata": {
        "id": "EvSPtsfTwXgB"
      },
      "source": [
        "# 課題20250526\n",
        "* NumPyやmatplotlibを使って・・・\n",
        "  1. 一年分の終値の平均値と標準偏差、最大値、最小値を求める\n",
        "  2. 一年分の終値の推移を、折れ線グラフで描く\n",
        "  3. 横軸に終値、縦軸に次の日の終値をとって、散布図を描く\n",
        "  4. 一年分の終値のヒストグラムを描く\n"
      ]
    },
    {
      "cell_type": "markdown",
      "metadata": {
        "id": "2fVxCPlYykAV"
      },
      "source": [
        "### 課題の準備\n",
        "* Google Spreadsheetsのサイトへ行く\n",
        "  * https://docs.google.com/spreadsheets/\n",
        "* GOOGL, AAPLなど適当な会社の2020年の毎日の終値を取得する\n",
        "  * 方法は右のサポートページに書いてある→\n",
        "https://support.google.com/docs/answer/3093281?hl=ja\n",
        "  * 例えば、セルに「`=GOOGLEFINANCE(\"NASDAQ:GOOG\", \"price\", DATE(2024,1,1), DATE(2024,12,31), \"DAILY\")`」と入力する。\n",
        "  * 株価データの部分だけを別のシートにコピーしてから、「.csv」形式のファイルとしてダウンロードする。\n",
        "* いまダウンロードしてきた「.csv」ファイルを、Google Colabに持ってきてから、読み込む。\n",
        "  * 読み込むには、NumPyのgenfromtxt関数を使う。delimiter（区切り文字）はカンマを指定。"
      ]
    },
    {
      "cell_type": "code",
      "metadata": {
        "id": "A5-rIChJwdaR"
      },
      "source": [
        "from google.colab import files\n",
        "files.upload()"
      ],
      "execution_count": null,
      "outputs": []
    },
    {
      "cell_type": "code",
      "metadata": {
        "id": "Fuk2HmRoxuTv"
      },
      "source": [
        "my_data = np.genfromtxt(\"/content/無題のスプレッドシート - シート2.csv\", delimiter=',')"
      ],
      "execution_count": null,
      "outputs": []
    },
    {
      "cell_type": "code",
      "metadata": {
        "id": "hIMPccTyx7Zd"
      },
      "source": [
        "print(my_data)"
      ],
      "execution_count": null,
      "outputs": []
    },
    {
      "cell_type": "code",
      "metadata": {
        "id": "8PFoJ1c-x-X9"
      },
      "source": [
        "type(my_data)"
      ],
      "execution_count": null,
      "outputs": []
    },
    {
      "cell_type": "code",
      "source": [
        "my_data[10]"
      ],
      "metadata": {
        "id": "7Vt_pKhFmquj"
      },
      "execution_count": null,
      "outputs": []
    },
    {
      "cell_type": "code",
      "source": [],
      "metadata": {
        "id": "DIn27hwUmsnP"
      },
      "execution_count": null,
      "outputs": []
    }
  ]
}