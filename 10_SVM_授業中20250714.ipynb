{
  "nbformat": 4,
  "nbformat_minor": 0,
  "metadata": {
    "colab": {
      "provenance": [],
      "authorship_tag": "ABX9TyO/gRuzBCRngk9nEov3JBkP",
      "include_colab_link": true
    },
    "kernelspec": {
      "name": "python3",
      "display_name": "Python 3"
    },
    "language_info": {
      "name": "python"
    }
  },
  "cells": [
    {
      "cell_type": "markdown",
      "metadata": {
        "id": "view-in-github",
        "colab_type": "text"
      },
      "source": [
        "<a href=\"https://colab.research.google.com/github/tomonari-masada/course2025-intro2ml/blob/main/10_SVM_%E6%8E%88%E6%A5%AD%E4%B8%AD20250714.ipynb\" target=\"_parent\"><img src=\"https://colab.research.google.com/assets/colab-badge.svg\" alt=\"Open In Colab\"/></a>"
      ]
    },
    {
      "cell_type": "markdown",
      "metadata": {
        "id": "Gan0WLEv-ZGC"
      },
      "source": [
        "# パーセプトロンとSVM"
      ]
    },
    {
      "cell_type": "code",
      "metadata": {
        "id": "JIcOWnYu-YMX"
      },
      "source": [
        "import numpy as np\n",
        "import matplotlib.pyplot as plt\n",
        "from sklearn.model_selection import train_test_split\n",
        "from sklearn.datasets import fetch_openml\n",
        "from sklearn.linear_model import Perceptron\n",
        "from sklearn.svm import LinearSVC\n",
        "from sklearn.linear_model import SGDClassifier\n",
        "\n",
        "%config InlineBackend.figure_format = 'retina'"
      ],
      "execution_count": 1,
      "outputs": []
    },
    {
      "cell_type": "markdown",
      "metadata": {
        "id": "jW09_g8mBZAc"
      },
      "source": [
        "## MNISTデータを使う"
      ]
    },
    {
      "cell_type": "markdown",
      "metadata": {
        "id": "qalamp07dMpR"
      },
      "source": [
        "* 関数`sklearn.datasets.fetch_openml`を利用してMNISTデータをダウンロードする。"
      ]
    },
    {
      "cell_type": "code",
      "metadata": {
        "id": "k5T4xL1tBWoV"
      },
      "source": [
        "mnist = fetch_openml('mnist_784')"
      ],
      "execution_count": 2,
      "outputs": []
    },
    {
      "cell_type": "code",
      "source": [
        "X, y = mnist.data, mnist.target"
      ],
      "metadata": {
        "id": "wmEzfk5GPbvB"
      },
      "execution_count": 3,
      "outputs": []
    },
    {
      "cell_type": "code",
      "source": [
        "print(X.shape, y.shape)"
      ],
      "metadata": {
        "id": "vvtYvJR6Pck5",
        "colab": {
          "base_uri": "https://localhost:8080/"
        },
        "outputId": "265d39a4-256c-4dee-b4c2-cf571a1120bc"
      },
      "execution_count": 4,
      "outputs": [
        {
          "output_type": "stream",
          "name": "stdout",
          "text": [
            "(70000, 784) (70000,)\n"
          ]
        }
      ]
    },
    {
      "cell_type": "markdown",
      "metadata": {
        "id": "7ActyQkLdS4d"
      },
      "source": [
        "* 通常、MNISTデータは最後の10000件をテストデータとして使う。"
      ]
    },
    {
      "cell_type": "code",
      "metadata": {
        "id": "xAcCKb0_Bgud"
      },
      "source": [
        "X_train, X_test = X[:60000], X[60000:]\n",
        "y_train, y_test = y[:60000], y[60000:]"
      ],
      "execution_count": 5,
      "outputs": []
    },
    {
      "cell_type": "markdown",
      "source": [
        "* テストデータ以外の60000件を、訓練データ50000件と検証データ10000件へ分割しておく。"
      ],
      "metadata": {
        "id": "8Hr6JrAI1Tf2"
      }
    },
    {
      "cell_type": "code",
      "source": [
        "X_train, X_val, y_train, y_val = train_test_split(\n",
        "    X_train, y_train,\n",
        "    test_size=10000,\n",
        "    random_state=42,\n",
        ")"
      ],
      "metadata": {
        "id": "_47X4gyI1SgT"
      },
      "execution_count": 6,
      "outputs": []
    },
    {
      "cell_type": "code",
      "source": [
        "print(X_train.shape, X_val.shape, X_test.shape)"
      ],
      "metadata": {
        "id": "zGtWqqtT1Yyf",
        "colab": {
          "base_uri": "https://localhost:8080/"
        },
        "outputId": "0a90495a-3be5-40da-c523-c49323766b3a"
      },
      "execution_count": 7,
      "outputs": [
        {
          "output_type": "stream",
          "name": "stdout",
          "text": [
            "(50000, 784) (10000, 784) (10000, 784)\n"
          ]
        }
      ]
    },
    {
      "cell_type": "markdown",
      "metadata": {
        "id": "QecEjxyMdXQe"
      },
      "source": [
        "* 訓練データの最初の100個を可視化してみる。"
      ]
    },
    {
      "cell_type": "code",
      "metadata": {
        "id": "zacmZ9O3BjVW",
        "colab": {
          "base_uri": "https://localhost:8080/",
          "height": 406
        },
        "outputId": "5659f43f-da85-4e1e-d188-6f3854aab426"
      },
      "source": [
        "fig, axes = plt.subplots(10, 10)\n",
        "for x, ax in zip(X_train.values, axes.ravel()):\n",
        "  ax.axis('off') # 軸を消す\n",
        "  ax.matshow(x.reshape(28, 28), cmap=plt.cm.gray)\n",
        "plt.show()"
      ],
      "execution_count": 8,
      "outputs": [
        {
          "output_type": "display_data",
          "data": {
            "text/plain": [
              "<Figure size 640x480 with 100 Axes>"
            ],
            "image/png": "[encoded data removed]"
          },
          "metadata": {
            "image/png": {
              "width": 505,
              "height": 389
            }
          }
        }
      ]
    },
    {
      "cell_type": "markdown",
      "metadata": {
        "id": "F3sU13WRB6F3"
      },
      "source": [
        "* 問題を2値分類問題に変える。\n",
        "  * 0とそれ以外の2値分類問題にしてしまう。"
      ]
    },
    {
      "cell_type": "markdown",
      "source": [
        "* その前に、元の正解ラベルをコピーしておく。"
      ],
      "metadata": {
        "id": "dWh3LoPqnHHt"
      }
    },
    {
      "cell_type": "code",
      "source": [
        "y_train_original = y_train.copy()\n",
        "y_val_original = y_val.copy()\n",
        "y_test_original = y_test.copy()"
      ],
      "metadata": {
        "id": "Ji4dr2jenDsI"
      },
      "execution_count": 9,
      "outputs": []
    },
    {
      "cell_type": "code",
      "metadata": {
        "id": "Znn2YGyvBw4W"
      },
      "source": [
        "y_train = (y_train != '0') * 1\n",
        "y_val = (y_val != '0') * 1\n",
        "y_test = (y_test != '0') * 1"
      ],
      "execution_count": 10,
      "outputs": []
    },
    {
      "cell_type": "code",
      "metadata": {
        "id": "onJS3wEufkyr",
        "colab": {
          "base_uri": "https://localhost:8080/"
        },
        "outputId": "5a266b17-8e33-462f-b266-e7745551ee80"
      },
      "source": [
        "print(f'{(y_train == 0).sum()} zero digits and {(y_train == 1).sum()} non-zero digits in training set')"
      ],
      "execution_count": 11,
      "outputs": [
        {
          "output_type": "stream",
          "name": "stdout",
          "text": [
            "4939 zero digits and 45061 non-zero digits in training set\n"
          ]
        }
      ]
    },
    {
      "cell_type": "markdown",
      "metadata": {
        "id": "XOQeYKAdn85i"
      },
      "source": [
        "## パーセプトロンによる分類の実行\n",
        "* `sklearn.linear_model.Perceptron`クラスを使う。"
      ]
    },
    {
      "cell_type": "markdown",
      "metadata": {
        "id": "v5xixjXvoMdK"
      },
      "source": [
        "## パーセプトロンでの正則化\n",
        "* scikit-learnのパーセプトロンでは、`alpha`というパラメータを調整する。\n",
        "  * リッジ回帰やLassoの`alpha`と同じ。大きいほど正則化が強く効く。\n",
        "* 正則化の種類は`penalty`を`'l2'`か`'l1'`に設定することでおこなう。\n",
        "  * `l2`だと、係数の二乗の和を最小化する。\n",
        "  * `l1`だと、係数の絶対値の和を最小化する。"
      ]
    },
    {
      "cell_type": "code",
      "metadata": {
        "id": "Zk_p8Cp-oDzA",
        "colab": {
          "base_uri": "https://localhost:8080/",
          "height": 80
        },
        "outputId": "5a80c23a-e01f-409b-a410-5e22bf8dacbd"
      },
      "source": [
        "clf = Perceptron()\n",
        "clf.fit(X_train, y_train)"
      ],
      "execution_count": 12,
      "outputs": [
        {
          "output_type": "execute_result",
          "data": {
            "text/plain": [
              "Perceptron()"
            ],
            "text/html": [
              "<style>#sk-container-id-1 {\n",
              "  /* Definition of color scheme common for light and dark mode */\n",
              "  --sklearn-color-text: #000;\n",
              "  --sklearn-color-text-muted: #666;\n",
              "  --sklearn-color-line: gray;\n",
              "  /* Definition of color scheme for unfitted estimators */\n",
              "  --sklearn-color-unfitted-level-0: #fff5e6;\n",
              "  --sklearn-color-unfitted-level-1: #f6e4d2;\n",
              "  --sklearn-color-unfitted-level-2: #ffe0b3;\n",
              "  --sklearn-color-unfitted-level-3: chocolate;\n",
              "  /* Definition of color scheme for fitted estimators */\n",
              "  --sklearn-color-fitted-level-0: #f0f8ff;\n",
              "  --sklearn-color-fitted-level-1: #d4ebff;\n",
              "  --sklearn-color-fitted-level-2: #b3dbfd;\n",
              "  --sklearn-color-fitted-level-3: cornflowerblue;\n",
              "\n",
              "  /* Specific color for light theme */\n",
              "  --sklearn-color-text-on-default-background: var(--sg-text-color, var(--theme-code-foreground, var(--jp-content-font-color1, black)));\n",
              "  --sklearn-color-background: var(--sg-background-color, var(--theme-background, var(--jp-layout-color0, white)));\n",
              "  --sklearn-color-border-box: var(--sg-text-color, var(--theme-code-foreground, var(--jp-content-font-color1, black)));\n",
              "  --sklearn-color-icon: #696969;\n",
              "\n",
              "  @media (prefers-color-scheme: dark) {\n",
              "    /* Redefinition of color scheme for dark theme */\n",
              "    --sklearn-color-text-on-default-background: var(--sg-text-color, var(--theme-code-foreground, var(--jp-content-font-color1, white)));\n",
              "    --sklearn-color-background: var(--sg-background-color, var(--theme-background, var(--jp-layout-color0, #111)));\n",
              "    --sklearn-color-border-box: var(--sg-text-color, var(--theme-code-foreground, var(--jp-content-font-color1, white)));\n",
              "    --sklearn-color-icon: #878787;\n",
              "  }\n",
              "}\n",
              "\n",
              "#sk-container-id-1 {\n",
              "  color: var(--sklearn-color-text);\n",
              "}\n",
              "\n",
              "#sk-container-id-1 pre {\n",
              "  padding: 0;\n",
              "}\n",
              "\n",
              "#sk-container-id-1 input.sk-hidden--visually {\n",
              "  border: 0;\n",
              "  clip: rect(1px 1px 1px 1px);\n",
              "  clip: rect(1px, 1px, 1px, 1px);\n",
              "  height: 1px;\n",
              "  margin: -1px;\n",
              "  overflow: hidden;\n",
              "  padding: 0;\n",
              "  position: absolute;\n",
              "  width: 1px;\n",
              "}\n",
              "\n",
              "#sk-container-id-1 div.sk-dashed-wrapped {\n",
              "  border: 1px dashed var(--sklearn-color-line);\n",
              "  margin: 0 0.4em 0.5em 0.4em;\n",
              "  box-sizing: border-box;\n",
              "  padding-bottom: 0.4em;\n",
              "  background-color: var(--sklearn-color-background);\n",
              "}\n",
              "\n",
              "#sk-container-id-1 div.sk-container {\n",
              "  /* jupyter's `normalize.less` sets `[hidden] { display: none; }`\n",
              "     but bootstrap.min.css set `[hidden] { display: none !important; }`\n",
              "     so we also need the `!important` here to be able to override the\n",
              "     default hidden behavior on the sphinx rendered scikit-learn.org.\n",
              "     See: https://github.com/scikit-learn/scikit-learn/issues/21755 */\n",
              "  display: inline-block !important;\n",
              "  position: relative;\n",
              "}\n",
              "\n",
              "#sk-container-id-1 div.sk-text-repr-fallback {\n",
              "  display: none;\n",
              "}\n",
              "\n",
              "div.sk-parallel-item,\n",
              "div.sk-serial,\n",
              "div.sk-item {\n",
              "  /* draw centered vertical line to link estimators */\n",
              "  background-image: linear-gradient(var(--sklearn-color-text-on-default-background), var(--sklearn-color-text-on-default-background));\n",
              "  background-size: 2px 100%;\n",
              "  background-repeat: no-repeat;\n",
              "  background-position: center center;\n",
              "}\n",
              "\n",
              "/* Parallel-specific style estimator block */\n",
              "\n",
              "#sk-container-id-1 div.sk-parallel-item::after {\n",
              "  content: \"\";\n",
              "  width: 100%;\n",
              "  border-bottom: 2px solid var(--sklearn-color-text-on-default-background);\n",
              "  flex-grow: 1;\n",
              "}\n",
              "\n",
              "#sk-container-id-1 div.sk-parallel {\n",
              "  display: flex;\n",
              "  align-items: stretch;\n",
              "  justify-content: center;\n",
              "  background-color: var(--sklearn-color-background);\n",
              "  position: relative;\n",
              "}\n",
              "\n",
              "#sk-container-id-1 div.sk-parallel-item {\n",
              "  display: flex;\n",
              "  flex-direction: column;\n",
              "}\n",
              "\n",
              "#sk-container-id-1 div.sk-parallel-item:first-child::after {\n",
              "  align-self: flex-end;\n",
              "  width: 50%;\n",
              "}\n",
              "\n",
              "#sk-container-id-1 div.sk-parallel-item:last-child::after {\n",
              "  align-self: flex-start;\n",
              "  width: 50%;\n",
              "}\n",
              "\n",
              "#sk-container-id-1 div.sk-parallel-item:only-child::after {\n",
              "  width: 0;\n",
              "}\n",
              "\n",
              "/* Serial-specific style estimator block */\n",
              "\n",
              "#sk-container-id-1 div.sk-serial {\n",
              "  display: flex;\n",
              "  flex-direction: column;\n",
              "  align-items: center;\n",
              "  background-color: var(--sklearn-color-background);\n",
              "  padding-right: 1em;\n",
              "  padding-left: 1em;\n",
              "}\n",
              "\n",
              "\n",
              "/* Toggleable style: style used for estimator/Pipeline/ColumnTransformer box that is\n",
              "clickable and can be expanded/collapsed.\n",
              "- Pipeline and ColumnTransformer use this feature and define the default style\n",
              "- Estimators will overwrite some part of the style using the `sk-estimator` class\n",
              "*/\n",
              "\n",
              "/* Pipeline and ColumnTransformer style (default) */\n",
              "\n",
              "#sk-container-id-1 div.sk-toggleable {\n",
              "  /* Default theme specific background. It is overwritten whether we have a\n",
              "  specific estimator or a Pipeline/ColumnTransformer */\n",
              "  background-color: var(--sklearn-color-background);\n",
              "}\n",
              "\n",
              "/* Toggleable label */\n",
              "#sk-container-id-1 label.sk-toggleable__label {\n",
              "  cursor: pointer;\n",
              "  display: flex;\n",
              "  width: 100%;\n",
              "  margin-bottom: 0;\n",
              "  padding: 0.5em;\n",
              "  box-sizing: border-box;\n",
              "  text-align: center;\n",
              "  align-items: start;\n",
              "  justify-content: space-between;\n",
              "  gap: 0.5em;\n",
              "}\n",
              "\n",
              "#sk-container-id-1 label.sk-toggleable__label .caption {\n",
              "  font-size: 0.6rem;\n",
              "  font-weight: lighter;\n",
              "  color: var(--sklearn-color-text-muted);\n",
              "}\n",
              "\n",
              "#sk-container-id-1 label.sk-toggleable__label-arrow:before {\n",
              "  /* Arrow on the left of the label */\n",
              "  content: \"▸\";\n",
              "  float: left;\n",
              "  margin-right: 0.25em;\n",
              "  color: var(--sklearn-color-icon);\n",
              "}\n",
              "\n",
              "#sk-container-id-1 label.sk-toggleable__label-arrow:hover:before {\n",
              "  color: var(--sklearn-color-text);\n",
              "}\n",
              "\n",
              "/* Toggleable content - dropdown */\n",
              "\n",
              "#sk-container-id-1 div.sk-toggleable__content {\n",
              "  max-height: 0;\n",
              "  max-width: 0;\n",
              "  overflow: hidden;\n",
              "  text-align: left;\n",
              "  /* unfitted */\n",
              "  background-color: var(--sklearn-color-unfitted-level-0);\n",
              "}\n",
              "\n",
              "#sk-container-id-1 div.sk-toggleable__content.fitted {\n",
              "  /* fitted */\n",
              "  background-color: var(--sklearn-color-fitted-level-0);\n",
              "}\n",
              "\n",
              "#sk-container-id-1 div.sk-toggleable__content pre {\n",
              "  margin: 0.2em;\n",
              "  border-radius: 0.25em;\n",
              "  color: var(--sklearn-color-text);\n",
              "  /* unfitted */\n",
              "  background-color: var(--sklearn-color-unfitted-level-0);\n",
              "}\n",
              "\n",
              "#sk-container-id-1 div.sk-toggleable__content.fitted pre {\n",
              "  /* unfitted */\n",
              "  background-color: var(--sklearn-color-fitted-level-0);\n",
              "}\n",
              "\n",
              "#sk-container-id-1 input.sk-toggleable__control:checked~div.sk-toggleable__content {\n",
              "  /* Expand drop-down */\n",
              "  max-height: 200px;\n",
              "  max-width: 100%;\n",
              "  overflow: auto;\n",
              "}\n",
              "\n",
              "#sk-container-id-1 input.sk-toggleable__control:checked~label.sk-toggleable__label-arrow:before {\n",
              "  content: \"▾\";\n",
              "}\n",
              "\n",
              "/* Pipeline/ColumnTransformer-specific style */\n",
              "\n",
              "#sk-container-id-1 div.sk-label input.sk-toggleable__control:checked~label.sk-toggleable__label {\n",
              "  color: var(--sklearn-color-text);\n",
              "  background-color: var(--sklearn-color-unfitted-level-2);\n",
              "}\n",
              "\n",
              "#sk-container-id-1 div.sk-label.fitted input.sk-toggleable__control:checked~label.sk-toggleable__label {\n",
              "  background-color: var(--sklearn-color-fitted-level-2);\n",
              "}\n",
              "\n",
              "/* Estimator-specific style */\n",
              "\n",
              "/* Colorize estimator box */\n",
              "#sk-container-id-1 div.sk-estimator input.sk-toggleable__control:checked~label.sk-toggleable__label {\n",
              "  /* unfitted */\n",
              "  background-color: var(--sklearn-color-unfitted-level-2);\n",
              "}\n",
              "\n",
              "#sk-container-id-1 div.sk-estimator.fitted input.sk-toggleable__control:checked~label.sk-toggleable__label {\n",
              "  /* fitted */\n",
              "  background-color: var(--sklearn-color-fitted-level-2);\n",
              "}\n",
              "\n",
              "#sk-container-id-1 div.sk-label label.sk-toggleable__label,\n",
              "#sk-container-id-1 div.sk-label label {\n",
              "  /* The background is the default theme color */\n",
              "  color: var(--sklearn-color-text-on-default-background);\n",
              "}\n",
              "\n",
              "/* On hover, darken the color of the background */\n",
              "#sk-container-id-1 div.sk-label:hover label.sk-toggleable__label {\n",
              "  color: var(--sklearn-color-text);\n",
              "  background-color: var(--sklearn-color-unfitted-level-2);\n",
              "}\n",
              "\n",
              "/* Label box, darken color on hover, fitted */\n",
              "#sk-container-id-1 div.sk-label.fitted:hover label.sk-toggleable__label.fitted {\n",
              "  color: var(--sklearn-color-text);\n",
              "  background-color: var(--sklearn-color-fitted-level-2);\n",
              "}\n",
              "\n",
              "/* Estimator label */\n",
              "\n",
              "#sk-container-id-1 div.sk-label label {\n",
              "  font-family: monospace;\n",
              "  font-weight: bold;\n",
              "  display: inline-block;\n",
              "  line-height: 1.2em;\n",
              "}\n",
              "\n",
              "#sk-container-id-1 div.sk-label-container {\n",
              "  text-align: center;\n",
              "}\n",
              "\n",
              "/* Estimator-specific */\n",
              "#sk-container-id-1 div.sk-estimator {\n",
              "  font-family: monospace;\n",
              "  border: 1px dotted var(--sklearn-color-border-box);\n",
              "  border-radius: 0.25em;\n",
              "  box-sizing: border-box;\n",
              "  margin-bottom: 0.5em;\n",
              "  /* unfitted */\n",
              "  background-color: var(--sklearn-color-unfitted-level-0);\n",
              "}\n",
              "\n",
              "#sk-container-id-1 div.sk-estimator.fitted {\n",
              "  /* fitted */\n",
              "  background-color: var(--sklearn-color-fitted-level-0);\n",
              "}\n",
              "\n",
              "/* on hover */\n",
              "#sk-container-id-1 div.sk-estimator:hover {\n",
              "  /* unfitted */\n",
              "  background-color: var(--sklearn-color-unfitted-level-2);\n",
              "}\n",
              "\n",
              "#sk-container-id-1 div.sk-estimator.fitted:hover {\n",
              "  /* fitted */\n",
              "  background-color: var(--sklearn-color-fitted-level-2);\n",
              "}\n",
              "\n",
              "/* Specification for estimator info (e.g. \"i\" and \"?\") */\n",
              "\n",
              "/* Common style for \"i\" and \"?\" */\n",
              "\n",
              ".sk-estimator-doc-link,\n",
              "a:link.sk-estimator-doc-link,\n",
              "a:visited.sk-estimator-doc-link {\n",
              "  float: right;\n",
              "  font-size: smaller;\n",
              "  line-height: 1em;\n",
              "  font-family: monospace;\n",
              "  background-color: var(--sklearn-color-background);\n",
              "  border-radius: 1em;\n",
              "  height: 1em;\n",
              "  width: 1em;\n",
              "  text-decoration: none !important;\n",
              "  margin-left: 0.5em;\n",
              "  text-align: center;\n",
              "  /* unfitted */\n",
              "  border: var(--sklearn-color-unfitted-level-1) 1pt solid;\n",
              "  color: var(--sklearn-color-unfitted-level-1);\n",
              "}\n",
              "\n",
              ".sk-estimator-doc-link.fitted,\n",
              "a:link.sk-estimator-doc-link.fitted,\n",
              "a:visited.sk-estimator-doc-link.fitted {\n",
              "  /* fitted */\n",
              "  border: var(--sklearn-color-fitted-level-1) 1pt solid;\n",
              "  color: var(--sklearn-color-fitted-level-1);\n",
              "}\n",
              "\n",
              "/* On hover */\n",
              "div.sk-estimator:hover .sk-estimator-doc-link:hover,\n",
              ".sk-estimator-doc-link:hover,\n",
              "div.sk-label-container:hover .sk-estimator-doc-link:hover,\n",
              ".sk-estimator-doc-link:hover {\n",
              "  /* unfitted */\n",
              "  background-color: var(--sklearn-color-unfitted-level-3);\n",
              "  color: var(--sklearn-color-background);\n",
              "  text-decoration: none;\n",
              "}\n",
              "\n",
              "div.sk-estimator.fitted:hover .sk-estimator-doc-link.fitted:hover,\n",
              ".sk-estimator-doc-link.fitted:hover,\n",
              "div.sk-label-container:hover .sk-estimator-doc-link.fitted:hover,\n",
              ".sk-estimator-doc-link.fitted:hover {\n",
              "  /* fitted */\n",
              "  background-color: var(--sklearn-color-fitted-level-3);\n",
              "  color: var(--sklearn-color-background);\n",
              "  text-decoration: none;\n",
              "}\n",
              "\n",
              "/* Span, style for the box shown on hovering the info icon */\n",
              ".sk-estimator-doc-link span {\n",
              "  display: none;\n",
              "  z-index: 9999;\n",
              "  position: relative;\n",
              "  font-weight: normal;\n",
              "  right: .2ex;\n",
              "  padding: .5ex;\n",
              "  margin: .5ex;\n",
              "  width: min-content;\n",
              "  min-width: 20ex;\n",
              "  max-width: 50ex;\n",
              "  color: var(--sklearn-color-text);\n",
              "  box-shadow: 2pt 2pt 4pt #999;\n",
              "  /* unfitted */\n",
              "  background: var(--sklearn-color-unfitted-level-0);\n",
              "  border: .5pt solid var(--sklearn-color-unfitted-level-3);\n",
              "}\n",
              "\n",
              ".sk-estimator-doc-link.fitted span {\n",
              "  /* fitted */\n",
              "  background: var(--sklearn-color-fitted-level-0);\n",
              "  border: var(--sklearn-color-fitted-level-3);\n",
              "}\n",
              "\n",
              ".sk-estimator-doc-link:hover span {\n",
              "  display: block;\n",
              "}\n",
              "\n",
              "/* \"?\"-specific style due to the `<a>` HTML tag */\n",
              "\n",
              "#sk-container-id-1 a.estimator_doc_link {\n",
              "  float: right;\n",
              "  font-size: 1rem;\n",
              "  line-height: 1em;\n",
              "  font-family: monospace;\n",
              "  background-color: var(--sklearn-color-background);\n",
              "  border-radius: 1rem;\n",
              "  height: 1rem;\n",
              "  width: 1rem;\n",
              "  text-decoration: none;\n",
              "  /* unfitted */\n",
              "  color: var(--sklearn-color-unfitted-level-1);\n",
              "  border: var(--sklearn-color-unfitted-level-1) 1pt solid;\n",
              "}\n",
              "\n",
              "#sk-container-id-1 a.estimator_doc_link.fitted {\n",
              "  /* fitted */\n",
              "  border: var(--sklearn-color-fitted-level-1) 1pt solid;\n",
              "  color: var(--sklearn-color-fitted-level-1);\n",
              "}\n",
              "\n",
              "/* On hover */\n",
              "#sk-container-id-1 a.estimator_doc_link:hover {\n",
              "  /* unfitted */\n",
              "  background-color: var(--sklearn-color-unfitted-level-3);\n",
              "  color: var(--sklearn-color-background);\n",
              "  text-decoration: none;\n",
              "}\n",
              "\n",
              "#sk-container-id-1 a.estimator_doc_link.fitted:hover {\n",
              "  /* fitted */\n",
              "  background-color: var(--sklearn-color-fitted-level-3);\n",
              "}\n",
              "</style><div id=\"sk-container-id-1\" class=\"sk-top-container\"><div class=\"sk-text-repr-fallback\"><pre>Perceptron()</pre><b>In a Jupyter environment, please rerun this cell to show the HTML representation or trust the notebook. <br />On GitHub, the HTML representation is unable to render, please try loading this page with nbviewer.org.</b></div><div class=\"sk-container\" hidden><div class=\"sk-item\"><div class=\"sk-estimator fitted sk-toggleable\"><input class=\"sk-toggleable__control sk-hidden--visually\" id=\"sk-estimator-id-1\" type=\"checkbox\" checked><label for=\"sk-estimator-id-1\" class=\"sk-toggleable__label fitted sk-toggleable__label-arrow\"><div><div>Perceptron</div></div><div><a class=\"sk-estimator-doc-link fitted\" rel=\"noreferrer\" target=\"_blank\" href=\"https://scikit-learn.org/1.6/modules/generated/sklearn.linear_model.Perceptron.html\">?<span>Documentation for Perceptron</span></a><span class=\"sk-estimator-doc-link fitted\">i<span>Fitted</span></span></div></label><div class=\"sk-toggleable__content fitted\"><pre>Perceptron()</pre></div> </div></div></div></div>"
            ]
          },
          "metadata": {},
          "execution_count": 12
        }
      ]
    },
    {
      "cell_type": "code",
      "metadata": {
        "id": "5OvA1L_gpw3g",
        "colab": {
          "base_uri": "https://localhost:8080/"
        },
        "outputId": "f0ae3ed8-e4c0-4ccd-e616-4422288d1174"
      },
      "source": [
        "print(f'Accuracy: {clf.score(X_val, y_val):.4f}')"
      ],
      "execution_count": 13,
      "outputs": [
        {
          "output_type": "stream",
          "name": "stdout",
          "text": [
            "Accuracy: 0.9842\n"
          ]
        }
      ]
    },
    {
      "cell_type": "markdown",
      "metadata": {
        "id": "BwClOs7ZduMt"
      },
      "source": [
        "## SVMによる分類の実行\n",
        "* SVM = support vector machine\n",
        "* ここでは、`LinearSVC`クラスを使う。\n",
        "  * `SVC`クラスを使ってもよい。\n",
        "  * `SVC`クラスを使うと、カーネルを指定できる。\n",
        "* 分類器を準備し、訓練データを渡して係数と切片を推定させる。\n",
        "  * 訓練データの個数が多いので、少し時間がかかる。\n",
        "  * 推定計算が収束しない場合は、`max_iter`を増やしてみる。"
      ]
    },
    {
      "cell_type": "markdown",
      "metadata": {
        "id": "n8X4NBHhb8Zq"
      },
      "source": [
        "## SVMでの正則化\n",
        "* scikit-learnの`LinearSVC`では、`C`というパラメータを調整する。\n",
        "  * https://scikit-learn.org/stable/modules/generated/sklearn.svm.LinearSVC.html\n",
        "* `C`は、小さいほど、正則化が強く効く＝係数をより強くゼロに近づける。\n",
        "  * デフォルト（既定）の設定は`C=1.0`。\n",
        "  * リッジ回帰やLassoの`alpha`とは、向きが逆であることに、注意。"
      ]
    },
    {
      "cell_type": "code",
      "metadata": {
        "id": "eANdkjTaB5gF",
        "colab": {
          "base_uri": "https://localhost:8080/",
          "height": 80
        },
        "outputId": "9f359586-42d2-4270-b97c-1d702e2b845e"
      },
      "source": [
        "clf = LinearSVC()\n",
        "clf.fit(X_train, y_train) # Google Colabでも1分以内には終わる。"
      ],
      "execution_count": 14,
      "outputs": [
        {
          "output_type": "execute_result",
          "data": {
            "text/plain": [
              "LinearSVC()"
            ],
            "text/html": [
              "<style>#sk-container-id-2 {\n",
              "  /* Definition of color scheme common for light and dark mode */\n",
              "  --sklearn-color-text: #000;\n",
              "  --sklearn-color-text-muted: #666;\n",
              "  --sklearn-color-line: gray;\n",
              "  /* Definition of color scheme for unfitted estimators */\n",
              "  --sklearn-color-unfitted-level-0: #fff5e6;\n",
              "  --sklearn-color-unfitted-level-1: #f6e4d2;\n",
              "  --sklearn-color-unfitted-level-2: #ffe0b3;\n",
              "  --sklearn-color-unfitted-level-3: chocolate;\n",
              "  /* Definition of color scheme for fitted estimators */\n",
              "  --sklearn-color-fitted-level-0: #f0f8ff;\n",
              "  --sklearn-color-fitted-level-1: #d4ebff;\n",
              "  --sklearn-color-fitted-level-2: #b3dbfd;\n",
              "  --sklearn-color-fitted-level-3: cornflowerblue;\n",
              "\n",
              "  /* Specific color for light theme */\n",
              "  --sklearn-color-text-on-default-background: var(--sg-text-color, var(--theme-code-foreground, var(--jp-content-font-color1, black)));\n",
              "  --sklearn-color-background: var(--sg-background-color, var(--theme-background, var(--jp-layout-color0, white)));\n",
              "  --sklearn-color-border-box: var(--sg-text-color, var(--theme-code-foreground, var(--jp-content-font-color1, black)));\n",
              "  --sklearn-color-icon: #696969;\n",
              "\n",
              "  @media (prefers-color-scheme: dark) {\n",
              "    /* Redefinition of color scheme for dark theme */\n",
              "    --sklearn-color-text-on-default-background: var(--sg-text-color, var(--theme-code-foreground, var(--jp-content-font-color1, white)));\n",
              "    --sklearn-color-background: var(--sg-background-color, var(--theme-background, var(--jp-layout-color0, #111)));\n",
              "    --sklearn-color-border-box: var(--sg-text-color, var(--theme-code-foreground, var(--jp-content-font-color1, white)));\n",
              "    --sklearn-color-icon: #878787;\n",
              "  }\n",
              "}\n",
              "\n",
              "#sk-container-id-2 {\n",
              "  color: var(--sklearn-color-text);\n",
              "}\n",
              "\n",
              "#sk-container-id-2 pre {\n",
              "  padding: 0;\n",
              "}\n",
              "\n",
              "#sk-container-id-2 input.sk-hidden--visually {\n",
              "  border: 0;\n",
              "  clip: rect(1px 1px 1px 1px);\n",
              "  clip: rect(1px, 1px, 1px, 1px);\n",
              "  height: 1px;\n",
              "  margin: -1px;\n",
              "  overflow: hidden;\n",
              "  padding: 0;\n",
              "  position: absolute;\n",
              "  width: 1px;\n",
              "}\n",
              "\n",
              "#sk-container-id-2 div.sk-dashed-wrapped {\n",
              "  border: 1px dashed var(--sklearn-color-line);\n",
              "  margin: 0 0.4em 0.5em 0.4em;\n",
              "  box-sizing: border-box;\n",
              "  padding-bottom: 0.4em;\n",
              "  background-color: var(--sklearn-color-background);\n",
              "}\n",
              "\n",
              "#sk-container-id-2 div.sk-container {\n",
              "  /* jupyter's `normalize.less` sets `[hidden] { display: none; }`\n",
              "     but bootstrap.min.css set `[hidden] { display: none !important; }`\n",
              "     so we also need the `!important` here to be able to override the\n",
              "     default hidden behavior on the sphinx rendered scikit-learn.org.\n",
              "     See: https://github.com/scikit-learn/scikit-learn/issues/21755 */\n",
              "  display: inline-block !important;\n",
              "  position: relative;\n",
              "}\n",
              "\n",
              "#sk-container-id-2 div.sk-text-repr-fallback {\n",
              "  display: none;\n",
              "}\n",
              "\n",
              "div.sk-parallel-item,\n",
              "div.sk-serial,\n",
              "div.sk-item {\n",
              "  /* draw centered vertical line to link estimators */\n",
              "  background-image: linear-gradient(var(--sklearn-color-text-on-default-background), var(--sklearn-color-text-on-default-background));\n",
              "  background-size: 2px 100%;\n",
              "  background-repeat: no-repeat;\n",
              "  background-position: center center;\n",
              "}\n",
              "\n",
              "/* Parallel-specific style estimator block */\n",
              "\n",
              "#sk-container-id-2 div.sk-parallel-item::after {\n",
              "  content: \"\";\n",
              "  width: 100%;\n",
              "  border-bottom: 2px solid var(--sklearn-color-text-on-default-background);\n",
              "  flex-grow: 1;\n",
              "}\n",
              "\n",
              "#sk-container-id-2 div.sk-parallel {\n",
              "  display: flex;\n",
              "  align-items: stretch;\n",
              "  justify-content: center;\n",
              "  background-color: var(--sklearn-color-background);\n",
              "  position: relative;\n",
              "}\n",
              "\n",
              "#sk-container-id-2 div.sk-parallel-item {\n",
              "  display: flex;\n",
              "  flex-direction: column;\n",
              "}\n",
              "\n",
              "#sk-container-id-2 div.sk-parallel-item:first-child::after {\n",
              "  align-self: flex-end;\n",
              "  width: 50%;\n",
              "}\n",
              "\n",
              "#sk-container-id-2 div.sk-parallel-item:last-child::after {\n",
              "  align-self: flex-start;\n",
              "  width: 50%;\n",
              "}\n",
              "\n",
              "#sk-container-id-2 div.sk-parallel-item:only-child::after {\n",
              "  width: 0;\n",
              "}\n",
              "\n",
              "/* Serial-specific style estimator block */\n",
              "\n",
              "#sk-container-id-2 div.sk-serial {\n",
              "  display: flex;\n",
              "  flex-direction: column;\n",
              "  align-items: center;\n",
              "  background-color: var(--sklearn-color-background);\n",
              "  padding-right: 1em;\n",
              "  padding-left: 1em;\n",
              "}\n",
              "\n",
              "\n",
              "/* Toggleable style: style used for estimator/Pipeline/ColumnTransformer box that is\n",
              "clickable and can be expanded/collapsed.\n",
              "- Pipeline and ColumnTransformer use this feature and define the default style\n",
              "- Estimators will overwrite some part of the style using the `sk-estimator` class\n",
              "*/\n",
              "\n",
              "/* Pipeline and ColumnTransformer style (default) */\n",
              "\n",
              "#sk-container-id-2 div.sk-toggleable {\n",
              "  /* Default theme specific background. It is overwritten whether we have a\n",
              "  specific estimator or a Pipeline/ColumnTransformer */\n",
              "  background-color: var(--sklearn-color-background);\n",
              "}\n",
              "\n",
              "/* Toggleable label */\n",
              "#sk-container-id-2 label.sk-toggleable__label {\n",
              "  cursor: pointer;\n",
              "  display: flex;\n",
              "  width: 100%;\n",
              "  margin-bottom: 0;\n",
              "  padding: 0.5em;\n",
              "  box-sizing: border-box;\n",
              "  text-align: center;\n",
              "  align-items: start;\n",
              "  justify-content: space-between;\n",
              "  gap: 0.5em;\n",
              "}\n",
              "\n",
              "#sk-container-id-2 label.sk-toggleable__label .caption {\n",
              "  font-size: 0.6rem;\n",
              "  font-weight: lighter;\n",
              "  color: var(--sklearn-color-text-muted);\n",
              "}\n",
              "\n",
              "#sk-container-id-2 label.sk-toggleable__label-arrow:before {\n",
              "  /* Arrow on the left of the label */\n",
              "  content: \"▸\";\n",
              "  float: left;\n",
              "  margin-right: 0.25em;\n",
              "  color: var(--sklearn-color-icon);\n",
              "}\n",
              "\n",
              "#sk-container-id-2 label.sk-toggleable__label-arrow:hover:before {\n",
              "  color: var(--sklearn-color-text);\n",
              "}\n",
              "\n",
              "/* Toggleable content - dropdown */\n",
              "\n",
              "#sk-container-id-2 div.sk-toggleable__content {\n",
              "  max-height: 0;\n",
              "  max-width: 0;\n",
              "  overflow: hidden;\n",
              "  text-align: left;\n",
              "  /* unfitted */\n",
              "  background-color: var(--sklearn-color-unfitted-level-0);\n",
              "}\n",
              "\n",
              "#sk-container-id-2 div.sk-toggleable__content.fitted {\n",
              "  /* fitted */\n",
              "  background-color: var(--sklearn-color-fitted-level-0);\n",
              "}\n",
              "\n",
              "#sk-container-id-2 div.sk-toggleable__content pre {\n",
              "  margin: 0.2em;\n",
              "  border-radius: 0.25em;\n",
              "  color: var(--sklearn-color-text);\n",
              "  /* unfitted */\n",
              "  background-color: var(--sklearn-color-unfitted-level-0);\n",
              "}\n",
              "\n",
              "#sk-container-id-2 div.sk-toggleable__content.fitted pre {\n",
              "  /* unfitted */\n",
              "  background-color: var(--sklearn-color-fitted-level-0);\n",
              "}\n",
              "\n",
              "#sk-container-id-2 input.sk-toggleable__control:checked~div.sk-toggleable__content {\n",
              "  /* Expand drop-down */\n",
              "  max-height: 200px;\n",
              "  max-width: 100%;\n",
              "  overflow: auto;\n",
              "}\n",
              "\n",
              "#sk-container-id-2 input.sk-toggleable__control:checked~label.sk-toggleable__label-arrow:before {\n",
              "  content: \"▾\";\n",
              "}\n",
              "\n",
              "/* Pipeline/ColumnTransformer-specific style */\n",
              "\n",
              "#sk-container-id-2 div.sk-label input.sk-toggleable__control:checked~label.sk-toggleable__label {\n",
              "  color: var(--sklearn-color-text);\n",
              "  background-color: var(--sklearn-color-unfitted-level-2);\n",
              "}\n",
              "\n",
              "#sk-container-id-2 div.sk-label.fitted input.sk-toggleable__control:checked~label.sk-toggleable__label {\n",
              "  background-color: var(--sklearn-color-fitted-level-2);\n",
              "}\n",
              "\n",
              "/* Estimator-specific style */\n",
              "\n",
              "/* Colorize estimator box */\n",
              "#sk-container-id-2 div.sk-estimator input.sk-toggleable__control:checked~label.sk-toggleable__label {\n",
              "  /* unfitted */\n",
              "  background-color: var(--sklearn-color-unfitted-level-2);\n",
              "}\n",
              "\n",
              "#sk-container-id-2 div.sk-estimator.fitted input.sk-toggleable__control:checked~label.sk-toggleable__label {\n",
              "  /* fitted */\n",
              "  background-color: var(--sklearn-color-fitted-level-2);\n",
              "}\n",
              "\n",
              "#sk-container-id-2 div.sk-label label.sk-toggleable__label,\n",
              "#sk-container-id-2 div.sk-label label {\n",
              "  /* The background is the default theme color */\n",
              "  color: var(--sklearn-color-text-on-default-background);\n",
              "}\n",
              "\n",
              "/* On hover, darken the color of the background */\n",
              "#sk-container-id-2 div.sk-label:hover label.sk-toggleable__label {\n",
              "  color: var(--sklearn-color-text);\n",
              "  background-color: var(--sklearn-color-unfitted-level-2);\n",
              "}\n",
              "\n",
              "/* Label box, darken color on hover, fitted */\n",
              "#sk-container-id-2 div.sk-label.fitted:hover label.sk-toggleable__label.fitted {\n",
              "  color: var(--sklearn-color-text);\n",
              "  background-color: var(--sklearn-color-fitted-level-2);\n",
              "}\n",
              "\n",
              "/* Estimator label */\n",
              "\n",
              "#sk-container-id-2 div.sk-label label {\n",
              "  font-family: monospace;\n",
              "  font-weight: bold;\n",
              "  display: inline-block;\n",
              "  line-height: 1.2em;\n",
              "}\n",
              "\n",
              "#sk-container-id-2 div.sk-label-container {\n",
              "  text-align: center;\n",
              "}\n",
              "\n",
              "/* Estimator-specific */\n",
              "#sk-container-id-2 div.sk-estimator {\n",
              "  font-family: monospace;\n",
              "  border: 1px dotted var(--sklearn-color-border-box);\n",
              "  border-radius: 0.25em;\n",
              "  box-sizing: border-box;\n",
              "  margin-bottom: 0.5em;\n",
              "  /* unfitted */\n",
              "  background-color: var(--sklearn-color-unfitted-level-0);\n",
              "}\n",
              "\n",
              "#sk-container-id-2 div.sk-estimator.fitted {\n",
              "  /* fitted */\n",
              "  background-color: var(--sklearn-color-fitted-level-0);\n",
              "}\n",
              "\n",
              "/* on hover */\n",
              "#sk-container-id-2 div.sk-estimator:hover {\n",
              "  /* unfitted */\n",
              "  background-color: var(--sklearn-color-unfitted-level-2);\n",
              "}\n",
              "\n",
              "#sk-container-id-2 div.sk-estimator.fitted:hover {\n",
              "  /* fitted */\n",
              "  background-color: var(--sklearn-color-fitted-level-2);\n",
              "}\n",
              "\n",
              "/* Specification for estimator info (e.g. \"i\" and \"?\") */\n",
              "\n",
              "/* Common style for \"i\" and \"?\" */\n",
              "\n",
              ".sk-estimator-doc-link,\n",
              "a:link.sk-estimator-doc-link,\n",
              "a:visited.sk-estimator-doc-link {\n",
              "  float: right;\n",
              "  font-size: smaller;\n",
              "  line-height: 1em;\n",
              "  font-family: monospace;\n",
              "  background-color: var(--sklearn-color-background);\n",
              "  border-radius: 1em;\n",
              "  height: 1em;\n",
              "  width: 1em;\n",
              "  text-decoration: none !important;\n",
              "  margin-left: 0.5em;\n",
              "  text-align: center;\n",
              "  /* unfitted */\n",
              "  border: var(--sklearn-color-unfitted-level-1) 1pt solid;\n",
              "  color: var(--sklearn-color-unfitted-level-1);\n",
              "}\n",
              "\n",
              ".sk-estimator-doc-link.fitted,\n",
              "a:link.sk-estimator-doc-link.fitted,\n",
              "a:visited.sk-estimator-doc-link.fitted {\n",
              "  /* fitted */\n",
              "  border: var(--sklearn-color-fitted-level-1) 1pt solid;\n",
              "  color: var(--sklearn-color-fitted-level-1);\n",
              "}\n",
              "\n",
              "/* On hover */\n",
              "div.sk-estimator:hover .sk-estimator-doc-link:hover,\n",
              ".sk-estimator-doc-link:hover,\n",
              "div.sk-label-container:hover .sk-estimator-doc-link:hover,\n",
              ".sk-estimator-doc-link:hover {\n",
              "  /* unfitted */\n",
              "  background-color: var(--sklearn-color-unfitted-level-3);\n",
              "  color: var(--sklearn-color-background);\n",
              "  text-decoration: none;\n",
              "}\n",
              "\n",
              "div.sk-estimator.fitted:hover .sk-estimator-doc-link.fitted:hover,\n",
              ".sk-estimator-doc-link.fitted:hover,\n",
              "div.sk-label-container:hover .sk-estimator-doc-link.fitted:hover,\n",
              ".sk-estimator-doc-link.fitted:hover {\n",
              "  /* fitted */\n",
              "  background-color: var(--sklearn-color-fitted-level-3);\n",
              "  color: var(--sklearn-color-background);\n",
              "  text-decoration: none;\n",
              "}\n",
              "\n",
              "/* Span, style for the box shown on hovering the info icon */\n",
              ".sk-estimator-doc-link span {\n",
              "  display: none;\n",
              "  z-index: 9999;\n",
              "  position: relative;\n",
              "  font-weight: normal;\n",
              "  right: .2ex;\n",
              "  padding: .5ex;\n",
              "  margin: .5ex;\n",
              "  width: min-content;\n",
              "  min-width: 20ex;\n",
              "  max-width: 50ex;\n",
              "  color: var(--sklearn-color-text);\n",
              "  box-shadow: 2pt 2pt 4pt #999;\n",
              "  /* unfitted */\n",
              "  background: var(--sklearn-color-unfitted-level-0);\n",
              "  border: .5pt solid var(--sklearn-color-unfitted-level-3);\n",
              "}\n",
              "\n",
              ".sk-estimator-doc-link.fitted span {\n",
              "  /* fitted */\n",
              "  background: var(--sklearn-color-fitted-level-0);\n",
              "  border: var(--sklearn-color-fitted-level-3);\n",
              "}\n",
              "\n",
              ".sk-estimator-doc-link:hover span {\n",
              "  display: block;\n",
              "}\n",
              "\n",
              "/* \"?\"-specific style due to the `<a>` HTML tag */\n",
              "\n",
              "#sk-container-id-2 a.estimator_doc_link {\n",
              "  float: right;\n",
              "  font-size: 1rem;\n",
              "  line-height: 1em;\n",
              "  font-family: monospace;\n",
              "  background-color: var(--sklearn-color-background);\n",
              "  border-radius: 1rem;\n",
              "  height: 1rem;\n",
              "  width: 1rem;\n",
              "  text-decoration: none;\n",
              "  /* unfitted */\n",
              "  color: var(--sklearn-color-unfitted-level-1);\n",
              "  border: var(--sklearn-color-unfitted-level-1) 1pt solid;\n",
              "}\n",
              "\n",
              "#sk-container-id-2 a.estimator_doc_link.fitted {\n",
              "  /* fitted */\n",
              "  border: var(--sklearn-color-fitted-level-1) 1pt solid;\n",
              "  color: var(--sklearn-color-fitted-level-1);\n",
              "}\n",
              "\n",
              "/* On hover */\n",
              "#sk-container-id-2 a.estimator_doc_link:hover {\n",
              "  /* unfitted */\n",
              "  background-color: var(--sklearn-color-unfitted-level-3);\n",
              "  color: var(--sklearn-color-background);\n",
              "  text-decoration: none;\n",
              "}\n",
              "\n",
              "#sk-container-id-2 a.estimator_doc_link.fitted:hover {\n",
              "  /* fitted */\n",
              "  background-color: var(--sklearn-color-fitted-level-3);\n",
              "}\n",
              "</style><div id=\"sk-container-id-2\" class=\"sk-top-container\"><div class=\"sk-text-repr-fallback\"><pre>LinearSVC()</pre><b>In a Jupyter environment, please rerun this cell to show the HTML representation or trust the notebook. <br />On GitHub, the HTML representation is unable to render, please try loading this page with nbviewer.org.</b></div><div class=\"sk-container\" hidden><div class=\"sk-item\"><div class=\"sk-estimator fitted sk-toggleable\"><input class=\"sk-toggleable__control sk-hidden--visually\" id=\"sk-estimator-id-2\" type=\"checkbox\" checked><label for=\"sk-estimator-id-2\" class=\"sk-toggleable__label fitted sk-toggleable__label-arrow\"><div><div>LinearSVC</div></div><div><a class=\"sk-estimator-doc-link fitted\" rel=\"noreferrer\" target=\"_blank\" href=\"https://scikit-learn.org/1.6/modules/generated/sklearn.svm.LinearSVC.html\">?<span>Documentation for LinearSVC</span></a><span class=\"sk-estimator-doc-link fitted\">i<span>Fitted</span></span></div></label><div class=\"sk-toggleable__content fitted\"><pre>LinearSVC()</pre></div> </div></div></div></div>"
            ]
          },
          "metadata": {},
          "execution_count": 14
        }
      ]
    },
    {
      "cell_type": "code",
      "metadata": {
        "id": "qywf9D3xCAgM",
        "colab": {
          "base_uri": "https://localhost:8080/"
        },
        "outputId": "b10c867c-3c0f-4c6d-b241-2aef0d70d362"
      },
      "source": [
        "print(f'Accuracy: {clf.score(X_val, y_val):.4f}')"
      ],
      "execution_count": 15,
      "outputs": [
        {
          "output_type": "stream",
          "name": "stdout",
          "text": [
            "Accuracy: 0.9910\n"
          ]
        }
      ]
    },
    {
      "cell_type": "code",
      "source": [
        "clf.coef_"
      ],
      "metadata": {
        "colab": {
          "base_uri": "https://localhost:8080/"
        },
        "id": "UDNfGpRODWuZ",
        "outputId": "414eb67c-e7d7-4a99-93a5-a1c9206ab0a4"
      },
      "execution_count": 17,
      "outputs": [
        {
          "output_type": "execute_result",
          "data": {
            "text/plain": [
              "array([[ 0.00000000e+00,  0.00000000e+00,  0.00000000e+00,\n",
              "         0.00000000e+00,  0.00000000e+00,  0.00000000e+00,\n",
              "         0.00000000e+00,  0.00000000e+00,  0.00000000e+00,\n",
              "         0.00000000e+00,  0.00000000e+00,  0.00000000e+00,\n",
              "        -4.46214968e-08, -6.75308270e-07, -6.42761157e-07,\n",
              "        -2.67817149e-08,  0.00000000e+00,  0.00000000e+00,\n",
              "         0.00000000e+00,  0.00000000e+00,  0.00000000e+00,\n",
              "         0.00000000e+00,  0.00000000e+00,  0.00000000e+00,\n",
              "         0.00000000e+00,  0.00000000e+00,  0.00000000e+00,\n",
              "         0.00000000e+00,  0.00000000e+00,  0.00000000e+00,\n",
              "         0.00000000e+00,  0.00000000e+00, -2.67344202e-10,\n",
              "         1.19975625e-10, -7.73449580e-08, -1.61122029e-07,\n",
              "        -5.74359023e-08,  2.34251561e-06,  4.01115387e-05,\n",
              "        -5.64067274e-03, -1.16447125e-02, -5.44403622e-03,\n",
              "         1.42626462e-03,  2.37228809e-04,  5.99047689e-05,\n",
              "         3.18682938e-05,  6.08659861e-07,  4.91739569e-07,\n",
              "         1.70083818e-06,  5.25074801e-07,  8.48812041e-09,\n",
              "        -3.19072347e-08,  0.00000000e+00,  0.00000000e+00,\n",
              "         0.00000000e+00,  0.00000000e+00,  0.00000000e+00,\n",
              "         0.00000000e+00,  0.00000000e+00,  2.65931924e-04,\n",
              "        -9.78266409e-05,  2.95774585e-05,  3.14442376e-04,\n",
              "         4.57137694e-04,  6.55619318e-04,  2.74089410e-03,\n",
              "         2.64221443e-03,  3.99031581e-04,  1.65273089e-02,\n",
              "        -4.53515773e-03,  4.49975967e-03,  3.51636421e-03,\n",
              "        -2.19819064e-04,  7.72153643e-03,  3.41604829e-03,\n",
              "        -2.89315504e-03,  1.36233463e-02,  1.48256790e-03,\n",
              "         5.24828663e-04,  8.56966601e-05,  2.75853378e-05,\n",
              "         4.44412513e-07,  0.00000000e+00,  0.00000000e+00,\n",
              "         0.00000000e+00,  0.00000000e+00, -1.69614411e-09,\n",
              "         3.44904771e-03, -2.94730607e-03, -1.59074550e-02,\n",
              "         1.42292440e-02,  3.35069901e-03, -6.57544650e-04,\n",
              "         3.20329000e-03,  2.05297264e-03,  1.62839705e-04,\n",
              "         1.19228758e-03, -7.91003107e-04,  1.23637462e-03,\n",
              "         3.55901201e-04,  2.42522932e-04,  1.77117486e-04,\n",
              "         1.37079171e-03,  1.47314116e-03, -7.99764998e-04,\n",
              "         2.61353928e-03,  3.15113845e-03, -1.10408426e-03,\n",
              "        -6.94242932e-05,  7.88049801e-04,  2.38486308e-02,\n",
              "         0.00000000e+00,  0.00000000e+00, -1.01132191e-08,\n",
              "        -2.48792456e-08, -8.04113942e-08, -1.60029121e-03,\n",
              "         1.28900015e-02,  1.11197215e-03,  1.50943366e-03,\n",
              "         1.13324585e-03, -1.59558083e-03,  1.73678394e-03,\n",
              "        -4.21135604e-04,  9.35773214e-04, -7.65225095e-04,\n",
              "         4.89979765e-04, -4.73441103e-04,  1.14874760e-03,\n",
              "        -7.41123329e-04,  1.26395604e-04,  2.07409899e-04,\n",
              "        -5.59147649e-04,  1.72053894e-04, -6.15005589e-04,\n",
              "        -1.05714223e-03,  3.30611368e-03, -4.96425256e-03,\n",
              "         8.44427437e-03,  2.58584791e-07,  0.00000000e+00,\n",
              "         0.00000000e+00,  1.71719182e-03, -7.20867605e-03,\n",
              "        -1.46312904e-03,  5.18663095e-03, -6.49132830e-03,\n",
              "         6.13344337e-04, -7.09803614e-04,  4.80367635e-04,\n",
              "        -1.32124131e-03,  1.28217494e-06,  4.40703230e-04,\n",
              "        -9.68879412e-05,  1.86334475e-04, -8.43588971e-04,\n",
              "         6.11665569e-05,  1.00263671e-04, -2.58754974e-04,\n",
              "         1.62931986e-04,  1.22201344e-04,  6.16528934e-04,\n",
              "         7.59043765e-04,  1.08977974e-03, -1.03256785e-03,\n",
              "         6.16204408e-03,  8.61446396e-04,  5.96611249e-04,\n",
              "         0.00000000e+00, -5.35509515e-09,  1.78037415e-02,\n",
              "         1.60135798e-03,  7.37090696e-05,  4.73594210e-03,\n",
              "         1.98636253e-03,  6.15437662e-04, -1.57517994e-04,\n",
              "         1.16615803e-03,  2.56598314e-04,  4.34329499e-04,\n",
              "         1.67550705e-04, -1.01243551e-03,  9.11913495e-04,\n",
              "        -2.93196008e-04,  1.49922213e-04, -4.11050486e-04,\n",
              "         3.20981315e-04, -1.23123182e-04, -1.77205646e-04,\n",
              "        -3.68308532e-04, -9.12170716e-04,  9.04712218e-05,\n",
              "         2.43581036e-03,  2.06378447e-03,  9.65686436e-03,\n",
              "         1.38430210e-03,  1.54265208e-09,  1.90452152e-05,\n",
              "         5.55109419e-03,  7.46414345e-03, -3.51688394e-03,\n",
              "        -3.99391529e-03,  3.96767117e-04, -7.98778858e-05,\n",
              "         1.64691279e-03, -6.04203008e-04,  3.40086016e-04,\n",
              "        -8.81298294e-04,  1.16128966e-03, -4.93190923e-04,\n",
              "        -4.44640216e-04,  1.89638562e-04,  1.00089595e-04,\n",
              "        -7.72813938e-04, -2.81284837e-04, -6.63110163e-04,\n",
              "         4.25290494e-04,  3.11090137e-04,  4.05109782e-04,\n",
              "        -6.17183249e-04,  9.51958519e-04,  1.46975450e-03,\n",
              "         2.24980781e-03,  2.88424765e-04, -3.05786898e-02,\n",
              "         3.53060406e-07, -1.65308468e-02,  6.50973780e-03,\n",
              "         5.59549408e-03,  3.81943588e-03, -1.88440885e-03,\n",
              "        -2.05992555e-04, -2.55416095e-04, -3.95951109e-04,\n",
              "        -1.27503379e-04,  5.45322035e-04, -8.61190456e-04,\n",
              "         5.05229948e-04, -1.87367194e-04, -2.20339587e-04,\n",
              "        -1.09058398e-03, -2.28046866e-04, -1.40079170e-04,\n",
              "         4.34558165e-05, -3.82962089e-04, -5.28387134e-04,\n",
              "         3.89365554e-04, -4.85220523e-04,  6.92635766e-04,\n",
              "         5.44651600e-03,  2.00008488e-03,  5.23010972e-04,\n",
              "        -1.61253650e-08,  2.50495704e-03,  3.17466150e-02,\n",
              "        -1.31440145e-02, -2.23117649e-04, -1.94094114e-03,\n",
              "         1.23827683e-03,  5.15955625e-04, -1.07462416e-04,\n",
              "         8.85570486e-04, -7.96816757e-04,  5.51408432e-04,\n",
              "         9.72620226e-04, -1.23948876e-03, -8.96298394e-05,\n",
              "         4.59294885e-04, -2.25978500e-04, -1.93737960e-04,\n",
              "        -3.45323979e-04, -5.80440763e-04, -3.65301417e-04,\n",
              "         1.39791513e-04,  3.96712827e-04, -1.04218045e-04,\n",
              "         1.13301587e-03,  9.54188656e-04,  8.27631709e-03,\n",
              "         2.02652963e-05,  1.28129096e-08,  1.08908311e-03,\n",
              "        -4.72907013e-02,  2.86619019e-02, -5.00863233e-06,\n",
              "        -5.47137746e-04, -9.16368720e-04, -2.47133775e-04,\n",
              "         5.46223175e-04, -4.09656649e-04,  4.24395552e-04,\n",
              "        -1.01555788e-03,  4.02011312e-04,  5.93690152e-04,\n",
              "        -2.34461676e-04, -3.90339139e-04, -5.68287490e-04,\n",
              "        -4.61253232e-04, -1.18187479e-03,  5.78101294e-04,\n",
              "        -4.68451584e-04,  3.84403076e-05, -1.17499122e-03,\n",
              "        -1.31861900e-03,  6.68098772e-04,  1.26358294e-03,\n",
              "         1.04398026e-02,  6.92302344e-07,  3.96501268e-07,\n",
              "         3.07170182e-06,  8.91134044e-02, -1.88304466e-02,\n",
              "        -3.24375301e-04,  1.17562521e-03, -1.91884436e-04,\n",
              "         2.66189678e-04, -5.77396755e-04,  3.55939787e-04,\n",
              "         3.91071998e-04, -5.67512435e-04,  6.40161214e-04,\n",
              "        -5.64132088e-04,  1.26465676e-03,  8.53046602e-04,\n",
              "         1.12059466e-03, -7.06700317e-04,  8.35609285e-04,\n",
              "        -6.05858740e-04, -6.81877507e-04, -2.85598293e-04,\n",
              "         3.21996712e-04, -2.46784492e-04,  1.11108135e-03,\n",
              "         3.70568739e-03,  1.80286128e-03,  8.83176735e-06,\n",
              "        -1.05283263e-07,  2.88372771e-07,  4.82811745e-04,\n",
              "         2.34078664e-02,  5.48152882e-03, -7.60837837e-05,\n",
              "        -4.64230713e-04,  4.37185482e-04,  2.01597701e-04,\n",
              "        -2.12267650e-04,  4.33282320e-04,  1.69919156e-05,\n",
              "        -3.99803899e-04, -5.69249114e-04,  7.20795523e-04,\n",
              "         1.77266764e-03, -2.32666575e-04,  2.41012154e-04,\n",
              "        -8.85700590e-05,  1.43384830e-04, -3.32878500e-04,\n",
              "        -4.32994205e-04, -3.81969276e-04,  4.64839029e-04,\n",
              "        -3.11818026e-03, -8.79651328e-04,  3.21224015e-02,\n",
              "         1.76817766e-05, -9.39981031e-10, -4.68182890e-06,\n",
              "         6.72244385e-03, -1.53472893e-02, -5.47918697e-03,\n",
              "         1.01225558e-03, -1.30355404e-03, -2.15697243e-04,\n",
              "        -6.33311628e-04, -1.69753253e-04, -5.61180409e-04,\n",
              "        -2.13698947e-04,  6.72737601e-04,  1.43736710e-03,\n",
              "        -1.26392170e-04,  1.16252160e-03,  8.52422172e-04,\n",
              "         4.68840929e-04, -2.20565171e-04, -5.43976878e-05,\n",
              "         1.38762137e-03,  1.90076065e-04, -8.65351891e-04,\n",
              "        -1.09666242e-03,  1.25300955e-03, -4.01238900e-04,\n",
              "         2.07323893e-02,  7.68365581e-05, -5.49256372e-08,\n",
              "         6.47275211e-07,  6.52729342e-04,  1.50355391e-02,\n",
              "         3.06783695e-03, -4.54775306e-04, -4.80254268e-05,\n",
              "        -9.80575895e-04,  2.72346515e-04, -1.85215026e-04,\n",
              "         3.07722759e-04, -3.14575851e-04, -5.55029630e-04,\n",
              "        -9.04987357e-04,  3.31949334e-03, -6.16489173e-04,\n",
              "         1.26695292e-03, -2.13680414e-04,  3.60479690e-04,\n",
              "         2.95386844e-04, -1.04288931e-03, -4.97147547e-04,\n",
              "         1.88206472e-04,  2.73429341e-04, -3.06087477e-04,\n",
              "         3.38169548e-04,  9.52494282e-04,  9.06266004e-07,\n",
              "        -1.78511790e-08,  8.05195142e-08,  7.62516860e-04,\n",
              "         5.87116786e-03, -9.65247638e-04, -6.92557024e-04,\n",
              "         7.96071277e-04, -8.15495074e-04, -4.91777938e-04,\n",
              "        -4.68909843e-04, -1.04847620e-03,  1.09558872e-03,\n",
              "        -2.52867056e-04,  8.01641026e-04,  1.52874055e-03,\n",
              "         3.23295517e-04,  8.47328376e-04,  3.77359637e-04,\n",
              "        -1.89391444e-04,  3.01932679e-04,  7.42519782e-05,\n",
              "         1.99732775e-04, -3.05531380e-04, -8.26488263e-04,\n",
              "        -2.70371228e-04, -1.84369885e-05,  2.14046760e-03,\n",
              "         3.75904470e-05,  7.61837914e-10,  7.45048923e-09,\n",
              "         1.54475392e-05,  1.70103890e-03, -2.07726936e-04,\n",
              "        -5.44164422e-04, -3.76224683e-04, -3.30974684e-05,\n",
              "        -7.53955181e-04, -3.60031634e-04, -4.78219679e-06,\n",
              "        -1.01273605e-03,  7.67774722e-04,  1.65218884e-03,\n",
              "         1.10076430e-03,  4.24832524e-04,  4.84678930e-04,\n",
              "         2.78092850e-05,  4.08004778e-04, -4.15194062e-05,\n",
              "         1.74562311e-04, -3.64045987e-04,  1.35353712e-03,\n",
              "         3.91846196e-04,  1.80723960e-04,  3.07219113e-03,\n",
              "         4.27739929e-02, -2.20609038e-03,  0.00000000e+00,\n",
              "        -1.48514059e-07,  1.06204349e-04,  1.10921750e-04,\n",
              "        -4.34145895e-04, -7.43778652e-06, -5.51356784e-04,\n",
              "        -5.29900196e-04,  6.21056911e-04, -4.83050062e-04,\n",
              "        -6.99443034e-04,  1.22661318e-03, -8.17560927e-04,\n",
              "         1.45684760e-03,  5.86004007e-04,  6.47495724e-04,\n",
              "        -2.05599429e-04,  5.60541013e-05, -2.55954550e-04,\n",
              "        -2.87818908e-04, -6.57419846e-04,  3.01137948e-04,\n",
              "        -1.85623447e-03,  3.60126118e-05, -1.61880324e-03,\n",
              "        -1.50013723e-03,  2.41873708e-02, -1.81970965e-02,\n",
              "         7.48259305e-05, -8.44261950e-08,  1.21531048e-03,\n",
              "         3.75722641e-03,  2.53735304e-04,  2.66660877e-04,\n",
              "        -1.58117470e-05,  6.11093663e-04, -9.09369945e-04,\n",
              "        -3.53905625e-04, -2.84009006e-04, -6.56716088e-04,\n",
              "         2.31427593e-04,  1.93417005e-03,  1.75094474e-04,\n",
              "         5.37609492e-04,  8.88455804e-04,  3.24839863e-04,\n",
              "         9.08304544e-04,  2.15819989e-04,  9.96201337e-04,\n",
              "         2.48616537e-04,  6.92382341e-04,  5.41802870e-04,\n",
              "         1.82503653e-03,  1.53107636e-03,  9.79047913e-03,\n",
              "         4.29364777e-03,  6.14432633e-10, -5.65687088e-03,\n",
              "        -5.93349831e-03,  8.43761356e-04,  7.78962647e-04,\n",
              "         3.17626351e-04, -3.28614981e-05, -5.78289919e-04,\n",
              "        -2.74074759e-04,  4.73662895e-04, -3.81863780e-04,\n",
              "         2.30790452e-04, -1.32168949e-03,  1.02620463e-03,\n",
              "        -6.47791433e-05,  5.98206723e-06, -7.28293193e-04,\n",
              "         1.73615762e-04, -3.88685991e-04,  5.02087273e-04,\n",
              "        -4.68887452e-04,  2.20006761e-05, -8.03067338e-04,\n",
              "         2.06160637e-04, -5.32460709e-04,  4.38042310e-04,\n",
              "         3.26641715e-03,  2.46105570e-04,  0.00000000e+00,\n",
              "        -2.53339033e-02,  3.40685732e-02, -2.58715465e-04,\n",
              "        -6.90570425e-04, -6.17449008e-04,  5.04211052e-04,\n",
              "        -1.69069504e-04, -4.33298636e-04,  4.09262500e-04,\n",
              "        -6.74190634e-04, -3.71134699e-04, -5.08002570e-04,\n",
              "        -4.63718814e-04,  1.25812260e-03, -3.60869336e-04,\n",
              "         1.44457360e-03,  9.03245403e-06, -4.31105060e-04,\n",
              "         7.32689513e-04, -2.78173519e-04, -4.83038165e-04,\n",
              "         1.35996296e-03,  1.01243177e-03, -5.41091689e-04,\n",
              "         5.26695608e-03, -3.47655055e-03,  1.21616199e-10,\n",
              "         1.18042190e-09,  4.49409770e-03, -1.17168666e-02,\n",
              "         1.22907022e-04,  8.16689580e-04,  1.61501090e-04,\n",
              "        -1.25811163e-04, -3.69659650e-05,  8.10027089e-04,\n",
              "        -5.38821837e-04, -4.28197901e-04, -7.18684337e-04,\n",
              "        -1.12216504e-04,  3.66951281e-04, -2.21052295e-05,\n",
              "         2.56586205e-04, -1.14730066e-03,  2.21147535e-03,\n",
              "        -3.26144115e-04,  7.41497412e-04,  1.46657943e-03,\n",
              "         6.38196191e-04, -1.12336167e-03,  2.10321867e-03,\n",
              "        -3.04640623e-03,  1.99431971e-02, -2.52486428e-02,\n",
              "         9.29723967e-09,  1.14353372e-09,  2.31294850e-04,\n",
              "         1.77373759e-02,  1.29401310e-03, -4.99179809e-04,\n",
              "         1.70153005e-04, -5.20401856e-04,  9.93588852e-05,\n",
              "        -2.04658003e-04, -6.30340316e-04,  2.80974397e-04,\n",
              "         9.88912960e-05, -2.12466957e-05, -1.60053368e-03,\n",
              "         4.83152196e-04,  4.35579821e-04, -3.06330123e-04,\n",
              "        -9.56642496e-04,  1.94173779e-03, -1.75883712e-03,\n",
              "        -7.28514323e-04,  8.74296166e-04, -5.54828518e-04,\n",
              "        -5.73408753e-04,  5.52070021e-03, -5.95099128e-03,\n",
              "        -8.43189575e-03,  1.71641348e-08,  0.00000000e+00,\n",
              "         0.00000000e+00, -5.72282820e-07,  3.56351061e-02,\n",
              "         6.61752135e-03, -1.63550457e-04,  2.50713274e-04,\n",
              "        -5.84888259e-04,  9.48629501e-04, -5.10821795e-04,\n",
              "        -1.33176836e-04, -2.56011981e-04, -5.35830664e-04,\n",
              "         1.41563004e-04, -8.99716325e-04,  6.13148128e-04,\n",
              "         7.57476686e-04, -1.24541250e-03,  1.06393422e-03,\n",
              "         2.15736612e-03, -2.57031833e-04,  2.39654488e-03,\n",
              "        -1.48510883e-03, -2.59618497e-04,  6.12537473e-04,\n",
              "        -9.19801525e-03,  2.46703451e-03,  0.00000000e+00,\n",
              "         0.00000000e+00,  0.00000000e+00,  6.48732283e-03,\n",
              "         8.76932869e-03, -6.19488511e-03, -1.08567049e-03,\n",
              "         1.06371915e-03, -3.45331919e-04, -1.04999681e-04,\n",
              "        -1.41249903e-04, -3.79075312e-04,  1.63051325e-03,\n",
              "        -1.03147293e-03,  3.46997961e-05, -2.91720053e-04,\n",
              "        -5.42665428e-04,  1.90796019e-03, -1.02987440e-03,\n",
              "        -8.29059365e-04, -1.54077467e-04,  2.90438779e-03,\n",
              "         1.90051499e-03, -1.17932818e-03,  4.91189541e-03,\n",
              "        -1.88146840e-03,  2.37795510e-02, -3.53792741e-09,\n",
              "         0.00000000e+00,  0.00000000e+00,  0.00000000e+00,\n",
              "         5.31805725e-08,  1.29981016e-06,  1.57631712e-03,\n",
              "         1.39949196e-02,  5.01295068e-03, -8.53564584e-04,\n",
              "         3.42768484e-03, -6.52863491e-04,  6.21939385e-03,\n",
              "        -3.56809315e-03,  6.38279091e-03, -8.70318532e-04,\n",
              "         4.69676168e-03,  3.75469699e-04,  3.32801414e-03,\n",
              "        -1.23904522e-03,  9.08634097e-03,  1.17164559e-02,\n",
              "         3.02270335e-03,  2.23879356e-03,  1.78787387e-03,\n",
              "         5.53439238e-03,  1.49984914e-04,  0.00000000e+00,\n",
              "         0.00000000e+00,  0.00000000e+00,  0.00000000e+00,\n",
              "         0.00000000e+00,  0.00000000e+00,  0.00000000e+00,\n",
              "         1.05746631e-06,  2.80354538e-04,  1.24845521e-03,\n",
              "         3.07885870e-03,  3.09543084e-03,  3.05190632e-03,\n",
              "         8.13740035e-03,  1.10729297e-02,  2.14518976e-03,\n",
              "         4.05943335e-03,  3.18945393e-03,  3.71498521e-02,\n",
              "         2.77011964e-02,  1.70655546e-02,  1.12437004e-02,\n",
              "         2.95534825e-04,  1.53993399e-03,  1.84363073e-03,\n",
              "         1.13332944e-03,  1.45474777e-04, -7.53315496e-09,\n",
              "        -5.94441466e-09,  0.00000000e+00,  0.00000000e+00,\n",
              "         0.00000000e+00,  0.00000000e+00,  0.00000000e+00,\n",
              "         0.00000000e+00, -2.92367950e-08,  8.05692315e-06,\n",
              "         3.71687896e-05,  2.29423186e-05,  2.77336052e-05,\n",
              "         7.14801234e-05,  9.51712753e-04,  7.28043265e-04,\n",
              "         9.00170737e-04,  1.06595548e-03,  6.28038338e-04,\n",
              "         3.76482215e-04,  1.98915119e-04,  1.34520291e-04,\n",
              "         1.53753139e-04,  4.38772513e-05,  1.03821241e-04,\n",
              "         4.25375462e-04,  1.25868430e-03,  2.85772125e-04,\n",
              "         0.00000000e+00,  0.00000000e+00,  0.00000000e+00,\n",
              "         0.00000000e+00]])"
            ]
          },
          "metadata": {},
          "execution_count": 17
        }
      ]
    },
    {
      "cell_type": "markdown",
      "metadata": {
        "id": "kITRwRt2kX7f"
      },
      "source": [
        "* 推定された係数を可視化してみる。\n",
        " * 0とそれ以外を分類するとき、どのピクセルが有効かが見えるかも。"
      ]
    },
    {
      "cell_type": "code",
      "metadata": {
        "id": "yEvBK8yUkXLO",
        "colab": {
          "base_uri": "https://localhost:8080/",
          "height": 430
        },
        "outputId": "41968378-9b63-4d55-ee3f-88f38119ae42"
      },
      "source": [
        "plt.imshow(clf.coef_.reshape(28,28), cmap=plt.cm.gray);"
      ],
      "execution_count": 16,
      "outputs": [
        {
          "output_type": "display_data",
          "data": {
            "text/plain": [
              "<Figure size 640x480 with 1 Axes>"
            ],
            "image/png": "[encoded data removed]"
          },
          "metadata": {
            "image/png": {
              "width": 417,
              "height": 413
            }
          }
        }
      ]
    },
    {
      "cell_type": "markdown",
      "source": [
        "$f(\\mathbf{x}_i) = b + a_1 x_{i,1} + a_2 x_{i,2}  + \\cdots + a_{784} x_{i, 784}$"
      ],
      "metadata": {
        "id": "b2O3G9PiEN3C"
      }
    },
    {
      "cell_type": "markdown",
      "source": [
        "* パラメータ`C`の値を変えつつ試行錯誤する。"
      ],
      "metadata": {
        "id": "b-KTC_oGoEcu"
      }
    },
    {
      "cell_type": "code",
      "source": [
        "clf = LinearSVC(C=0.1)\n",
        "clf.fit(X_train, y_train)\n",
        "print(f'Accuracy: {clf.score(X_val, y_val):.4f}')"
      ],
      "metadata": {
        "id": "_5ioXTjKoC24",
        "colab": {
          "base_uri": "https://localhost:8080/"
        },
        "outputId": "017712b4-fd3e-431a-d64b-08b6659d9009"
      },
      "execution_count": 18,
      "outputs": [
        {
          "output_type": "stream",
          "name": "stdout",
          "text": [
            "Accuracy: 0.9912\n"
          ]
        }
      ]
    },
    {
      "cell_type": "markdown",
      "metadata": {
        "id": "Wa2ury-amZ7U"
      },
      "source": [
        "## 見つけ出した最善の設定を使ってテストデータ上で評価\n"
      ]
    },
    {
      "cell_type": "code",
      "source": [
        "X_train_val = np.concat((X_train, X_val))\n",
        "y_train_val = np.concat((y_train, y_val))"
      ],
      "metadata": {
        "id": "HubJT3UO-M5y"
      },
      "execution_count": null,
      "outputs": []
    },
    {
      "cell_type": "code",
      "metadata": {
        "id": "xKJT7Fe0kZy3"
      },
      "source": [
        "clf = LinearSVC()\n",
        "clf.fit(X_train_val, y_train_val)\n",
        "print(f'Accuracy: {clf.score(X_test, y_test):.4f}')"
      ],
      "execution_count": null,
      "outputs": []
    },
    {
      "cell_type": "markdown",
      "source": [
        "## Stochastic Gradient Descent (SGD) を使う方法"
      ],
      "metadata": {
        "id": "_xXGySQjcTwG"
      }
    },
    {
      "cell_type": "markdown",
      "source": [
        "* 実は、ロジスティック回帰モデルやSVMの学習を、より効率よく行う方法がある。\n",
        "* それは、sklearn.linear_model.SGDClassifierを使う方法である。"
      ],
      "metadata": {
        "id": "9iHO31YIcc1I"
      }
    },
    {
      "cell_type": "markdown",
      "source": [
        "### ロジスティック回帰の学習と同等の学習\n",
        "* `SGDClassifier`を`loss=\"log_loss\"`という設定で使う。"
      ],
      "metadata": {
        "id": "vV6aJ3NncoQr"
      }
    },
    {
      "cell_type": "code",
      "source": [
        "clf = SGDClassifier(loss=\"log_loss\")\n",
        "clf.fit(X_train, y_train)\n",
        "print(f'Accuracy: {clf.score(X_val, y_val):.4f}')"
      ],
      "metadata": {
        "id": "wLrZKjwactjz",
        "colab": {
          "base_uri": "https://localhost:8080/"
        },
        "outputId": "55bf5c96-852f-41fa-bad3-b3a865a36136"
      },
      "execution_count": 19,
      "outputs": [
        {
          "output_type": "stream",
          "name": "stdout",
          "text": [
            "Accuracy: 0.9893\n"
          ]
        }
      ]
    },
    {
      "cell_type": "markdown",
      "source": [
        "* 正則化の併用\n",
        "  * `penalty`は`\"l1\"`に設定しても`\"l2\"`に設定しても、どちらでも良い。"
      ],
      "metadata": {
        "id": "b7402jVrdGzd"
      }
    },
    {
      "cell_type": "code",
      "source": [
        "clf = SGDClassifier(loss=\"log_loss\", penalty=\"l2\", alpha=0.01)\n",
        "clf.fit(X_train, y_train)\n",
        "print(f'Accuracy: {clf.score(X_val, y_val):.4f}')"
      ],
      "metadata": {
        "id": "zBgx2r3rdQwh",
        "colab": {
          "base_uri": "https://localhost:8080/"
        },
        "outputId": "b81791d1-4792-4b35-ca13-73cba598974a"
      },
      "execution_count": 20,
      "outputs": [
        {
          "output_type": "stream",
          "name": "stdout",
          "text": [
            "Accuracy: 0.9854\n"
          ]
        }
      ]
    },
    {
      "cell_type": "markdown",
      "source": [
        "### SVMの学習と同等の学習\n",
        "* `SGDClassifier`を`loss=\"hinge\"`かつ`penalty=\"l2\"`という設定で使う。\n",
        "  * `penalty=\"l2\"`以外の設定だと、SVMと同等にならない。"
      ],
      "metadata": {
        "id": "IdoSWY_wd0p-"
      }
    },
    {
      "cell_type": "code",
      "source": [
        "clf = SGDClassifier(loss=\"hinge\", penalty=\"l2\", max_iter=3000)\n",
        "clf.fit(X_train, y_train)\n",
        "print(f'Accuracy: {clf.score(X_val, y_val):.4f}')"
      ],
      "metadata": {
        "id": "Iob1TkeZd5lc",
        "colab": {
          "base_uri": "https://localhost:8080/"
        },
        "outputId": "f0f2e160-22ad-4593-bb8e-d8158c9e7efa"
      },
      "execution_count": 22,
      "outputs": [
        {
          "output_type": "stream",
          "name": "stdout",
          "text": [
            "Accuracy: 0.9900\n"
          ]
        }
      ]
    },
    {
      "cell_type": "markdown",
      "source": [
        "Accuracy: 0.9833"
      ],
      "metadata": {
        "id": "yjsA3_mLH9lU"
      }
    },
    {
      "cell_type": "markdown",
      "source": [
        "* 正則化の併用"
      ],
      "metadata": {
        "id": "fEdo_4Ewe46h"
      }
    },
    {
      "cell_type": "code",
      "source": [
        "clf = SGDClassifier(loss=\"hinge\", penalty=\"l2\", alpha=0.01, max_iter=3000)\n",
        "clf.fit(X_train, y_train)\n",
        "print(f'Accuracy: {clf.score(X_val, y_val):.4f}')"
      ],
      "metadata": {
        "id": "Fz7FPV--e6Wp",
        "colab": {
          "base_uri": "https://localhost:8080/"
        },
        "outputId": "3d6d9512-8910-4394-ced2-93de9ddf0f3b"
      },
      "execution_count": 23,
      "outputs": [
        {
          "output_type": "stream",
          "name": "stdout",
          "text": [
            "Accuracy: 0.9830\n"
          ]
        }
      ]
    },
    {
      "cell_type": "markdown",
      "source": [
        "# 課題20250714\n",
        "* 分類モデルとして`LinearSVC`（`SGDClassifier`でも可）を使ったとき・・・\n",
        "* 検証データでの正解率が良くなるように、パラメータ`C`の値をチューニングしよう。\n",
        "* その`C`の値を使って、テストデータでの正解率を求めよう。"
      ],
      "metadata": {
        "id": "BioiQ-NJyfnr"
      }
    },
    {
      "cell_type": "code",
      "metadata": {
        "id": "mdC8f7BupXdS"
      },
      "source": [],
      "execution_count": null,
      "outputs": []
    },
    {
      "cell_type": "markdown",
      "source": [
        "\n",
        "\n",
        "---\n",
        "\n"
      ],
      "metadata": {
        "id": "fIbJu7TQtcVG"
      }
    },
    {
      "cell_type": "markdown",
      "source": [
        "# SVMによる多値分類\n",
        "* 元の10値分類、つまり「0」〜「9」の10種類のカテゴリへの分類は・・・\n",
        "* 実は、元のデータをそのまま使うだけで実現できる。"
      ],
      "metadata": {
        "id": "GBb_wEC0ofq7"
      }
    },
    {
      "cell_type": "code",
      "source": [
        "clf = SGDClassifier(loss=\"hinge\", penalty=\"l2\")\n",
        "clf.fit(X_train, y_train_original) # Google Colabでは3分弱かかります。\n",
        "print(f'Accuracy: {clf.score(X_val, y_val_original):.4f}')"
      ],
      "metadata": {
        "id": "2d_xMgYzoqTP",
        "colab": {
          "base_uri": "https://localhost:8080/"
        },
        "outputId": "250a5a55-9868-478e-a400-348b77af0a13"
      },
      "execution_count": 26,
      "outputs": [
        {
          "output_type": "stream",
          "name": "stdout",
          "text": [
            "Accuracy: 0.8822\n"
          ]
        }
      ]
    },
    {
      "cell_type": "code",
      "source": [],
      "metadata": {
        "id": "39jb_tkyJoE8"
      },
      "execution_count": null,
      "outputs": []
    }
  ]
}